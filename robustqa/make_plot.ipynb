{
 "cells": [
  {
   "cell_type": "code",
   "execution_count": 1,
   "metadata": {},
   "outputs": [],
   "source": [
    "import joblib\n",
    "import optuna\n",
    "\n",
    "from optuna.visualization import plot_contour\n",
    "from optuna.visualization import plot_edf\n",
    "from optuna.visualization import plot_intermediate_values\n",
    "from optuna.visualization import plot_optimization_history\n",
    "from optuna.visualization import plot_parallel_coordinate\n",
    "from optuna.visualization import plot_param_importances\n",
    "from optuna.visualization import plot_slice"
   ]
  },
  {
   "cell_type": "code",
   "execution_count": 10,
   "metadata": {},
   "outputs": [
    {
     "data": {
      "text/html": [
       "<div>\n",
       "<style scoped>\n",
       "    .dataframe tbody tr th:only-of-type {\n",
       "        vertical-align: middle;\n",
       "    }\n",
       "\n",
       "    .dataframe tbody tr th {\n",
       "        vertical-align: top;\n",
       "    }\n",
       "\n",
       "    .dataframe thead th {\n",
       "        text-align: right;\n",
       "    }\n",
       "</style>\n",
       "<table border=\"1\" class=\"dataframe\">\n",
       "  <thead>\n",
       "    <tr style=\"text-align: right;\">\n",
       "      <th></th>\n",
       "      <th>number</th>\n",
       "      <th>value</th>\n",
       "      <th>params_batch_size</th>\n",
       "      <th>params_freeze</th>\n",
       "      <th>params_learning_rate</th>\n",
       "      <th>params_lr_scheduler</th>\n",
       "      <th>params_n_epoch</th>\n",
       "      <th>params_optimizer</th>\n",
       "      <th>state</th>\n",
       "    </tr>\n",
       "  </thead>\n",
       "  <tbody>\n",
       "    <tr>\n",
       "      <th>0</th>\n",
       "      <td>0</td>\n",
       "      <td>50.584082</td>\n",
       "      <td>64</td>\n",
       "      <td>last_transformer</td>\n",
       "      <td>0.000190</td>\n",
       "      <td>no</td>\n",
       "      <td>5</td>\n",
       "      <td>&lt;class 'torch.optim.adam.Adam'&gt;</td>\n",
       "      <td>COMPLETE</td>\n",
       "    </tr>\n",
       "    <tr>\n",
       "      <th>1</th>\n",
       "      <td>1</td>\n",
       "      <td>75.806223</td>\n",
       "      <td>64</td>\n",
       "      <td>no</td>\n",
       "      <td>0.000081</td>\n",
       "      <td>multiplicative</td>\n",
       "      <td>2</td>\n",
       "      <td>&lt;class 'torch.optim.adam.Adam'&gt;</td>\n",
       "      <td>COMPLETE</td>\n",
       "    </tr>\n",
       "    <tr>\n",
       "      <th>2</th>\n",
       "      <td>2</td>\n",
       "      <td>49.939116</td>\n",
       "      <td>16</td>\n",
       "      <td>last_transformer</td>\n",
       "      <td>0.000025</td>\n",
       "      <td>cosineannealing</td>\n",
       "      <td>5</td>\n",
       "      <td>&lt;class 'torch.optim.adamw.AdamW'&gt;</td>\n",
       "      <td>COMPLETE</td>\n",
       "    </tr>\n",
       "    <tr>\n",
       "      <th>3</th>\n",
       "      <td>3</td>\n",
       "      <td>66.928255</td>\n",
       "      <td>64</td>\n",
       "      <td>no</td>\n",
       "      <td>0.000169</td>\n",
       "      <td>cosineannealing</td>\n",
       "      <td>5</td>\n",
       "      <td>&lt;class 'torch.optim.adam.Adam'&gt;</td>\n",
       "      <td>COMPLETE</td>\n",
       "    </tr>\n",
       "    <tr>\n",
       "      <th>4</th>\n",
       "      <td>4</td>\n",
       "      <td>14.318338</td>\n",
       "      <td>32</td>\n",
       "      <td>last</td>\n",
       "      <td>0.000090</td>\n",
       "      <td>step</td>\n",
       "      <td>2</td>\n",
       "      <td>&lt;class 'torch.optim.adamw.AdamW'&gt;</td>\n",
       "      <td>COMPLETE</td>\n",
       "    </tr>\n",
       "    <tr>\n",
       "      <th>5</th>\n",
       "      <td>5</td>\n",
       "      <td>13.928079</td>\n",
       "      <td>16</td>\n",
       "      <td>last</td>\n",
       "      <td>0.000034</td>\n",
       "      <td>lambda</td>\n",
       "      <td>4</td>\n",
       "      <td>&lt;class 'torch.optim.rmsprop.RMSprop'&gt;</td>\n",
       "      <td>COMPLETE</td>\n",
       "    </tr>\n",
       "    <tr>\n",
       "      <th>6</th>\n",
       "      <td>6</td>\n",
       "      <td>61.682117</td>\n",
       "      <td>16</td>\n",
       "      <td>last_transformer</td>\n",
       "      <td>0.000184</td>\n",
       "      <td>step</td>\n",
       "      <td>2</td>\n",
       "      <td>&lt;class 'torch.optim.adamw.AdamW'&gt;</td>\n",
       "      <td>COMPLETE</td>\n",
       "    </tr>\n",
       "    <tr>\n",
       "      <th>7</th>\n",
       "      <td>7</td>\n",
       "      <td>43.032203</td>\n",
       "      <td>64</td>\n",
       "      <td>last_transformer</td>\n",
       "      <td>0.000021</td>\n",
       "      <td>step</td>\n",
       "      <td>2</td>\n",
       "      <td>&lt;class 'torch.optim.rmsprop.RMSprop'&gt;</td>\n",
       "      <td>COMPLETE</td>\n",
       "    </tr>\n",
       "    <tr>\n",
       "      <th>8</th>\n",
       "      <td>8</td>\n",
       "      <td>55.588472</td>\n",
       "      <td>64</td>\n",
       "      <td>last_transformer</td>\n",
       "      <td>0.000128</td>\n",
       "      <td>multiplicative</td>\n",
       "      <td>2</td>\n",
       "      <td>&lt;class 'torch.optim.adam.Adam'&gt;</td>\n",
       "      <td>COMPLETE</td>\n",
       "    </tr>\n",
       "    <tr>\n",
       "      <th>9</th>\n",
       "      <td>9</td>\n",
       "      <td>79.334117</td>\n",
       "      <td>32</td>\n",
       "      <td>no</td>\n",
       "      <td>0.000031</td>\n",
       "      <td>multiplicative</td>\n",
       "      <td>4</td>\n",
       "      <td>&lt;class 'torch.optim.adam.Adam'&gt;</td>\n",
       "      <td>COMPLETE</td>\n",
       "    </tr>\n",
       "    <tr>\n",
       "      <th>10</th>\n",
       "      <td>10</td>\n",
       "      <td>74.798641</td>\n",
       "      <td>32</td>\n",
       "      <td>no</td>\n",
       "      <td>0.000042</td>\n",
       "      <td>multiplicative</td>\n",
       "      <td>4</td>\n",
       "      <td>&lt;class 'torch.optim.adam.Adam'&gt;</td>\n",
       "      <td>COMPLETE</td>\n",
       "    </tr>\n",
       "    <tr>\n",
       "      <th>11</th>\n",
       "      <td>11</td>\n",
       "      <td>78.888000</td>\n",
       "      <td>32</td>\n",
       "      <td>no</td>\n",
       "      <td>0.000060</td>\n",
       "      <td>multiplicative</td>\n",
       "      <td>3</td>\n",
       "      <td>&lt;class 'torch.optim.adam.Adam'&gt;</td>\n",
       "      <td>COMPLETE</td>\n",
       "    </tr>\n",
       "    <tr>\n",
       "      <th>12</th>\n",
       "      <td>12</td>\n",
       "      <td>78.623681</td>\n",
       "      <td>32</td>\n",
       "      <td>no</td>\n",
       "      <td>0.000047</td>\n",
       "      <td>multiplicative</td>\n",
       "      <td>3</td>\n",
       "      <td>&lt;class 'torch.optim.adam.Adam'&gt;</td>\n",
       "      <td>COMPLETE</td>\n",
       "    </tr>\n",
       "    <tr>\n",
       "      <th>13</th>\n",
       "      <td>13</td>\n",
       "      <td>73.821495</td>\n",
       "      <td>32</td>\n",
       "      <td>no</td>\n",
       "      <td>0.000058</td>\n",
       "      <td>multiplicative</td>\n",
       "      <td>3</td>\n",
       "      <td>&lt;class 'torch.optim.adam.Adam'&gt;</td>\n",
       "      <td>COMPLETE</td>\n",
       "    </tr>\n",
       "    <tr>\n",
       "      <th>14</th>\n",
       "      <td>14</td>\n",
       "      <td>83.884209</td>\n",
       "      <td>32</td>\n",
       "      <td>no</td>\n",
       "      <td>0.000032</td>\n",
       "      <td>lambda</td>\n",
       "      <td>4</td>\n",
       "      <td>&lt;class 'torch.optim.adam.Adam'&gt;</td>\n",
       "      <td>COMPLETE</td>\n",
       "    </tr>\n",
       "    <tr>\n",
       "      <th>15</th>\n",
       "      <td>15</td>\n",
       "      <td>81.975790</td>\n",
       "      <td>32</td>\n",
       "      <td>no</td>\n",
       "      <td>0.000030</td>\n",
       "      <td>lambda</td>\n",
       "      <td>4</td>\n",
       "      <td>&lt;class 'torch.optim.rmsprop.RMSprop'&gt;</td>\n",
       "      <td>COMPLETE</td>\n",
       "    </tr>\n",
       "    <tr>\n",
       "      <th>16</th>\n",
       "      <td>16</td>\n",
       "      <td>14.420737</td>\n",
       "      <td>32</td>\n",
       "      <td>last</td>\n",
       "      <td>0.000021</td>\n",
       "      <td>lambda</td>\n",
       "      <td>4</td>\n",
       "      <td>&lt;class 'torch.optim.rmsprop.RMSprop'&gt;</td>\n",
       "      <td>COMPLETE</td>\n",
       "    </tr>\n",
       "    <tr>\n",
       "      <th>17</th>\n",
       "      <td>17</td>\n",
       "      <td>82.174311</td>\n",
       "      <td>32</td>\n",
       "      <td>no</td>\n",
       "      <td>0.000031</td>\n",
       "      <td>lambda</td>\n",
       "      <td>4</td>\n",
       "      <td>&lt;class 'torch.optim.rmsprop.RMSprop'&gt;</td>\n",
       "      <td>COMPLETE</td>\n",
       "    </tr>\n",
       "    <tr>\n",
       "      <th>18</th>\n",
       "      <td>18</td>\n",
       "      <td>83.087813</td>\n",
       "      <td>32</td>\n",
       "      <td>no</td>\n",
       "      <td>0.000040</td>\n",
       "      <td>lambda</td>\n",
       "      <td>3</td>\n",
       "      <td>&lt;class 'torch.optim.rmsprop.RMSprop'&gt;</td>\n",
       "      <td>COMPLETE</td>\n",
       "    </tr>\n",
       "    <tr>\n",
       "      <th>19</th>\n",
       "      <td>19</td>\n",
       "      <td>83.782469</td>\n",
       "      <td>32</td>\n",
       "      <td>no</td>\n",
       "      <td>0.000045</td>\n",
       "      <td>lambda</td>\n",
       "      <td>3</td>\n",
       "      <td>&lt;class 'torch.optim.rmsprop.RMSprop'&gt;</td>\n",
       "      <td>COMPLETE</td>\n",
       "    </tr>\n",
       "  </tbody>\n",
       "</table>\n",
       "</div>"
      ],
      "text/plain": [
       "    number      value  params_batch_size     params_freeze  \\\n",
       "0        0  50.584082                 64  last_transformer   \n",
       "1        1  75.806223                 64                no   \n",
       "2        2  49.939116                 16  last_transformer   \n",
       "3        3  66.928255                 64                no   \n",
       "4        4  14.318338                 32              last   \n",
       "5        5  13.928079                 16              last   \n",
       "6        6  61.682117                 16  last_transformer   \n",
       "7        7  43.032203                 64  last_transformer   \n",
       "8        8  55.588472                 64  last_transformer   \n",
       "9        9  79.334117                 32                no   \n",
       "10      10  74.798641                 32                no   \n",
       "11      11  78.888000                 32                no   \n",
       "12      12  78.623681                 32                no   \n",
       "13      13  73.821495                 32                no   \n",
       "14      14  83.884209                 32                no   \n",
       "15      15  81.975790                 32                no   \n",
       "16      16  14.420737                 32              last   \n",
       "17      17  82.174311                 32                no   \n",
       "18      18  83.087813                 32                no   \n",
       "19      19  83.782469                 32                no   \n",
       "\n",
       "    params_learning_rate params_lr_scheduler  params_n_epoch  \\\n",
       "0               0.000190                  no               5   \n",
       "1               0.000081      multiplicative               2   \n",
       "2               0.000025     cosineannealing               5   \n",
       "3               0.000169     cosineannealing               5   \n",
       "4               0.000090                step               2   \n",
       "5               0.000034              lambda               4   \n",
       "6               0.000184                step               2   \n",
       "7               0.000021                step               2   \n",
       "8               0.000128      multiplicative               2   \n",
       "9               0.000031      multiplicative               4   \n",
       "10              0.000042      multiplicative               4   \n",
       "11              0.000060      multiplicative               3   \n",
       "12              0.000047      multiplicative               3   \n",
       "13              0.000058      multiplicative               3   \n",
       "14              0.000032              lambda               4   \n",
       "15              0.000030              lambda               4   \n",
       "16              0.000021              lambda               4   \n",
       "17              0.000031              lambda               4   \n",
       "18              0.000040              lambda               3   \n",
       "19              0.000045              lambda               3   \n",
       "\n",
       "                         params_optimizer     state  \n",
       "0         <class 'torch.optim.adam.Adam'>  COMPLETE  \n",
       "1         <class 'torch.optim.adam.Adam'>  COMPLETE  \n",
       "2       <class 'torch.optim.adamw.AdamW'>  COMPLETE  \n",
       "3         <class 'torch.optim.adam.Adam'>  COMPLETE  \n",
       "4       <class 'torch.optim.adamw.AdamW'>  COMPLETE  \n",
       "5   <class 'torch.optim.rmsprop.RMSprop'>  COMPLETE  \n",
       "6       <class 'torch.optim.adamw.AdamW'>  COMPLETE  \n",
       "7   <class 'torch.optim.rmsprop.RMSprop'>  COMPLETE  \n",
       "8         <class 'torch.optim.adam.Adam'>  COMPLETE  \n",
       "9         <class 'torch.optim.adam.Adam'>  COMPLETE  \n",
       "10        <class 'torch.optim.adam.Adam'>  COMPLETE  \n",
       "11        <class 'torch.optim.adam.Adam'>  COMPLETE  \n",
       "12        <class 'torch.optim.adam.Adam'>  COMPLETE  \n",
       "13        <class 'torch.optim.adam.Adam'>  COMPLETE  \n",
       "14        <class 'torch.optim.adam.Adam'>  COMPLETE  \n",
       "15  <class 'torch.optim.rmsprop.RMSprop'>  COMPLETE  \n",
       "16  <class 'torch.optim.rmsprop.RMSprop'>  COMPLETE  \n",
       "17  <class 'torch.optim.rmsprop.RMSprop'>  COMPLETE  \n",
       "18  <class 'torch.optim.rmsprop.RMSprop'>  COMPLETE  \n",
       "19  <class 'torch.optim.rmsprop.RMSprop'>  COMPLETE  "
      ]
     },
     "execution_count": 10,
     "metadata": {},
     "output_type": "execute_result"
    }
   ],
   "source": [
    "pkl_pth = './save/final2_result/result_optuna.pkl'\n",
    "\n",
    "study = joblib.load(pkl_pth)\n",
    "df = study.trials_dataframe()\n",
    "df = df.drop(['datetime_start','datetime_complete','duration'], axis=1)\n",
    "df.head(20)"
   ]
  },
  {
   "cell_type": "code",
   "execution_count": 11,
   "metadata": {},
   "outputs": [
    {
     "name": "stdout",
     "output_type": "stream",
     "text": [
      "study.best_trial.value : 83.88420931921007\n",
      "study.best_params : {'learning_rate': 3.2313604354018504e-05, 'optimizer': <class 'torch.optim.adam.Adam'>, 'batch_size': 32, 'n_epoch': 4, 'freeze': 'no', 'lr_scheduler': 'lambda'}\n"
     ]
    }
   ],
   "source": [
    "# objective의 return값이 가장 \"maximize\"된 값\n",
    "# (optuna.create_study의 direction)\n",
    "print(f'study.best_trial.value : {study.best_trial.value}') \n",
    "# objective의 return값이 가장 \"maximize\"된 파라미터 값\n",
    "print(f'study.best_params : {study.best_params}')"
   ]
  },
  {
   "cell_type": "code",
   "execution_count": 12,
   "metadata": {},
   "outputs": [
    {
     "data": {
      "application/vnd.plotly.v1+json": {
       "config": {
        "plotlyServerURL": "https://plot.ly"
       },
       "data": [
        {
         "mode": "lines",
         "name": "no-name-9e5c3d4e-76b0-4bd2-a730-b5e544a6b8d3",
         "type": "scatter",
         "x": [
          13.928078715914904,
          14.63470629776637,
          15.341333879617837,
          16.047961461469303,
          16.75458904332077,
          17.461216625172234,
          18.167844207023702,
          18.87447178887517,
          19.581099370726633,
          20.2877269525781,
          20.99435453442957,
          21.700982116281033,
          22.4076096981325,
          23.114237279983968,
          23.82086486183543,
          24.5274924436869,
          25.234120025538367,
          25.94074760738983,
          26.6473751892413,
          27.354002771092766,
          28.06063035294423,
          28.767257934795698,
          29.473885516647165,
          30.18051309849863,
          30.887140680350097,
          31.59376826220156,
          32.30039584405303,
          33.00702342590449,
          33.713651007755956,
          34.42027858960743,
          35.1269061714589,
          35.83353375331036,
          36.54016133516183,
          37.24678891701329,
          37.953416498864755,
          38.660044080716226,
          39.3666716625677,
          40.07329924441916,
          40.779926826270625,
          41.48655440812209,
          42.19318198997355,
          42.899809571825024,
          43.606437153676495,
          44.31306473552796,
          45.01969231737942,
          45.72631989923089,
          46.43294748108235,
          47.139575062933815,
          47.84620264478529,
          48.55283022663676,
          49.25945780848822,
          49.966085390339686,
          50.67271297219115,
          51.379340554042614,
          52.08596813589409,
          52.792595717745556,
          53.49922329959702,
          54.205850881448484,
          54.91247846329995,
          55.61910604515141,
          56.32573362700289,
          57.032361208854354,
          57.73898879070582,
          58.44561637255728,
          59.152243954408746,
          59.85887153626021,
          60.56549911811169,
          61.27212669996315,
          61.978754281814616,
          62.68538186366608,
          63.392009445517544,
          64.09863702736901,
          64.80526460922049,
          65.51189219107195,
          66.21851977292341,
          66.92514735477488,
          67.63177493662634,
          68.3384025184778,
          69.04503010032929,
          69.75165768218075,
          70.45828526403221,
          71.16491284588368,
          71.87154042773514,
          72.5781680095866,
          73.28479559143808,
          73.99142317328955,
          74.69805075514101,
          75.40467833699248,
          76.11130591884394,
          76.8179335006954,
          77.52456108254688,
          78.23118866439835,
          78.93781624624981,
          79.64444382810127,
          80.35107140995274,
          81.05769899180422,
          81.76432657365568,
          82.47095415550714,
          83.17758173735861,
          83.88420931921007
         ],
         "y": [
          0.03333333333333333,
          0.16666666666666666,
          0.16666666666666666,
          0.16666666666666666,
          0.16666666666666666,
          0.16666666666666666,
          0.16666666666666666,
          0.16666666666666666,
          0.16666666666666666,
          0.16666666666666666,
          0.16666666666666666,
          0.16666666666666666,
          0.16666666666666666,
          0.16666666666666666,
          0.16666666666666666,
          0.16666666666666666,
          0.16666666666666666,
          0.16666666666666666,
          0.16666666666666666,
          0.16666666666666666,
          0.16666666666666666,
          0.16666666666666666,
          0.16666666666666666,
          0.16666666666666666,
          0.16666666666666666,
          0.16666666666666666,
          0.16666666666666666,
          0.16666666666666666,
          0.16666666666666666,
          0.16666666666666666,
          0.16666666666666666,
          0.16666666666666666,
          0.16666666666666666,
          0.16666666666666666,
          0.16666666666666666,
          0.16666666666666666,
          0.16666666666666666,
          0.16666666666666666,
          0.16666666666666666,
          0.16666666666666666,
          0.16666666666666666,
          0.16666666666666666,
          0.2,
          0.2,
          0.2,
          0.2,
          0.2,
          0.2,
          0.2,
          0.2,
          0.2,
          0.23333333333333334,
          0.26666666666666666,
          0.26666666666666666,
          0.26666666666666666,
          0.26666666666666666,
          0.26666666666666666,
          0.26666666666666666,
          0.26666666666666666,
          0.3,
          0.3,
          0.3,
          0.3,
          0.3,
          0.3,
          0.3,
          0.3,
          0.3,
          0.3333333333333333,
          0.3333333333333333,
          0.3333333333333333,
          0.3333333333333333,
          0.3333333333333333,
          0.3333333333333333,
          0.3333333333333333,
          0.3333333333333333,
          0.36666666666666664,
          0.36666666666666664,
          0.36666666666666664,
          0.36666666666666664,
          0.36666666666666664,
          0.36666666666666664,
          0.36666666666666664,
          0.36666666666666664,
          0.36666666666666664,
          0.4,
          0.43333333333333335,
          0.4666666666666667,
          0.5,
          0.5,
          0.5,
          0.5333333333333333,
          0.6333333333333333,
          0.6666666666666666,
          0.7,
          0.7666666666666667,
          0.8333333333333334,
          0.9,
          0.9333333333333333,
          1
         ]
        }
       ],
       "layout": {
        "template": {
         "data": {
          "bar": [
           {
            "error_x": {
             "color": "#2a3f5f"
            },
            "error_y": {
             "color": "#2a3f5f"
            },
            "marker": {
             "line": {
              "color": "#E5ECF6",
              "width": 0.5
             },
             "pattern": {
              "fillmode": "overlay",
              "size": 10,
              "solidity": 0.2
             }
            },
            "type": "bar"
           }
          ],
          "barpolar": [
           {
            "marker": {
             "line": {
              "color": "#E5ECF6",
              "width": 0.5
             },
             "pattern": {
              "fillmode": "overlay",
              "size": 10,
              "solidity": 0.2
             }
            },
            "type": "barpolar"
           }
          ],
          "carpet": [
           {
            "aaxis": {
             "endlinecolor": "#2a3f5f",
             "gridcolor": "white",
             "linecolor": "white",
             "minorgridcolor": "white",
             "startlinecolor": "#2a3f5f"
            },
            "baxis": {
             "endlinecolor": "#2a3f5f",
             "gridcolor": "white",
             "linecolor": "white",
             "minorgridcolor": "white",
             "startlinecolor": "#2a3f5f"
            },
            "type": "carpet"
           }
          ],
          "choropleth": [
           {
            "colorbar": {
             "outlinewidth": 0,
             "ticks": ""
            },
            "type": "choropleth"
           }
          ],
          "contour": [
           {
            "colorbar": {
             "outlinewidth": 0,
             "ticks": ""
            },
            "colorscale": [
             [
              0,
              "#0d0887"
             ],
             [
              0.1111111111111111,
              "#46039f"
             ],
             [
              0.2222222222222222,
              "#7201a8"
             ],
             [
              0.3333333333333333,
              "#9c179e"
             ],
             [
              0.4444444444444444,
              "#bd3786"
             ],
             [
              0.5555555555555556,
              "#d8576b"
             ],
             [
              0.6666666666666666,
              "#ed7953"
             ],
             [
              0.7777777777777778,
              "#fb9f3a"
             ],
             [
              0.8888888888888888,
              "#fdca26"
             ],
             [
              1,
              "#f0f921"
             ]
            ],
            "type": "contour"
           }
          ],
          "contourcarpet": [
           {
            "colorbar": {
             "outlinewidth": 0,
             "ticks": ""
            },
            "type": "contourcarpet"
           }
          ],
          "heatmap": [
           {
            "colorbar": {
             "outlinewidth": 0,
             "ticks": ""
            },
            "colorscale": [
             [
              0,
              "#0d0887"
             ],
             [
              0.1111111111111111,
              "#46039f"
             ],
             [
              0.2222222222222222,
              "#7201a8"
             ],
             [
              0.3333333333333333,
              "#9c179e"
             ],
             [
              0.4444444444444444,
              "#bd3786"
             ],
             [
              0.5555555555555556,
              "#d8576b"
             ],
             [
              0.6666666666666666,
              "#ed7953"
             ],
             [
              0.7777777777777778,
              "#fb9f3a"
             ],
             [
              0.8888888888888888,
              "#fdca26"
             ],
             [
              1,
              "#f0f921"
             ]
            ],
            "type": "heatmap"
           }
          ],
          "heatmapgl": [
           {
            "colorbar": {
             "outlinewidth": 0,
             "ticks": ""
            },
            "colorscale": [
             [
              0,
              "#0d0887"
             ],
             [
              0.1111111111111111,
              "#46039f"
             ],
             [
              0.2222222222222222,
              "#7201a8"
             ],
             [
              0.3333333333333333,
              "#9c179e"
             ],
             [
              0.4444444444444444,
              "#bd3786"
             ],
             [
              0.5555555555555556,
              "#d8576b"
             ],
             [
              0.6666666666666666,
              "#ed7953"
             ],
             [
              0.7777777777777778,
              "#fb9f3a"
             ],
             [
              0.8888888888888888,
              "#fdca26"
             ],
             [
              1,
              "#f0f921"
             ]
            ],
            "type": "heatmapgl"
           }
          ],
          "histogram": [
           {
            "marker": {
             "pattern": {
              "fillmode": "overlay",
              "size": 10,
              "solidity": 0.2
             }
            },
            "type": "histogram"
           }
          ],
          "histogram2d": [
           {
            "colorbar": {
             "outlinewidth": 0,
             "ticks": ""
            },
            "colorscale": [
             [
              0,
              "#0d0887"
             ],
             [
              0.1111111111111111,
              "#46039f"
             ],
             [
              0.2222222222222222,
              "#7201a8"
             ],
             [
              0.3333333333333333,
              "#9c179e"
             ],
             [
              0.4444444444444444,
              "#bd3786"
             ],
             [
              0.5555555555555556,
              "#d8576b"
             ],
             [
              0.6666666666666666,
              "#ed7953"
             ],
             [
              0.7777777777777778,
              "#fb9f3a"
             ],
             [
              0.8888888888888888,
              "#fdca26"
             ],
             [
              1,
              "#f0f921"
             ]
            ],
            "type": "histogram2d"
           }
          ],
          "histogram2dcontour": [
           {
            "colorbar": {
             "outlinewidth": 0,
             "ticks": ""
            },
            "colorscale": [
             [
              0,
              "#0d0887"
             ],
             [
              0.1111111111111111,
              "#46039f"
             ],
             [
              0.2222222222222222,
              "#7201a8"
             ],
             [
              0.3333333333333333,
              "#9c179e"
             ],
             [
              0.4444444444444444,
              "#bd3786"
             ],
             [
              0.5555555555555556,
              "#d8576b"
             ],
             [
              0.6666666666666666,
              "#ed7953"
             ],
             [
              0.7777777777777778,
              "#fb9f3a"
             ],
             [
              0.8888888888888888,
              "#fdca26"
             ],
             [
              1,
              "#f0f921"
             ]
            ],
            "type": "histogram2dcontour"
           }
          ],
          "mesh3d": [
           {
            "colorbar": {
             "outlinewidth": 0,
             "ticks": ""
            },
            "type": "mesh3d"
           }
          ],
          "parcoords": [
           {
            "line": {
             "colorbar": {
              "outlinewidth": 0,
              "ticks": ""
             }
            },
            "type": "parcoords"
           }
          ],
          "pie": [
           {
            "automargin": true,
            "type": "pie"
           }
          ],
          "scatter": [
           {
            "fillpattern": {
             "fillmode": "overlay",
             "size": 10,
             "solidity": 0.2
            },
            "type": "scatter"
           }
          ],
          "scatter3d": [
           {
            "line": {
             "colorbar": {
              "outlinewidth": 0,
              "ticks": ""
             }
            },
            "marker": {
             "colorbar": {
              "outlinewidth": 0,
              "ticks": ""
             }
            },
            "type": "scatter3d"
           }
          ],
          "scattercarpet": [
           {
            "marker": {
             "colorbar": {
              "outlinewidth": 0,
              "ticks": ""
             }
            },
            "type": "scattercarpet"
           }
          ],
          "scattergeo": [
           {
            "marker": {
             "colorbar": {
              "outlinewidth": 0,
              "ticks": ""
             }
            },
            "type": "scattergeo"
           }
          ],
          "scattergl": [
           {
            "marker": {
             "colorbar": {
              "outlinewidth": 0,
              "ticks": ""
             }
            },
            "type": "scattergl"
           }
          ],
          "scattermapbox": [
           {
            "marker": {
             "colorbar": {
              "outlinewidth": 0,
              "ticks": ""
             }
            },
            "type": "scattermapbox"
           }
          ],
          "scatterpolar": [
           {
            "marker": {
             "colorbar": {
              "outlinewidth": 0,
              "ticks": ""
             }
            },
            "type": "scatterpolar"
           }
          ],
          "scatterpolargl": [
           {
            "marker": {
             "colorbar": {
              "outlinewidth": 0,
              "ticks": ""
             }
            },
            "type": "scatterpolargl"
           }
          ],
          "scatterternary": [
           {
            "marker": {
             "colorbar": {
              "outlinewidth": 0,
              "ticks": ""
             }
            },
            "type": "scatterternary"
           }
          ],
          "surface": [
           {
            "colorbar": {
             "outlinewidth": 0,
             "ticks": ""
            },
            "colorscale": [
             [
              0,
              "#0d0887"
             ],
             [
              0.1111111111111111,
              "#46039f"
             ],
             [
              0.2222222222222222,
              "#7201a8"
             ],
             [
              0.3333333333333333,
              "#9c179e"
             ],
             [
              0.4444444444444444,
              "#bd3786"
             ],
             [
              0.5555555555555556,
              "#d8576b"
             ],
             [
              0.6666666666666666,
              "#ed7953"
             ],
             [
              0.7777777777777778,
              "#fb9f3a"
             ],
             [
              0.8888888888888888,
              "#fdca26"
             ],
             [
              1,
              "#f0f921"
             ]
            ],
            "type": "surface"
           }
          ],
          "table": [
           {
            "cells": {
             "fill": {
              "color": "#EBF0F8"
             },
             "line": {
              "color": "white"
             }
            },
            "header": {
             "fill": {
              "color": "#C8D4E3"
             },
             "line": {
              "color": "white"
             }
            },
            "type": "table"
           }
          ]
         },
         "layout": {
          "annotationdefaults": {
           "arrowcolor": "#2a3f5f",
           "arrowhead": 0,
           "arrowwidth": 1
          },
          "autotypenumbers": "strict",
          "coloraxis": {
           "colorbar": {
            "outlinewidth": 0,
            "ticks": ""
           }
          },
          "colorscale": {
           "diverging": [
            [
             0,
             "#8e0152"
            ],
            [
             0.1,
             "#c51b7d"
            ],
            [
             0.2,
             "#de77ae"
            ],
            [
             0.3,
             "#f1b6da"
            ],
            [
             0.4,
             "#fde0ef"
            ],
            [
             0.5,
             "#f7f7f7"
            ],
            [
             0.6,
             "#e6f5d0"
            ],
            [
             0.7,
             "#b8e186"
            ],
            [
             0.8,
             "#7fbc41"
            ],
            [
             0.9,
             "#4d9221"
            ],
            [
             1,
             "#276419"
            ]
           ],
           "sequential": [
            [
             0,
             "#0d0887"
            ],
            [
             0.1111111111111111,
             "#46039f"
            ],
            [
             0.2222222222222222,
             "#7201a8"
            ],
            [
             0.3333333333333333,
             "#9c179e"
            ],
            [
             0.4444444444444444,
             "#bd3786"
            ],
            [
             0.5555555555555556,
             "#d8576b"
            ],
            [
             0.6666666666666666,
             "#ed7953"
            ],
            [
             0.7777777777777778,
             "#fb9f3a"
            ],
            [
             0.8888888888888888,
             "#fdca26"
            ],
            [
             1,
             "#f0f921"
            ]
           ],
           "sequentialminus": [
            [
             0,
             "#0d0887"
            ],
            [
             0.1111111111111111,
             "#46039f"
            ],
            [
             0.2222222222222222,
             "#7201a8"
            ],
            [
             0.3333333333333333,
             "#9c179e"
            ],
            [
             0.4444444444444444,
             "#bd3786"
            ],
            [
             0.5555555555555556,
             "#d8576b"
            ],
            [
             0.6666666666666666,
             "#ed7953"
            ],
            [
             0.7777777777777778,
             "#fb9f3a"
            ],
            [
             0.8888888888888888,
             "#fdca26"
            ],
            [
             1,
             "#f0f921"
            ]
           ]
          },
          "colorway": [
           "#636efa",
           "#EF553B",
           "#00cc96",
           "#ab63fa",
           "#FFA15A",
           "#19d3f3",
           "#FF6692",
           "#B6E880",
           "#FF97FF",
           "#FECB52"
          ],
          "font": {
           "color": "#2a3f5f"
          },
          "geo": {
           "bgcolor": "white",
           "lakecolor": "white",
           "landcolor": "#E5ECF6",
           "showlakes": true,
           "showland": true,
           "subunitcolor": "white"
          },
          "hoverlabel": {
           "align": "left"
          },
          "hovermode": "closest",
          "mapbox": {
           "style": "light"
          },
          "paper_bgcolor": "white",
          "plot_bgcolor": "#E5ECF6",
          "polar": {
           "angularaxis": {
            "gridcolor": "white",
            "linecolor": "white",
            "ticks": ""
           },
           "bgcolor": "#E5ECF6",
           "radialaxis": {
            "gridcolor": "white",
            "linecolor": "white",
            "ticks": ""
           }
          },
          "scene": {
           "xaxis": {
            "backgroundcolor": "#E5ECF6",
            "gridcolor": "white",
            "gridwidth": 2,
            "linecolor": "white",
            "showbackground": true,
            "ticks": "",
            "zerolinecolor": "white"
           },
           "yaxis": {
            "backgroundcolor": "#E5ECF6",
            "gridcolor": "white",
            "gridwidth": 2,
            "linecolor": "white",
            "showbackground": true,
            "ticks": "",
            "zerolinecolor": "white"
           },
           "zaxis": {
            "backgroundcolor": "#E5ECF6",
            "gridcolor": "white",
            "gridwidth": 2,
            "linecolor": "white",
            "showbackground": true,
            "ticks": "",
            "zerolinecolor": "white"
           }
          },
          "shapedefaults": {
           "line": {
            "color": "#2a3f5f"
           }
          },
          "ternary": {
           "aaxis": {
            "gridcolor": "white",
            "linecolor": "white",
            "ticks": ""
           },
           "baxis": {
            "gridcolor": "white",
            "linecolor": "white",
            "ticks": ""
           },
           "bgcolor": "#E5ECF6",
           "caxis": {
            "gridcolor": "white",
            "linecolor": "white",
            "ticks": ""
           }
          },
          "title": {
           "x": 0.05
          },
          "xaxis": {
           "automargin": true,
           "gridcolor": "white",
           "linecolor": "white",
           "ticks": "",
           "title": {
            "standoff": 15
           },
           "zerolinecolor": "white",
           "zerolinewidth": 2
          },
          "yaxis": {
           "automargin": true,
           "gridcolor": "white",
           "linecolor": "white",
           "ticks": "",
           "title": {
            "standoff": 15
           },
           "zerolinecolor": "white",
           "zerolinewidth": 2
          }
         }
        },
        "title": {
         "text": "Empirical Distribution Function Plot"
        },
        "xaxis": {
         "title": {
          "text": "Objective Value"
         }
        },
        "yaxis": {
         "range": [
          0,
          1
         ],
         "title": {
          "text": "Cumulative Probability"
         }
        }
       }
      },
      "text/html": [
       "<div>                            <div id=\"a01cec9d-42da-4293-a35c-a31efc098af1\" class=\"plotly-graph-div\" style=\"height:525px; width:100%;\"></div>            <script type=\"text/javascript\">                require([\"plotly\"], function(Plotly) {                    window.PLOTLYENV=window.PLOTLYENV || {};                                    if (document.getElementById(\"a01cec9d-42da-4293-a35c-a31efc098af1\")) {                    Plotly.newPlot(                        \"a01cec9d-42da-4293-a35c-a31efc098af1\",                        [{\"mode\":\"lines\",\"name\":\"no-name-9e5c3d4e-76b0-4bd2-a730-b5e544a6b8d3\",\"x\":[13.928078715914904,14.63470629776637,15.341333879617837,16.047961461469303,16.75458904332077,17.461216625172234,18.167844207023702,18.87447178887517,19.581099370726633,20.2877269525781,20.99435453442957,21.700982116281033,22.4076096981325,23.114237279983968,23.82086486183543,24.5274924436869,25.234120025538367,25.94074760738983,26.6473751892413,27.354002771092766,28.06063035294423,28.767257934795698,29.473885516647165,30.18051309849863,30.887140680350097,31.59376826220156,32.30039584405303,33.00702342590449,33.713651007755956,34.42027858960743,35.1269061714589,35.83353375331036,36.54016133516183,37.24678891701329,37.953416498864755,38.660044080716226,39.3666716625677,40.07329924441916,40.779926826270625,41.48655440812209,42.19318198997355,42.899809571825024,43.606437153676495,44.31306473552796,45.01969231737942,45.72631989923089,46.43294748108235,47.139575062933815,47.84620264478529,48.55283022663676,49.25945780848822,49.966085390339686,50.67271297219115,51.379340554042614,52.08596813589409,52.792595717745556,53.49922329959702,54.205850881448484,54.91247846329995,55.61910604515141,56.32573362700289,57.032361208854354,57.73898879070582,58.44561637255728,59.152243954408746,59.85887153626021,60.56549911811169,61.27212669996315,61.978754281814616,62.68538186366608,63.392009445517544,64.09863702736901,64.80526460922049,65.51189219107195,66.21851977292341,66.92514735477488,67.63177493662634,68.3384025184778,69.04503010032929,69.75165768218075,70.45828526403221,71.16491284588368,71.87154042773514,72.5781680095866,73.28479559143808,73.99142317328955,74.69805075514101,75.40467833699248,76.11130591884394,76.8179335006954,77.52456108254688,78.23118866439835,78.93781624624981,79.64444382810127,80.35107140995274,81.05769899180422,81.76432657365568,82.47095415550714,83.17758173735861,83.88420931921007],\"y\":[0.03333333333333333,0.16666666666666666,0.16666666666666666,0.16666666666666666,0.16666666666666666,0.16666666666666666,0.16666666666666666,0.16666666666666666,0.16666666666666666,0.16666666666666666,0.16666666666666666,0.16666666666666666,0.16666666666666666,0.16666666666666666,0.16666666666666666,0.16666666666666666,0.16666666666666666,0.16666666666666666,0.16666666666666666,0.16666666666666666,0.16666666666666666,0.16666666666666666,0.16666666666666666,0.16666666666666666,0.16666666666666666,0.16666666666666666,0.16666666666666666,0.16666666666666666,0.16666666666666666,0.16666666666666666,0.16666666666666666,0.16666666666666666,0.16666666666666666,0.16666666666666666,0.16666666666666666,0.16666666666666666,0.16666666666666666,0.16666666666666666,0.16666666666666666,0.16666666666666666,0.16666666666666666,0.16666666666666666,0.2,0.2,0.2,0.2,0.2,0.2,0.2,0.2,0.2,0.23333333333333334,0.26666666666666666,0.26666666666666666,0.26666666666666666,0.26666666666666666,0.26666666666666666,0.26666666666666666,0.26666666666666666,0.3,0.3,0.3,0.3,0.3,0.3,0.3,0.3,0.3,0.3333333333333333,0.3333333333333333,0.3333333333333333,0.3333333333333333,0.3333333333333333,0.3333333333333333,0.3333333333333333,0.3333333333333333,0.36666666666666664,0.36666666666666664,0.36666666666666664,0.36666666666666664,0.36666666666666664,0.36666666666666664,0.36666666666666664,0.36666666666666664,0.36666666666666664,0.4,0.43333333333333335,0.4666666666666667,0.5,0.5,0.5,0.5333333333333333,0.6333333333333333,0.6666666666666666,0.7,0.7666666666666667,0.8333333333333334,0.9,0.9333333333333333,1.0],\"type\":\"scatter\"}],                        {\"title\":{\"text\":\"Empirical Distribution Function Plot\"},\"xaxis\":{\"title\":{\"text\":\"Objective Value\"}},\"yaxis\":{\"title\":{\"text\":\"Cumulative Probability\"},\"range\":[0,1]},\"template\":{\"data\":{\"histogram2dcontour\":[{\"type\":\"histogram2dcontour\",\"colorbar\":{\"outlinewidth\":0,\"ticks\":\"\"},\"colorscale\":[[0.0,\"#0d0887\"],[0.1111111111111111,\"#46039f\"],[0.2222222222222222,\"#7201a8\"],[0.3333333333333333,\"#9c179e\"],[0.4444444444444444,\"#bd3786\"],[0.5555555555555556,\"#d8576b\"],[0.6666666666666666,\"#ed7953\"],[0.7777777777777778,\"#fb9f3a\"],[0.8888888888888888,\"#fdca26\"],[1.0,\"#f0f921\"]]}],\"choropleth\":[{\"type\":\"choropleth\",\"colorbar\":{\"outlinewidth\":0,\"ticks\":\"\"}}],\"histogram2d\":[{\"type\":\"histogram2d\",\"colorbar\":{\"outlinewidth\":0,\"ticks\":\"\"},\"colorscale\":[[0.0,\"#0d0887\"],[0.1111111111111111,\"#46039f\"],[0.2222222222222222,\"#7201a8\"],[0.3333333333333333,\"#9c179e\"],[0.4444444444444444,\"#bd3786\"],[0.5555555555555556,\"#d8576b\"],[0.6666666666666666,\"#ed7953\"],[0.7777777777777778,\"#fb9f3a\"],[0.8888888888888888,\"#fdca26\"],[1.0,\"#f0f921\"]]}],\"heatmap\":[{\"type\":\"heatmap\",\"colorbar\":{\"outlinewidth\":0,\"ticks\":\"\"},\"colorscale\":[[0.0,\"#0d0887\"],[0.1111111111111111,\"#46039f\"],[0.2222222222222222,\"#7201a8\"],[0.3333333333333333,\"#9c179e\"],[0.4444444444444444,\"#bd3786\"],[0.5555555555555556,\"#d8576b\"],[0.6666666666666666,\"#ed7953\"],[0.7777777777777778,\"#fb9f3a\"],[0.8888888888888888,\"#fdca26\"],[1.0,\"#f0f921\"]]}],\"heatmapgl\":[{\"type\":\"heatmapgl\",\"colorbar\":{\"outlinewidth\":0,\"ticks\":\"\"},\"colorscale\":[[0.0,\"#0d0887\"],[0.1111111111111111,\"#46039f\"],[0.2222222222222222,\"#7201a8\"],[0.3333333333333333,\"#9c179e\"],[0.4444444444444444,\"#bd3786\"],[0.5555555555555556,\"#d8576b\"],[0.6666666666666666,\"#ed7953\"],[0.7777777777777778,\"#fb9f3a\"],[0.8888888888888888,\"#fdca26\"],[1.0,\"#f0f921\"]]}],\"contourcarpet\":[{\"type\":\"contourcarpet\",\"colorbar\":{\"outlinewidth\":0,\"ticks\":\"\"}}],\"contour\":[{\"type\":\"contour\",\"colorbar\":{\"outlinewidth\":0,\"ticks\":\"\"},\"colorscale\":[[0.0,\"#0d0887\"],[0.1111111111111111,\"#46039f\"],[0.2222222222222222,\"#7201a8\"],[0.3333333333333333,\"#9c179e\"],[0.4444444444444444,\"#bd3786\"],[0.5555555555555556,\"#d8576b\"],[0.6666666666666666,\"#ed7953\"],[0.7777777777777778,\"#fb9f3a\"],[0.8888888888888888,\"#fdca26\"],[1.0,\"#f0f921\"]]}],\"surface\":[{\"type\":\"surface\",\"colorbar\":{\"outlinewidth\":0,\"ticks\":\"\"},\"colorscale\":[[0.0,\"#0d0887\"],[0.1111111111111111,\"#46039f\"],[0.2222222222222222,\"#7201a8\"],[0.3333333333333333,\"#9c179e\"],[0.4444444444444444,\"#bd3786\"],[0.5555555555555556,\"#d8576b\"],[0.6666666666666666,\"#ed7953\"],[0.7777777777777778,\"#fb9f3a\"],[0.8888888888888888,\"#fdca26\"],[1.0,\"#f0f921\"]]}],\"mesh3d\":[{\"type\":\"mesh3d\",\"colorbar\":{\"outlinewidth\":0,\"ticks\":\"\"}}],\"scatter\":[{\"fillpattern\":{\"fillmode\":\"overlay\",\"size\":10,\"solidity\":0.2},\"type\":\"scatter\"}],\"parcoords\":[{\"type\":\"parcoords\",\"line\":{\"colorbar\":{\"outlinewidth\":0,\"ticks\":\"\"}}}],\"scatterpolargl\":[{\"type\":\"scatterpolargl\",\"marker\":{\"colorbar\":{\"outlinewidth\":0,\"ticks\":\"\"}}}],\"bar\":[{\"error_x\":{\"color\":\"#2a3f5f\"},\"error_y\":{\"color\":\"#2a3f5f\"},\"marker\":{\"line\":{\"color\":\"#E5ECF6\",\"width\":0.5},\"pattern\":{\"fillmode\":\"overlay\",\"size\":10,\"solidity\":0.2}},\"type\":\"bar\"}],\"scattergeo\":[{\"type\":\"scattergeo\",\"marker\":{\"colorbar\":{\"outlinewidth\":0,\"ticks\":\"\"}}}],\"scatterpolar\":[{\"type\":\"scatterpolar\",\"marker\":{\"colorbar\":{\"outlinewidth\":0,\"ticks\":\"\"}}}],\"histogram\":[{\"marker\":{\"pattern\":{\"fillmode\":\"overlay\",\"size\":10,\"solidity\":0.2}},\"type\":\"histogram\"}],\"scattergl\":[{\"type\":\"scattergl\",\"marker\":{\"colorbar\":{\"outlinewidth\":0,\"ticks\":\"\"}}}],\"scatter3d\":[{\"type\":\"scatter3d\",\"line\":{\"colorbar\":{\"outlinewidth\":0,\"ticks\":\"\"}},\"marker\":{\"colorbar\":{\"outlinewidth\":0,\"ticks\":\"\"}}}],\"scattermapbox\":[{\"type\":\"scattermapbox\",\"marker\":{\"colorbar\":{\"outlinewidth\":0,\"ticks\":\"\"}}}],\"scatterternary\":[{\"type\":\"scatterternary\",\"marker\":{\"colorbar\":{\"outlinewidth\":0,\"ticks\":\"\"}}}],\"scattercarpet\":[{\"type\":\"scattercarpet\",\"marker\":{\"colorbar\":{\"outlinewidth\":0,\"ticks\":\"\"}}}],\"carpet\":[{\"aaxis\":{\"endlinecolor\":\"#2a3f5f\",\"gridcolor\":\"white\",\"linecolor\":\"white\",\"minorgridcolor\":\"white\",\"startlinecolor\":\"#2a3f5f\"},\"baxis\":{\"endlinecolor\":\"#2a3f5f\",\"gridcolor\":\"white\",\"linecolor\":\"white\",\"minorgridcolor\":\"white\",\"startlinecolor\":\"#2a3f5f\"},\"type\":\"carpet\"}],\"table\":[{\"cells\":{\"fill\":{\"color\":\"#EBF0F8\"},\"line\":{\"color\":\"white\"}},\"header\":{\"fill\":{\"color\":\"#C8D4E3\"},\"line\":{\"color\":\"white\"}},\"type\":\"table\"}],\"barpolar\":[{\"marker\":{\"line\":{\"color\":\"#E5ECF6\",\"width\":0.5},\"pattern\":{\"fillmode\":\"overlay\",\"size\":10,\"solidity\":0.2}},\"type\":\"barpolar\"}],\"pie\":[{\"automargin\":true,\"type\":\"pie\"}]},\"layout\":{\"autotypenumbers\":\"strict\",\"colorway\":[\"#636efa\",\"#EF553B\",\"#00cc96\",\"#ab63fa\",\"#FFA15A\",\"#19d3f3\",\"#FF6692\",\"#B6E880\",\"#FF97FF\",\"#FECB52\"],\"font\":{\"color\":\"#2a3f5f\"},\"hovermode\":\"closest\",\"hoverlabel\":{\"align\":\"left\"},\"paper_bgcolor\":\"white\",\"plot_bgcolor\":\"#E5ECF6\",\"polar\":{\"bgcolor\":\"#E5ECF6\",\"angularaxis\":{\"gridcolor\":\"white\",\"linecolor\":\"white\",\"ticks\":\"\"},\"radialaxis\":{\"gridcolor\":\"white\",\"linecolor\":\"white\",\"ticks\":\"\"}},\"ternary\":{\"bgcolor\":\"#E5ECF6\",\"aaxis\":{\"gridcolor\":\"white\",\"linecolor\":\"white\",\"ticks\":\"\"},\"baxis\":{\"gridcolor\":\"white\",\"linecolor\":\"white\",\"ticks\":\"\"},\"caxis\":{\"gridcolor\":\"white\",\"linecolor\":\"white\",\"ticks\":\"\"}},\"coloraxis\":{\"colorbar\":{\"outlinewidth\":0,\"ticks\":\"\"}},\"colorscale\":{\"sequential\":[[0.0,\"#0d0887\"],[0.1111111111111111,\"#46039f\"],[0.2222222222222222,\"#7201a8\"],[0.3333333333333333,\"#9c179e\"],[0.4444444444444444,\"#bd3786\"],[0.5555555555555556,\"#d8576b\"],[0.6666666666666666,\"#ed7953\"],[0.7777777777777778,\"#fb9f3a\"],[0.8888888888888888,\"#fdca26\"],[1.0,\"#f0f921\"]],\"sequentialminus\":[[0.0,\"#0d0887\"],[0.1111111111111111,\"#46039f\"],[0.2222222222222222,\"#7201a8\"],[0.3333333333333333,\"#9c179e\"],[0.4444444444444444,\"#bd3786\"],[0.5555555555555556,\"#d8576b\"],[0.6666666666666666,\"#ed7953\"],[0.7777777777777778,\"#fb9f3a\"],[0.8888888888888888,\"#fdca26\"],[1.0,\"#f0f921\"]],\"diverging\":[[0,\"#8e0152\"],[0.1,\"#c51b7d\"],[0.2,\"#de77ae\"],[0.3,\"#f1b6da\"],[0.4,\"#fde0ef\"],[0.5,\"#f7f7f7\"],[0.6,\"#e6f5d0\"],[0.7,\"#b8e186\"],[0.8,\"#7fbc41\"],[0.9,\"#4d9221\"],[1,\"#276419\"]]},\"xaxis\":{\"gridcolor\":\"white\",\"linecolor\":\"white\",\"ticks\":\"\",\"title\":{\"standoff\":15},\"zerolinecolor\":\"white\",\"automargin\":true,\"zerolinewidth\":2},\"yaxis\":{\"gridcolor\":\"white\",\"linecolor\":\"white\",\"ticks\":\"\",\"title\":{\"standoff\":15},\"zerolinecolor\":\"white\",\"automargin\":true,\"zerolinewidth\":2},\"scene\":{\"xaxis\":{\"backgroundcolor\":\"#E5ECF6\",\"gridcolor\":\"white\",\"linecolor\":\"white\",\"showbackground\":true,\"ticks\":\"\",\"zerolinecolor\":\"white\",\"gridwidth\":2},\"yaxis\":{\"backgroundcolor\":\"#E5ECF6\",\"gridcolor\":\"white\",\"linecolor\":\"white\",\"showbackground\":true,\"ticks\":\"\",\"zerolinecolor\":\"white\",\"gridwidth\":2},\"zaxis\":{\"backgroundcolor\":\"#E5ECF6\",\"gridcolor\":\"white\",\"linecolor\":\"white\",\"showbackground\":true,\"ticks\":\"\",\"zerolinecolor\":\"white\",\"gridwidth\":2}},\"shapedefaults\":{\"line\":{\"color\":\"#2a3f5f\"}},\"annotationdefaults\":{\"arrowcolor\":\"#2a3f5f\",\"arrowhead\":0,\"arrowwidth\":1},\"geo\":{\"bgcolor\":\"white\",\"landcolor\":\"#E5ECF6\",\"subunitcolor\":\"white\",\"showland\":true,\"showlakes\":true,\"lakecolor\":\"white\"},\"title\":{\"x\":0.05},\"mapbox\":{\"style\":\"light\"}}}},                        {\"responsive\": true}                    ).then(function(){\n",
       "                            \n",
       "var gd = document.getElementById('a01cec9d-42da-4293-a35c-a31efc098af1');\n",
       "var x = new MutationObserver(function (mutations, observer) {{\n",
       "        var display = window.getComputedStyle(gd).display;\n",
       "        if (!display || display === 'none') {{\n",
       "            console.log([gd, 'removed!']);\n",
       "            Plotly.purge(gd);\n",
       "            observer.disconnect();\n",
       "        }}\n",
       "}});\n",
       "\n",
       "// Listen for the removal of the full notebook cells\n",
       "var notebookContainer = gd.closest('#notebook-container');\n",
       "if (notebookContainer) {{\n",
       "    x.observe(notebookContainer, {childList: true});\n",
       "}}\n",
       "\n",
       "// Listen for the clearing of the current output cell\n",
       "var outputEl = gd.closest('.output');\n",
       "if (outputEl) {{\n",
       "    x.observe(outputEl, {childList: true});\n",
       "}}\n",
       "\n",
       "                        })                };                });            </script>        </div>"
      ]
     },
     "metadata": {},
     "output_type": "display_data"
    }
   ],
   "source": [
    "# 시각화 ( Empirical Distribution Function Plot, EDF, 경험적 분포 함수)\n",
    "# EDF(경험적 분포 함수) 시각화 - x : objective value, y : cumulative probability\n",
    "optuna.visualization.plot_edf(study)"
   ]
  },
  {
   "cell_type": "code",
   "execution_count": 13,
   "metadata": {},
   "outputs": [
    {
     "data": {
      "application/vnd.plotly.v1+json": {
       "config": {
        "plotlyServerURL": "https://plot.ly"
       },
       "data": [
        {
         "mode": "markers",
         "name": "Objective Value",
         "type": "scatter",
         "x": [
          0,
          1,
          2,
          3,
          4,
          5,
          6,
          7,
          8,
          9,
          10,
          11,
          12,
          13,
          14,
          15,
          16,
          17,
          18,
          19,
          20,
          21,
          22,
          23,
          24,
          25,
          26,
          27,
          28,
          29
         ],
         "y": [
          50.584082137872706,
          75.80622266524063,
          49.939116097418534,
          66.92825502516989,
          14.318338498366671,
          13.928078715914904,
          61.682116900456116,
          43.03220257076155,
          55.58847237743126,
          79.33411661175329,
          74.79864097255404,
          78.8879999082205,
          78.62368059289494,
          73.8214946051558,
          83.88420931921007,
          81.9757896637062,
          14.420737178739808,
          82.1743107884916,
          83.08781314009065,
          83.7824693691592,
          14.549176168378963,
          81.15169564200622,
          81.1718085188009,
          79.6605459154695,
          81.05422586911368,
          80.35995717723722,
          78.09559779799518,
          78.77695392778395,
          14.423391004704573,
          74.03517632974786
         ]
        },
        {
         "mode": "lines",
         "name": "Best Value",
         "type": "scatter",
         "x": [
          0,
          1,
          2,
          3,
          4,
          5,
          6,
          7,
          8,
          9,
          10,
          11,
          12,
          13,
          14,
          15,
          16,
          17,
          18,
          19,
          20,
          21,
          22,
          23,
          24,
          25,
          26,
          27,
          28,
          29
         ],
         "y": [
          50.584082137872706,
          75.80622266524063,
          75.80622266524063,
          75.80622266524063,
          75.80622266524063,
          75.80622266524063,
          75.80622266524063,
          75.80622266524063,
          75.80622266524063,
          79.33411661175329,
          79.33411661175329,
          79.33411661175329,
          79.33411661175329,
          79.33411661175329,
          83.88420931921007,
          83.88420931921007,
          83.88420931921007,
          83.88420931921007,
          83.88420931921007,
          83.88420931921007,
          83.88420931921007,
          83.88420931921007,
          83.88420931921007,
          83.88420931921007,
          83.88420931921007,
          83.88420931921007,
          83.88420931921007,
          83.88420931921007,
          83.88420931921007,
          83.88420931921007
         ]
        },
        {
         "marker": {
          "color": "#cccccc"
         },
         "mode": "markers",
         "name": "Infeasible Trial",
         "showlegend": false,
         "type": "scatter",
         "x": [],
         "y": []
        }
       ],
       "layout": {
        "template": {
         "data": {
          "bar": [
           {
            "error_x": {
             "color": "#2a3f5f"
            },
            "error_y": {
             "color": "#2a3f5f"
            },
            "marker": {
             "line": {
              "color": "#E5ECF6",
              "width": 0.5
             },
             "pattern": {
              "fillmode": "overlay",
              "size": 10,
              "solidity": 0.2
             }
            },
            "type": "bar"
           }
          ],
          "barpolar": [
           {
            "marker": {
             "line": {
              "color": "#E5ECF6",
              "width": 0.5
             },
             "pattern": {
              "fillmode": "overlay",
              "size": 10,
              "solidity": 0.2
             }
            },
            "type": "barpolar"
           }
          ],
          "carpet": [
           {
            "aaxis": {
             "endlinecolor": "#2a3f5f",
             "gridcolor": "white",
             "linecolor": "white",
             "minorgridcolor": "white",
             "startlinecolor": "#2a3f5f"
            },
            "baxis": {
             "endlinecolor": "#2a3f5f",
             "gridcolor": "white",
             "linecolor": "white",
             "minorgridcolor": "white",
             "startlinecolor": "#2a3f5f"
            },
            "type": "carpet"
           }
          ],
          "choropleth": [
           {
            "colorbar": {
             "outlinewidth": 0,
             "ticks": ""
            },
            "type": "choropleth"
           }
          ],
          "contour": [
           {
            "colorbar": {
             "outlinewidth": 0,
             "ticks": ""
            },
            "colorscale": [
             [
              0,
              "#0d0887"
             ],
             [
              0.1111111111111111,
              "#46039f"
             ],
             [
              0.2222222222222222,
              "#7201a8"
             ],
             [
              0.3333333333333333,
              "#9c179e"
             ],
             [
              0.4444444444444444,
              "#bd3786"
             ],
             [
              0.5555555555555556,
              "#d8576b"
             ],
             [
              0.6666666666666666,
              "#ed7953"
             ],
             [
              0.7777777777777778,
              "#fb9f3a"
             ],
             [
              0.8888888888888888,
              "#fdca26"
             ],
             [
              1,
              "#f0f921"
             ]
            ],
            "type": "contour"
           }
          ],
          "contourcarpet": [
           {
            "colorbar": {
             "outlinewidth": 0,
             "ticks": ""
            },
            "type": "contourcarpet"
           }
          ],
          "heatmap": [
           {
            "colorbar": {
             "outlinewidth": 0,
             "ticks": ""
            },
            "colorscale": [
             [
              0,
              "#0d0887"
             ],
             [
              0.1111111111111111,
              "#46039f"
             ],
             [
              0.2222222222222222,
              "#7201a8"
             ],
             [
              0.3333333333333333,
              "#9c179e"
             ],
             [
              0.4444444444444444,
              "#bd3786"
             ],
             [
              0.5555555555555556,
              "#d8576b"
             ],
             [
              0.6666666666666666,
              "#ed7953"
             ],
             [
              0.7777777777777778,
              "#fb9f3a"
             ],
             [
              0.8888888888888888,
              "#fdca26"
             ],
             [
              1,
              "#f0f921"
             ]
            ],
            "type": "heatmap"
           }
          ],
          "heatmapgl": [
           {
            "colorbar": {
             "outlinewidth": 0,
             "ticks": ""
            },
            "colorscale": [
             [
              0,
              "#0d0887"
             ],
             [
              0.1111111111111111,
              "#46039f"
             ],
             [
              0.2222222222222222,
              "#7201a8"
             ],
             [
              0.3333333333333333,
              "#9c179e"
             ],
             [
              0.4444444444444444,
              "#bd3786"
             ],
             [
              0.5555555555555556,
              "#d8576b"
             ],
             [
              0.6666666666666666,
              "#ed7953"
             ],
             [
              0.7777777777777778,
              "#fb9f3a"
             ],
             [
              0.8888888888888888,
              "#fdca26"
             ],
             [
              1,
              "#f0f921"
             ]
            ],
            "type": "heatmapgl"
           }
          ],
          "histogram": [
           {
            "marker": {
             "pattern": {
              "fillmode": "overlay",
              "size": 10,
              "solidity": 0.2
             }
            },
            "type": "histogram"
           }
          ],
          "histogram2d": [
           {
            "colorbar": {
             "outlinewidth": 0,
             "ticks": ""
            },
            "colorscale": [
             [
              0,
              "#0d0887"
             ],
             [
              0.1111111111111111,
              "#46039f"
             ],
             [
              0.2222222222222222,
              "#7201a8"
             ],
             [
              0.3333333333333333,
              "#9c179e"
             ],
             [
              0.4444444444444444,
              "#bd3786"
             ],
             [
              0.5555555555555556,
              "#d8576b"
             ],
             [
              0.6666666666666666,
              "#ed7953"
             ],
             [
              0.7777777777777778,
              "#fb9f3a"
             ],
             [
              0.8888888888888888,
              "#fdca26"
             ],
             [
              1,
              "#f0f921"
             ]
            ],
            "type": "histogram2d"
           }
          ],
          "histogram2dcontour": [
           {
            "colorbar": {
             "outlinewidth": 0,
             "ticks": ""
            },
            "colorscale": [
             [
              0,
              "#0d0887"
             ],
             [
              0.1111111111111111,
              "#46039f"
             ],
             [
              0.2222222222222222,
              "#7201a8"
             ],
             [
              0.3333333333333333,
              "#9c179e"
             ],
             [
              0.4444444444444444,
              "#bd3786"
             ],
             [
              0.5555555555555556,
              "#d8576b"
             ],
             [
              0.6666666666666666,
              "#ed7953"
             ],
             [
              0.7777777777777778,
              "#fb9f3a"
             ],
             [
              0.8888888888888888,
              "#fdca26"
             ],
             [
              1,
              "#f0f921"
             ]
            ],
            "type": "histogram2dcontour"
           }
          ],
          "mesh3d": [
           {
            "colorbar": {
             "outlinewidth": 0,
             "ticks": ""
            },
            "type": "mesh3d"
           }
          ],
          "parcoords": [
           {
            "line": {
             "colorbar": {
              "outlinewidth": 0,
              "ticks": ""
             }
            },
            "type": "parcoords"
           }
          ],
          "pie": [
           {
            "automargin": true,
            "type": "pie"
           }
          ],
          "scatter": [
           {
            "fillpattern": {
             "fillmode": "overlay",
             "size": 10,
             "solidity": 0.2
            },
            "type": "scatter"
           }
          ],
          "scatter3d": [
           {
            "line": {
             "colorbar": {
              "outlinewidth": 0,
              "ticks": ""
             }
            },
            "marker": {
             "colorbar": {
              "outlinewidth": 0,
              "ticks": ""
             }
            },
            "type": "scatter3d"
           }
          ],
          "scattercarpet": [
           {
            "marker": {
             "colorbar": {
              "outlinewidth": 0,
              "ticks": ""
             }
            },
            "type": "scattercarpet"
           }
          ],
          "scattergeo": [
           {
            "marker": {
             "colorbar": {
              "outlinewidth": 0,
              "ticks": ""
             }
            },
            "type": "scattergeo"
           }
          ],
          "scattergl": [
           {
            "marker": {
             "colorbar": {
              "outlinewidth": 0,
              "ticks": ""
             }
            },
            "type": "scattergl"
           }
          ],
          "scattermapbox": [
           {
            "marker": {
             "colorbar": {
              "outlinewidth": 0,
              "ticks": ""
             }
            },
            "type": "scattermapbox"
           }
          ],
          "scatterpolar": [
           {
            "marker": {
             "colorbar": {
              "outlinewidth": 0,
              "ticks": ""
             }
            },
            "type": "scatterpolar"
           }
          ],
          "scatterpolargl": [
           {
            "marker": {
             "colorbar": {
              "outlinewidth": 0,
              "ticks": ""
             }
            },
            "type": "scatterpolargl"
           }
          ],
          "scatterternary": [
           {
            "marker": {
             "colorbar": {
              "outlinewidth": 0,
              "ticks": ""
             }
            },
            "type": "scatterternary"
           }
          ],
          "surface": [
           {
            "colorbar": {
             "outlinewidth": 0,
             "ticks": ""
            },
            "colorscale": [
             [
              0,
              "#0d0887"
             ],
             [
              0.1111111111111111,
              "#46039f"
             ],
             [
              0.2222222222222222,
              "#7201a8"
             ],
             [
              0.3333333333333333,
              "#9c179e"
             ],
             [
              0.4444444444444444,
              "#bd3786"
             ],
             [
              0.5555555555555556,
              "#d8576b"
             ],
             [
              0.6666666666666666,
              "#ed7953"
             ],
             [
              0.7777777777777778,
              "#fb9f3a"
             ],
             [
              0.8888888888888888,
              "#fdca26"
             ],
             [
              1,
              "#f0f921"
             ]
            ],
            "type": "surface"
           }
          ],
          "table": [
           {
            "cells": {
             "fill": {
              "color": "#EBF0F8"
             },
             "line": {
              "color": "white"
             }
            },
            "header": {
             "fill": {
              "color": "#C8D4E3"
             },
             "line": {
              "color": "white"
             }
            },
            "type": "table"
           }
          ]
         },
         "layout": {
          "annotationdefaults": {
           "arrowcolor": "#2a3f5f",
           "arrowhead": 0,
           "arrowwidth": 1
          },
          "autotypenumbers": "strict",
          "coloraxis": {
           "colorbar": {
            "outlinewidth": 0,
            "ticks": ""
           }
          },
          "colorscale": {
           "diverging": [
            [
             0,
             "#8e0152"
            ],
            [
             0.1,
             "#c51b7d"
            ],
            [
             0.2,
             "#de77ae"
            ],
            [
             0.3,
             "#f1b6da"
            ],
            [
             0.4,
             "#fde0ef"
            ],
            [
             0.5,
             "#f7f7f7"
            ],
            [
             0.6,
             "#e6f5d0"
            ],
            [
             0.7,
             "#b8e186"
            ],
            [
             0.8,
             "#7fbc41"
            ],
            [
             0.9,
             "#4d9221"
            ],
            [
             1,
             "#276419"
            ]
           ],
           "sequential": [
            [
             0,
             "#0d0887"
            ],
            [
             0.1111111111111111,
             "#46039f"
            ],
            [
             0.2222222222222222,
             "#7201a8"
            ],
            [
             0.3333333333333333,
             "#9c179e"
            ],
            [
             0.4444444444444444,
             "#bd3786"
            ],
            [
             0.5555555555555556,
             "#d8576b"
            ],
            [
             0.6666666666666666,
             "#ed7953"
            ],
            [
             0.7777777777777778,
             "#fb9f3a"
            ],
            [
             0.8888888888888888,
             "#fdca26"
            ],
            [
             1,
             "#f0f921"
            ]
           ],
           "sequentialminus": [
            [
             0,
             "#0d0887"
            ],
            [
             0.1111111111111111,
             "#46039f"
            ],
            [
             0.2222222222222222,
             "#7201a8"
            ],
            [
             0.3333333333333333,
             "#9c179e"
            ],
            [
             0.4444444444444444,
             "#bd3786"
            ],
            [
             0.5555555555555556,
             "#d8576b"
            ],
            [
             0.6666666666666666,
             "#ed7953"
            ],
            [
             0.7777777777777778,
             "#fb9f3a"
            ],
            [
             0.8888888888888888,
             "#fdca26"
            ],
            [
             1,
             "#f0f921"
            ]
           ]
          },
          "colorway": [
           "#636efa",
           "#EF553B",
           "#00cc96",
           "#ab63fa",
           "#FFA15A",
           "#19d3f3",
           "#FF6692",
           "#B6E880",
           "#FF97FF",
           "#FECB52"
          ],
          "font": {
           "color": "#2a3f5f"
          },
          "geo": {
           "bgcolor": "white",
           "lakecolor": "white",
           "landcolor": "#E5ECF6",
           "showlakes": true,
           "showland": true,
           "subunitcolor": "white"
          },
          "hoverlabel": {
           "align": "left"
          },
          "hovermode": "closest",
          "mapbox": {
           "style": "light"
          },
          "paper_bgcolor": "white",
          "plot_bgcolor": "#E5ECF6",
          "polar": {
           "angularaxis": {
            "gridcolor": "white",
            "linecolor": "white",
            "ticks": ""
           },
           "bgcolor": "#E5ECF6",
           "radialaxis": {
            "gridcolor": "white",
            "linecolor": "white",
            "ticks": ""
           }
          },
          "scene": {
           "xaxis": {
            "backgroundcolor": "#E5ECF6",
            "gridcolor": "white",
            "gridwidth": 2,
            "linecolor": "white",
            "showbackground": true,
            "ticks": "",
            "zerolinecolor": "white"
           },
           "yaxis": {
            "backgroundcolor": "#E5ECF6",
            "gridcolor": "white",
            "gridwidth": 2,
            "linecolor": "white",
            "showbackground": true,
            "ticks": "",
            "zerolinecolor": "white"
           },
           "zaxis": {
            "backgroundcolor": "#E5ECF6",
            "gridcolor": "white",
            "gridwidth": 2,
            "linecolor": "white",
            "showbackground": true,
            "ticks": "",
            "zerolinecolor": "white"
           }
          },
          "shapedefaults": {
           "line": {
            "color": "#2a3f5f"
           }
          },
          "ternary": {
           "aaxis": {
            "gridcolor": "white",
            "linecolor": "white",
            "ticks": ""
           },
           "baxis": {
            "gridcolor": "white",
            "linecolor": "white",
            "ticks": ""
           },
           "bgcolor": "#E5ECF6",
           "caxis": {
            "gridcolor": "white",
            "linecolor": "white",
            "ticks": ""
           }
          },
          "title": {
           "x": 0.05
          },
          "xaxis": {
           "automargin": true,
           "gridcolor": "white",
           "linecolor": "white",
           "ticks": "",
           "title": {
            "standoff": 15
           },
           "zerolinecolor": "white",
           "zerolinewidth": 2
          },
          "yaxis": {
           "automargin": true,
           "gridcolor": "white",
           "linecolor": "white",
           "ticks": "",
           "title": {
            "standoff": 15
           },
           "zerolinecolor": "white",
           "zerolinewidth": 2
          }
         }
        },
        "title": {
         "text": "Optimization History Plot"
        },
        "xaxis": {
         "title": {
          "text": "Trial"
         }
        },
        "yaxis": {
         "title": {
          "text": "Objective Value"
         }
        }
       }
      },
      "text/html": [
       "<div>                            <div id=\"64566865-b41e-439d-90cd-552e561b4697\" class=\"plotly-graph-div\" style=\"height:525px; width:100%;\"></div>            <script type=\"text/javascript\">                require([\"plotly\"], function(Plotly) {                    window.PLOTLYENV=window.PLOTLYENV || {};                                    if (document.getElementById(\"64566865-b41e-439d-90cd-552e561b4697\")) {                    Plotly.newPlot(                        \"64566865-b41e-439d-90cd-552e561b4697\",                        [{\"mode\":\"markers\",\"name\":\"Objective Value\",\"x\":[0,1,2,3,4,5,6,7,8,9,10,11,12,13,14,15,16,17,18,19,20,21,22,23,24,25,26,27,28,29],\"y\":[50.584082137872706,75.80622266524063,49.939116097418534,66.92825502516989,14.318338498366671,13.928078715914904,61.682116900456116,43.03220257076155,55.58847237743126,79.33411661175329,74.79864097255404,78.8879999082205,78.62368059289494,73.8214946051558,83.88420931921007,81.9757896637062,14.420737178739808,82.1743107884916,83.08781314009065,83.7824693691592,14.549176168378963,81.15169564200622,81.1718085188009,79.6605459154695,81.05422586911368,80.35995717723722,78.09559779799518,78.77695392778395,14.423391004704573,74.03517632974786],\"type\":\"scatter\"},{\"mode\":\"lines\",\"name\":\"Best Value\",\"x\":[0,1,2,3,4,5,6,7,8,9,10,11,12,13,14,15,16,17,18,19,20,21,22,23,24,25,26,27,28,29],\"y\":[50.584082137872706,75.80622266524063,75.80622266524063,75.80622266524063,75.80622266524063,75.80622266524063,75.80622266524063,75.80622266524063,75.80622266524063,79.33411661175329,79.33411661175329,79.33411661175329,79.33411661175329,79.33411661175329,83.88420931921007,83.88420931921007,83.88420931921007,83.88420931921007,83.88420931921007,83.88420931921007,83.88420931921007,83.88420931921007,83.88420931921007,83.88420931921007,83.88420931921007,83.88420931921007,83.88420931921007,83.88420931921007,83.88420931921007,83.88420931921007],\"type\":\"scatter\"},{\"marker\":{\"color\":\"#cccccc\"},\"mode\":\"markers\",\"name\":\"Infeasible Trial\",\"showlegend\":false,\"x\":[],\"y\":[],\"type\":\"scatter\"}],                        {\"title\":{\"text\":\"Optimization History Plot\"},\"xaxis\":{\"title\":{\"text\":\"Trial\"}},\"yaxis\":{\"title\":{\"text\":\"Objective Value\"}},\"template\":{\"data\":{\"histogram2dcontour\":[{\"type\":\"histogram2dcontour\",\"colorbar\":{\"outlinewidth\":0,\"ticks\":\"\"},\"colorscale\":[[0.0,\"#0d0887\"],[0.1111111111111111,\"#46039f\"],[0.2222222222222222,\"#7201a8\"],[0.3333333333333333,\"#9c179e\"],[0.4444444444444444,\"#bd3786\"],[0.5555555555555556,\"#d8576b\"],[0.6666666666666666,\"#ed7953\"],[0.7777777777777778,\"#fb9f3a\"],[0.8888888888888888,\"#fdca26\"],[1.0,\"#f0f921\"]]}],\"choropleth\":[{\"type\":\"choropleth\",\"colorbar\":{\"outlinewidth\":0,\"ticks\":\"\"}}],\"histogram2d\":[{\"type\":\"histogram2d\",\"colorbar\":{\"outlinewidth\":0,\"ticks\":\"\"},\"colorscale\":[[0.0,\"#0d0887\"],[0.1111111111111111,\"#46039f\"],[0.2222222222222222,\"#7201a8\"],[0.3333333333333333,\"#9c179e\"],[0.4444444444444444,\"#bd3786\"],[0.5555555555555556,\"#d8576b\"],[0.6666666666666666,\"#ed7953\"],[0.7777777777777778,\"#fb9f3a\"],[0.8888888888888888,\"#fdca26\"],[1.0,\"#f0f921\"]]}],\"heatmap\":[{\"type\":\"heatmap\",\"colorbar\":{\"outlinewidth\":0,\"ticks\":\"\"},\"colorscale\":[[0.0,\"#0d0887\"],[0.1111111111111111,\"#46039f\"],[0.2222222222222222,\"#7201a8\"],[0.3333333333333333,\"#9c179e\"],[0.4444444444444444,\"#bd3786\"],[0.5555555555555556,\"#d8576b\"],[0.6666666666666666,\"#ed7953\"],[0.7777777777777778,\"#fb9f3a\"],[0.8888888888888888,\"#fdca26\"],[1.0,\"#f0f921\"]]}],\"heatmapgl\":[{\"type\":\"heatmapgl\",\"colorbar\":{\"outlinewidth\":0,\"ticks\":\"\"},\"colorscale\":[[0.0,\"#0d0887\"],[0.1111111111111111,\"#46039f\"],[0.2222222222222222,\"#7201a8\"],[0.3333333333333333,\"#9c179e\"],[0.4444444444444444,\"#bd3786\"],[0.5555555555555556,\"#d8576b\"],[0.6666666666666666,\"#ed7953\"],[0.7777777777777778,\"#fb9f3a\"],[0.8888888888888888,\"#fdca26\"],[1.0,\"#f0f921\"]]}],\"contourcarpet\":[{\"type\":\"contourcarpet\",\"colorbar\":{\"outlinewidth\":0,\"ticks\":\"\"}}],\"contour\":[{\"type\":\"contour\",\"colorbar\":{\"outlinewidth\":0,\"ticks\":\"\"},\"colorscale\":[[0.0,\"#0d0887\"],[0.1111111111111111,\"#46039f\"],[0.2222222222222222,\"#7201a8\"],[0.3333333333333333,\"#9c179e\"],[0.4444444444444444,\"#bd3786\"],[0.5555555555555556,\"#d8576b\"],[0.6666666666666666,\"#ed7953\"],[0.7777777777777778,\"#fb9f3a\"],[0.8888888888888888,\"#fdca26\"],[1.0,\"#f0f921\"]]}],\"surface\":[{\"type\":\"surface\",\"colorbar\":{\"outlinewidth\":0,\"ticks\":\"\"},\"colorscale\":[[0.0,\"#0d0887\"],[0.1111111111111111,\"#46039f\"],[0.2222222222222222,\"#7201a8\"],[0.3333333333333333,\"#9c179e\"],[0.4444444444444444,\"#bd3786\"],[0.5555555555555556,\"#d8576b\"],[0.6666666666666666,\"#ed7953\"],[0.7777777777777778,\"#fb9f3a\"],[0.8888888888888888,\"#fdca26\"],[1.0,\"#f0f921\"]]}],\"mesh3d\":[{\"type\":\"mesh3d\",\"colorbar\":{\"outlinewidth\":0,\"ticks\":\"\"}}],\"scatter\":[{\"fillpattern\":{\"fillmode\":\"overlay\",\"size\":10,\"solidity\":0.2},\"type\":\"scatter\"}],\"parcoords\":[{\"type\":\"parcoords\",\"line\":{\"colorbar\":{\"outlinewidth\":0,\"ticks\":\"\"}}}],\"scatterpolargl\":[{\"type\":\"scatterpolargl\",\"marker\":{\"colorbar\":{\"outlinewidth\":0,\"ticks\":\"\"}}}],\"bar\":[{\"error_x\":{\"color\":\"#2a3f5f\"},\"error_y\":{\"color\":\"#2a3f5f\"},\"marker\":{\"line\":{\"color\":\"#E5ECF6\",\"width\":0.5},\"pattern\":{\"fillmode\":\"overlay\",\"size\":10,\"solidity\":0.2}},\"type\":\"bar\"}],\"scattergeo\":[{\"type\":\"scattergeo\",\"marker\":{\"colorbar\":{\"outlinewidth\":0,\"ticks\":\"\"}}}],\"scatterpolar\":[{\"type\":\"scatterpolar\",\"marker\":{\"colorbar\":{\"outlinewidth\":0,\"ticks\":\"\"}}}],\"histogram\":[{\"marker\":{\"pattern\":{\"fillmode\":\"overlay\",\"size\":10,\"solidity\":0.2}},\"type\":\"histogram\"}],\"scattergl\":[{\"type\":\"scattergl\",\"marker\":{\"colorbar\":{\"outlinewidth\":0,\"ticks\":\"\"}}}],\"scatter3d\":[{\"type\":\"scatter3d\",\"line\":{\"colorbar\":{\"outlinewidth\":0,\"ticks\":\"\"}},\"marker\":{\"colorbar\":{\"outlinewidth\":0,\"ticks\":\"\"}}}],\"scattermapbox\":[{\"type\":\"scattermapbox\",\"marker\":{\"colorbar\":{\"outlinewidth\":0,\"ticks\":\"\"}}}],\"scatterternary\":[{\"type\":\"scatterternary\",\"marker\":{\"colorbar\":{\"outlinewidth\":0,\"ticks\":\"\"}}}],\"scattercarpet\":[{\"type\":\"scattercarpet\",\"marker\":{\"colorbar\":{\"outlinewidth\":0,\"ticks\":\"\"}}}],\"carpet\":[{\"aaxis\":{\"endlinecolor\":\"#2a3f5f\",\"gridcolor\":\"white\",\"linecolor\":\"white\",\"minorgridcolor\":\"white\",\"startlinecolor\":\"#2a3f5f\"},\"baxis\":{\"endlinecolor\":\"#2a3f5f\",\"gridcolor\":\"white\",\"linecolor\":\"white\",\"minorgridcolor\":\"white\",\"startlinecolor\":\"#2a3f5f\"},\"type\":\"carpet\"}],\"table\":[{\"cells\":{\"fill\":{\"color\":\"#EBF0F8\"},\"line\":{\"color\":\"white\"}},\"header\":{\"fill\":{\"color\":\"#C8D4E3\"},\"line\":{\"color\":\"white\"}},\"type\":\"table\"}],\"barpolar\":[{\"marker\":{\"line\":{\"color\":\"#E5ECF6\",\"width\":0.5},\"pattern\":{\"fillmode\":\"overlay\",\"size\":10,\"solidity\":0.2}},\"type\":\"barpolar\"}],\"pie\":[{\"automargin\":true,\"type\":\"pie\"}]},\"layout\":{\"autotypenumbers\":\"strict\",\"colorway\":[\"#636efa\",\"#EF553B\",\"#00cc96\",\"#ab63fa\",\"#FFA15A\",\"#19d3f3\",\"#FF6692\",\"#B6E880\",\"#FF97FF\",\"#FECB52\"],\"font\":{\"color\":\"#2a3f5f\"},\"hovermode\":\"closest\",\"hoverlabel\":{\"align\":\"left\"},\"paper_bgcolor\":\"white\",\"plot_bgcolor\":\"#E5ECF6\",\"polar\":{\"bgcolor\":\"#E5ECF6\",\"angularaxis\":{\"gridcolor\":\"white\",\"linecolor\":\"white\",\"ticks\":\"\"},\"radialaxis\":{\"gridcolor\":\"white\",\"linecolor\":\"white\",\"ticks\":\"\"}},\"ternary\":{\"bgcolor\":\"#E5ECF6\",\"aaxis\":{\"gridcolor\":\"white\",\"linecolor\":\"white\",\"ticks\":\"\"},\"baxis\":{\"gridcolor\":\"white\",\"linecolor\":\"white\",\"ticks\":\"\"},\"caxis\":{\"gridcolor\":\"white\",\"linecolor\":\"white\",\"ticks\":\"\"}},\"coloraxis\":{\"colorbar\":{\"outlinewidth\":0,\"ticks\":\"\"}},\"colorscale\":{\"sequential\":[[0.0,\"#0d0887\"],[0.1111111111111111,\"#46039f\"],[0.2222222222222222,\"#7201a8\"],[0.3333333333333333,\"#9c179e\"],[0.4444444444444444,\"#bd3786\"],[0.5555555555555556,\"#d8576b\"],[0.6666666666666666,\"#ed7953\"],[0.7777777777777778,\"#fb9f3a\"],[0.8888888888888888,\"#fdca26\"],[1.0,\"#f0f921\"]],\"sequentialminus\":[[0.0,\"#0d0887\"],[0.1111111111111111,\"#46039f\"],[0.2222222222222222,\"#7201a8\"],[0.3333333333333333,\"#9c179e\"],[0.4444444444444444,\"#bd3786\"],[0.5555555555555556,\"#d8576b\"],[0.6666666666666666,\"#ed7953\"],[0.7777777777777778,\"#fb9f3a\"],[0.8888888888888888,\"#fdca26\"],[1.0,\"#f0f921\"]],\"diverging\":[[0,\"#8e0152\"],[0.1,\"#c51b7d\"],[0.2,\"#de77ae\"],[0.3,\"#f1b6da\"],[0.4,\"#fde0ef\"],[0.5,\"#f7f7f7\"],[0.6,\"#e6f5d0\"],[0.7,\"#b8e186\"],[0.8,\"#7fbc41\"],[0.9,\"#4d9221\"],[1,\"#276419\"]]},\"xaxis\":{\"gridcolor\":\"white\",\"linecolor\":\"white\",\"ticks\":\"\",\"title\":{\"standoff\":15},\"zerolinecolor\":\"white\",\"automargin\":true,\"zerolinewidth\":2},\"yaxis\":{\"gridcolor\":\"white\",\"linecolor\":\"white\",\"ticks\":\"\",\"title\":{\"standoff\":15},\"zerolinecolor\":\"white\",\"automargin\":true,\"zerolinewidth\":2},\"scene\":{\"xaxis\":{\"backgroundcolor\":\"#E5ECF6\",\"gridcolor\":\"white\",\"linecolor\":\"white\",\"showbackground\":true,\"ticks\":\"\",\"zerolinecolor\":\"white\",\"gridwidth\":2},\"yaxis\":{\"backgroundcolor\":\"#E5ECF6\",\"gridcolor\":\"white\",\"linecolor\":\"white\",\"showbackground\":true,\"ticks\":\"\",\"zerolinecolor\":\"white\",\"gridwidth\":2},\"zaxis\":{\"backgroundcolor\":\"#E5ECF6\",\"gridcolor\":\"white\",\"linecolor\":\"white\",\"showbackground\":true,\"ticks\":\"\",\"zerolinecolor\":\"white\",\"gridwidth\":2}},\"shapedefaults\":{\"line\":{\"color\":\"#2a3f5f\"}},\"annotationdefaults\":{\"arrowcolor\":\"#2a3f5f\",\"arrowhead\":0,\"arrowwidth\":1},\"geo\":{\"bgcolor\":\"white\",\"landcolor\":\"#E5ECF6\",\"subunitcolor\":\"white\",\"showland\":true,\"showlakes\":true,\"lakecolor\":\"white\"},\"title\":{\"x\":0.05},\"mapbox\":{\"style\":\"light\"}}}},                        {\"responsive\": true}                    ).then(function(){\n",
       "                            \n",
       "var gd = document.getElementById('64566865-b41e-439d-90cd-552e561b4697');\n",
       "var x = new MutationObserver(function (mutations, observer) {{\n",
       "        var display = window.getComputedStyle(gd).display;\n",
       "        if (!display || display === 'none') {{\n",
       "            console.log([gd, 'removed!']);\n",
       "            Plotly.purge(gd);\n",
       "            observer.disconnect();\n",
       "        }}\n",
       "}});\n",
       "\n",
       "// Listen for the removal of the full notebook cells\n",
       "var notebookContainer = gd.closest('#notebook-container');\n",
       "if (notebookContainer) {{\n",
       "    x.observe(notebookContainer, {childList: true});\n",
       "}}\n",
       "\n",
       "// Listen for the clearing of the current output cell\n",
       "var outputEl = gd.closest('.output');\n",
       "if (outputEl) {{\n",
       "    x.observe(outputEl, {childList: true});\n",
       "}}\n",
       "\n",
       "                        })                };                });            </script>        </div>"
      ]
     },
     "metadata": {},
     "output_type": "display_data"
    }
   ],
   "source": [
    "import optuna\n",
    "from optuna.visualization import plot_contour\n",
    "from optuna.visualization import plot_edf\n",
    "from optuna.visualization import plot_intermediate_values\n",
    "from optuna.visualization import plot_optimization_history\n",
    "from optuna.visualization import plot_parallel_coordinate\n",
    "from optuna.visualization import plot_param_importances\n",
    "from optuna.visualization import plot_slice\n",
    "\n",
    "# 최적화 기록 시각화 - x : trails, y : objective value\n",
    "plot_optimization_history(study)"
   ]
  },
  {
   "cell_type": "code",
   "execution_count": 14,
   "metadata": {},
   "outputs": [
    {
     "data": {
      "application/vnd.plotly.v1+json": {
       "config": {
        "plotlyServerURL": "https://plot.ly"
       },
       "data": [
        {
         "dimensions": [
          {
           "label": "Objective Value",
           "range": [
            13.928078715914904,
            83.88420931921007
           ],
           "values": [
            49.939116097418534,
            13.928078715914904,
            61.682116900456116,
            14.549176168378963,
            74.03517632974786,
            14.318338498366671,
            79.33411661175329,
            74.79864097255404,
            78.8879999082205,
            78.62368059289494,
            73.8214946051558,
            83.88420931921007,
            81.9757896637062,
            14.420737178739808,
            82.1743107884916,
            83.08781314009065,
            83.7824693691592,
            81.15169564200622,
            81.1718085188009,
            79.6605459154695,
            81.05422586911368,
            80.35995717723722,
            78.09559779799518,
            78.77695392778395,
            14.423391004704573,
            50.584082137872706,
            75.80622266524063,
            66.92825502516989,
            43.03220257076155,
            55.58847237743126
           ]
          },
          {
           "label": "batch_size",
           "range": [
            0,
            2
           ],
           "ticktext": [
            "16",
            "32",
            "64"
           ],
           "tickvals": [
            0,
            1,
            2
           ],
           "values": [
            0,
            0,
            0,
            0,
            0,
            1,
            1,
            1,
            1,
            1,
            1,
            1,
            1,
            1,
            1,
            1,
            1,
            1,
            1,
            1,
            1,
            1,
            1,
            1,
            1,
            2,
            2,
            2,
            2,
            2
           ]
          },
          {
           "label": "freeze",
           "range": [
            0,
            2
           ],
           "ticktext": [
            "last_transformer",
            "no",
            "last"
           ],
           "tickvals": [
            0,
            1,
            2
           ],
           "values": [
            0,
            2,
            0,
            2,
            1,
            2,
            1,
            1,
            1,
            1,
            1,
            1,
            1,
            2,
            1,
            1,
            1,
            1,
            1,
            1,
            1,
            1,
            1,
            1,
            2,
            0,
            1,
            1,
            0,
            0
           ]
          },
          {
           "label": "learning_rate",
           "range": [
            -4.684976386897354,
            -3.7223831051025886
           ],
           "ticktext": [
            "2.07e-05",
            "0.0001",
            "0.00019"
           ],
           "tickvals": [
            -4.684976386897354,
            -4,
            -3.7223831051025886
           ],
           "values": [
            -4.596919950362138,
            -4.46973361916227,
            -3.7357523865936715,
            -4.370436252361943,
            -4.165904970875898,
            -4.043631868884694,
            -4.507035763857196,
            -4.378562262901795,
            -4.220162020217791,
            -4.323873241351005,
            -4.237749048074748,
            -4.490614596802662,
            -4.519592425697194,
            -4.679292162189537,
            -4.514199475954164,
            -4.3952562450284605,
            -4.343788902586862,
            -4.417419291810038,
            -4.353529472318291,
            -4.319978862149783,
            -4.583356547257336,
            -4.4363941760976155,
            -4.306940163337216,
            -4.446572748140139,
            -4.270103297682013,
            -3.7223831051025886,
            -4.092792361718456,
            -3.77097523546371,
            -4.684976386897354,
            -3.8913593912052256
           ]
          },
          {
           "label": "lr_scheduler",
           "range": [
            0,
            4
           ],
           "ticktext": [
            "no",
            "multiplicative",
            "cosineannealing",
            "step",
            "lambda"
           ],
           "tickvals": [
            0,
            1,
            2,
            3,
            4
           ],
           "values": [
            2,
            4,
            3,
            0,
            2,
            3,
            1,
            1,
            1,
            1,
            1,
            4,
            4,
            4,
            4,
            4,
            4,
            4,
            4,
            4,
            4,
            4,
            4,
            4,
            0,
            0,
            1,
            2,
            3,
            1
           ]
          },
          {
           "label": "n_epoch",
           "range": [
            2,
            5
           ],
           "values": [
            5,
            4,
            2,
            3,
            5,
            2,
            4,
            4,
            3,
            3,
            3,
            4,
            4,
            4,
            4,
            3,
            3,
            3,
            3,
            3,
            3,
            4,
            3,
            4,
            5,
            5,
            2,
            5,
            2,
            2
           ]
          },
          {
           "label": "optimizer",
           "range": [
            0,
            2
           ],
           "ticktext": [
            "<class 'torch.optim.adam.Adam'>",
            "<class 'torch.optim.adamw.AdamW'>",
            "<class 'torch.optim.rmsprop.RMSprop'>"
           ],
           "tickvals": [
            0,
            1,
            2
           ],
           "values": [
            1,
            2,
            1,
            2,
            1,
            1,
            0,
            0,
            0,
            0,
            0,
            0,
            2,
            2,
            2,
            2,
            2,
            2,
            2,
            2,
            2,
            1,
            2,
            2,
            2,
            0,
            0,
            0,
            2,
            0
           ]
          }
         ],
         "labelangle": 30,
         "labelside": "bottom",
         "line": {
          "color": [
           49.939116097418534,
           13.928078715914904,
           61.682116900456116,
           14.549176168378963,
           74.03517632974786,
           14.318338498366671,
           79.33411661175329,
           74.79864097255404,
           78.8879999082205,
           78.62368059289494,
           73.8214946051558,
           83.88420931921007,
           81.9757896637062,
           14.420737178739808,
           82.1743107884916,
           83.08781314009065,
           83.7824693691592,
           81.15169564200622,
           81.1718085188009,
           79.6605459154695,
           81.05422586911368,
           80.35995717723722,
           78.09559779799518,
           78.77695392778395,
           14.423391004704573,
           50.584082137872706,
           75.80622266524063,
           66.92825502516989,
           43.03220257076155,
           55.58847237743126
          ],
          "colorbar": {
           "title": {
            "text": "Objective Value"
           }
          },
          "colorscale": [
           [
            0,
            "rgb(247,251,255)"
           ],
           [
            0.125,
            "rgb(222,235,247)"
           ],
           [
            0.25,
            "rgb(198,219,239)"
           ],
           [
            0.375,
            "rgb(158,202,225)"
           ],
           [
            0.5,
            "rgb(107,174,214)"
           ],
           [
            0.625,
            "rgb(66,146,198)"
           ],
           [
            0.75,
            "rgb(33,113,181)"
           ],
           [
            0.875,
            "rgb(8,81,156)"
           ],
           [
            1,
            "rgb(8,48,107)"
           ]
          ],
          "reversescale": false,
          "showscale": true
         },
         "type": "parcoords"
        }
       ],
       "layout": {
        "template": {
         "data": {
          "bar": [
           {
            "error_x": {
             "color": "#2a3f5f"
            },
            "error_y": {
             "color": "#2a3f5f"
            },
            "marker": {
             "line": {
              "color": "#E5ECF6",
              "width": 0.5
             },
             "pattern": {
              "fillmode": "overlay",
              "size": 10,
              "solidity": 0.2
             }
            },
            "type": "bar"
           }
          ],
          "barpolar": [
           {
            "marker": {
             "line": {
              "color": "#E5ECF6",
              "width": 0.5
             },
             "pattern": {
              "fillmode": "overlay",
              "size": 10,
              "solidity": 0.2
             }
            },
            "type": "barpolar"
           }
          ],
          "carpet": [
           {
            "aaxis": {
             "endlinecolor": "#2a3f5f",
             "gridcolor": "white",
             "linecolor": "white",
             "minorgridcolor": "white",
             "startlinecolor": "#2a3f5f"
            },
            "baxis": {
             "endlinecolor": "#2a3f5f",
             "gridcolor": "white",
             "linecolor": "white",
             "minorgridcolor": "white",
             "startlinecolor": "#2a3f5f"
            },
            "type": "carpet"
           }
          ],
          "choropleth": [
           {
            "colorbar": {
             "outlinewidth": 0,
             "ticks": ""
            },
            "type": "choropleth"
           }
          ],
          "contour": [
           {
            "colorbar": {
             "outlinewidth": 0,
             "ticks": ""
            },
            "colorscale": [
             [
              0,
              "#0d0887"
             ],
             [
              0.1111111111111111,
              "#46039f"
             ],
             [
              0.2222222222222222,
              "#7201a8"
             ],
             [
              0.3333333333333333,
              "#9c179e"
             ],
             [
              0.4444444444444444,
              "#bd3786"
             ],
             [
              0.5555555555555556,
              "#d8576b"
             ],
             [
              0.6666666666666666,
              "#ed7953"
             ],
             [
              0.7777777777777778,
              "#fb9f3a"
             ],
             [
              0.8888888888888888,
              "#fdca26"
             ],
             [
              1,
              "#f0f921"
             ]
            ],
            "type": "contour"
           }
          ],
          "contourcarpet": [
           {
            "colorbar": {
             "outlinewidth": 0,
             "ticks": ""
            },
            "type": "contourcarpet"
           }
          ],
          "heatmap": [
           {
            "colorbar": {
             "outlinewidth": 0,
             "ticks": ""
            },
            "colorscale": [
             [
              0,
              "#0d0887"
             ],
             [
              0.1111111111111111,
              "#46039f"
             ],
             [
              0.2222222222222222,
              "#7201a8"
             ],
             [
              0.3333333333333333,
              "#9c179e"
             ],
             [
              0.4444444444444444,
              "#bd3786"
             ],
             [
              0.5555555555555556,
              "#d8576b"
             ],
             [
              0.6666666666666666,
              "#ed7953"
             ],
             [
              0.7777777777777778,
              "#fb9f3a"
             ],
             [
              0.8888888888888888,
              "#fdca26"
             ],
             [
              1,
              "#f0f921"
             ]
            ],
            "type": "heatmap"
           }
          ],
          "heatmapgl": [
           {
            "colorbar": {
             "outlinewidth": 0,
             "ticks": ""
            },
            "colorscale": [
             [
              0,
              "#0d0887"
             ],
             [
              0.1111111111111111,
              "#46039f"
             ],
             [
              0.2222222222222222,
              "#7201a8"
             ],
             [
              0.3333333333333333,
              "#9c179e"
             ],
             [
              0.4444444444444444,
              "#bd3786"
             ],
             [
              0.5555555555555556,
              "#d8576b"
             ],
             [
              0.6666666666666666,
              "#ed7953"
             ],
             [
              0.7777777777777778,
              "#fb9f3a"
             ],
             [
              0.8888888888888888,
              "#fdca26"
             ],
             [
              1,
              "#f0f921"
             ]
            ],
            "type": "heatmapgl"
           }
          ],
          "histogram": [
           {
            "marker": {
             "pattern": {
              "fillmode": "overlay",
              "size": 10,
              "solidity": 0.2
             }
            },
            "type": "histogram"
           }
          ],
          "histogram2d": [
           {
            "colorbar": {
             "outlinewidth": 0,
             "ticks": ""
            },
            "colorscale": [
             [
              0,
              "#0d0887"
             ],
             [
              0.1111111111111111,
              "#46039f"
             ],
             [
              0.2222222222222222,
              "#7201a8"
             ],
             [
              0.3333333333333333,
              "#9c179e"
             ],
             [
              0.4444444444444444,
              "#bd3786"
             ],
             [
              0.5555555555555556,
              "#d8576b"
             ],
             [
              0.6666666666666666,
              "#ed7953"
             ],
             [
              0.7777777777777778,
              "#fb9f3a"
             ],
             [
              0.8888888888888888,
              "#fdca26"
             ],
             [
              1,
              "#f0f921"
             ]
            ],
            "type": "histogram2d"
           }
          ],
          "histogram2dcontour": [
           {
            "colorbar": {
             "outlinewidth": 0,
             "ticks": ""
            },
            "colorscale": [
             [
              0,
              "#0d0887"
             ],
             [
              0.1111111111111111,
              "#46039f"
             ],
             [
              0.2222222222222222,
              "#7201a8"
             ],
             [
              0.3333333333333333,
              "#9c179e"
             ],
             [
              0.4444444444444444,
              "#bd3786"
             ],
             [
              0.5555555555555556,
              "#d8576b"
             ],
             [
              0.6666666666666666,
              "#ed7953"
             ],
             [
              0.7777777777777778,
              "#fb9f3a"
             ],
             [
              0.8888888888888888,
              "#fdca26"
             ],
             [
              1,
              "#f0f921"
             ]
            ],
            "type": "histogram2dcontour"
           }
          ],
          "mesh3d": [
           {
            "colorbar": {
             "outlinewidth": 0,
             "ticks": ""
            },
            "type": "mesh3d"
           }
          ],
          "parcoords": [
           {
            "line": {
             "colorbar": {
              "outlinewidth": 0,
              "ticks": ""
             }
            },
            "type": "parcoords"
           }
          ],
          "pie": [
           {
            "automargin": true,
            "type": "pie"
           }
          ],
          "scatter": [
           {
            "fillpattern": {
             "fillmode": "overlay",
             "size": 10,
             "solidity": 0.2
            },
            "type": "scatter"
           }
          ],
          "scatter3d": [
           {
            "line": {
             "colorbar": {
              "outlinewidth": 0,
              "ticks": ""
             }
            },
            "marker": {
             "colorbar": {
              "outlinewidth": 0,
              "ticks": ""
             }
            },
            "type": "scatter3d"
           }
          ],
          "scattercarpet": [
           {
            "marker": {
             "colorbar": {
              "outlinewidth": 0,
              "ticks": ""
             }
            },
            "type": "scattercarpet"
           }
          ],
          "scattergeo": [
           {
            "marker": {
             "colorbar": {
              "outlinewidth": 0,
              "ticks": ""
             }
            },
            "type": "scattergeo"
           }
          ],
          "scattergl": [
           {
            "marker": {
             "colorbar": {
              "outlinewidth": 0,
              "ticks": ""
             }
            },
            "type": "scattergl"
           }
          ],
          "scattermapbox": [
           {
            "marker": {
             "colorbar": {
              "outlinewidth": 0,
              "ticks": ""
             }
            },
            "type": "scattermapbox"
           }
          ],
          "scatterpolar": [
           {
            "marker": {
             "colorbar": {
              "outlinewidth": 0,
              "ticks": ""
             }
            },
            "type": "scatterpolar"
           }
          ],
          "scatterpolargl": [
           {
            "marker": {
             "colorbar": {
              "outlinewidth": 0,
              "ticks": ""
             }
            },
            "type": "scatterpolargl"
           }
          ],
          "scatterternary": [
           {
            "marker": {
             "colorbar": {
              "outlinewidth": 0,
              "ticks": ""
             }
            },
            "type": "scatterternary"
           }
          ],
          "surface": [
           {
            "colorbar": {
             "outlinewidth": 0,
             "ticks": ""
            },
            "colorscale": [
             [
              0,
              "#0d0887"
             ],
             [
              0.1111111111111111,
              "#46039f"
             ],
             [
              0.2222222222222222,
              "#7201a8"
             ],
             [
              0.3333333333333333,
              "#9c179e"
             ],
             [
              0.4444444444444444,
              "#bd3786"
             ],
             [
              0.5555555555555556,
              "#d8576b"
             ],
             [
              0.6666666666666666,
              "#ed7953"
             ],
             [
              0.7777777777777778,
              "#fb9f3a"
             ],
             [
              0.8888888888888888,
              "#fdca26"
             ],
             [
              1,
              "#f0f921"
             ]
            ],
            "type": "surface"
           }
          ],
          "table": [
           {
            "cells": {
             "fill": {
              "color": "#EBF0F8"
             },
             "line": {
              "color": "white"
             }
            },
            "header": {
             "fill": {
              "color": "#C8D4E3"
             },
             "line": {
              "color": "white"
             }
            },
            "type": "table"
           }
          ]
         },
         "layout": {
          "annotationdefaults": {
           "arrowcolor": "#2a3f5f",
           "arrowhead": 0,
           "arrowwidth": 1
          },
          "autotypenumbers": "strict",
          "coloraxis": {
           "colorbar": {
            "outlinewidth": 0,
            "ticks": ""
           }
          },
          "colorscale": {
           "diverging": [
            [
             0,
             "#8e0152"
            ],
            [
             0.1,
             "#c51b7d"
            ],
            [
             0.2,
             "#de77ae"
            ],
            [
             0.3,
             "#f1b6da"
            ],
            [
             0.4,
             "#fde0ef"
            ],
            [
             0.5,
             "#f7f7f7"
            ],
            [
             0.6,
             "#e6f5d0"
            ],
            [
             0.7,
             "#b8e186"
            ],
            [
             0.8,
             "#7fbc41"
            ],
            [
             0.9,
             "#4d9221"
            ],
            [
             1,
             "#276419"
            ]
           ],
           "sequential": [
            [
             0,
             "#0d0887"
            ],
            [
             0.1111111111111111,
             "#46039f"
            ],
            [
             0.2222222222222222,
             "#7201a8"
            ],
            [
             0.3333333333333333,
             "#9c179e"
            ],
            [
             0.4444444444444444,
             "#bd3786"
            ],
            [
             0.5555555555555556,
             "#d8576b"
            ],
            [
             0.6666666666666666,
             "#ed7953"
            ],
            [
             0.7777777777777778,
             "#fb9f3a"
            ],
            [
             0.8888888888888888,
             "#fdca26"
            ],
            [
             1,
             "#f0f921"
            ]
           ],
           "sequentialminus": [
            [
             0,
             "#0d0887"
            ],
            [
             0.1111111111111111,
             "#46039f"
            ],
            [
             0.2222222222222222,
             "#7201a8"
            ],
            [
             0.3333333333333333,
             "#9c179e"
            ],
            [
             0.4444444444444444,
             "#bd3786"
            ],
            [
             0.5555555555555556,
             "#d8576b"
            ],
            [
             0.6666666666666666,
             "#ed7953"
            ],
            [
             0.7777777777777778,
             "#fb9f3a"
            ],
            [
             0.8888888888888888,
             "#fdca26"
            ],
            [
             1,
             "#f0f921"
            ]
           ]
          },
          "colorway": [
           "#636efa",
           "#EF553B",
           "#00cc96",
           "#ab63fa",
           "#FFA15A",
           "#19d3f3",
           "#FF6692",
           "#B6E880",
           "#FF97FF",
           "#FECB52"
          ],
          "font": {
           "color": "#2a3f5f"
          },
          "geo": {
           "bgcolor": "white",
           "lakecolor": "white",
           "landcolor": "#E5ECF6",
           "showlakes": true,
           "showland": true,
           "subunitcolor": "white"
          },
          "hoverlabel": {
           "align": "left"
          },
          "hovermode": "closest",
          "mapbox": {
           "style": "light"
          },
          "paper_bgcolor": "white",
          "plot_bgcolor": "#E5ECF6",
          "polar": {
           "angularaxis": {
            "gridcolor": "white",
            "linecolor": "white",
            "ticks": ""
           },
           "bgcolor": "#E5ECF6",
           "radialaxis": {
            "gridcolor": "white",
            "linecolor": "white",
            "ticks": ""
           }
          },
          "scene": {
           "xaxis": {
            "backgroundcolor": "#E5ECF6",
            "gridcolor": "white",
            "gridwidth": 2,
            "linecolor": "white",
            "showbackground": true,
            "ticks": "",
            "zerolinecolor": "white"
           },
           "yaxis": {
            "backgroundcolor": "#E5ECF6",
            "gridcolor": "white",
            "gridwidth": 2,
            "linecolor": "white",
            "showbackground": true,
            "ticks": "",
            "zerolinecolor": "white"
           },
           "zaxis": {
            "backgroundcolor": "#E5ECF6",
            "gridcolor": "white",
            "gridwidth": 2,
            "linecolor": "white",
            "showbackground": true,
            "ticks": "",
            "zerolinecolor": "white"
           }
          },
          "shapedefaults": {
           "line": {
            "color": "#2a3f5f"
           }
          },
          "ternary": {
           "aaxis": {
            "gridcolor": "white",
            "linecolor": "white",
            "ticks": ""
           },
           "baxis": {
            "gridcolor": "white",
            "linecolor": "white",
            "ticks": ""
           },
           "bgcolor": "#E5ECF6",
           "caxis": {
            "gridcolor": "white",
            "linecolor": "white",
            "ticks": ""
           }
          },
          "title": {
           "x": 0.05
          },
          "xaxis": {
           "automargin": true,
           "gridcolor": "white",
           "linecolor": "white",
           "ticks": "",
           "title": {
            "standoff": 15
           },
           "zerolinecolor": "white",
           "zerolinewidth": 2
          },
          "yaxis": {
           "automargin": true,
           "gridcolor": "white",
           "linecolor": "white",
           "ticks": "",
           "title": {
            "standoff": 15
           },
           "zerolinecolor": "white",
           "zerolinewidth": 2
          }
         }
        },
        "title": {
         "text": "Parallel Coordinate Plot"
        }
       }
      },
      "text/html": [
       "<div>                            <div id=\"485f8b05-a395-41a4-8301-1b7b9b19f1ae\" class=\"plotly-graph-div\" style=\"height:525px; width:100%;\"></div>            <script type=\"text/javascript\">                require([\"plotly\"], function(Plotly) {                    window.PLOTLYENV=window.PLOTLYENV || {};                                    if (document.getElementById(\"485f8b05-a395-41a4-8301-1b7b9b19f1ae\")) {                    Plotly.newPlot(                        \"485f8b05-a395-41a4-8301-1b7b9b19f1ae\",                        [{\"dimensions\":[{\"label\":\"Objective Value\",\"range\":[13.928078715914904,83.88420931921007],\"values\":[49.939116097418534,13.928078715914904,61.682116900456116,14.549176168378963,74.03517632974786,14.318338498366671,79.33411661175329,74.79864097255404,78.8879999082205,78.62368059289494,73.8214946051558,83.88420931921007,81.9757896637062,14.420737178739808,82.1743107884916,83.08781314009065,83.7824693691592,81.15169564200622,81.1718085188009,79.6605459154695,81.05422586911368,80.35995717723722,78.09559779799518,78.77695392778395,14.423391004704573,50.584082137872706,75.80622266524063,66.92825502516989,43.03220257076155,55.58847237743126]},{\"label\":\"batch_size\",\"range\":[0,2],\"ticktext\":[\"16\",\"32\",\"64\"],\"tickvals\":[0,1,2],\"values\":[0,0,0,0,0,1,1,1,1,1,1,1,1,1,1,1,1,1,1,1,1,1,1,1,1,2,2,2,2,2]},{\"label\":\"freeze\",\"range\":[0,2],\"ticktext\":[\"last_transformer\",\"no\",\"last\"],\"tickvals\":[0,1,2],\"values\":[0,2,0,2,1,2,1,1,1,1,1,1,1,2,1,1,1,1,1,1,1,1,1,1,2,0,1,1,0,0]},{\"label\":\"learning_rate\",\"range\":[-4.684976386897354,-3.7223831051025886],\"ticktext\":[\"2.07e-05\",\"0.0001\",\"0.00019\"],\"tickvals\":[-4.684976386897354,-4,-3.7223831051025886],\"values\":[-4.596919950362138,-4.46973361916227,-3.7357523865936715,-4.370436252361943,-4.165904970875898,-4.043631868884694,-4.507035763857196,-4.378562262901795,-4.220162020217791,-4.323873241351005,-4.237749048074748,-4.490614596802662,-4.519592425697194,-4.679292162189537,-4.514199475954164,-4.3952562450284605,-4.343788902586862,-4.417419291810038,-4.353529472318291,-4.319978862149783,-4.583356547257336,-4.4363941760976155,-4.306940163337216,-4.446572748140139,-4.270103297682013,-3.7223831051025886,-4.092792361718456,-3.77097523546371,-4.684976386897354,-3.8913593912052256]},{\"label\":\"lr_scheduler\",\"range\":[0,4],\"ticktext\":[\"no\",\"multiplicative\",\"cosineannealing\",\"step\",\"lambda\"],\"tickvals\":[0,1,2,3,4],\"values\":[2,4,3,0,2,3,1,1,1,1,1,4,4,4,4,4,4,4,4,4,4,4,4,4,0,0,1,2,3,1]},{\"label\":\"n_epoch\",\"range\":[2,5],\"values\":[5,4,2,3,5,2,4,4,3,3,3,4,4,4,4,3,3,3,3,3,3,4,3,4,5,5,2,5,2,2]},{\"label\":\"optimizer\",\"range\":[0,2],\"ticktext\":[\"\\u003cclass 'torch.optim.adam.Adam'\\u003e\",\"\\u003cclass 'torch.optim.adamw.AdamW'\\u003e\",\"\\u003cclass 'torch.optim.rmsprop.RMSprop'\\u003e\"],\"tickvals\":[0,1,2],\"values\":[1,2,1,2,1,1,0,0,0,0,0,0,2,2,2,2,2,2,2,2,2,1,2,2,2,0,0,0,2,0]}],\"labelangle\":30,\"labelside\":\"bottom\",\"line\":{\"color\":[49.939116097418534,13.928078715914904,61.682116900456116,14.549176168378963,74.03517632974786,14.318338498366671,79.33411661175329,74.79864097255404,78.8879999082205,78.62368059289494,73.8214946051558,83.88420931921007,81.9757896637062,14.420737178739808,82.1743107884916,83.08781314009065,83.7824693691592,81.15169564200622,81.1718085188009,79.6605459154695,81.05422586911368,80.35995717723722,78.09559779799518,78.77695392778395,14.423391004704573,50.584082137872706,75.80622266524063,66.92825502516989,43.03220257076155,55.58847237743126],\"colorbar\":{\"title\":{\"text\":\"Objective Value\"}},\"colorscale\":[[0.0,\"rgb(247,251,255)\"],[0.125,\"rgb(222,235,247)\"],[0.25,\"rgb(198,219,239)\"],[0.375,\"rgb(158,202,225)\"],[0.5,\"rgb(107,174,214)\"],[0.625,\"rgb(66,146,198)\"],[0.75,\"rgb(33,113,181)\"],[0.875,\"rgb(8,81,156)\"],[1.0,\"rgb(8,48,107)\"]],\"reversescale\":false,\"showscale\":true},\"type\":\"parcoords\"}],                        {\"title\":{\"text\":\"Parallel Coordinate Plot\"},\"template\":{\"data\":{\"histogram2dcontour\":[{\"type\":\"histogram2dcontour\",\"colorbar\":{\"outlinewidth\":0,\"ticks\":\"\"},\"colorscale\":[[0.0,\"#0d0887\"],[0.1111111111111111,\"#46039f\"],[0.2222222222222222,\"#7201a8\"],[0.3333333333333333,\"#9c179e\"],[0.4444444444444444,\"#bd3786\"],[0.5555555555555556,\"#d8576b\"],[0.6666666666666666,\"#ed7953\"],[0.7777777777777778,\"#fb9f3a\"],[0.8888888888888888,\"#fdca26\"],[1.0,\"#f0f921\"]]}],\"choropleth\":[{\"type\":\"choropleth\",\"colorbar\":{\"outlinewidth\":0,\"ticks\":\"\"}}],\"histogram2d\":[{\"type\":\"histogram2d\",\"colorbar\":{\"outlinewidth\":0,\"ticks\":\"\"},\"colorscale\":[[0.0,\"#0d0887\"],[0.1111111111111111,\"#46039f\"],[0.2222222222222222,\"#7201a8\"],[0.3333333333333333,\"#9c179e\"],[0.4444444444444444,\"#bd3786\"],[0.5555555555555556,\"#d8576b\"],[0.6666666666666666,\"#ed7953\"],[0.7777777777777778,\"#fb9f3a\"],[0.8888888888888888,\"#fdca26\"],[1.0,\"#f0f921\"]]}],\"heatmap\":[{\"type\":\"heatmap\",\"colorbar\":{\"outlinewidth\":0,\"ticks\":\"\"},\"colorscale\":[[0.0,\"#0d0887\"],[0.1111111111111111,\"#46039f\"],[0.2222222222222222,\"#7201a8\"],[0.3333333333333333,\"#9c179e\"],[0.4444444444444444,\"#bd3786\"],[0.5555555555555556,\"#d8576b\"],[0.6666666666666666,\"#ed7953\"],[0.7777777777777778,\"#fb9f3a\"],[0.8888888888888888,\"#fdca26\"],[1.0,\"#f0f921\"]]}],\"heatmapgl\":[{\"type\":\"heatmapgl\",\"colorbar\":{\"outlinewidth\":0,\"ticks\":\"\"},\"colorscale\":[[0.0,\"#0d0887\"],[0.1111111111111111,\"#46039f\"],[0.2222222222222222,\"#7201a8\"],[0.3333333333333333,\"#9c179e\"],[0.4444444444444444,\"#bd3786\"],[0.5555555555555556,\"#d8576b\"],[0.6666666666666666,\"#ed7953\"],[0.7777777777777778,\"#fb9f3a\"],[0.8888888888888888,\"#fdca26\"],[1.0,\"#f0f921\"]]}],\"contourcarpet\":[{\"type\":\"contourcarpet\",\"colorbar\":{\"outlinewidth\":0,\"ticks\":\"\"}}],\"contour\":[{\"type\":\"contour\",\"colorbar\":{\"outlinewidth\":0,\"ticks\":\"\"},\"colorscale\":[[0.0,\"#0d0887\"],[0.1111111111111111,\"#46039f\"],[0.2222222222222222,\"#7201a8\"],[0.3333333333333333,\"#9c179e\"],[0.4444444444444444,\"#bd3786\"],[0.5555555555555556,\"#d8576b\"],[0.6666666666666666,\"#ed7953\"],[0.7777777777777778,\"#fb9f3a\"],[0.8888888888888888,\"#fdca26\"],[1.0,\"#f0f921\"]]}],\"surface\":[{\"type\":\"surface\",\"colorbar\":{\"outlinewidth\":0,\"ticks\":\"\"},\"colorscale\":[[0.0,\"#0d0887\"],[0.1111111111111111,\"#46039f\"],[0.2222222222222222,\"#7201a8\"],[0.3333333333333333,\"#9c179e\"],[0.4444444444444444,\"#bd3786\"],[0.5555555555555556,\"#d8576b\"],[0.6666666666666666,\"#ed7953\"],[0.7777777777777778,\"#fb9f3a\"],[0.8888888888888888,\"#fdca26\"],[1.0,\"#f0f921\"]]}],\"mesh3d\":[{\"type\":\"mesh3d\",\"colorbar\":{\"outlinewidth\":0,\"ticks\":\"\"}}],\"scatter\":[{\"fillpattern\":{\"fillmode\":\"overlay\",\"size\":10,\"solidity\":0.2},\"type\":\"scatter\"}],\"parcoords\":[{\"type\":\"parcoords\",\"line\":{\"colorbar\":{\"outlinewidth\":0,\"ticks\":\"\"}}}],\"scatterpolargl\":[{\"type\":\"scatterpolargl\",\"marker\":{\"colorbar\":{\"outlinewidth\":0,\"ticks\":\"\"}}}],\"bar\":[{\"error_x\":{\"color\":\"#2a3f5f\"},\"error_y\":{\"color\":\"#2a3f5f\"},\"marker\":{\"line\":{\"color\":\"#E5ECF6\",\"width\":0.5},\"pattern\":{\"fillmode\":\"overlay\",\"size\":10,\"solidity\":0.2}},\"type\":\"bar\"}],\"scattergeo\":[{\"type\":\"scattergeo\",\"marker\":{\"colorbar\":{\"outlinewidth\":0,\"ticks\":\"\"}}}],\"scatterpolar\":[{\"type\":\"scatterpolar\",\"marker\":{\"colorbar\":{\"outlinewidth\":0,\"ticks\":\"\"}}}],\"histogram\":[{\"marker\":{\"pattern\":{\"fillmode\":\"overlay\",\"size\":10,\"solidity\":0.2}},\"type\":\"histogram\"}],\"scattergl\":[{\"type\":\"scattergl\",\"marker\":{\"colorbar\":{\"outlinewidth\":0,\"ticks\":\"\"}}}],\"scatter3d\":[{\"type\":\"scatter3d\",\"line\":{\"colorbar\":{\"outlinewidth\":0,\"ticks\":\"\"}},\"marker\":{\"colorbar\":{\"outlinewidth\":0,\"ticks\":\"\"}}}],\"scattermapbox\":[{\"type\":\"scattermapbox\",\"marker\":{\"colorbar\":{\"outlinewidth\":0,\"ticks\":\"\"}}}],\"scatterternary\":[{\"type\":\"scatterternary\",\"marker\":{\"colorbar\":{\"outlinewidth\":0,\"ticks\":\"\"}}}],\"scattercarpet\":[{\"type\":\"scattercarpet\",\"marker\":{\"colorbar\":{\"outlinewidth\":0,\"ticks\":\"\"}}}],\"carpet\":[{\"aaxis\":{\"endlinecolor\":\"#2a3f5f\",\"gridcolor\":\"white\",\"linecolor\":\"white\",\"minorgridcolor\":\"white\",\"startlinecolor\":\"#2a3f5f\"},\"baxis\":{\"endlinecolor\":\"#2a3f5f\",\"gridcolor\":\"white\",\"linecolor\":\"white\",\"minorgridcolor\":\"white\",\"startlinecolor\":\"#2a3f5f\"},\"type\":\"carpet\"}],\"table\":[{\"cells\":{\"fill\":{\"color\":\"#EBF0F8\"},\"line\":{\"color\":\"white\"}},\"header\":{\"fill\":{\"color\":\"#C8D4E3\"},\"line\":{\"color\":\"white\"}},\"type\":\"table\"}],\"barpolar\":[{\"marker\":{\"line\":{\"color\":\"#E5ECF6\",\"width\":0.5},\"pattern\":{\"fillmode\":\"overlay\",\"size\":10,\"solidity\":0.2}},\"type\":\"barpolar\"}],\"pie\":[{\"automargin\":true,\"type\":\"pie\"}]},\"layout\":{\"autotypenumbers\":\"strict\",\"colorway\":[\"#636efa\",\"#EF553B\",\"#00cc96\",\"#ab63fa\",\"#FFA15A\",\"#19d3f3\",\"#FF6692\",\"#B6E880\",\"#FF97FF\",\"#FECB52\"],\"font\":{\"color\":\"#2a3f5f\"},\"hovermode\":\"closest\",\"hoverlabel\":{\"align\":\"left\"},\"paper_bgcolor\":\"white\",\"plot_bgcolor\":\"#E5ECF6\",\"polar\":{\"bgcolor\":\"#E5ECF6\",\"angularaxis\":{\"gridcolor\":\"white\",\"linecolor\":\"white\",\"ticks\":\"\"},\"radialaxis\":{\"gridcolor\":\"white\",\"linecolor\":\"white\",\"ticks\":\"\"}},\"ternary\":{\"bgcolor\":\"#E5ECF6\",\"aaxis\":{\"gridcolor\":\"white\",\"linecolor\":\"white\",\"ticks\":\"\"},\"baxis\":{\"gridcolor\":\"white\",\"linecolor\":\"white\",\"ticks\":\"\"},\"caxis\":{\"gridcolor\":\"white\",\"linecolor\":\"white\",\"ticks\":\"\"}},\"coloraxis\":{\"colorbar\":{\"outlinewidth\":0,\"ticks\":\"\"}},\"colorscale\":{\"sequential\":[[0.0,\"#0d0887\"],[0.1111111111111111,\"#46039f\"],[0.2222222222222222,\"#7201a8\"],[0.3333333333333333,\"#9c179e\"],[0.4444444444444444,\"#bd3786\"],[0.5555555555555556,\"#d8576b\"],[0.6666666666666666,\"#ed7953\"],[0.7777777777777778,\"#fb9f3a\"],[0.8888888888888888,\"#fdca26\"],[1.0,\"#f0f921\"]],\"sequentialminus\":[[0.0,\"#0d0887\"],[0.1111111111111111,\"#46039f\"],[0.2222222222222222,\"#7201a8\"],[0.3333333333333333,\"#9c179e\"],[0.4444444444444444,\"#bd3786\"],[0.5555555555555556,\"#d8576b\"],[0.6666666666666666,\"#ed7953\"],[0.7777777777777778,\"#fb9f3a\"],[0.8888888888888888,\"#fdca26\"],[1.0,\"#f0f921\"]],\"diverging\":[[0,\"#8e0152\"],[0.1,\"#c51b7d\"],[0.2,\"#de77ae\"],[0.3,\"#f1b6da\"],[0.4,\"#fde0ef\"],[0.5,\"#f7f7f7\"],[0.6,\"#e6f5d0\"],[0.7,\"#b8e186\"],[0.8,\"#7fbc41\"],[0.9,\"#4d9221\"],[1,\"#276419\"]]},\"xaxis\":{\"gridcolor\":\"white\",\"linecolor\":\"white\",\"ticks\":\"\",\"title\":{\"standoff\":15},\"zerolinecolor\":\"white\",\"automargin\":true,\"zerolinewidth\":2},\"yaxis\":{\"gridcolor\":\"white\",\"linecolor\":\"white\",\"ticks\":\"\",\"title\":{\"standoff\":15},\"zerolinecolor\":\"white\",\"automargin\":true,\"zerolinewidth\":2},\"scene\":{\"xaxis\":{\"backgroundcolor\":\"#E5ECF6\",\"gridcolor\":\"white\",\"linecolor\":\"white\",\"showbackground\":true,\"ticks\":\"\",\"zerolinecolor\":\"white\",\"gridwidth\":2},\"yaxis\":{\"backgroundcolor\":\"#E5ECF6\",\"gridcolor\":\"white\",\"linecolor\":\"white\",\"showbackground\":true,\"ticks\":\"\",\"zerolinecolor\":\"white\",\"gridwidth\":2},\"zaxis\":{\"backgroundcolor\":\"#E5ECF6\",\"gridcolor\":\"white\",\"linecolor\":\"white\",\"showbackground\":true,\"ticks\":\"\",\"zerolinecolor\":\"white\",\"gridwidth\":2}},\"shapedefaults\":{\"line\":{\"color\":\"#2a3f5f\"}},\"annotationdefaults\":{\"arrowcolor\":\"#2a3f5f\",\"arrowhead\":0,\"arrowwidth\":1},\"geo\":{\"bgcolor\":\"white\",\"landcolor\":\"#E5ECF6\",\"subunitcolor\":\"white\",\"showland\":true,\"showlakes\":true,\"lakecolor\":\"white\"},\"title\":{\"x\":0.05},\"mapbox\":{\"style\":\"light\"}}}},                        {\"responsive\": true}                    ).then(function(){\n",
       "                            \n",
       "var gd = document.getElementById('485f8b05-a395-41a4-8301-1b7b9b19f1ae');\n",
       "var x = new MutationObserver(function (mutations, observer) {{\n",
       "        var display = window.getComputedStyle(gd).display;\n",
       "        if (!display || display === 'none') {{\n",
       "            console.log([gd, 'removed!']);\n",
       "            Plotly.purge(gd);\n",
       "            observer.disconnect();\n",
       "        }}\n",
       "}});\n",
       "\n",
       "// Listen for the removal of the full notebook cells\n",
       "var notebookContainer = gd.closest('#notebook-container');\n",
       "if (notebookContainer) {{\n",
       "    x.observe(notebookContainer, {childList: true});\n",
       "}}\n",
       "\n",
       "// Listen for the clearing of the current output cell\n",
       "var outputEl = gd.closest('.output');\n",
       "if (outputEl) {{\n",
       "    x.observe(outputEl, {childList: true});\n",
       "}}\n",
       "\n",
       "                        })                };                });            </script>        </div>"
      ]
     },
     "metadata": {},
     "output_type": "display_data"
    }
   ],
   "source": [
    "# 고차원 매개변수 관계 시각화 - x : 매개변수, y : objective value\n",
    "plot_parallel_coordinate(study)\t# 아래는 매개변수 선택"
   ]
  },
  {
   "cell_type": "code",
   "execution_count": 15,
   "metadata": {},
   "outputs": [
    {
     "data": {
      "application/vnd.plotly.v1+json": {
       "config": {
        "plotlyServerURL": "https://plot.ly"
       },
       "data": [
        {
         "type": "scatter",
         "xaxis": "x",
         "yaxis": "y"
        },
        {
         "colorbar": {
          "title": {
           "text": "Objective Value"
          }
         },
         "colorscale": [
          [
           0,
           "rgb(247,251,255)"
          ],
          [
           0.125,
           "rgb(222,235,247)"
          ],
          [
           0.25,
           "rgb(198,219,239)"
          ],
          [
           0.375,
           "rgb(158,202,225)"
          ],
          [
           0.5,
           "rgb(107,174,214)"
          ],
          [
           0.625,
           "rgb(66,146,198)"
          ],
          [
           0.75,
           "rgb(33,113,181)"
          ],
          [
           0.875,
           "rgb(8,81,156)"
          ],
          [
           1,
           "rgb(8,48,107)"
          ]
         ],
         "connectgaps": true,
         "contours": {
          "coloring": "heatmap"
         },
         "hoverinfo": "none",
         "line": {
          "smoothing": 1.3
         },
         "reversescale": false,
         "showscale": true,
         "type": "contour",
         "x": [
          13.6,
          16,
          32,
          64,
          66.4
         ],
         "xaxis": "x7",
         "y": [
          "last",
          "last_transformer",
          "no"
         ],
         "yaxis": "y7",
         "z": [
          [
           null,
           14.549176168378963,
           14.423391004704573,
           null,
           null
          ],
          [
           null,
           61.682116900456116,
           null,
           55.58847237743126,
           null
          ],
          [
           null,
           74.03517632974786,
           83.88420931921007,
           75.80622266524063,
           null
          ]
         ]
        },
        {
         "marker": {
          "color": "black",
          "line": {
           "color": "Grey",
           "width": 2
          }
         },
         "mode": "markers",
         "showlegend": false,
         "type": "scatter",
         "x": [
          64,
          64,
          16,
          64,
          32,
          16,
          16,
          64,
          64,
          32,
          32,
          32,
          32,
          32,
          32,
          32,
          32,
          32,
          32,
          32,
          16,
          32,
          32,
          32,
          32,
          32,
          32,
          32,
          32,
          16
         ],
         "xaxis": "x7",
         "y": [
          "last_transformer",
          "no",
          "last_transformer",
          "no",
          "last",
          "last",
          "last_transformer",
          "last_transformer",
          "last_transformer",
          "no",
          "no",
          "no",
          "no",
          "no",
          "no",
          "no",
          "last",
          "no",
          "no",
          "no",
          "last",
          "no",
          "no",
          "no",
          "no",
          "no",
          "no",
          "no",
          "last",
          "no"
         ],
         "yaxis": "y7"
        },
        {
         "colorbar": {
          "title": {
           "text": "Objective Value"
          }
         },
         "colorscale": [
          [
           0,
           "rgb(247,251,255)"
          ],
          [
           0.125,
           "rgb(222,235,247)"
          ],
          [
           0.25,
           "rgb(198,219,239)"
          ],
          [
           0.375,
           "rgb(158,202,225)"
          ],
          [
           0.5,
           "rgb(107,174,214)"
          ],
          [
           0.625,
           "rgb(66,146,198)"
          ],
          [
           0.75,
           "rgb(33,113,181)"
          ],
          [
           0.875,
           "rgb(8,81,156)"
          ],
          [
           1,
           "rgb(8,48,107)"
          ]
         ],
         "connectgaps": true,
         "contours": {
          "coloring": "heatmap"
         },
         "hoverinfo": "none",
         "line": {
          "smoothing": 1.3
         },
         "reversescale": false,
         "showscale": false,
         "type": "contour",
         "x": [
          13.6,
          16,
          32,
          64,
          66.4
         ],
         "xaxis": "x13",
         "y": [
          0.000018488170985753432,
          0.000020654924560158524,
          0.00002092704160886563,
          0.000025297642424104282,
          0.000026100177011954557,
          0.00003022787198428732,
          0.00003060557365103987,
          0.00003111460099918406,
          0.000032313604354018504,
          0.00003390520548835446,
          0.000035762449031571455,
          0.000036610513799480674,
          0.00003824553215856641,
          0.0000402479490896825,
          0.00004182517214316379,
          0.000042615123132838545,
          0.00004430681457478043,
          0.00004531177732303999,
          0.000047438042369214124,
          0.000047865338862926255,
          0.00004932417576334765,
          0.000053690407763271996,
          0.000057843018989413654,
          0.00006023348339047916,
          0.00006824880148118475,
          0.00008076210654763638,
          0.00009044157798420218,
          0.00012842234881388384,
          0.0001694434418498063,
          0.00018375857459683348,
          0.00018950335137876508,
          0.00021171252849412644
         ],
         "yaxis": "y13",
         "z": [
          [
           null,
           null,
           null,
           null,
           null
          ],
          [
           null,
           null,
           null,
           43.03220257076155,
           null
          ],
          [
           null,
           null,
           14.420737178739808,
           null,
           null
          ],
          [
           null,
           49.939116097418534,
           null,
           null,
           null
          ],
          [
           null,
           null,
           81.05422586911368,
           null,
           null
          ],
          [
           null,
           null,
           81.9757896637062,
           null,
           null
          ],
          [
           null,
           null,
           82.1743107884916,
           null,
           null
          ],
          [
           null,
           null,
           79.33411661175329,
           null,
           null
          ],
          [
           null,
           null,
           83.88420931921007,
           null,
           null
          ],
          [
           null,
           13.928078715914904,
           null,
           null,
           null
          ],
          [
           null,
           null,
           78.77695392778395,
           null,
           null
          ],
          [
           null,
           null,
           80.35995717723722,
           null,
           null
          ],
          [
           null,
           null,
           81.15169564200622,
           null,
           null
          ],
          [
           null,
           null,
           83.08781314009065,
           null,
           null
          ],
          [
           null,
           null,
           74.79864097255404,
           null,
           null
          ],
          [
           null,
           14.549176168378963,
           null,
           null,
           null
          ],
          [
           null,
           null,
           81.1718085188009,
           null,
           null
          ],
          [
           null,
           null,
           83.7824693691592,
           null,
           null
          ],
          [
           null,
           null,
           78.62368059289494,
           null,
           null
          ],
          [
           null,
           null,
           79.6605459154695,
           null,
           null
          ],
          [
           null,
           null,
           78.09559779799518,
           null,
           null
          ],
          [
           null,
           null,
           14.423391004704573,
           null,
           null
          ],
          [
           null,
           null,
           73.8214946051558,
           null,
           null
          ],
          [
           null,
           null,
           78.8879999082205,
           null,
           null
          ],
          [
           null,
           74.03517632974786,
           null,
           null,
           null
          ],
          [
           null,
           null,
           null,
           75.80622266524063,
           null
          ],
          [
           null,
           null,
           14.318338498366671,
           null,
           null
          ],
          [
           null,
           null,
           null,
           55.58847237743126,
           null
          ],
          [
           null,
           null,
           null,
           66.92825502516989,
           null
          ],
          [
           null,
           61.682116900456116,
           null,
           null,
           null
          ],
          [
           null,
           null,
           null,
           50.584082137872706,
           null
          ],
          [
           null,
           null,
           null,
           null,
           null
          ]
         ]
        },
        {
         "marker": {
          "color": "black",
          "line": {
           "color": "Grey",
           "width": 2
          }
         },
         "mode": "markers",
         "showlegend": false,
         "type": "scatter",
         "x": [
          64,
          64,
          16,
          64,
          32,
          16,
          16,
          64,
          64,
          32,
          32,
          32,
          32,
          32,
          32,
          32,
          32,
          32,
          32,
          32,
          16,
          32,
          32,
          32,
          32,
          32,
          32,
          32,
          32,
          16
         ],
         "xaxis": "x13",
         "y": [
          0.00018950335137876508,
          0.00008076210654763638,
          0.000025297642424104282,
          0.0001694434418498063,
          0.00009044157798420218,
          0.00003390520548835446,
          0.00018375857459683348,
          0.000020654924560158524,
          0.00012842234881388384,
          0.00003111460099918406,
          0.00004182517214316379,
          0.00006023348339047916,
          0.000047438042369214124,
          0.000057843018989413654,
          0.000032313604354018504,
          0.00003022787198428732,
          0.00002092704160886563,
          0.00003060557365103987,
          0.0000402479490896825,
          0.00004531177732303999,
          0.000042615123132838545,
          0.00003824553215856641,
          0.00004430681457478043,
          0.000047865338862926255,
          0.000026100177011954557,
          0.000036610513799480674,
          0.00004932417576334765,
          0.000035762449031571455,
          0.000053690407763271996,
          0.00006824880148118475
         ],
         "yaxis": "y13"
        },
        {
         "colorbar": {
          "title": {
           "text": "Objective Value"
          }
         },
         "colorscale": [
          [
           0,
           "rgb(247,251,255)"
          ],
          [
           0.125,
           "rgb(222,235,247)"
          ],
          [
           0.25,
           "rgb(198,219,239)"
          ],
          [
           0.375,
           "rgb(158,202,225)"
          ],
          [
           0.5,
           "rgb(107,174,214)"
          ],
          [
           0.625,
           "rgb(66,146,198)"
          ],
          [
           0.75,
           "rgb(33,113,181)"
          ],
          [
           0.875,
           "rgb(8,81,156)"
          ],
          [
           1,
           "rgb(8,48,107)"
          ]
         ],
         "connectgaps": true,
         "contours": {
          "coloring": "heatmap"
         },
         "hoverinfo": "none",
         "line": {
          "smoothing": 1.3
         },
         "reversescale": false,
         "showscale": false,
         "type": "contour",
         "x": [
          13.6,
          16,
          32,
          64,
          66.4
         ],
         "xaxis": "x19",
         "y": [
          "cosineannealing",
          "lambda",
          "multiplicative",
          "no",
          "step"
         ],
         "yaxis": "y19",
         "z": [
          [
           null,
           74.03517632974786,
           null,
           66.92825502516989,
           null
          ],
          [
           null,
           13.928078715914904,
           83.88420931921007,
           null,
           null
          ],
          [
           null,
           null,
           79.33411661175329,
           75.80622266524063,
           null
          ],
          [
           null,
           14.549176168378963,
           14.423391004704573,
           50.584082137872706,
           null
          ],
          [
           null,
           61.682116900456116,
           14.318338498366671,
           43.03220257076155,
           null
          ]
         ]
        },
        {
         "marker": {
          "color": "black",
          "line": {
           "color": "Grey",
           "width": 2
          }
         },
         "mode": "markers",
         "showlegend": false,
         "type": "scatter",
         "x": [
          64,
          64,
          16,
          64,
          32,
          16,
          16,
          64,
          64,
          32,
          32,
          32,
          32,
          32,
          32,
          32,
          32,
          32,
          32,
          32,
          16,
          32,
          32,
          32,
          32,
          32,
          32,
          32,
          32,
          16
         ],
         "xaxis": "x19",
         "y": [
          "no",
          "multiplicative",
          "cosineannealing",
          "cosineannealing",
          "step",
          "lambda",
          "step",
          "step",
          "multiplicative",
          "multiplicative",
          "multiplicative",
          "multiplicative",
          "multiplicative",
          "multiplicative",
          "lambda",
          "lambda",
          "lambda",
          "lambda",
          "lambda",
          "lambda",
          "no",
          "lambda",
          "lambda",
          "lambda",
          "lambda",
          "lambda",
          "lambda",
          "lambda",
          "no",
          "cosineannealing"
         ],
         "yaxis": "y19"
        },
        {
         "colorbar": {
          "title": {
           "text": "Objective Value"
          }
         },
         "colorscale": [
          [
           0,
           "rgb(247,251,255)"
          ],
          [
           0.125,
           "rgb(222,235,247)"
          ],
          [
           0.25,
           "rgb(198,219,239)"
          ],
          [
           0.375,
           "rgb(158,202,225)"
          ],
          [
           0.5,
           "rgb(107,174,214)"
          ],
          [
           0.625,
           "rgb(66,146,198)"
          ],
          [
           0.75,
           "rgb(33,113,181)"
          ],
          [
           0.875,
           "rgb(8,81,156)"
          ],
          [
           1,
           "rgb(8,48,107)"
          ]
         ],
         "connectgaps": true,
         "contours": {
          "coloring": "heatmap"
         },
         "hoverinfo": "none",
         "line": {
          "smoothing": 1.3
         },
         "reversescale": false,
         "showscale": false,
         "type": "contour",
         "x": [
          13.6,
          16,
          32,
          64,
          66.4
         ],
         "xaxis": "x25",
         "y": [
          1.85,
          2,
          3,
          4,
          5,
          5.15
         ],
         "yaxis": "y25",
         "z": [
          [
           null,
           null,
           null,
           null,
           null
          ],
          [
           null,
           61.682116900456116,
           14.318338498366671,
           75.80622266524063,
           null
          ],
          [
           null,
           14.549176168378963,
           83.7824693691592,
           null,
           null
          ],
          [
           null,
           13.928078715914904,
           83.88420931921007,
           null,
           null
          ],
          [
           null,
           74.03517632974786,
           14.423391004704573,
           66.92825502516989,
           null
          ],
          [
           null,
           null,
           null,
           null,
           null
          ]
         ]
        },
        {
         "marker": {
          "color": "black",
          "line": {
           "color": "Grey",
           "width": 2
          }
         },
         "mode": "markers",
         "showlegend": false,
         "type": "scatter",
         "x": [
          64,
          64,
          16,
          64,
          32,
          16,
          16,
          64,
          64,
          32,
          32,
          32,
          32,
          32,
          32,
          32,
          32,
          32,
          32,
          32,
          16,
          32,
          32,
          32,
          32,
          32,
          32,
          32,
          32,
          16
         ],
         "xaxis": "x25",
         "y": [
          5,
          2,
          5,
          5,
          2,
          4,
          2,
          2,
          2,
          4,
          4,
          3,
          3,
          3,
          4,
          4,
          4,
          4,
          3,
          3,
          3,
          3,
          3,
          3,
          3,
          4,
          3,
          4,
          5,
          5
         ],
         "yaxis": "y25"
        },
        {
         "colorbar": {
          "title": {
           "text": "Objective Value"
          }
         },
         "colorscale": [
          [
           0,
           "rgb(247,251,255)"
          ],
          [
           0.125,
           "rgb(222,235,247)"
          ],
          [
           0.25,
           "rgb(198,219,239)"
          ],
          [
           0.375,
           "rgb(158,202,225)"
          ],
          [
           0.5,
           "rgb(107,174,214)"
          ],
          [
           0.625,
           "rgb(66,146,198)"
          ],
          [
           0.75,
           "rgb(33,113,181)"
          ],
          [
           0.875,
           "rgb(8,81,156)"
          ],
          [
           1,
           "rgb(8,48,107)"
          ]
         ],
         "connectgaps": true,
         "contours": {
          "coloring": "heatmap"
         },
         "hoverinfo": "none",
         "line": {
          "smoothing": 1.3
         },
         "reversescale": false,
         "showscale": false,
         "type": "contour",
         "x": [
          13.6,
          16,
          32,
          64,
          66.4
         ],
         "xaxis": "x31",
         "y": [
          "<class 'torch.optim.adam.Adam'>",
          "<class 'torch.optim.adamw.AdamW'>",
          "<class 'torch.optim.rmsprop.RMSprop'>"
         ],
         "yaxis": "y31",
         "z": [
          [
           null,
           null,
           83.88420931921007,
           75.80622266524063,
           null
          ],
          [
           null,
           74.03517632974786,
           80.35995717723722,
           null,
           null
          ],
          [
           null,
           14.549176168378963,
           83.7824693691592,
           43.03220257076155,
           null
          ]
         ]
        },
        {
         "marker": {
          "color": "black",
          "line": {
           "color": "Grey",
           "width": 2
          }
         },
         "mode": "markers",
         "showlegend": false,
         "type": "scatter",
         "x": [
          64,
          64,
          16,
          64,
          32,
          16,
          16,
          64,
          64,
          32,
          32,
          32,
          32,
          32,
          32,
          32,
          32,
          32,
          32,
          32,
          16,
          32,
          32,
          32,
          32,
          32,
          32,
          32,
          32,
          16
         ],
         "xaxis": "x31",
         "y": [
          "<class 'torch.optim.adam.Adam'>",
          "<class 'torch.optim.adam.Adam'>",
          "<class 'torch.optim.adamw.AdamW'>",
          "<class 'torch.optim.adam.Adam'>",
          "<class 'torch.optim.adamw.AdamW'>",
          "<class 'torch.optim.rmsprop.RMSprop'>",
          "<class 'torch.optim.adamw.AdamW'>",
          "<class 'torch.optim.rmsprop.RMSprop'>",
          "<class 'torch.optim.adam.Adam'>",
          "<class 'torch.optim.adam.Adam'>",
          "<class 'torch.optim.adam.Adam'>",
          "<class 'torch.optim.adam.Adam'>",
          "<class 'torch.optim.adam.Adam'>",
          "<class 'torch.optim.adam.Adam'>",
          "<class 'torch.optim.adam.Adam'>",
          "<class 'torch.optim.rmsprop.RMSprop'>",
          "<class 'torch.optim.rmsprop.RMSprop'>",
          "<class 'torch.optim.rmsprop.RMSprop'>",
          "<class 'torch.optim.rmsprop.RMSprop'>",
          "<class 'torch.optim.rmsprop.RMSprop'>",
          "<class 'torch.optim.rmsprop.RMSprop'>",
          "<class 'torch.optim.rmsprop.RMSprop'>",
          "<class 'torch.optim.rmsprop.RMSprop'>",
          "<class 'torch.optim.rmsprop.RMSprop'>",
          "<class 'torch.optim.rmsprop.RMSprop'>",
          "<class 'torch.optim.adamw.AdamW'>",
          "<class 'torch.optim.rmsprop.RMSprop'>",
          "<class 'torch.optim.rmsprop.RMSprop'>",
          "<class 'torch.optim.rmsprop.RMSprop'>",
          "<class 'torch.optim.adamw.AdamW'>"
         ],
         "yaxis": "y31"
        },
        {
         "colorbar": {
          "title": {
           "text": "Objective Value"
          }
         },
         "colorscale": [
          [
           0,
           "rgb(247,251,255)"
          ],
          [
           0.125,
           "rgb(222,235,247)"
          ],
          [
           0.25,
           "rgb(198,219,239)"
          ],
          [
           0.375,
           "rgb(158,202,225)"
          ],
          [
           0.5,
           "rgb(107,174,214)"
          ],
          [
           0.625,
           "rgb(66,146,198)"
          ],
          [
           0.75,
           "rgb(33,113,181)"
          ],
          [
           0.875,
           "rgb(8,81,156)"
          ],
          [
           1,
           "rgb(8,48,107)"
          ]
         ],
         "connectgaps": true,
         "contours": {
          "coloring": "heatmap"
         },
         "hoverinfo": "none",
         "line": {
          "smoothing": 1.3
         },
         "reversescale": false,
         "showscale": false,
         "type": "contour",
         "x": [
          "last",
          "last_transformer",
          "no"
         ],
         "xaxis": "x2",
         "y": [
          13.6,
          16,
          32,
          64,
          66.4
         ],
         "yaxis": "y2",
         "z": [
          [
           null,
           null,
           null
          ],
          [
           14.549176168378963,
           61.682116900456116,
           74.03517632974786
          ],
          [
           14.423391004704573,
           null,
           83.88420931921007
          ],
          [
           null,
           55.58847237743126,
           75.80622266524063
          ],
          [
           null,
           null,
           null
          ]
         ]
        },
        {
         "marker": {
          "color": "black",
          "line": {
           "color": "Grey",
           "width": 2
          }
         },
         "mode": "markers",
         "showlegend": false,
         "type": "scatter",
         "x": [
          "last_transformer",
          "no",
          "last_transformer",
          "no",
          "last",
          "last",
          "last_transformer",
          "last_transformer",
          "last_transformer",
          "no",
          "no",
          "no",
          "no",
          "no",
          "no",
          "no",
          "last",
          "no",
          "no",
          "no",
          "last",
          "no",
          "no",
          "no",
          "no",
          "no",
          "no",
          "no",
          "last",
          "no"
         ],
         "xaxis": "x2",
         "y": [
          64,
          64,
          16,
          64,
          32,
          16,
          16,
          64,
          64,
          32,
          32,
          32,
          32,
          32,
          32,
          32,
          32,
          32,
          32,
          32,
          16,
          32,
          32,
          32,
          32,
          32,
          32,
          32,
          32,
          16
         ],
         "yaxis": "y2"
        },
        {
         "type": "scatter",
         "xaxis": "x8",
         "yaxis": "y8"
        },
        {
         "colorbar": {
          "title": {
           "text": "Objective Value"
          }
         },
         "colorscale": [
          [
           0,
           "rgb(247,251,255)"
          ],
          [
           0.125,
           "rgb(222,235,247)"
          ],
          [
           0.25,
           "rgb(198,219,239)"
          ],
          [
           0.375,
           "rgb(158,202,225)"
          ],
          [
           0.5,
           "rgb(107,174,214)"
          ],
          [
           0.625,
           "rgb(66,146,198)"
          ],
          [
           0.75,
           "rgb(33,113,181)"
          ],
          [
           0.875,
           "rgb(8,81,156)"
          ],
          [
           1,
           "rgb(8,48,107)"
          ]
         ],
         "connectgaps": true,
         "contours": {
          "coloring": "heatmap"
         },
         "hoverinfo": "none",
         "line": {
          "smoothing": 1.3
         },
         "reversescale": false,
         "showscale": false,
         "type": "contour",
         "x": [
          "last",
          "last_transformer",
          "no"
         ],
         "xaxis": "x14",
         "y": [
          0.000018488170985753432,
          0.000020654924560158524,
          0.00002092704160886563,
          0.000025297642424104282,
          0.000026100177011954557,
          0.00003022787198428732,
          0.00003060557365103987,
          0.00003111460099918406,
          0.000032313604354018504,
          0.00003390520548835446,
          0.000035762449031571455,
          0.000036610513799480674,
          0.00003824553215856641,
          0.0000402479490896825,
          0.00004182517214316379,
          0.000042615123132838545,
          0.00004430681457478043,
          0.00004531177732303999,
          0.000047438042369214124,
          0.000047865338862926255,
          0.00004932417576334765,
          0.000053690407763271996,
          0.000057843018989413654,
          0.00006023348339047916,
          0.00006824880148118475,
          0.00008076210654763638,
          0.00009044157798420218,
          0.00012842234881388384,
          0.0001694434418498063,
          0.00018375857459683348,
          0.00018950335137876508,
          0.00021171252849412644
         ],
         "yaxis": "y14",
         "z": [
          [
           null,
           null,
           null
          ],
          [
           null,
           43.03220257076155,
           null
          ],
          [
           14.420737178739808,
           null,
           null
          ],
          [
           null,
           49.939116097418534,
           null
          ],
          [
           null,
           null,
           81.05422586911368
          ],
          [
           null,
           null,
           81.9757896637062
          ],
          [
           null,
           null,
           82.1743107884916
          ],
          [
           null,
           null,
           79.33411661175329
          ],
          [
           null,
           null,
           83.88420931921007
          ],
          [
           13.928078715914904,
           null,
           null
          ],
          [
           null,
           null,
           78.77695392778395
          ],
          [
           null,
           null,
           80.35995717723722
          ],
          [
           null,
           null,
           81.15169564200622
          ],
          [
           null,
           null,
           83.08781314009065
          ],
          [
           null,
           null,
           74.79864097255404
          ],
          [
           14.549176168378963,
           null,
           null
          ],
          [
           null,
           null,
           81.1718085188009
          ],
          [
           null,
           null,
           83.7824693691592
          ],
          [
           null,
           null,
           78.62368059289494
          ],
          [
           null,
           null,
           79.6605459154695
          ],
          [
           null,
           null,
           78.09559779799518
          ],
          [
           14.423391004704573,
           null,
           null
          ],
          [
           null,
           null,
           73.8214946051558
          ],
          [
           null,
           null,
           78.8879999082205
          ],
          [
           null,
           null,
           74.03517632974786
          ],
          [
           null,
           null,
           75.80622266524063
          ],
          [
           14.318338498366671,
           null,
           null
          ],
          [
           null,
           55.58847237743126,
           null
          ],
          [
           null,
           null,
           66.92825502516989
          ],
          [
           null,
           61.682116900456116,
           null
          ],
          [
           null,
           50.584082137872706,
           null
          ],
          [
           null,
           null,
           null
          ]
         ]
        },
        {
         "marker": {
          "color": "black",
          "line": {
           "color": "Grey",
           "width": 2
          }
         },
         "mode": "markers",
         "showlegend": false,
         "type": "scatter",
         "x": [
          "last_transformer",
          "no",
          "last_transformer",
          "no",
          "last",
          "last",
          "last_transformer",
          "last_transformer",
          "last_transformer",
          "no",
          "no",
          "no",
          "no",
          "no",
          "no",
          "no",
          "last",
          "no",
          "no",
          "no",
          "last",
          "no",
          "no",
          "no",
          "no",
          "no",
          "no",
          "no",
          "last",
          "no"
         ],
         "xaxis": "x14",
         "y": [
          0.00018950335137876508,
          0.00008076210654763638,
          0.000025297642424104282,
          0.0001694434418498063,
          0.00009044157798420218,
          0.00003390520548835446,
          0.00018375857459683348,
          0.000020654924560158524,
          0.00012842234881388384,
          0.00003111460099918406,
          0.00004182517214316379,
          0.00006023348339047916,
          0.000047438042369214124,
          0.000057843018989413654,
          0.000032313604354018504,
          0.00003022787198428732,
          0.00002092704160886563,
          0.00003060557365103987,
          0.0000402479490896825,
          0.00004531177732303999,
          0.000042615123132838545,
          0.00003824553215856641,
          0.00004430681457478043,
          0.000047865338862926255,
          0.000026100177011954557,
          0.000036610513799480674,
          0.00004932417576334765,
          0.000035762449031571455,
          0.000053690407763271996,
          0.00006824880148118475
         ],
         "yaxis": "y14"
        },
        {
         "colorbar": {
          "title": {
           "text": "Objective Value"
          }
         },
         "colorscale": [
          [
           0,
           "rgb(247,251,255)"
          ],
          [
           0.125,
           "rgb(222,235,247)"
          ],
          [
           0.25,
           "rgb(198,219,239)"
          ],
          [
           0.375,
           "rgb(158,202,225)"
          ],
          [
           0.5,
           "rgb(107,174,214)"
          ],
          [
           0.625,
           "rgb(66,146,198)"
          ],
          [
           0.75,
           "rgb(33,113,181)"
          ],
          [
           0.875,
           "rgb(8,81,156)"
          ],
          [
           1,
           "rgb(8,48,107)"
          ]
         ],
         "connectgaps": true,
         "contours": {
          "coloring": "heatmap"
         },
         "hoverinfo": "none",
         "line": {
          "smoothing": 1.3
         },
         "reversescale": false,
         "showscale": false,
         "type": "contour",
         "x": [
          "last",
          "last_transformer",
          "no"
         ],
         "xaxis": "x20",
         "y": [
          "cosineannealing",
          "lambda",
          "multiplicative",
          "no",
          "step"
         ],
         "yaxis": "y20",
         "z": [
          [
           null,
           49.939116097418534,
           74.03517632974786
          ],
          [
           14.420737178739808,
           null,
           83.88420931921007
          ],
          [
           null,
           55.58847237743126,
           79.33411661175329
          ],
          [
           14.549176168378963,
           50.584082137872706,
           null
          ],
          [
           14.318338498366671,
           61.682116900456116,
           null
          ]
         ]
        },
        {
         "marker": {
          "color": "black",
          "line": {
           "color": "Grey",
           "width": 2
          }
         },
         "mode": "markers",
         "showlegend": false,
         "type": "scatter",
         "x": [
          "last_transformer",
          "no",
          "last_transformer",
          "no",
          "last",
          "last",
          "last_transformer",
          "last_transformer",
          "last_transformer",
          "no",
          "no",
          "no",
          "no",
          "no",
          "no",
          "no",
          "last",
          "no",
          "no",
          "no",
          "last",
          "no",
          "no",
          "no",
          "no",
          "no",
          "no",
          "no",
          "last",
          "no"
         ],
         "xaxis": "x20",
         "y": [
          "no",
          "multiplicative",
          "cosineannealing",
          "cosineannealing",
          "step",
          "lambda",
          "step",
          "step",
          "multiplicative",
          "multiplicative",
          "multiplicative",
          "multiplicative",
          "multiplicative",
          "multiplicative",
          "lambda",
          "lambda",
          "lambda",
          "lambda",
          "lambda",
          "lambda",
          "no",
          "lambda",
          "lambda",
          "lambda",
          "lambda",
          "lambda",
          "lambda",
          "lambda",
          "no",
          "cosineannealing"
         ],
         "yaxis": "y20"
        },
        {
         "colorbar": {
          "title": {
           "text": "Objective Value"
          }
         },
         "colorscale": [
          [
           0,
           "rgb(247,251,255)"
          ],
          [
           0.125,
           "rgb(222,235,247)"
          ],
          [
           0.25,
           "rgb(198,219,239)"
          ],
          [
           0.375,
           "rgb(158,202,225)"
          ],
          [
           0.5,
           "rgb(107,174,214)"
          ],
          [
           0.625,
           "rgb(66,146,198)"
          ],
          [
           0.75,
           "rgb(33,113,181)"
          ],
          [
           0.875,
           "rgb(8,81,156)"
          ],
          [
           1,
           "rgb(8,48,107)"
          ]
         ],
         "connectgaps": true,
         "contours": {
          "coloring": "heatmap"
         },
         "hoverinfo": "none",
         "line": {
          "smoothing": 1.3
         },
         "reversescale": false,
         "showscale": false,
         "type": "contour",
         "x": [
          "last",
          "last_transformer",
          "no"
         ],
         "xaxis": "x26",
         "y": [
          1.85,
          2,
          3,
          4,
          5,
          5.15
         ],
         "yaxis": "y26",
         "z": [
          [
           null,
           null,
           null
          ],
          [
           14.318338498366671,
           61.682116900456116,
           75.80622266524063
          ],
          [
           14.549176168378963,
           null,
           83.7824693691592
          ],
          [
           14.420737178739808,
           null,
           83.88420931921007
          ],
          [
           14.423391004704573,
           50.584082137872706,
           74.03517632974786
          ],
          [
           null,
           null,
           null
          ]
         ]
        },
        {
         "marker": {
          "color": "black",
          "line": {
           "color": "Grey",
           "width": 2
          }
         },
         "mode": "markers",
         "showlegend": false,
         "type": "scatter",
         "x": [
          "last_transformer",
          "no",
          "last_transformer",
          "no",
          "last",
          "last",
          "last_transformer",
          "last_transformer",
          "last_transformer",
          "no",
          "no",
          "no",
          "no",
          "no",
          "no",
          "no",
          "last",
          "no",
          "no",
          "no",
          "last",
          "no",
          "no",
          "no",
          "no",
          "no",
          "no",
          "no",
          "last",
          "no"
         ],
         "xaxis": "x26",
         "y": [
          5,
          2,
          5,
          5,
          2,
          4,
          2,
          2,
          2,
          4,
          4,
          3,
          3,
          3,
          4,
          4,
          4,
          4,
          3,
          3,
          3,
          3,
          3,
          3,
          3,
          4,
          3,
          4,
          5,
          5
         ],
         "yaxis": "y26"
        },
        {
         "colorbar": {
          "title": {
           "text": "Objective Value"
          }
         },
         "colorscale": [
          [
           0,
           "rgb(247,251,255)"
          ],
          [
           0.125,
           "rgb(222,235,247)"
          ],
          [
           0.25,
           "rgb(198,219,239)"
          ],
          [
           0.375,
           "rgb(158,202,225)"
          ],
          [
           0.5,
           "rgb(107,174,214)"
          ],
          [
           0.625,
           "rgb(66,146,198)"
          ],
          [
           0.75,
           "rgb(33,113,181)"
          ],
          [
           0.875,
           "rgb(8,81,156)"
          ],
          [
           1,
           "rgb(8,48,107)"
          ]
         ],
         "connectgaps": true,
         "contours": {
          "coloring": "heatmap"
         },
         "hoverinfo": "none",
         "line": {
          "smoothing": 1.3
         },
         "reversescale": false,
         "showscale": false,
         "type": "contour",
         "x": [
          "last",
          "last_transformer",
          "no"
         ],
         "xaxis": "x32",
         "y": [
          "<class 'torch.optim.adam.Adam'>",
          "<class 'torch.optim.adamw.AdamW'>",
          "<class 'torch.optim.rmsprop.RMSprop'>"
         ],
         "yaxis": "y32",
         "z": [
          [
           null,
           55.58847237743126,
           83.88420931921007
          ],
          [
           14.318338498366671,
           61.682116900456116,
           80.35995717723722
          ],
          [
           14.549176168378963,
           43.03220257076155,
           83.7824693691592
          ]
         ]
        },
        {
         "marker": {
          "color": "black",
          "line": {
           "color": "Grey",
           "width": 2
          }
         },
         "mode": "markers",
         "showlegend": false,
         "type": "scatter",
         "x": [
          "last_transformer",
          "no",
          "last_transformer",
          "no",
          "last",
          "last",
          "last_transformer",
          "last_transformer",
          "last_transformer",
          "no",
          "no",
          "no",
          "no",
          "no",
          "no",
          "no",
          "last",
          "no",
          "no",
          "no",
          "last",
          "no",
          "no",
          "no",
          "no",
          "no",
          "no",
          "no",
          "last",
          "no"
         ],
         "xaxis": "x32",
         "y": [
          "<class 'torch.optim.adam.Adam'>",
          "<class 'torch.optim.adam.Adam'>",
          "<class 'torch.optim.adamw.AdamW'>",
          "<class 'torch.optim.adam.Adam'>",
          "<class 'torch.optim.adamw.AdamW'>",
          "<class 'torch.optim.rmsprop.RMSprop'>",
          "<class 'torch.optim.adamw.AdamW'>",
          "<class 'torch.optim.rmsprop.RMSprop'>",
          "<class 'torch.optim.adam.Adam'>",
          "<class 'torch.optim.adam.Adam'>",
          "<class 'torch.optim.adam.Adam'>",
          "<class 'torch.optim.adam.Adam'>",
          "<class 'torch.optim.adam.Adam'>",
          "<class 'torch.optim.adam.Adam'>",
          "<class 'torch.optim.adam.Adam'>",
          "<class 'torch.optim.rmsprop.RMSprop'>",
          "<class 'torch.optim.rmsprop.RMSprop'>",
          "<class 'torch.optim.rmsprop.RMSprop'>",
          "<class 'torch.optim.rmsprop.RMSprop'>",
          "<class 'torch.optim.rmsprop.RMSprop'>",
          "<class 'torch.optim.rmsprop.RMSprop'>",
          "<class 'torch.optim.rmsprop.RMSprop'>",
          "<class 'torch.optim.rmsprop.RMSprop'>",
          "<class 'torch.optim.rmsprop.RMSprop'>",
          "<class 'torch.optim.rmsprop.RMSprop'>",
          "<class 'torch.optim.adamw.AdamW'>",
          "<class 'torch.optim.rmsprop.RMSprop'>",
          "<class 'torch.optim.rmsprop.RMSprop'>",
          "<class 'torch.optim.rmsprop.RMSprop'>",
          "<class 'torch.optim.adamw.AdamW'>"
         ],
         "yaxis": "y32"
        },
        {
         "colorbar": {
          "title": {
           "text": "Objective Value"
          }
         },
         "colorscale": [
          [
           0,
           "rgb(247,251,255)"
          ],
          [
           0.125,
           "rgb(222,235,247)"
          ],
          [
           0.25,
           "rgb(198,219,239)"
          ],
          [
           0.375,
           "rgb(158,202,225)"
          ],
          [
           0.5,
           "rgb(107,174,214)"
          ],
          [
           0.625,
           "rgb(66,146,198)"
          ],
          [
           0.75,
           "rgb(33,113,181)"
          ],
          [
           0.875,
           "rgb(8,81,156)"
          ],
          [
           1,
           "rgb(8,48,107)"
          ]
         ],
         "connectgaps": true,
         "contours": {
          "coloring": "heatmap"
         },
         "hoverinfo": "none",
         "line": {
          "smoothing": 1.3
         },
         "reversescale": false,
         "showscale": false,
         "type": "contour",
         "x": [
          0.000018488170985753432,
          0.000020654924560158524,
          0.00002092704160886563,
          0.000025297642424104282,
          0.000026100177011954557,
          0.00003022787198428732,
          0.00003060557365103987,
          0.00003111460099918406,
          0.000032313604354018504,
          0.00003390520548835446,
          0.000035762449031571455,
          0.000036610513799480674,
          0.00003824553215856641,
          0.0000402479490896825,
          0.00004182517214316379,
          0.000042615123132838545,
          0.00004430681457478043,
          0.00004531177732303999,
          0.000047438042369214124,
          0.000047865338862926255,
          0.00004932417576334765,
          0.000053690407763271996,
          0.000057843018989413654,
          0.00006023348339047916,
          0.00006824880148118475,
          0.00008076210654763638,
          0.00009044157798420218,
          0.00012842234881388384,
          0.0001694434418498063,
          0.00018375857459683348,
          0.00018950335137876508,
          0.00021171252849412644
         ],
         "xaxis": "x3",
         "y": [
          13.6,
          16,
          32,
          64,
          66.4
         ],
         "yaxis": "y3",
         "z": [
          [
           null,
           null,
           null,
           null,
           null,
           null,
           null,
           null,
           null,
           null,
           null,
           null,
           null,
           null,
           null,
           null,
           null,
           null,
           null,
           null,
           null,
           null,
           null,
           null,
           null,
           null,
           null,
           null,
           null,
           null,
           null,
           null
          ],
          [
           null,
           null,
           null,
           49.939116097418534,
           null,
           null,
           null,
           null,
           null,
           13.928078715914904,
           null,
           null,
           null,
           null,
           null,
           14.549176168378963,
           null,
           null,
           null,
           null,
           null,
           null,
           null,
           null,
           74.03517632974786,
           null,
           null,
           null,
           null,
           61.682116900456116,
           null,
           null
          ],
          [
           null,
           null,
           14.420737178739808,
           null,
           81.05422586911368,
           81.9757896637062,
           82.1743107884916,
           79.33411661175329,
           83.88420931921007,
           null,
           78.77695392778395,
           80.35995717723722,
           81.15169564200622,
           83.08781314009065,
           74.79864097255404,
           null,
           81.1718085188009,
           83.7824693691592,
           78.62368059289494,
           79.6605459154695,
           78.09559779799518,
           14.423391004704573,
           73.8214946051558,
           78.8879999082205,
           null,
           null,
           14.318338498366671,
           null,
           null,
           null,
           null,
           null
          ],
          [
           null,
           43.03220257076155,
           null,
           null,
           null,
           null,
           null,
           null,
           null,
           null,
           null,
           null,
           null,
           null,
           null,
           null,
           null,
           null,
           null,
           null,
           null,
           null,
           null,
           null,
           null,
           75.80622266524063,
           null,
           55.58847237743126,
           66.92825502516989,
           null,
           50.584082137872706,
           null
          ],
          [
           null,
           null,
           null,
           null,
           null,
           null,
           null,
           null,
           null,
           null,
           null,
           null,
           null,
           null,
           null,
           null,
           null,
           null,
           null,
           null,
           null,
           null,
           null,
           null,
           null,
           null,
           null,
           null,
           null,
           null,
           null,
           null
          ]
         ]
        },
        {
         "marker": {
          "color": "black",
          "line": {
           "color": "Grey",
           "width": 2
          }
         },
         "mode": "markers",
         "showlegend": false,
         "type": "scatter",
         "x": [
          0.00018950335137876508,
          0.00008076210654763638,
          0.000025297642424104282,
          0.0001694434418498063,
          0.00009044157798420218,
          0.00003390520548835446,
          0.00018375857459683348,
          0.000020654924560158524,
          0.00012842234881388384,
          0.00003111460099918406,
          0.00004182517214316379,
          0.00006023348339047916,
          0.000047438042369214124,
          0.000057843018989413654,
          0.000032313604354018504,
          0.00003022787198428732,
          0.00002092704160886563,
          0.00003060557365103987,
          0.0000402479490896825,
          0.00004531177732303999,
          0.000042615123132838545,
          0.00003824553215856641,
          0.00004430681457478043,
          0.000047865338862926255,
          0.000026100177011954557,
          0.000036610513799480674,
          0.00004932417576334765,
          0.000035762449031571455,
          0.000053690407763271996,
          0.00006824880148118475
         ],
         "xaxis": "x3",
         "y": [
          64,
          64,
          16,
          64,
          32,
          16,
          16,
          64,
          64,
          32,
          32,
          32,
          32,
          32,
          32,
          32,
          32,
          32,
          32,
          32,
          16,
          32,
          32,
          32,
          32,
          32,
          32,
          32,
          32,
          16
         ],
         "yaxis": "y3"
        },
        {
         "colorbar": {
          "title": {
           "text": "Objective Value"
          }
         },
         "colorscale": [
          [
           0,
           "rgb(247,251,255)"
          ],
          [
           0.125,
           "rgb(222,235,247)"
          ],
          [
           0.25,
           "rgb(198,219,239)"
          ],
          [
           0.375,
           "rgb(158,202,225)"
          ],
          [
           0.5,
           "rgb(107,174,214)"
          ],
          [
           0.625,
           "rgb(66,146,198)"
          ],
          [
           0.75,
           "rgb(33,113,181)"
          ],
          [
           0.875,
           "rgb(8,81,156)"
          ],
          [
           1,
           "rgb(8,48,107)"
          ]
         ],
         "connectgaps": true,
         "contours": {
          "coloring": "heatmap"
         },
         "hoverinfo": "none",
         "line": {
          "smoothing": 1.3
         },
         "reversescale": false,
         "showscale": false,
         "type": "contour",
         "x": [
          0.000018488170985753432,
          0.000020654924560158524,
          0.00002092704160886563,
          0.000025297642424104282,
          0.000026100177011954557,
          0.00003022787198428732,
          0.00003060557365103987,
          0.00003111460099918406,
          0.000032313604354018504,
          0.00003390520548835446,
          0.000035762449031571455,
          0.000036610513799480674,
          0.00003824553215856641,
          0.0000402479490896825,
          0.00004182517214316379,
          0.000042615123132838545,
          0.00004430681457478043,
          0.00004531177732303999,
          0.000047438042369214124,
          0.000047865338862926255,
          0.00004932417576334765,
          0.000053690407763271996,
          0.000057843018989413654,
          0.00006023348339047916,
          0.00006824880148118475,
          0.00008076210654763638,
          0.00009044157798420218,
          0.00012842234881388384,
          0.0001694434418498063,
          0.00018375857459683348,
          0.00018950335137876508,
          0.00021171252849412644
         ],
         "xaxis": "x9",
         "y": [
          "last",
          "last_transformer",
          "no"
         ],
         "yaxis": "y9",
         "z": [
          [
           null,
           null,
           14.420737178739808,
           null,
           null,
           null,
           null,
           null,
           null,
           13.928078715914904,
           null,
           null,
           null,
           null,
           null,
           14.549176168378963,
           null,
           null,
           null,
           null,
           null,
           14.423391004704573,
           null,
           null,
           null,
           null,
           14.318338498366671,
           null,
           null,
           null,
           null,
           null
          ],
          [
           null,
           43.03220257076155,
           null,
           49.939116097418534,
           null,
           null,
           null,
           null,
           null,
           null,
           null,
           null,
           null,
           null,
           null,
           null,
           null,
           null,
           null,
           null,
           null,
           null,
           null,
           null,
           null,
           null,
           null,
           55.58847237743126,
           null,
           61.682116900456116,
           50.584082137872706,
           null
          ],
          [
           null,
           null,
           null,
           null,
           81.05422586911368,
           81.9757896637062,
           82.1743107884916,
           79.33411661175329,
           83.88420931921007,
           null,
           78.77695392778395,
           80.35995717723722,
           81.15169564200622,
           83.08781314009065,
           74.79864097255404,
           null,
           81.1718085188009,
           83.7824693691592,
           78.62368059289494,
           79.6605459154695,
           78.09559779799518,
           null,
           73.8214946051558,
           78.8879999082205,
           74.03517632974786,
           75.80622266524063,
           null,
           null,
           66.92825502516989,
           null,
           null,
           null
          ]
         ]
        },
        {
         "marker": {
          "color": "black",
          "line": {
           "color": "Grey",
           "width": 2
          }
         },
         "mode": "markers",
         "showlegend": false,
         "type": "scatter",
         "x": [
          0.00018950335137876508,
          0.00008076210654763638,
          0.000025297642424104282,
          0.0001694434418498063,
          0.00009044157798420218,
          0.00003390520548835446,
          0.00018375857459683348,
          0.000020654924560158524,
          0.00012842234881388384,
          0.00003111460099918406,
          0.00004182517214316379,
          0.00006023348339047916,
          0.000047438042369214124,
          0.000057843018989413654,
          0.000032313604354018504,
          0.00003022787198428732,
          0.00002092704160886563,
          0.00003060557365103987,
          0.0000402479490896825,
          0.00004531177732303999,
          0.000042615123132838545,
          0.00003824553215856641,
          0.00004430681457478043,
          0.000047865338862926255,
          0.000026100177011954557,
          0.000036610513799480674,
          0.00004932417576334765,
          0.000035762449031571455,
          0.000053690407763271996,
          0.00006824880148118475
         ],
         "xaxis": "x9",
         "y": [
          "last_transformer",
          "no",
          "last_transformer",
          "no",
          "last",
          "last",
          "last_transformer",
          "last_transformer",
          "last_transformer",
          "no",
          "no",
          "no",
          "no",
          "no",
          "no",
          "no",
          "last",
          "no",
          "no",
          "no",
          "last",
          "no",
          "no",
          "no",
          "no",
          "no",
          "no",
          "no",
          "last",
          "no"
         ],
         "yaxis": "y9"
        },
        {
         "type": "scatter",
         "xaxis": "x15",
         "yaxis": "y15"
        },
        {
         "colorbar": {
          "title": {
           "text": "Objective Value"
          }
         },
         "colorscale": [
          [
           0,
           "rgb(247,251,255)"
          ],
          [
           0.125,
           "rgb(222,235,247)"
          ],
          [
           0.25,
           "rgb(198,219,239)"
          ],
          [
           0.375,
           "rgb(158,202,225)"
          ],
          [
           0.5,
           "rgb(107,174,214)"
          ],
          [
           0.625,
           "rgb(66,146,198)"
          ],
          [
           0.75,
           "rgb(33,113,181)"
          ],
          [
           0.875,
           "rgb(8,81,156)"
          ],
          [
           1,
           "rgb(8,48,107)"
          ]
         ],
         "connectgaps": true,
         "contours": {
          "coloring": "heatmap"
         },
         "hoverinfo": "none",
         "line": {
          "smoothing": 1.3
         },
         "reversescale": false,
         "showscale": false,
         "type": "contour",
         "x": [
          0.000018488170985753432,
          0.000020654924560158524,
          0.00002092704160886563,
          0.000025297642424104282,
          0.000026100177011954557,
          0.00003022787198428732,
          0.00003060557365103987,
          0.00003111460099918406,
          0.000032313604354018504,
          0.00003390520548835446,
          0.000035762449031571455,
          0.000036610513799480674,
          0.00003824553215856641,
          0.0000402479490896825,
          0.00004182517214316379,
          0.000042615123132838545,
          0.00004430681457478043,
          0.00004531177732303999,
          0.000047438042369214124,
          0.000047865338862926255,
          0.00004932417576334765,
          0.000053690407763271996,
          0.000057843018989413654,
          0.00006023348339047916,
          0.00006824880148118475,
          0.00008076210654763638,
          0.00009044157798420218,
          0.00012842234881388384,
          0.0001694434418498063,
          0.00018375857459683348,
          0.00018950335137876508,
          0.00021171252849412644
         ],
         "xaxis": "x21",
         "y": [
          "cosineannealing",
          "lambda",
          "multiplicative",
          "no",
          "step"
         ],
         "yaxis": "y21",
         "z": [
          [
           null,
           null,
           null,
           49.939116097418534,
           null,
           null,
           null,
           null,
           null,
           null,
           null,
           null,
           null,
           null,
           null,
           null,
           null,
           null,
           null,
           null,
           null,
           null,
           null,
           null,
           74.03517632974786,
           null,
           null,
           null,
           66.92825502516989,
           null,
           null,
           null
          ],
          [
           null,
           null,
           14.420737178739808,
           null,
           81.05422586911368,
           81.9757896637062,
           82.1743107884916,
           null,
           83.88420931921007,
           13.928078715914904,
           78.77695392778395,
           80.35995717723722,
           81.15169564200622,
           83.08781314009065,
           null,
           null,
           81.1718085188009,
           83.7824693691592,
           null,
           79.6605459154695,
           78.09559779799518,
           null,
           null,
           null,
           null,
           null,
           null,
           null,
           null,
           null,
           null,
           null
          ],
          [
           null,
           null,
           null,
           null,
           null,
           null,
           null,
           79.33411661175329,
           null,
           null,
           null,
           null,
           null,
           null,
           74.79864097255404,
           null,
           null,
           null,
           78.62368059289494,
           null,
           null,
           null,
           73.8214946051558,
           78.8879999082205,
           null,
           75.80622266524063,
           null,
           55.58847237743126,
           null,
           null,
           null,
           null
          ],
          [
           null,
           null,
           null,
           null,
           null,
           null,
           null,
           null,
           null,
           null,
           null,
           null,
           null,
           null,
           null,
           14.549176168378963,
           null,
           null,
           null,
           null,
           null,
           14.423391004704573,
           null,
           null,
           null,
           null,
           null,
           null,
           null,
           null,
           50.584082137872706,
           null
          ],
          [
           null,
           43.03220257076155,
           null,
           null,
           null,
           null,
           null,
           null,
           null,
           null,
           null,
           null,
           null,
           null,
           null,
           null,
           null,
           null,
           null,
           null,
           null,
           null,
           null,
           null,
           null,
           null,
           14.318338498366671,
           null,
           null,
           61.682116900456116,
           null,
           null
          ]
         ]
        },
        {
         "marker": {
          "color": "black",
          "line": {
           "color": "Grey",
           "width": 2
          }
         },
         "mode": "markers",
         "showlegend": false,
         "type": "scatter",
         "x": [
          0.00018950335137876508,
          0.00008076210654763638,
          0.000025297642424104282,
          0.0001694434418498063,
          0.00009044157798420218,
          0.00003390520548835446,
          0.00018375857459683348,
          0.000020654924560158524,
          0.00012842234881388384,
          0.00003111460099918406,
          0.00004182517214316379,
          0.00006023348339047916,
          0.000047438042369214124,
          0.000057843018989413654,
          0.000032313604354018504,
          0.00003022787198428732,
          0.00002092704160886563,
          0.00003060557365103987,
          0.0000402479490896825,
          0.00004531177732303999,
          0.000042615123132838545,
          0.00003824553215856641,
          0.00004430681457478043,
          0.000047865338862926255,
          0.000026100177011954557,
          0.000036610513799480674,
          0.00004932417576334765,
          0.000035762449031571455,
          0.000053690407763271996,
          0.00006824880148118475
         ],
         "xaxis": "x21",
         "y": [
          "no",
          "multiplicative",
          "cosineannealing",
          "cosineannealing",
          "step",
          "lambda",
          "step",
          "step",
          "multiplicative",
          "multiplicative",
          "multiplicative",
          "multiplicative",
          "multiplicative",
          "multiplicative",
          "lambda",
          "lambda",
          "lambda",
          "lambda",
          "lambda",
          "lambda",
          "no",
          "lambda",
          "lambda",
          "lambda",
          "lambda",
          "lambda",
          "lambda",
          "lambda",
          "no",
          "cosineannealing"
         ],
         "yaxis": "y21"
        },
        {
         "colorbar": {
          "title": {
           "text": "Objective Value"
          }
         },
         "colorscale": [
          [
           0,
           "rgb(247,251,255)"
          ],
          [
           0.125,
           "rgb(222,235,247)"
          ],
          [
           0.25,
           "rgb(198,219,239)"
          ],
          [
           0.375,
           "rgb(158,202,225)"
          ],
          [
           0.5,
           "rgb(107,174,214)"
          ],
          [
           0.625,
           "rgb(66,146,198)"
          ],
          [
           0.75,
           "rgb(33,113,181)"
          ],
          [
           0.875,
           "rgb(8,81,156)"
          ],
          [
           1,
           "rgb(8,48,107)"
          ]
         ],
         "connectgaps": true,
         "contours": {
          "coloring": "heatmap"
         },
         "hoverinfo": "none",
         "line": {
          "smoothing": 1.3
         },
         "reversescale": false,
         "showscale": false,
         "type": "contour",
         "x": [
          0.000018488170985753432,
          0.000020654924560158524,
          0.00002092704160886563,
          0.000025297642424104282,
          0.000026100177011954557,
          0.00003022787198428732,
          0.00003060557365103987,
          0.00003111460099918406,
          0.000032313604354018504,
          0.00003390520548835446,
          0.000035762449031571455,
          0.000036610513799480674,
          0.00003824553215856641,
          0.0000402479490896825,
          0.00004182517214316379,
          0.000042615123132838545,
          0.00004430681457478043,
          0.00004531177732303999,
          0.000047438042369214124,
          0.000047865338862926255,
          0.00004932417576334765,
          0.000053690407763271996,
          0.000057843018989413654,
          0.00006023348339047916,
          0.00006824880148118475,
          0.00008076210654763638,
          0.00009044157798420218,
          0.00012842234881388384,
          0.0001694434418498063,
          0.00018375857459683348,
          0.00018950335137876508,
          0.00021171252849412644
         ],
         "xaxis": "x27",
         "y": [
          1.85,
          2,
          3,
          4,
          5,
          5.15
         ],
         "yaxis": "y27",
         "z": [
          [
           null,
           null,
           null,
           null,
           null,
           null,
           null,
           null,
           null,
           null,
           null,
           null,
           null,
           null,
           null,
           null,
           null,
           null,
           null,
           null,
           null,
           null,
           null,
           null,
           null,
           null,
           null,
           null,
           null,
           null,
           null,
           null
          ],
          [
           null,
           43.03220257076155,
           null,
           null,
           null,
           null,
           null,
           null,
           null,
           null,
           null,
           null,
           null,
           null,
           null,
           null,
           null,
           null,
           null,
           null,
           null,
           null,
           null,
           null,
           null,
           75.80622266524063,
           14.318338498366671,
           55.58847237743126,
           null,
           61.682116900456116,
           null,
           null
          ],
          [
           null,
           null,
           null,
           null,
           81.05422586911368,
           null,
           null,
           null,
           null,
           null,
           null,
           null,
           81.15169564200622,
           83.08781314009065,
           null,
           14.549176168378963,
           81.1718085188009,
           83.7824693691592,
           78.62368059289494,
           79.6605459154695,
           78.09559779799518,
           null,
           73.8214946051558,
           78.8879999082205,
           null,
           null,
           null,
           null,
           null,
           null,
           null,
           null
          ],
          [
           null,
           null,
           14.420737178739808,
           null,
           null,
           81.9757896637062,
           82.1743107884916,
           79.33411661175329,
           83.88420931921007,
           13.928078715914904,
           78.77695392778395,
           80.35995717723722,
           null,
           null,
           74.79864097255404,
           null,
           null,
           null,
           null,
           null,
           null,
           null,
           null,
           null,
           null,
           null,
           null,
           null,
           null,
           null,
           null,
           null
          ],
          [
           null,
           null,
           null,
           49.939116097418534,
           null,
           null,
           null,
           null,
           null,
           null,
           null,
           null,
           null,
           null,
           null,
           null,
           null,
           null,
           null,
           null,
           null,
           14.423391004704573,
           null,
           null,
           74.03517632974786,
           null,
           null,
           null,
           66.92825502516989,
           null,
           50.584082137872706,
           null
          ],
          [
           null,
           null,
           null,
           null,
           null,
           null,
           null,
           null,
           null,
           null,
           null,
           null,
           null,
           null,
           null,
           null,
           null,
           null,
           null,
           null,
           null,
           null,
           null,
           null,
           null,
           null,
           null,
           null,
           null,
           null,
           null,
           null
          ]
         ]
        },
        {
         "marker": {
          "color": "black",
          "line": {
           "color": "Grey",
           "width": 2
          }
         },
         "mode": "markers",
         "showlegend": false,
         "type": "scatter",
         "x": [
          0.00018950335137876508,
          0.00008076210654763638,
          0.000025297642424104282,
          0.0001694434418498063,
          0.00009044157798420218,
          0.00003390520548835446,
          0.00018375857459683348,
          0.000020654924560158524,
          0.00012842234881388384,
          0.00003111460099918406,
          0.00004182517214316379,
          0.00006023348339047916,
          0.000047438042369214124,
          0.000057843018989413654,
          0.000032313604354018504,
          0.00003022787198428732,
          0.00002092704160886563,
          0.00003060557365103987,
          0.0000402479490896825,
          0.00004531177732303999,
          0.000042615123132838545,
          0.00003824553215856641,
          0.00004430681457478043,
          0.000047865338862926255,
          0.000026100177011954557,
          0.000036610513799480674,
          0.00004932417576334765,
          0.000035762449031571455,
          0.000053690407763271996,
          0.00006824880148118475
         ],
         "xaxis": "x27",
         "y": [
          5,
          2,
          5,
          5,
          2,
          4,
          2,
          2,
          2,
          4,
          4,
          3,
          3,
          3,
          4,
          4,
          4,
          4,
          3,
          3,
          3,
          3,
          3,
          3,
          3,
          4,
          3,
          4,
          5,
          5
         ],
         "yaxis": "y27"
        },
        {
         "colorbar": {
          "title": {
           "text": "Objective Value"
          }
         },
         "colorscale": [
          [
           0,
           "rgb(247,251,255)"
          ],
          [
           0.125,
           "rgb(222,235,247)"
          ],
          [
           0.25,
           "rgb(198,219,239)"
          ],
          [
           0.375,
           "rgb(158,202,225)"
          ],
          [
           0.5,
           "rgb(107,174,214)"
          ],
          [
           0.625,
           "rgb(66,146,198)"
          ],
          [
           0.75,
           "rgb(33,113,181)"
          ],
          [
           0.875,
           "rgb(8,81,156)"
          ],
          [
           1,
           "rgb(8,48,107)"
          ]
         ],
         "connectgaps": true,
         "contours": {
          "coloring": "heatmap"
         },
         "hoverinfo": "none",
         "line": {
          "smoothing": 1.3
         },
         "reversescale": false,
         "showscale": false,
         "type": "contour",
         "x": [
          0.000018488170985753432,
          0.000020654924560158524,
          0.00002092704160886563,
          0.000025297642424104282,
          0.000026100177011954557,
          0.00003022787198428732,
          0.00003060557365103987,
          0.00003111460099918406,
          0.000032313604354018504,
          0.00003390520548835446,
          0.000035762449031571455,
          0.000036610513799480674,
          0.00003824553215856641,
          0.0000402479490896825,
          0.00004182517214316379,
          0.000042615123132838545,
          0.00004430681457478043,
          0.00004531177732303999,
          0.000047438042369214124,
          0.000047865338862926255,
          0.00004932417576334765,
          0.000053690407763271996,
          0.000057843018989413654,
          0.00006023348339047916,
          0.00006824880148118475,
          0.00008076210654763638,
          0.00009044157798420218,
          0.00012842234881388384,
          0.0001694434418498063,
          0.00018375857459683348,
          0.00018950335137876508,
          0.00021171252849412644
         ],
         "xaxis": "x33",
         "y": [
          "<class 'torch.optim.adam.Adam'>",
          "<class 'torch.optim.adamw.AdamW'>",
          "<class 'torch.optim.rmsprop.RMSprop'>"
         ],
         "yaxis": "y33",
         "z": [
          [
           null,
           null,
           null,
           null,
           null,
           null,
           null,
           79.33411661175329,
           83.88420931921007,
           null,
           null,
           null,
           null,
           null,
           74.79864097255404,
           null,
           null,
           null,
           78.62368059289494,
           null,
           null,
           null,
           73.8214946051558,
           78.8879999082205,
           null,
           75.80622266524063,
           null,
           55.58847237743126,
           66.92825502516989,
           null,
           50.584082137872706,
           null
          ],
          [
           null,
           null,
           null,
           49.939116097418534,
           null,
           null,
           null,
           null,
           null,
           null,
           null,
           80.35995717723722,
           null,
           null,
           null,
           null,
           null,
           null,
           null,
           null,
           null,
           null,
           null,
           null,
           74.03517632974786,
           null,
           14.318338498366671,
           null,
           null,
           61.682116900456116,
           null,
           null
          ],
          [
           null,
           43.03220257076155,
           14.420737178739808,
           null,
           81.05422586911368,
           81.9757896637062,
           82.1743107884916,
           null,
           null,
           13.928078715914904,
           78.77695392778395,
           null,
           81.15169564200622,
           83.08781314009065,
           null,
           14.549176168378963,
           81.1718085188009,
           83.7824693691592,
           null,
           79.6605459154695,
           78.09559779799518,
           14.423391004704573,
           null,
           null,
           null,
           null,
           null,
           null,
           null,
           null,
           null,
           null
          ]
         ]
        },
        {
         "marker": {
          "color": "black",
          "line": {
           "color": "Grey",
           "width": 2
          }
         },
         "mode": "markers",
         "showlegend": false,
         "type": "scatter",
         "x": [
          0.00018950335137876508,
          0.00008076210654763638,
          0.000025297642424104282,
          0.0001694434418498063,
          0.00009044157798420218,
          0.00003390520548835446,
          0.00018375857459683348,
          0.000020654924560158524,
          0.00012842234881388384,
          0.00003111460099918406,
          0.00004182517214316379,
          0.00006023348339047916,
          0.000047438042369214124,
          0.000057843018989413654,
          0.000032313604354018504,
          0.00003022787198428732,
          0.00002092704160886563,
          0.00003060557365103987,
          0.0000402479490896825,
          0.00004531177732303999,
          0.000042615123132838545,
          0.00003824553215856641,
          0.00004430681457478043,
          0.000047865338862926255,
          0.000026100177011954557,
          0.000036610513799480674,
          0.00004932417576334765,
          0.000035762449031571455,
          0.000053690407763271996,
          0.00006824880148118475
         ],
         "xaxis": "x33",
         "y": [
          "<class 'torch.optim.adam.Adam'>",
          "<class 'torch.optim.adam.Adam'>",
          "<class 'torch.optim.adamw.AdamW'>",
          "<class 'torch.optim.adam.Adam'>",
          "<class 'torch.optim.adamw.AdamW'>",
          "<class 'torch.optim.rmsprop.RMSprop'>",
          "<class 'torch.optim.adamw.AdamW'>",
          "<class 'torch.optim.rmsprop.RMSprop'>",
          "<class 'torch.optim.adam.Adam'>",
          "<class 'torch.optim.adam.Adam'>",
          "<class 'torch.optim.adam.Adam'>",
          "<class 'torch.optim.adam.Adam'>",
          "<class 'torch.optim.adam.Adam'>",
          "<class 'torch.optim.adam.Adam'>",
          "<class 'torch.optim.adam.Adam'>",
          "<class 'torch.optim.rmsprop.RMSprop'>",
          "<class 'torch.optim.rmsprop.RMSprop'>",
          "<class 'torch.optim.rmsprop.RMSprop'>",
          "<class 'torch.optim.rmsprop.RMSprop'>",
          "<class 'torch.optim.rmsprop.RMSprop'>",
          "<class 'torch.optim.rmsprop.RMSprop'>",
          "<class 'torch.optim.rmsprop.RMSprop'>",
          "<class 'torch.optim.rmsprop.RMSprop'>",
          "<class 'torch.optim.rmsprop.RMSprop'>",
          "<class 'torch.optim.rmsprop.RMSprop'>",
          "<class 'torch.optim.adamw.AdamW'>",
          "<class 'torch.optim.rmsprop.RMSprop'>",
          "<class 'torch.optim.rmsprop.RMSprop'>",
          "<class 'torch.optim.rmsprop.RMSprop'>",
          "<class 'torch.optim.adamw.AdamW'>"
         ],
         "yaxis": "y33"
        },
        {
         "colorbar": {
          "title": {
           "text": "Objective Value"
          }
         },
         "colorscale": [
          [
           0,
           "rgb(247,251,255)"
          ],
          [
           0.125,
           "rgb(222,235,247)"
          ],
          [
           0.25,
           "rgb(198,219,239)"
          ],
          [
           0.375,
           "rgb(158,202,225)"
          ],
          [
           0.5,
           "rgb(107,174,214)"
          ],
          [
           0.625,
           "rgb(66,146,198)"
          ],
          [
           0.75,
           "rgb(33,113,181)"
          ],
          [
           0.875,
           "rgb(8,81,156)"
          ],
          [
           1,
           "rgb(8,48,107)"
          ]
         ],
         "connectgaps": true,
         "contours": {
          "coloring": "heatmap"
         },
         "hoverinfo": "none",
         "line": {
          "smoothing": 1.3
         },
         "reversescale": false,
         "showscale": false,
         "type": "contour",
         "x": [
          "cosineannealing",
          "lambda",
          "multiplicative",
          "no",
          "step"
         ],
         "xaxis": "x4",
         "y": [
          13.6,
          16,
          32,
          64,
          66.4
         ],
         "yaxis": "y4",
         "z": [
          [
           null,
           null,
           null,
           null,
           null
          ],
          [
           74.03517632974786,
           13.928078715914904,
           null,
           14.549176168378963,
           61.682116900456116
          ],
          [
           null,
           83.88420931921007,
           79.33411661175329,
           14.423391004704573,
           14.318338498366671
          ],
          [
           66.92825502516989,
           null,
           75.80622266524063,
           50.584082137872706,
           43.03220257076155
          ],
          [
           null,
           null,
           null,
           null,
           null
          ]
         ]
        },
        {
         "marker": {
          "color": "black",
          "line": {
           "color": "Grey",
           "width": 2
          }
         },
         "mode": "markers",
         "showlegend": false,
         "type": "scatter",
         "x": [
          "no",
          "multiplicative",
          "cosineannealing",
          "cosineannealing",
          "step",
          "lambda",
          "step",
          "step",
          "multiplicative",
          "multiplicative",
          "multiplicative",
          "multiplicative",
          "multiplicative",
          "multiplicative",
          "lambda",
          "lambda",
          "lambda",
          "lambda",
          "lambda",
          "lambda",
          "no",
          "lambda",
          "lambda",
          "lambda",
          "lambda",
          "lambda",
          "lambda",
          "lambda",
          "no",
          "cosineannealing"
         ],
         "xaxis": "x4",
         "y": [
          64,
          64,
          16,
          64,
          32,
          16,
          16,
          64,
          64,
          32,
          32,
          32,
          32,
          32,
          32,
          32,
          32,
          32,
          32,
          32,
          16,
          32,
          32,
          32,
          32,
          32,
          32,
          32,
          32,
          16
         ],
         "yaxis": "y4"
        },
        {
         "colorbar": {
          "title": {
           "text": "Objective Value"
          }
         },
         "colorscale": [
          [
           0,
           "rgb(247,251,255)"
          ],
          [
           0.125,
           "rgb(222,235,247)"
          ],
          [
           0.25,
           "rgb(198,219,239)"
          ],
          [
           0.375,
           "rgb(158,202,225)"
          ],
          [
           0.5,
           "rgb(107,174,214)"
          ],
          [
           0.625,
           "rgb(66,146,198)"
          ],
          [
           0.75,
           "rgb(33,113,181)"
          ],
          [
           0.875,
           "rgb(8,81,156)"
          ],
          [
           1,
           "rgb(8,48,107)"
          ]
         ],
         "connectgaps": true,
         "contours": {
          "coloring": "heatmap"
         },
         "hoverinfo": "none",
         "line": {
          "smoothing": 1.3
         },
         "reversescale": false,
         "showscale": false,
         "type": "contour",
         "x": [
          "cosineannealing",
          "lambda",
          "multiplicative",
          "no",
          "step"
         ],
         "xaxis": "x10",
         "y": [
          "last",
          "last_transformer",
          "no"
         ],
         "yaxis": "y10",
         "z": [
          [
           null,
           14.420737178739808,
           null,
           14.549176168378963,
           14.318338498366671
          ],
          [
           49.939116097418534,
           null,
           55.58847237743126,
           50.584082137872706,
           61.682116900456116
          ],
          [
           74.03517632974786,
           83.88420931921007,
           79.33411661175329,
           null,
           null
          ]
         ]
        },
        {
         "marker": {
          "color": "black",
          "line": {
           "color": "Grey",
           "width": 2
          }
         },
         "mode": "markers",
         "showlegend": false,
         "type": "scatter",
         "x": [
          "no",
          "multiplicative",
          "cosineannealing",
          "cosineannealing",
          "step",
          "lambda",
          "step",
          "step",
          "multiplicative",
          "multiplicative",
          "multiplicative",
          "multiplicative",
          "multiplicative",
          "multiplicative",
          "lambda",
          "lambda",
          "lambda",
          "lambda",
          "lambda",
          "lambda",
          "no",
          "lambda",
          "lambda",
          "lambda",
          "lambda",
          "lambda",
          "lambda",
          "lambda",
          "no",
          "cosineannealing"
         ],
         "xaxis": "x10",
         "y": [
          "last_transformer",
          "no",
          "last_transformer",
          "no",
          "last",
          "last",
          "last_transformer",
          "last_transformer",
          "last_transformer",
          "no",
          "no",
          "no",
          "no",
          "no",
          "no",
          "no",
          "last",
          "no",
          "no",
          "no",
          "last",
          "no",
          "no",
          "no",
          "no",
          "no",
          "no",
          "no",
          "last",
          "no"
         ],
         "yaxis": "y10"
        },
        {
         "colorbar": {
          "title": {
           "text": "Objective Value"
          }
         },
         "colorscale": [
          [
           0,
           "rgb(247,251,255)"
          ],
          [
           0.125,
           "rgb(222,235,247)"
          ],
          [
           0.25,
           "rgb(198,219,239)"
          ],
          [
           0.375,
           "rgb(158,202,225)"
          ],
          [
           0.5,
           "rgb(107,174,214)"
          ],
          [
           0.625,
           "rgb(66,146,198)"
          ],
          [
           0.75,
           "rgb(33,113,181)"
          ],
          [
           0.875,
           "rgb(8,81,156)"
          ],
          [
           1,
           "rgb(8,48,107)"
          ]
         ],
         "connectgaps": true,
         "contours": {
          "coloring": "heatmap"
         },
         "hoverinfo": "none",
         "line": {
          "smoothing": 1.3
         },
         "reversescale": false,
         "showscale": false,
         "type": "contour",
         "x": [
          "cosineannealing",
          "lambda",
          "multiplicative",
          "no",
          "step"
         ],
         "xaxis": "x16",
         "y": [
          0.000018488170985753432,
          0.000020654924560158524,
          0.00002092704160886563,
          0.000025297642424104282,
          0.000026100177011954557,
          0.00003022787198428732,
          0.00003060557365103987,
          0.00003111460099918406,
          0.000032313604354018504,
          0.00003390520548835446,
          0.000035762449031571455,
          0.000036610513799480674,
          0.00003824553215856641,
          0.0000402479490896825,
          0.00004182517214316379,
          0.000042615123132838545,
          0.00004430681457478043,
          0.00004531177732303999,
          0.000047438042369214124,
          0.000047865338862926255,
          0.00004932417576334765,
          0.000053690407763271996,
          0.000057843018989413654,
          0.00006023348339047916,
          0.00006824880148118475,
          0.00008076210654763638,
          0.00009044157798420218,
          0.00012842234881388384,
          0.0001694434418498063,
          0.00018375857459683348,
          0.00018950335137876508,
          0.00021171252849412644
         ],
         "yaxis": "y16",
         "z": [
          [
           null,
           null,
           null,
           null,
           null
          ],
          [
           null,
           null,
           null,
           null,
           43.03220257076155
          ],
          [
           null,
           14.420737178739808,
           null,
           null,
           null
          ],
          [
           49.939116097418534,
           null,
           null,
           null,
           null
          ],
          [
           null,
           81.05422586911368,
           null,
           null,
           null
          ],
          [
           null,
           81.9757896637062,
           null,
           null,
           null
          ],
          [
           null,
           82.1743107884916,
           null,
           null,
           null
          ],
          [
           null,
           null,
           79.33411661175329,
           null,
           null
          ],
          [
           null,
           83.88420931921007,
           null,
           null,
           null
          ],
          [
           null,
           13.928078715914904,
           null,
           null,
           null
          ],
          [
           null,
           78.77695392778395,
           null,
           null,
           null
          ],
          [
           null,
           80.35995717723722,
           null,
           null,
           null
          ],
          [
           null,
           81.15169564200622,
           null,
           null,
           null
          ],
          [
           null,
           83.08781314009065,
           null,
           null,
           null
          ],
          [
           null,
           null,
           74.79864097255404,
           null,
           null
          ],
          [
           null,
           null,
           null,
           14.549176168378963,
           null
          ],
          [
           null,
           81.1718085188009,
           null,
           null,
           null
          ],
          [
           null,
           83.7824693691592,
           null,
           null,
           null
          ],
          [
           null,
           null,
           78.62368059289494,
           null,
           null
          ],
          [
           null,
           79.6605459154695,
           null,
           null,
           null
          ],
          [
           null,
           78.09559779799518,
           null,
           null,
           null
          ],
          [
           null,
           null,
           null,
           14.423391004704573,
           null
          ],
          [
           null,
           null,
           73.8214946051558,
           null,
           null
          ],
          [
           null,
           null,
           78.8879999082205,
           null,
           null
          ],
          [
           74.03517632974786,
           null,
           null,
           null,
           null
          ],
          [
           null,
           null,
           75.80622266524063,
           null,
           null
          ],
          [
           null,
           null,
           null,
           null,
           14.318338498366671
          ],
          [
           null,
           null,
           55.58847237743126,
           null,
           null
          ],
          [
           66.92825502516989,
           null,
           null,
           null,
           null
          ],
          [
           null,
           null,
           null,
           null,
           61.682116900456116
          ],
          [
           null,
           null,
           null,
           50.584082137872706,
           null
          ],
          [
           null,
           null,
           null,
           null,
           null
          ]
         ]
        },
        {
         "marker": {
          "color": "black",
          "line": {
           "color": "Grey",
           "width": 2
          }
         },
         "mode": "markers",
         "showlegend": false,
         "type": "scatter",
         "x": [
          "no",
          "multiplicative",
          "cosineannealing",
          "cosineannealing",
          "step",
          "lambda",
          "step",
          "step",
          "multiplicative",
          "multiplicative",
          "multiplicative",
          "multiplicative",
          "multiplicative",
          "multiplicative",
          "lambda",
          "lambda",
          "lambda",
          "lambda",
          "lambda",
          "lambda",
          "no",
          "lambda",
          "lambda",
          "lambda",
          "lambda",
          "lambda",
          "lambda",
          "lambda",
          "no",
          "cosineannealing"
         ],
         "xaxis": "x16",
         "y": [
          0.00018950335137876508,
          0.00008076210654763638,
          0.000025297642424104282,
          0.0001694434418498063,
          0.00009044157798420218,
          0.00003390520548835446,
          0.00018375857459683348,
          0.000020654924560158524,
          0.00012842234881388384,
          0.00003111460099918406,
          0.00004182517214316379,
          0.00006023348339047916,
          0.000047438042369214124,
          0.000057843018989413654,
          0.000032313604354018504,
          0.00003022787198428732,
          0.00002092704160886563,
          0.00003060557365103987,
          0.0000402479490896825,
          0.00004531177732303999,
          0.000042615123132838545,
          0.00003824553215856641,
          0.00004430681457478043,
          0.000047865338862926255,
          0.000026100177011954557,
          0.000036610513799480674,
          0.00004932417576334765,
          0.000035762449031571455,
          0.000053690407763271996,
          0.00006824880148118475
         ],
         "yaxis": "y16"
        },
        {
         "type": "scatter",
         "xaxis": "x22",
         "yaxis": "y22"
        },
        {
         "colorbar": {
          "title": {
           "text": "Objective Value"
          }
         },
         "colorscale": [
          [
           0,
           "rgb(247,251,255)"
          ],
          [
           0.125,
           "rgb(222,235,247)"
          ],
          [
           0.25,
           "rgb(198,219,239)"
          ],
          [
           0.375,
           "rgb(158,202,225)"
          ],
          [
           0.5,
           "rgb(107,174,214)"
          ],
          [
           0.625,
           "rgb(66,146,198)"
          ],
          [
           0.75,
           "rgb(33,113,181)"
          ],
          [
           0.875,
           "rgb(8,81,156)"
          ],
          [
           1,
           "rgb(8,48,107)"
          ]
         ],
         "connectgaps": true,
         "contours": {
          "coloring": "heatmap"
         },
         "hoverinfo": "none",
         "line": {
          "smoothing": 1.3
         },
         "reversescale": false,
         "showscale": false,
         "type": "contour",
         "x": [
          "cosineannealing",
          "lambda",
          "multiplicative",
          "no",
          "step"
         ],
         "xaxis": "x28",
         "y": [
          1.85,
          2,
          3,
          4,
          5,
          5.15
         ],
         "yaxis": "y28",
         "z": [
          [
           null,
           null,
           null,
           null,
           null
          ],
          [
           null,
           null,
           75.80622266524063,
           null,
           61.682116900456116
          ],
          [
           null,
           83.7824693691592,
           78.8879999082205,
           14.549176168378963,
           null
          ],
          [
           null,
           83.88420931921007,
           79.33411661175329,
           null,
           null
          ],
          [
           74.03517632974786,
           null,
           null,
           50.584082137872706,
           null
          ],
          [
           null,
           null,
           null,
           null,
           null
          ]
         ]
        },
        {
         "marker": {
          "color": "black",
          "line": {
           "color": "Grey",
           "width": 2
          }
         },
         "mode": "markers",
         "showlegend": false,
         "type": "scatter",
         "x": [
          "no",
          "multiplicative",
          "cosineannealing",
          "cosineannealing",
          "step",
          "lambda",
          "step",
          "step",
          "multiplicative",
          "multiplicative",
          "multiplicative",
          "multiplicative",
          "multiplicative",
          "multiplicative",
          "lambda",
          "lambda",
          "lambda",
          "lambda",
          "lambda",
          "lambda",
          "no",
          "lambda",
          "lambda",
          "lambda",
          "lambda",
          "lambda",
          "lambda",
          "lambda",
          "no",
          "cosineannealing"
         ],
         "xaxis": "x28",
         "y": [
          5,
          2,
          5,
          5,
          2,
          4,
          2,
          2,
          2,
          4,
          4,
          3,
          3,
          3,
          4,
          4,
          4,
          4,
          3,
          3,
          3,
          3,
          3,
          3,
          3,
          4,
          3,
          4,
          5,
          5
         ],
         "yaxis": "y28"
        },
        {
         "colorbar": {
          "title": {
           "text": "Objective Value"
          }
         },
         "colorscale": [
          [
           0,
           "rgb(247,251,255)"
          ],
          [
           0.125,
           "rgb(222,235,247)"
          ],
          [
           0.25,
           "rgb(198,219,239)"
          ],
          [
           0.375,
           "rgb(158,202,225)"
          ],
          [
           0.5,
           "rgb(107,174,214)"
          ],
          [
           0.625,
           "rgb(66,146,198)"
          ],
          [
           0.75,
           "rgb(33,113,181)"
          ],
          [
           0.875,
           "rgb(8,81,156)"
          ],
          [
           1,
           "rgb(8,48,107)"
          ]
         ],
         "connectgaps": true,
         "contours": {
          "coloring": "heatmap"
         },
         "hoverinfo": "none",
         "line": {
          "smoothing": 1.3
         },
         "reversescale": false,
         "showscale": false,
         "type": "contour",
         "x": [
          "cosineannealing",
          "lambda",
          "multiplicative",
          "no",
          "step"
         ],
         "xaxis": "x34",
         "y": [
          "<class 'torch.optim.adam.Adam'>",
          "<class 'torch.optim.adamw.AdamW'>",
          "<class 'torch.optim.rmsprop.RMSprop'>"
         ],
         "yaxis": "y34",
         "z": [
          [
           66.92825502516989,
           83.88420931921007,
           79.33411661175329,
           50.584082137872706,
           null
          ],
          [
           74.03517632974786,
           80.35995717723722,
           null,
           null,
           61.682116900456116
          ],
          [
           null,
           83.7824693691592,
           null,
           14.549176168378963,
           43.03220257076155
          ]
         ]
        },
        {
         "marker": {
          "color": "black",
          "line": {
           "color": "Grey",
           "width": 2
          }
         },
         "mode": "markers",
         "showlegend": false,
         "type": "scatter",
         "x": [
          "no",
          "multiplicative",
          "cosineannealing",
          "cosineannealing",
          "step",
          "lambda",
          "step",
          "step",
          "multiplicative",
          "multiplicative",
          "multiplicative",
          "multiplicative",
          "multiplicative",
          "multiplicative",
          "lambda",
          "lambda",
          "lambda",
          "lambda",
          "lambda",
          "lambda",
          "no",
          "lambda",
          "lambda",
          "lambda",
          "lambda",
          "lambda",
          "lambda",
          "lambda",
          "no",
          "cosineannealing"
         ],
         "xaxis": "x34",
         "y": [
          "<class 'torch.optim.adam.Adam'>",
          "<class 'torch.optim.adam.Adam'>",
          "<class 'torch.optim.adamw.AdamW'>",
          "<class 'torch.optim.adam.Adam'>",
          "<class 'torch.optim.adamw.AdamW'>",
          "<class 'torch.optim.rmsprop.RMSprop'>",
          "<class 'torch.optim.adamw.AdamW'>",
          "<class 'torch.optim.rmsprop.RMSprop'>",
          "<class 'torch.optim.adam.Adam'>",
          "<class 'torch.optim.adam.Adam'>",
          "<class 'torch.optim.adam.Adam'>",
          "<class 'torch.optim.adam.Adam'>",
          "<class 'torch.optim.adam.Adam'>",
          "<class 'torch.optim.adam.Adam'>",
          "<class 'torch.optim.adam.Adam'>",
          "<class 'torch.optim.rmsprop.RMSprop'>",
          "<class 'torch.optim.rmsprop.RMSprop'>",
          "<class 'torch.optim.rmsprop.RMSprop'>",
          "<class 'torch.optim.rmsprop.RMSprop'>",
          "<class 'torch.optim.rmsprop.RMSprop'>",
          "<class 'torch.optim.rmsprop.RMSprop'>",
          "<class 'torch.optim.rmsprop.RMSprop'>",
          "<class 'torch.optim.rmsprop.RMSprop'>",
          "<class 'torch.optim.rmsprop.RMSprop'>",
          "<class 'torch.optim.rmsprop.RMSprop'>",
          "<class 'torch.optim.adamw.AdamW'>",
          "<class 'torch.optim.rmsprop.RMSprop'>",
          "<class 'torch.optim.rmsprop.RMSprop'>",
          "<class 'torch.optim.rmsprop.RMSprop'>",
          "<class 'torch.optim.adamw.AdamW'>"
         ],
         "yaxis": "y34"
        },
        {
         "colorbar": {
          "title": {
           "text": "Objective Value"
          }
         },
         "colorscale": [
          [
           0,
           "rgb(247,251,255)"
          ],
          [
           0.125,
           "rgb(222,235,247)"
          ],
          [
           0.25,
           "rgb(198,219,239)"
          ],
          [
           0.375,
           "rgb(158,202,225)"
          ],
          [
           0.5,
           "rgb(107,174,214)"
          ],
          [
           0.625,
           "rgb(66,146,198)"
          ],
          [
           0.75,
           "rgb(33,113,181)"
          ],
          [
           0.875,
           "rgb(8,81,156)"
          ],
          [
           1,
           "rgb(8,48,107)"
          ]
         ],
         "connectgaps": true,
         "contours": {
          "coloring": "heatmap"
         },
         "hoverinfo": "none",
         "line": {
          "smoothing": 1.3
         },
         "reversescale": false,
         "showscale": false,
         "type": "contour",
         "x": [
          1.85,
          2,
          3,
          4,
          5,
          5.15
         ],
         "xaxis": "x5",
         "y": [
          13.6,
          16,
          32,
          64,
          66.4
         ],
         "yaxis": "y5",
         "z": [
          [
           null,
           null,
           null,
           null,
           null,
           null
          ],
          [
           null,
           61.682116900456116,
           14.549176168378963,
           13.928078715914904,
           74.03517632974786,
           null
          ],
          [
           null,
           14.318338498366671,
           83.7824693691592,
           83.88420931921007,
           14.423391004704573,
           null
          ],
          [
           null,
           75.80622266524063,
           null,
           null,
           66.92825502516989,
           null
          ],
          [
           null,
           null,
           null,
           null,
           null,
           null
          ]
         ]
        },
        {
         "marker": {
          "color": "black",
          "line": {
           "color": "Grey",
           "width": 2
          }
         },
         "mode": "markers",
         "showlegend": false,
         "type": "scatter",
         "x": [
          5,
          2,
          5,
          5,
          2,
          4,
          2,
          2,
          2,
          4,
          4,
          3,
          3,
          3,
          4,
          4,
          4,
          4,
          3,
          3,
          3,
          3,
          3,
          3,
          3,
          4,
          3,
          4,
          5,
          5
         ],
         "xaxis": "x5",
         "y": [
          64,
          64,
          16,
          64,
          32,
          16,
          16,
          64,
          64,
          32,
          32,
          32,
          32,
          32,
          32,
          32,
          32,
          32,
          32,
          32,
          16,
          32,
          32,
          32,
          32,
          32,
          32,
          32,
          32,
          16
         ],
         "yaxis": "y5"
        },
        {
         "colorbar": {
          "title": {
           "text": "Objective Value"
          }
         },
         "colorscale": [
          [
           0,
           "rgb(247,251,255)"
          ],
          [
           0.125,
           "rgb(222,235,247)"
          ],
          [
           0.25,
           "rgb(198,219,239)"
          ],
          [
           0.375,
           "rgb(158,202,225)"
          ],
          [
           0.5,
           "rgb(107,174,214)"
          ],
          [
           0.625,
           "rgb(66,146,198)"
          ],
          [
           0.75,
           "rgb(33,113,181)"
          ],
          [
           0.875,
           "rgb(8,81,156)"
          ],
          [
           1,
           "rgb(8,48,107)"
          ]
         ],
         "connectgaps": true,
         "contours": {
          "coloring": "heatmap"
         },
         "hoverinfo": "none",
         "line": {
          "smoothing": 1.3
         },
         "reversescale": false,
         "showscale": false,
         "type": "contour",
         "x": [
          1.85,
          2,
          3,
          4,
          5,
          5.15
         ],
         "xaxis": "x11",
         "y": [
          "last",
          "last_transformer",
          "no"
         ],
         "yaxis": "y11",
         "z": [
          [
           null,
           14.318338498366671,
           14.549176168378963,
           14.420737178739808,
           14.423391004704573,
           null
          ],
          [
           null,
           61.682116900456116,
           null,
           null,
           50.584082137872706,
           null
          ],
          [
           null,
           75.80622266524063,
           83.7824693691592,
           83.88420931921007,
           74.03517632974786,
           null
          ]
         ]
        },
        {
         "marker": {
          "color": "black",
          "line": {
           "color": "Grey",
           "width": 2
          }
         },
         "mode": "markers",
         "showlegend": false,
         "type": "scatter",
         "x": [
          5,
          2,
          5,
          5,
          2,
          4,
          2,
          2,
          2,
          4,
          4,
          3,
          3,
          3,
          4,
          4,
          4,
          4,
          3,
          3,
          3,
          3,
          3,
          3,
          3,
          4,
          3,
          4,
          5,
          5
         ],
         "xaxis": "x11",
         "y": [
          "last_transformer",
          "no",
          "last_transformer",
          "no",
          "last",
          "last",
          "last_transformer",
          "last_transformer",
          "last_transformer",
          "no",
          "no",
          "no",
          "no",
          "no",
          "no",
          "no",
          "last",
          "no",
          "no",
          "no",
          "last",
          "no",
          "no",
          "no",
          "no",
          "no",
          "no",
          "no",
          "last",
          "no"
         ],
         "yaxis": "y11"
        },
        {
         "colorbar": {
          "title": {
           "text": "Objective Value"
          }
         },
         "colorscale": [
          [
           0,
           "rgb(247,251,255)"
          ],
          [
           0.125,
           "rgb(222,235,247)"
          ],
          [
           0.25,
           "rgb(198,219,239)"
          ],
          [
           0.375,
           "rgb(158,202,225)"
          ],
          [
           0.5,
           "rgb(107,174,214)"
          ],
          [
           0.625,
           "rgb(66,146,198)"
          ],
          [
           0.75,
           "rgb(33,113,181)"
          ],
          [
           0.875,
           "rgb(8,81,156)"
          ],
          [
           1,
           "rgb(8,48,107)"
          ]
         ],
         "connectgaps": true,
         "contours": {
          "coloring": "heatmap"
         },
         "hoverinfo": "none",
         "line": {
          "smoothing": 1.3
         },
         "reversescale": false,
         "showscale": false,
         "type": "contour",
         "x": [
          1.85,
          2,
          3,
          4,
          5,
          5.15
         ],
         "xaxis": "x17",
         "y": [
          0.000018488170985753432,
          0.000020654924560158524,
          0.00002092704160886563,
          0.000025297642424104282,
          0.000026100177011954557,
          0.00003022787198428732,
          0.00003060557365103987,
          0.00003111460099918406,
          0.000032313604354018504,
          0.00003390520548835446,
          0.000035762449031571455,
          0.000036610513799480674,
          0.00003824553215856641,
          0.0000402479490896825,
          0.00004182517214316379,
          0.000042615123132838545,
          0.00004430681457478043,
          0.00004531177732303999,
          0.000047438042369214124,
          0.000047865338862926255,
          0.00004932417576334765,
          0.000053690407763271996,
          0.000057843018989413654,
          0.00006023348339047916,
          0.00006824880148118475,
          0.00008076210654763638,
          0.00009044157798420218,
          0.00012842234881388384,
          0.0001694434418498063,
          0.00018375857459683348,
          0.00018950335137876508,
          0.00021171252849412644
         ],
         "yaxis": "y17",
         "z": [
          [
           null,
           null,
           null,
           null,
           null,
           null
          ],
          [
           null,
           43.03220257076155,
           null,
           null,
           null,
           null
          ],
          [
           null,
           null,
           null,
           14.420737178739808,
           null,
           null
          ],
          [
           null,
           null,
           null,
           null,
           49.939116097418534,
           null
          ],
          [
           null,
           null,
           81.05422586911368,
           null,
           null,
           null
          ],
          [
           null,
           null,
           null,
           81.9757896637062,
           null,
           null
          ],
          [
           null,
           null,
           null,
           82.1743107884916,
           null,
           null
          ],
          [
           null,
           null,
           null,
           79.33411661175329,
           null,
           null
          ],
          [
           null,
           null,
           null,
           83.88420931921007,
           null,
           null
          ],
          [
           null,
           null,
           null,
           13.928078715914904,
           null,
           null
          ],
          [
           null,
           null,
           null,
           78.77695392778395,
           null,
           null
          ],
          [
           null,
           null,
           null,
           80.35995717723722,
           null,
           null
          ],
          [
           null,
           null,
           81.15169564200622,
           null,
           null,
           null
          ],
          [
           null,
           null,
           83.08781314009065,
           null,
           null,
           null
          ],
          [
           null,
           null,
           null,
           74.79864097255404,
           null,
           null
          ],
          [
           null,
           null,
           14.549176168378963,
           null,
           null,
           null
          ],
          [
           null,
           null,
           81.1718085188009,
           null,
           null,
           null
          ],
          [
           null,
           null,
           83.7824693691592,
           null,
           null,
           null
          ],
          [
           null,
           null,
           78.62368059289494,
           null,
           null,
           null
          ],
          [
           null,
           null,
           79.6605459154695,
           null,
           null,
           null
          ],
          [
           null,
           null,
           78.09559779799518,
           null,
           null,
           null
          ],
          [
           null,
           null,
           null,
           null,
           14.423391004704573,
           null
          ],
          [
           null,
           null,
           73.8214946051558,
           null,
           null,
           null
          ],
          [
           null,
           null,
           78.8879999082205,
           null,
           null,
           null
          ],
          [
           null,
           null,
           null,
           null,
           74.03517632974786,
           null
          ],
          [
           null,
           75.80622266524063,
           null,
           null,
           null,
           null
          ],
          [
           null,
           14.318338498366671,
           null,
           null,
           null,
           null
          ],
          [
           null,
           55.58847237743126,
           null,
           null,
           null,
           null
          ],
          [
           null,
           null,
           null,
           null,
           66.92825502516989,
           null
          ],
          [
           null,
           61.682116900456116,
           null,
           null,
           null,
           null
          ],
          [
           null,
           null,
           null,
           null,
           50.584082137872706,
           null
          ],
          [
           null,
           null,
           null,
           null,
           null,
           null
          ]
         ]
        },
        {
         "marker": {
          "color": "black",
          "line": {
           "color": "Grey",
           "width": 2
          }
         },
         "mode": "markers",
         "showlegend": false,
         "type": "scatter",
         "x": [
          5,
          2,
          5,
          5,
          2,
          4,
          2,
          2,
          2,
          4,
          4,
          3,
          3,
          3,
          4,
          4,
          4,
          4,
          3,
          3,
          3,
          3,
          3,
          3,
          3,
          4,
          3,
          4,
          5,
          5
         ],
         "xaxis": "x17",
         "y": [
          0.00018950335137876508,
          0.00008076210654763638,
          0.000025297642424104282,
          0.0001694434418498063,
          0.00009044157798420218,
          0.00003390520548835446,
          0.00018375857459683348,
          0.000020654924560158524,
          0.00012842234881388384,
          0.00003111460099918406,
          0.00004182517214316379,
          0.00006023348339047916,
          0.000047438042369214124,
          0.000057843018989413654,
          0.000032313604354018504,
          0.00003022787198428732,
          0.00002092704160886563,
          0.00003060557365103987,
          0.0000402479490896825,
          0.00004531177732303999,
          0.000042615123132838545,
          0.00003824553215856641,
          0.00004430681457478043,
          0.000047865338862926255,
          0.000026100177011954557,
          0.000036610513799480674,
          0.00004932417576334765,
          0.000035762449031571455,
          0.000053690407763271996,
          0.00006824880148118475
         ],
         "yaxis": "y17"
        },
        {
         "colorbar": {
          "title": {
           "text": "Objective Value"
          }
         },
         "colorscale": [
          [
           0,
           "rgb(247,251,255)"
          ],
          [
           0.125,
           "rgb(222,235,247)"
          ],
          [
           0.25,
           "rgb(198,219,239)"
          ],
          [
           0.375,
           "rgb(158,202,225)"
          ],
          [
           0.5,
           "rgb(107,174,214)"
          ],
          [
           0.625,
           "rgb(66,146,198)"
          ],
          [
           0.75,
           "rgb(33,113,181)"
          ],
          [
           0.875,
           "rgb(8,81,156)"
          ],
          [
           1,
           "rgb(8,48,107)"
          ]
         ],
         "connectgaps": true,
         "contours": {
          "coloring": "heatmap"
         },
         "hoverinfo": "none",
         "line": {
          "smoothing": 1.3
         },
         "reversescale": false,
         "showscale": false,
         "type": "contour",
         "x": [
          1.85,
          2,
          3,
          4,
          5,
          5.15
         ],
         "xaxis": "x23",
         "y": [
          "cosineannealing",
          "lambda",
          "multiplicative",
          "no",
          "step"
         ],
         "yaxis": "y23",
         "z": [
          [
           null,
           null,
           null,
           null,
           74.03517632974786,
           null
          ],
          [
           null,
           null,
           83.7824693691592,
           83.88420931921007,
           null,
           null
          ],
          [
           null,
           75.80622266524063,
           78.8879999082205,
           79.33411661175329,
           null,
           null
          ],
          [
           null,
           null,
           14.549176168378963,
           null,
           50.584082137872706,
           null
          ],
          [
           null,
           61.682116900456116,
           null,
           null,
           null,
           null
          ]
         ]
        },
        {
         "marker": {
          "color": "black",
          "line": {
           "color": "Grey",
           "width": 2
          }
         },
         "mode": "markers",
         "showlegend": false,
         "type": "scatter",
         "x": [
          5,
          2,
          5,
          5,
          2,
          4,
          2,
          2,
          2,
          4,
          4,
          3,
          3,
          3,
          4,
          4,
          4,
          4,
          3,
          3,
          3,
          3,
          3,
          3,
          3,
          4,
          3,
          4,
          5,
          5
         ],
         "xaxis": "x23",
         "y": [
          "no",
          "multiplicative",
          "cosineannealing",
          "cosineannealing",
          "step",
          "lambda",
          "step",
          "step",
          "multiplicative",
          "multiplicative",
          "multiplicative",
          "multiplicative",
          "multiplicative",
          "multiplicative",
          "lambda",
          "lambda",
          "lambda",
          "lambda",
          "lambda",
          "lambda",
          "no",
          "lambda",
          "lambda",
          "lambda",
          "lambda",
          "lambda",
          "lambda",
          "lambda",
          "no",
          "cosineannealing"
         ],
         "yaxis": "y23"
        },
        {
         "type": "scatter",
         "xaxis": "x29",
         "yaxis": "y29"
        },
        {
         "colorbar": {
          "title": {
           "text": "Objective Value"
          }
         },
         "colorscale": [
          [
           0,
           "rgb(247,251,255)"
          ],
          [
           0.125,
           "rgb(222,235,247)"
          ],
          [
           0.25,
           "rgb(198,219,239)"
          ],
          [
           0.375,
           "rgb(158,202,225)"
          ],
          [
           0.5,
           "rgb(107,174,214)"
          ],
          [
           0.625,
           "rgb(66,146,198)"
          ],
          [
           0.75,
           "rgb(33,113,181)"
          ],
          [
           0.875,
           "rgb(8,81,156)"
          ],
          [
           1,
           "rgb(8,48,107)"
          ]
         ],
         "connectgaps": true,
         "contours": {
          "coloring": "heatmap"
         },
         "hoverinfo": "none",
         "line": {
          "smoothing": 1.3
         },
         "reversescale": false,
         "showscale": false,
         "type": "contour",
         "x": [
          1.85,
          2,
          3,
          4,
          5,
          5.15
         ],
         "xaxis": "x35",
         "y": [
          "<class 'torch.optim.adam.Adam'>",
          "<class 'torch.optim.adamw.AdamW'>",
          "<class 'torch.optim.rmsprop.RMSprop'>"
         ],
         "yaxis": "y35",
         "z": [
          [
           null,
           75.80622266524063,
           78.8879999082205,
           83.88420931921007,
           66.92825502516989,
           null
          ],
          [
           null,
           61.682116900456116,
           null,
           80.35995717723722,
           74.03517632974786,
           null
          ],
          [
           null,
           43.03220257076155,
           83.7824693691592,
           82.1743107884916,
           14.423391004704573,
           null
          ]
         ]
        },
        {
         "marker": {
          "color": "black",
          "line": {
           "color": "Grey",
           "width": 2
          }
         },
         "mode": "markers",
         "showlegend": false,
         "type": "scatter",
         "x": [
          5,
          2,
          5,
          5,
          2,
          4,
          2,
          2,
          2,
          4,
          4,
          3,
          3,
          3,
          4,
          4,
          4,
          4,
          3,
          3,
          3,
          3,
          3,
          3,
          3,
          4,
          3,
          4,
          5,
          5
         ],
         "xaxis": "x35",
         "y": [
          "<class 'torch.optim.adam.Adam'>",
          "<class 'torch.optim.adam.Adam'>",
          "<class 'torch.optim.adamw.AdamW'>",
          "<class 'torch.optim.adam.Adam'>",
          "<class 'torch.optim.adamw.AdamW'>",
          "<class 'torch.optim.rmsprop.RMSprop'>",
          "<class 'torch.optim.adamw.AdamW'>",
          "<class 'torch.optim.rmsprop.RMSprop'>",
          "<class 'torch.optim.adam.Adam'>",
          "<class 'torch.optim.adam.Adam'>",
          "<class 'torch.optim.adam.Adam'>",
          "<class 'torch.optim.adam.Adam'>",
          "<class 'torch.optim.adam.Adam'>",
          "<class 'torch.optim.adam.Adam'>",
          "<class 'torch.optim.adam.Adam'>",
          "<class 'torch.optim.rmsprop.RMSprop'>",
          "<class 'torch.optim.rmsprop.RMSprop'>",
          "<class 'torch.optim.rmsprop.RMSprop'>",
          "<class 'torch.optim.rmsprop.RMSprop'>",
          "<class 'torch.optim.rmsprop.RMSprop'>",
          "<class 'torch.optim.rmsprop.RMSprop'>",
          "<class 'torch.optim.rmsprop.RMSprop'>",
          "<class 'torch.optim.rmsprop.RMSprop'>",
          "<class 'torch.optim.rmsprop.RMSprop'>",
          "<class 'torch.optim.rmsprop.RMSprop'>",
          "<class 'torch.optim.adamw.AdamW'>",
          "<class 'torch.optim.rmsprop.RMSprop'>",
          "<class 'torch.optim.rmsprop.RMSprop'>",
          "<class 'torch.optim.rmsprop.RMSprop'>",
          "<class 'torch.optim.adamw.AdamW'>"
         ],
         "yaxis": "y35"
        },
        {
         "colorbar": {
          "title": {
           "text": "Objective Value"
          }
         },
         "colorscale": [
          [
           0,
           "rgb(247,251,255)"
          ],
          [
           0.125,
           "rgb(222,235,247)"
          ],
          [
           0.25,
           "rgb(198,219,239)"
          ],
          [
           0.375,
           "rgb(158,202,225)"
          ],
          [
           0.5,
           "rgb(107,174,214)"
          ],
          [
           0.625,
           "rgb(66,146,198)"
          ],
          [
           0.75,
           "rgb(33,113,181)"
          ],
          [
           0.875,
           "rgb(8,81,156)"
          ],
          [
           1,
           "rgb(8,48,107)"
          ]
         ],
         "connectgaps": true,
         "contours": {
          "coloring": "heatmap"
         },
         "hoverinfo": "none",
         "line": {
          "smoothing": 1.3
         },
         "reversescale": false,
         "showscale": false,
         "type": "contour",
         "x": [
          "<class 'torch.optim.adam.Adam'>",
          "<class 'torch.optim.adamw.AdamW'>",
          "<class 'torch.optim.rmsprop.RMSprop'>"
         ],
         "xaxis": "x6",
         "y": [
          13.6,
          16,
          32,
          64,
          66.4
         ],
         "yaxis": "y6",
         "z": [
          [
           null,
           null,
           null
          ],
          [
           null,
           74.03517632974786,
           14.549176168378963
          ],
          [
           83.88420931921007,
           80.35995717723722,
           83.7824693691592
          ],
          [
           75.80622266524063,
           null,
           43.03220257076155
          ],
          [
           null,
           null,
           null
          ]
         ]
        },
        {
         "marker": {
          "color": "black",
          "line": {
           "color": "Grey",
           "width": 2
          }
         },
         "mode": "markers",
         "showlegend": false,
         "type": "scatter",
         "x": [
          "<class 'torch.optim.adam.Adam'>",
          "<class 'torch.optim.adam.Adam'>",
          "<class 'torch.optim.adamw.AdamW'>",
          "<class 'torch.optim.adam.Adam'>",
          "<class 'torch.optim.adamw.AdamW'>",
          "<class 'torch.optim.rmsprop.RMSprop'>",
          "<class 'torch.optim.adamw.AdamW'>",
          "<class 'torch.optim.rmsprop.RMSprop'>",
          "<class 'torch.optim.adam.Adam'>",
          "<class 'torch.optim.adam.Adam'>",
          "<class 'torch.optim.adam.Adam'>",
          "<class 'torch.optim.adam.Adam'>",
          "<class 'torch.optim.adam.Adam'>",
          "<class 'torch.optim.adam.Adam'>",
          "<class 'torch.optim.adam.Adam'>",
          "<class 'torch.optim.rmsprop.RMSprop'>",
          "<class 'torch.optim.rmsprop.RMSprop'>",
          "<class 'torch.optim.rmsprop.RMSprop'>",
          "<class 'torch.optim.rmsprop.RMSprop'>",
          "<class 'torch.optim.rmsprop.RMSprop'>",
          "<class 'torch.optim.rmsprop.RMSprop'>",
          "<class 'torch.optim.rmsprop.RMSprop'>",
          "<class 'torch.optim.rmsprop.RMSprop'>",
          "<class 'torch.optim.rmsprop.RMSprop'>",
          "<class 'torch.optim.rmsprop.RMSprop'>",
          "<class 'torch.optim.adamw.AdamW'>",
          "<class 'torch.optim.rmsprop.RMSprop'>",
          "<class 'torch.optim.rmsprop.RMSprop'>",
          "<class 'torch.optim.rmsprop.RMSprop'>",
          "<class 'torch.optim.adamw.AdamW'>"
         ],
         "xaxis": "x6",
         "y": [
          64,
          64,
          16,
          64,
          32,
          16,
          16,
          64,
          64,
          32,
          32,
          32,
          32,
          32,
          32,
          32,
          32,
          32,
          32,
          32,
          16,
          32,
          32,
          32,
          32,
          32,
          32,
          32,
          32,
          16
         ],
         "yaxis": "y6"
        },
        {
         "colorbar": {
          "title": {
           "text": "Objective Value"
          }
         },
         "colorscale": [
          [
           0,
           "rgb(247,251,255)"
          ],
          [
           0.125,
           "rgb(222,235,247)"
          ],
          [
           0.25,
           "rgb(198,219,239)"
          ],
          [
           0.375,
           "rgb(158,202,225)"
          ],
          [
           0.5,
           "rgb(107,174,214)"
          ],
          [
           0.625,
           "rgb(66,146,198)"
          ],
          [
           0.75,
           "rgb(33,113,181)"
          ],
          [
           0.875,
           "rgb(8,81,156)"
          ],
          [
           1,
           "rgb(8,48,107)"
          ]
         ],
         "connectgaps": true,
         "contours": {
          "coloring": "heatmap"
         },
         "hoverinfo": "none",
         "line": {
          "smoothing": 1.3
         },
         "reversescale": false,
         "showscale": false,
         "type": "contour",
         "x": [
          "<class 'torch.optim.adam.Adam'>",
          "<class 'torch.optim.adamw.AdamW'>",
          "<class 'torch.optim.rmsprop.RMSprop'>"
         ],
         "xaxis": "x12",
         "y": [
          "last",
          "last_transformer",
          "no"
         ],
         "yaxis": "y12",
         "z": [
          [
           null,
           14.318338498366671,
           14.549176168378963
          ],
          [
           55.58847237743126,
           61.682116900456116,
           43.03220257076155
          ],
          [
           83.88420931921007,
           80.35995717723722,
           83.7824693691592
          ]
         ]
        },
        {
         "marker": {
          "color": "black",
          "line": {
           "color": "Grey",
           "width": 2
          }
         },
         "mode": "markers",
         "showlegend": false,
         "type": "scatter",
         "x": [
          "<class 'torch.optim.adam.Adam'>",
          "<class 'torch.optim.adam.Adam'>",
          "<class 'torch.optim.adamw.AdamW'>",
          "<class 'torch.optim.adam.Adam'>",
          "<class 'torch.optim.adamw.AdamW'>",
          "<class 'torch.optim.rmsprop.RMSprop'>",
          "<class 'torch.optim.adamw.AdamW'>",
          "<class 'torch.optim.rmsprop.RMSprop'>",
          "<class 'torch.optim.adam.Adam'>",
          "<class 'torch.optim.adam.Adam'>",
          "<class 'torch.optim.adam.Adam'>",
          "<class 'torch.optim.adam.Adam'>",
          "<class 'torch.optim.adam.Adam'>",
          "<class 'torch.optim.adam.Adam'>",
          "<class 'torch.optim.adam.Adam'>",
          "<class 'torch.optim.rmsprop.RMSprop'>",
          "<class 'torch.optim.rmsprop.RMSprop'>",
          "<class 'torch.optim.rmsprop.RMSprop'>",
          "<class 'torch.optim.rmsprop.RMSprop'>",
          "<class 'torch.optim.rmsprop.RMSprop'>",
          "<class 'torch.optim.rmsprop.RMSprop'>",
          "<class 'torch.optim.rmsprop.RMSprop'>",
          "<class 'torch.optim.rmsprop.RMSprop'>",
          "<class 'torch.optim.rmsprop.RMSprop'>",
          "<class 'torch.optim.rmsprop.RMSprop'>",
          "<class 'torch.optim.adamw.AdamW'>",
          "<class 'torch.optim.rmsprop.RMSprop'>",
          "<class 'torch.optim.rmsprop.RMSprop'>",
          "<class 'torch.optim.rmsprop.RMSprop'>",
          "<class 'torch.optim.adamw.AdamW'>"
         ],
         "xaxis": "x12",
         "y": [
          "last_transformer",
          "no",
          "last_transformer",
          "no",
          "last",
          "last",
          "last_transformer",
          "last_transformer",
          "last_transformer",
          "no",
          "no",
          "no",
          "no",
          "no",
          "no",
          "no",
          "last",
          "no",
          "no",
          "no",
          "last",
          "no",
          "no",
          "no",
          "no",
          "no",
          "no",
          "no",
          "last",
          "no"
         ],
         "yaxis": "y12"
        },
        {
         "colorbar": {
          "title": {
           "text": "Objective Value"
          }
         },
         "colorscale": [
          [
           0,
           "rgb(247,251,255)"
          ],
          [
           0.125,
           "rgb(222,235,247)"
          ],
          [
           0.25,
           "rgb(198,219,239)"
          ],
          [
           0.375,
           "rgb(158,202,225)"
          ],
          [
           0.5,
           "rgb(107,174,214)"
          ],
          [
           0.625,
           "rgb(66,146,198)"
          ],
          [
           0.75,
           "rgb(33,113,181)"
          ],
          [
           0.875,
           "rgb(8,81,156)"
          ],
          [
           1,
           "rgb(8,48,107)"
          ]
         ],
         "connectgaps": true,
         "contours": {
          "coloring": "heatmap"
         },
         "hoverinfo": "none",
         "line": {
          "smoothing": 1.3
         },
         "reversescale": false,
         "showscale": false,
         "type": "contour",
         "x": [
          "<class 'torch.optim.adam.Adam'>",
          "<class 'torch.optim.adamw.AdamW'>",
          "<class 'torch.optim.rmsprop.RMSprop'>"
         ],
         "xaxis": "x18",
         "y": [
          0.000018488170985753432,
          0.000020654924560158524,
          0.00002092704160886563,
          0.000025297642424104282,
          0.000026100177011954557,
          0.00003022787198428732,
          0.00003060557365103987,
          0.00003111460099918406,
          0.000032313604354018504,
          0.00003390520548835446,
          0.000035762449031571455,
          0.000036610513799480674,
          0.00003824553215856641,
          0.0000402479490896825,
          0.00004182517214316379,
          0.000042615123132838545,
          0.00004430681457478043,
          0.00004531177732303999,
          0.000047438042369214124,
          0.000047865338862926255,
          0.00004932417576334765,
          0.000053690407763271996,
          0.000057843018989413654,
          0.00006023348339047916,
          0.00006824880148118475,
          0.00008076210654763638,
          0.00009044157798420218,
          0.00012842234881388384,
          0.0001694434418498063,
          0.00018375857459683348,
          0.00018950335137876508,
          0.00021171252849412644
         ],
         "yaxis": "y18",
         "z": [
          [
           null,
           null,
           null
          ],
          [
           null,
           null,
           43.03220257076155
          ],
          [
           null,
           null,
           14.420737178739808
          ],
          [
           null,
           49.939116097418534,
           null
          ],
          [
           null,
           null,
           81.05422586911368
          ],
          [
           null,
           null,
           81.9757896637062
          ],
          [
           null,
           null,
           82.1743107884916
          ],
          [
           79.33411661175329,
           null,
           null
          ],
          [
           83.88420931921007,
           null,
           null
          ],
          [
           null,
           null,
           13.928078715914904
          ],
          [
           null,
           null,
           78.77695392778395
          ],
          [
           null,
           80.35995717723722,
           null
          ],
          [
           null,
           null,
           81.15169564200622
          ],
          [
           null,
           null,
           83.08781314009065
          ],
          [
           74.79864097255404,
           null,
           null
          ],
          [
           null,
           null,
           14.549176168378963
          ],
          [
           null,
           null,
           81.1718085188009
          ],
          [
           null,
           null,
           83.7824693691592
          ],
          [
           78.62368059289494,
           null,
           null
          ],
          [
           null,
           null,
           79.6605459154695
          ],
          [
           null,
           null,
           78.09559779799518
          ],
          [
           null,
           null,
           14.423391004704573
          ],
          [
           73.8214946051558,
           null,
           null
          ],
          [
           78.8879999082205,
           null,
           null
          ],
          [
           null,
           74.03517632974786,
           null
          ],
          [
           75.80622266524063,
           null,
           null
          ],
          [
           null,
           14.318338498366671,
           null
          ],
          [
           55.58847237743126,
           null,
           null
          ],
          [
           66.92825502516989,
           null,
           null
          ],
          [
           null,
           61.682116900456116,
           null
          ],
          [
           50.584082137872706,
           null,
           null
          ],
          [
           null,
           null,
           null
          ]
         ]
        },
        {
         "marker": {
          "color": "black",
          "line": {
           "color": "Grey",
           "width": 2
          }
         },
         "mode": "markers",
         "showlegend": false,
         "type": "scatter",
         "x": [
          "<class 'torch.optim.adam.Adam'>",
          "<class 'torch.optim.adam.Adam'>",
          "<class 'torch.optim.adamw.AdamW'>",
          "<class 'torch.optim.adam.Adam'>",
          "<class 'torch.optim.adamw.AdamW'>",
          "<class 'torch.optim.rmsprop.RMSprop'>",
          "<class 'torch.optim.adamw.AdamW'>",
          "<class 'torch.optim.rmsprop.RMSprop'>",
          "<class 'torch.optim.adam.Adam'>",
          "<class 'torch.optim.adam.Adam'>",
          "<class 'torch.optim.adam.Adam'>",
          "<class 'torch.optim.adam.Adam'>",
          "<class 'torch.optim.adam.Adam'>",
          "<class 'torch.optim.adam.Adam'>",
          "<class 'torch.optim.adam.Adam'>",
          "<class 'torch.optim.rmsprop.RMSprop'>",
          "<class 'torch.optim.rmsprop.RMSprop'>",
          "<class 'torch.optim.rmsprop.RMSprop'>",
          "<class 'torch.optim.rmsprop.RMSprop'>",
          "<class 'torch.optim.rmsprop.RMSprop'>",
          "<class 'torch.optim.rmsprop.RMSprop'>",
          "<class 'torch.optim.rmsprop.RMSprop'>",
          "<class 'torch.optim.rmsprop.RMSprop'>",
          "<class 'torch.optim.rmsprop.RMSprop'>",
          "<class 'torch.optim.rmsprop.RMSprop'>",
          "<class 'torch.optim.adamw.AdamW'>",
          "<class 'torch.optim.rmsprop.RMSprop'>",
          "<class 'torch.optim.rmsprop.RMSprop'>",
          "<class 'torch.optim.rmsprop.RMSprop'>",
          "<class 'torch.optim.adamw.AdamW'>"
         ],
         "xaxis": "x18",
         "y": [
          0.00018950335137876508,
          0.00008076210654763638,
          0.000025297642424104282,
          0.0001694434418498063,
          0.00009044157798420218,
          0.00003390520548835446,
          0.00018375857459683348,
          0.000020654924560158524,
          0.00012842234881388384,
          0.00003111460099918406,
          0.00004182517214316379,
          0.00006023348339047916,
          0.000047438042369214124,
          0.000057843018989413654,
          0.000032313604354018504,
          0.00003022787198428732,
          0.00002092704160886563,
          0.00003060557365103987,
          0.0000402479490896825,
          0.00004531177732303999,
          0.000042615123132838545,
          0.00003824553215856641,
          0.00004430681457478043,
          0.000047865338862926255,
          0.000026100177011954557,
          0.000036610513799480674,
          0.00004932417576334765,
          0.000035762449031571455,
          0.000053690407763271996,
          0.00006824880148118475
         ],
         "yaxis": "y18"
        },
        {
         "colorbar": {
          "title": {
           "text": "Objective Value"
          }
         },
         "colorscale": [
          [
           0,
           "rgb(247,251,255)"
          ],
          [
           0.125,
           "rgb(222,235,247)"
          ],
          [
           0.25,
           "rgb(198,219,239)"
          ],
          [
           0.375,
           "rgb(158,202,225)"
          ],
          [
           0.5,
           "rgb(107,174,214)"
          ],
          [
           0.625,
           "rgb(66,146,198)"
          ],
          [
           0.75,
           "rgb(33,113,181)"
          ],
          [
           0.875,
           "rgb(8,81,156)"
          ],
          [
           1,
           "rgb(8,48,107)"
          ]
         ],
         "connectgaps": true,
         "contours": {
          "coloring": "heatmap"
         },
         "hoverinfo": "none",
         "line": {
          "smoothing": 1.3
         },
         "reversescale": false,
         "showscale": false,
         "type": "contour",
         "x": [
          "<class 'torch.optim.adam.Adam'>",
          "<class 'torch.optim.adamw.AdamW'>",
          "<class 'torch.optim.rmsprop.RMSprop'>"
         ],
         "xaxis": "x24",
         "y": [
          "cosineannealing",
          "lambda",
          "multiplicative",
          "no",
          "step"
         ],
         "yaxis": "y24",
         "z": [
          [
           66.92825502516989,
           74.03517632974786,
           null
          ],
          [
           83.88420931921007,
           80.35995717723722,
           83.7824693691592
          ],
          [
           79.33411661175329,
           null,
           null
          ],
          [
           50.584082137872706,
           null,
           14.549176168378963
          ],
          [
           null,
           61.682116900456116,
           43.03220257076155
          ]
         ]
        },
        {
         "marker": {
          "color": "black",
          "line": {
           "color": "Grey",
           "width": 2
          }
         },
         "mode": "markers",
         "showlegend": false,
         "type": "scatter",
         "x": [
          "<class 'torch.optim.adam.Adam'>",
          "<class 'torch.optim.adam.Adam'>",
          "<class 'torch.optim.adamw.AdamW'>",
          "<class 'torch.optim.adam.Adam'>",
          "<class 'torch.optim.adamw.AdamW'>",
          "<class 'torch.optim.rmsprop.RMSprop'>",
          "<class 'torch.optim.adamw.AdamW'>",
          "<class 'torch.optim.rmsprop.RMSprop'>",
          "<class 'torch.optim.adam.Adam'>",
          "<class 'torch.optim.adam.Adam'>",
          "<class 'torch.optim.adam.Adam'>",
          "<class 'torch.optim.adam.Adam'>",
          "<class 'torch.optim.adam.Adam'>",
          "<class 'torch.optim.adam.Adam'>",
          "<class 'torch.optim.adam.Adam'>",
          "<class 'torch.optim.rmsprop.RMSprop'>",
          "<class 'torch.optim.rmsprop.RMSprop'>",
          "<class 'torch.optim.rmsprop.RMSprop'>",
          "<class 'torch.optim.rmsprop.RMSprop'>",
          "<class 'torch.optim.rmsprop.RMSprop'>",
          "<class 'torch.optim.rmsprop.RMSprop'>",
          "<class 'torch.optim.rmsprop.RMSprop'>",
          "<class 'torch.optim.rmsprop.RMSprop'>",
          "<class 'torch.optim.rmsprop.RMSprop'>",
          "<class 'torch.optim.rmsprop.RMSprop'>",
          "<class 'torch.optim.adamw.AdamW'>",
          "<class 'torch.optim.rmsprop.RMSprop'>",
          "<class 'torch.optim.rmsprop.RMSprop'>",
          "<class 'torch.optim.rmsprop.RMSprop'>",
          "<class 'torch.optim.adamw.AdamW'>"
         ],
         "xaxis": "x24",
         "y": [
          "no",
          "multiplicative",
          "cosineannealing",
          "cosineannealing",
          "step",
          "lambda",
          "step",
          "step",
          "multiplicative",
          "multiplicative",
          "multiplicative",
          "multiplicative",
          "multiplicative",
          "multiplicative",
          "lambda",
          "lambda",
          "lambda",
          "lambda",
          "lambda",
          "lambda",
          "no",
          "lambda",
          "lambda",
          "lambda",
          "lambda",
          "lambda",
          "lambda",
          "lambda",
          "no",
          "cosineannealing"
         ],
         "yaxis": "y24"
        },
        {
         "colorbar": {
          "title": {
           "text": "Objective Value"
          }
         },
         "colorscale": [
          [
           0,
           "rgb(247,251,255)"
          ],
          [
           0.125,
           "rgb(222,235,247)"
          ],
          [
           0.25,
           "rgb(198,219,239)"
          ],
          [
           0.375,
           "rgb(158,202,225)"
          ],
          [
           0.5,
           "rgb(107,174,214)"
          ],
          [
           0.625,
           "rgb(66,146,198)"
          ],
          [
           0.75,
           "rgb(33,113,181)"
          ],
          [
           0.875,
           "rgb(8,81,156)"
          ],
          [
           1,
           "rgb(8,48,107)"
          ]
         ],
         "connectgaps": true,
         "contours": {
          "coloring": "heatmap"
         },
         "hoverinfo": "none",
         "line": {
          "smoothing": 1.3
         },
         "reversescale": false,
         "showscale": false,
         "type": "contour",
         "x": [
          "<class 'torch.optim.adam.Adam'>",
          "<class 'torch.optim.adamw.AdamW'>",
          "<class 'torch.optim.rmsprop.RMSprop'>"
         ],
         "xaxis": "x30",
         "y": [
          1.85,
          2,
          3,
          4,
          5,
          5.15
         ],
         "yaxis": "y30",
         "z": [
          [
           null,
           null,
           null
          ],
          [
           75.80622266524063,
           61.682116900456116,
           43.03220257076155
          ],
          [
           78.8879999082205,
           null,
           83.7824693691592
          ],
          [
           83.88420931921007,
           80.35995717723722,
           82.1743107884916
          ],
          [
           66.92825502516989,
           74.03517632974786,
           14.423391004704573
          ],
          [
           null,
           null,
           null
          ]
         ]
        },
        {
         "marker": {
          "color": "black",
          "line": {
           "color": "Grey",
           "width": 2
          }
         },
         "mode": "markers",
         "showlegend": false,
         "type": "scatter",
         "x": [
          "<class 'torch.optim.adam.Adam'>",
          "<class 'torch.optim.adam.Adam'>",
          "<class 'torch.optim.adamw.AdamW'>",
          "<class 'torch.optim.adam.Adam'>",
          "<class 'torch.optim.adamw.AdamW'>",
          "<class 'torch.optim.rmsprop.RMSprop'>",
          "<class 'torch.optim.adamw.AdamW'>",
          "<class 'torch.optim.rmsprop.RMSprop'>",
          "<class 'torch.optim.adam.Adam'>",
          "<class 'torch.optim.adam.Adam'>",
          "<class 'torch.optim.adam.Adam'>",
          "<class 'torch.optim.adam.Adam'>",
          "<class 'torch.optim.adam.Adam'>",
          "<class 'torch.optim.adam.Adam'>",
          "<class 'torch.optim.adam.Adam'>",
          "<class 'torch.optim.rmsprop.RMSprop'>",
          "<class 'torch.optim.rmsprop.RMSprop'>",
          "<class 'torch.optim.rmsprop.RMSprop'>",
          "<class 'torch.optim.rmsprop.RMSprop'>",
          "<class 'torch.optim.rmsprop.RMSprop'>",
          "<class 'torch.optim.rmsprop.RMSprop'>",
          "<class 'torch.optim.rmsprop.RMSprop'>",
          "<class 'torch.optim.rmsprop.RMSprop'>",
          "<class 'torch.optim.rmsprop.RMSprop'>",
          "<class 'torch.optim.rmsprop.RMSprop'>",
          "<class 'torch.optim.adamw.AdamW'>",
          "<class 'torch.optim.rmsprop.RMSprop'>",
          "<class 'torch.optim.rmsprop.RMSprop'>",
          "<class 'torch.optim.rmsprop.RMSprop'>",
          "<class 'torch.optim.adamw.AdamW'>"
         ],
         "xaxis": "x30",
         "y": [
          5,
          2,
          5,
          5,
          2,
          4,
          2,
          2,
          2,
          4,
          4,
          3,
          3,
          3,
          4,
          4,
          4,
          4,
          3,
          3,
          3,
          3,
          3,
          3,
          3,
          4,
          3,
          4,
          5,
          5
         ],
         "yaxis": "y30"
        },
        {
         "type": "scatter",
         "xaxis": "x36",
         "yaxis": "y36"
        }
       ],
       "layout": {
        "template": {
         "data": {
          "bar": [
           {
            "error_x": {
             "color": "#2a3f5f"
            },
            "error_y": {
             "color": "#2a3f5f"
            },
            "marker": {
             "line": {
              "color": "#E5ECF6",
              "width": 0.5
             },
             "pattern": {
              "fillmode": "overlay",
              "size": 10,
              "solidity": 0.2
             }
            },
            "type": "bar"
           }
          ],
          "barpolar": [
           {
            "marker": {
             "line": {
              "color": "#E5ECF6",
              "width": 0.5
             },
             "pattern": {
              "fillmode": "overlay",
              "size": 10,
              "solidity": 0.2
             }
            },
            "type": "barpolar"
           }
          ],
          "carpet": [
           {
            "aaxis": {
             "endlinecolor": "#2a3f5f",
             "gridcolor": "white",
             "linecolor": "white",
             "minorgridcolor": "white",
             "startlinecolor": "#2a3f5f"
            },
            "baxis": {
             "endlinecolor": "#2a3f5f",
             "gridcolor": "white",
             "linecolor": "white",
             "minorgridcolor": "white",
             "startlinecolor": "#2a3f5f"
            },
            "type": "carpet"
           }
          ],
          "choropleth": [
           {
            "colorbar": {
             "outlinewidth": 0,
             "ticks": ""
            },
            "type": "choropleth"
           }
          ],
          "contour": [
           {
            "colorbar": {
             "outlinewidth": 0,
             "ticks": ""
            },
            "colorscale": [
             [
              0,
              "#0d0887"
             ],
             [
              0.1111111111111111,
              "#46039f"
             ],
             [
              0.2222222222222222,
              "#7201a8"
             ],
             [
              0.3333333333333333,
              "#9c179e"
             ],
             [
              0.4444444444444444,
              "#bd3786"
             ],
             [
              0.5555555555555556,
              "#d8576b"
             ],
             [
              0.6666666666666666,
              "#ed7953"
             ],
             [
              0.7777777777777778,
              "#fb9f3a"
             ],
             [
              0.8888888888888888,
              "#fdca26"
             ],
             [
              1,
              "#f0f921"
             ]
            ],
            "type": "contour"
           }
          ],
          "contourcarpet": [
           {
            "colorbar": {
             "outlinewidth": 0,
             "ticks": ""
            },
            "type": "contourcarpet"
           }
          ],
          "heatmap": [
           {
            "colorbar": {
             "outlinewidth": 0,
             "ticks": ""
            },
            "colorscale": [
             [
              0,
              "#0d0887"
             ],
             [
              0.1111111111111111,
              "#46039f"
             ],
             [
              0.2222222222222222,
              "#7201a8"
             ],
             [
              0.3333333333333333,
              "#9c179e"
             ],
             [
              0.4444444444444444,
              "#bd3786"
             ],
             [
              0.5555555555555556,
              "#d8576b"
             ],
             [
              0.6666666666666666,
              "#ed7953"
             ],
             [
              0.7777777777777778,
              "#fb9f3a"
             ],
             [
              0.8888888888888888,
              "#fdca26"
             ],
             [
              1,
              "#f0f921"
             ]
            ],
            "type": "heatmap"
           }
          ],
          "heatmapgl": [
           {
            "colorbar": {
             "outlinewidth": 0,
             "ticks": ""
            },
            "colorscale": [
             [
              0,
              "#0d0887"
             ],
             [
              0.1111111111111111,
              "#46039f"
             ],
             [
              0.2222222222222222,
              "#7201a8"
             ],
             [
              0.3333333333333333,
              "#9c179e"
             ],
             [
              0.4444444444444444,
              "#bd3786"
             ],
             [
              0.5555555555555556,
              "#d8576b"
             ],
             [
              0.6666666666666666,
              "#ed7953"
             ],
             [
              0.7777777777777778,
              "#fb9f3a"
             ],
             [
              0.8888888888888888,
              "#fdca26"
             ],
             [
              1,
              "#f0f921"
             ]
            ],
            "type": "heatmapgl"
           }
          ],
          "histogram": [
           {
            "marker": {
             "pattern": {
              "fillmode": "overlay",
              "size": 10,
              "solidity": 0.2
             }
            },
            "type": "histogram"
           }
          ],
          "histogram2d": [
           {
            "colorbar": {
             "outlinewidth": 0,
             "ticks": ""
            },
            "colorscale": [
             [
              0,
              "#0d0887"
             ],
             [
              0.1111111111111111,
              "#46039f"
             ],
             [
              0.2222222222222222,
              "#7201a8"
             ],
             [
              0.3333333333333333,
              "#9c179e"
             ],
             [
              0.4444444444444444,
              "#bd3786"
             ],
             [
              0.5555555555555556,
              "#d8576b"
             ],
             [
              0.6666666666666666,
              "#ed7953"
             ],
             [
              0.7777777777777778,
              "#fb9f3a"
             ],
             [
              0.8888888888888888,
              "#fdca26"
             ],
             [
              1,
              "#f0f921"
             ]
            ],
            "type": "histogram2d"
           }
          ],
          "histogram2dcontour": [
           {
            "colorbar": {
             "outlinewidth": 0,
             "ticks": ""
            },
            "colorscale": [
             [
              0,
              "#0d0887"
             ],
             [
              0.1111111111111111,
              "#46039f"
             ],
             [
              0.2222222222222222,
              "#7201a8"
             ],
             [
              0.3333333333333333,
              "#9c179e"
             ],
             [
              0.4444444444444444,
              "#bd3786"
             ],
             [
              0.5555555555555556,
              "#d8576b"
             ],
             [
              0.6666666666666666,
              "#ed7953"
             ],
             [
              0.7777777777777778,
              "#fb9f3a"
             ],
             [
              0.8888888888888888,
              "#fdca26"
             ],
             [
              1,
              "#f0f921"
             ]
            ],
            "type": "histogram2dcontour"
           }
          ],
          "mesh3d": [
           {
            "colorbar": {
             "outlinewidth": 0,
             "ticks": ""
            },
            "type": "mesh3d"
           }
          ],
          "parcoords": [
           {
            "line": {
             "colorbar": {
              "outlinewidth": 0,
              "ticks": ""
             }
            },
            "type": "parcoords"
           }
          ],
          "pie": [
           {
            "automargin": true,
            "type": "pie"
           }
          ],
          "scatter": [
           {
            "fillpattern": {
             "fillmode": "overlay",
             "size": 10,
             "solidity": 0.2
            },
            "type": "scatter"
           }
          ],
          "scatter3d": [
           {
            "line": {
             "colorbar": {
              "outlinewidth": 0,
              "ticks": ""
             }
            },
            "marker": {
             "colorbar": {
              "outlinewidth": 0,
              "ticks": ""
             }
            },
            "type": "scatter3d"
           }
          ],
          "scattercarpet": [
           {
            "marker": {
             "colorbar": {
              "outlinewidth": 0,
              "ticks": ""
             }
            },
            "type": "scattercarpet"
           }
          ],
          "scattergeo": [
           {
            "marker": {
             "colorbar": {
              "outlinewidth": 0,
              "ticks": ""
             }
            },
            "type": "scattergeo"
           }
          ],
          "scattergl": [
           {
            "marker": {
             "colorbar": {
              "outlinewidth": 0,
              "ticks": ""
             }
            },
            "type": "scattergl"
           }
          ],
          "scattermapbox": [
           {
            "marker": {
             "colorbar": {
              "outlinewidth": 0,
              "ticks": ""
             }
            },
            "type": "scattermapbox"
           }
          ],
          "scatterpolar": [
           {
            "marker": {
             "colorbar": {
              "outlinewidth": 0,
              "ticks": ""
             }
            },
            "type": "scatterpolar"
           }
          ],
          "scatterpolargl": [
           {
            "marker": {
             "colorbar": {
              "outlinewidth": 0,
              "ticks": ""
             }
            },
            "type": "scatterpolargl"
           }
          ],
          "scatterternary": [
           {
            "marker": {
             "colorbar": {
              "outlinewidth": 0,
              "ticks": ""
             }
            },
            "type": "scatterternary"
           }
          ],
          "surface": [
           {
            "colorbar": {
             "outlinewidth": 0,
             "ticks": ""
            },
            "colorscale": [
             [
              0,
              "#0d0887"
             ],
             [
              0.1111111111111111,
              "#46039f"
             ],
             [
              0.2222222222222222,
              "#7201a8"
             ],
             [
              0.3333333333333333,
              "#9c179e"
             ],
             [
              0.4444444444444444,
              "#bd3786"
             ],
             [
              0.5555555555555556,
              "#d8576b"
             ],
             [
              0.6666666666666666,
              "#ed7953"
             ],
             [
              0.7777777777777778,
              "#fb9f3a"
             ],
             [
              0.8888888888888888,
              "#fdca26"
             ],
             [
              1,
              "#f0f921"
             ]
            ],
            "type": "surface"
           }
          ],
          "table": [
           {
            "cells": {
             "fill": {
              "color": "#EBF0F8"
             },
             "line": {
              "color": "white"
             }
            },
            "header": {
             "fill": {
              "color": "#C8D4E3"
             },
             "line": {
              "color": "white"
             }
            },
            "type": "table"
           }
          ]
         },
         "layout": {
          "annotationdefaults": {
           "arrowcolor": "#2a3f5f",
           "arrowhead": 0,
           "arrowwidth": 1
          },
          "autotypenumbers": "strict",
          "coloraxis": {
           "colorbar": {
            "outlinewidth": 0,
            "ticks": ""
           }
          },
          "colorscale": {
           "diverging": [
            [
             0,
             "#8e0152"
            ],
            [
             0.1,
             "#c51b7d"
            ],
            [
             0.2,
             "#de77ae"
            ],
            [
             0.3,
             "#f1b6da"
            ],
            [
             0.4,
             "#fde0ef"
            ],
            [
             0.5,
             "#f7f7f7"
            ],
            [
             0.6,
             "#e6f5d0"
            ],
            [
             0.7,
             "#b8e186"
            ],
            [
             0.8,
             "#7fbc41"
            ],
            [
             0.9,
             "#4d9221"
            ],
            [
             1,
             "#276419"
            ]
           ],
           "sequential": [
            [
             0,
             "#0d0887"
            ],
            [
             0.1111111111111111,
             "#46039f"
            ],
            [
             0.2222222222222222,
             "#7201a8"
            ],
            [
             0.3333333333333333,
             "#9c179e"
            ],
            [
             0.4444444444444444,
             "#bd3786"
            ],
            [
             0.5555555555555556,
             "#d8576b"
            ],
            [
             0.6666666666666666,
             "#ed7953"
            ],
            [
             0.7777777777777778,
             "#fb9f3a"
            ],
            [
             0.8888888888888888,
             "#fdca26"
            ],
            [
             1,
             "#f0f921"
            ]
           ],
           "sequentialminus": [
            [
             0,
             "#0d0887"
            ],
            [
             0.1111111111111111,
             "#46039f"
            ],
            [
             0.2222222222222222,
             "#7201a8"
            ],
            [
             0.3333333333333333,
             "#9c179e"
            ],
            [
             0.4444444444444444,
             "#bd3786"
            ],
            [
             0.5555555555555556,
             "#d8576b"
            ],
            [
             0.6666666666666666,
             "#ed7953"
            ],
            [
             0.7777777777777778,
             "#fb9f3a"
            ],
            [
             0.8888888888888888,
             "#fdca26"
            ],
            [
             1,
             "#f0f921"
            ]
           ]
          },
          "colorway": [
           "#636efa",
           "#EF553B",
           "#00cc96",
           "#ab63fa",
           "#FFA15A",
           "#19d3f3",
           "#FF6692",
           "#B6E880",
           "#FF97FF",
           "#FECB52"
          ],
          "font": {
           "color": "#2a3f5f"
          },
          "geo": {
           "bgcolor": "white",
           "lakecolor": "white",
           "landcolor": "#E5ECF6",
           "showlakes": true,
           "showland": true,
           "subunitcolor": "white"
          },
          "hoverlabel": {
           "align": "left"
          },
          "hovermode": "closest",
          "mapbox": {
           "style": "light"
          },
          "paper_bgcolor": "white",
          "plot_bgcolor": "#E5ECF6",
          "polar": {
           "angularaxis": {
            "gridcolor": "white",
            "linecolor": "white",
            "ticks": ""
           },
           "bgcolor": "#E5ECF6",
           "radialaxis": {
            "gridcolor": "white",
            "linecolor": "white",
            "ticks": ""
           }
          },
          "scene": {
           "xaxis": {
            "backgroundcolor": "#E5ECF6",
            "gridcolor": "white",
            "gridwidth": 2,
            "linecolor": "white",
            "showbackground": true,
            "ticks": "",
            "zerolinecolor": "white"
           },
           "yaxis": {
            "backgroundcolor": "#E5ECF6",
            "gridcolor": "white",
            "gridwidth": 2,
            "linecolor": "white",
            "showbackground": true,
            "ticks": "",
            "zerolinecolor": "white"
           },
           "zaxis": {
            "backgroundcolor": "#E5ECF6",
            "gridcolor": "white",
            "gridwidth": 2,
            "linecolor": "white",
            "showbackground": true,
            "ticks": "",
            "zerolinecolor": "white"
           }
          },
          "shapedefaults": {
           "line": {
            "color": "#2a3f5f"
           }
          },
          "ternary": {
           "aaxis": {
            "gridcolor": "white",
            "linecolor": "white",
            "ticks": ""
           },
           "baxis": {
            "gridcolor": "white",
            "linecolor": "white",
            "ticks": ""
           },
           "bgcolor": "#E5ECF6",
           "caxis": {
            "gridcolor": "white",
            "linecolor": "white",
            "ticks": ""
           }
          },
          "title": {
           "x": 0.05
          },
          "xaxis": {
           "automargin": true,
           "gridcolor": "white",
           "linecolor": "white",
           "ticks": "",
           "title": {
            "standoff": 15
           },
           "zerolinecolor": "white",
           "zerolinewidth": 2
          },
          "yaxis": {
           "automargin": true,
           "gridcolor": "white",
           "linecolor": "white",
           "ticks": "",
           "title": {
            "standoff": 15
           },
           "zerolinecolor": "white",
           "zerolinewidth": 2
          }
         }
        },
        "title": {
         "text": "Contour Plot"
        },
        "xaxis": {
         "anchor": "y",
         "domain": [
          0,
          0.1388888888888889
         ],
         "matches": "x31",
         "range": [
          13.6,
          66.4
         ],
         "showticklabels": false
        },
        "xaxis10": {
         "anchor": "y10",
         "domain": [
          0.5166666666666667,
          0.6555555555555557
         ],
         "matches": "x34",
         "range": [
          -0.2,
          4.2
         ],
         "showticklabels": false,
         "type": "category"
        },
        "xaxis11": {
         "anchor": "y11",
         "domain": [
          0.6888888888888889,
          0.8277777777777777
         ],
         "matches": "x35",
         "range": [
          1.85,
          5.15
         ],
         "showticklabels": false
        },
        "xaxis12": {
         "anchor": "y12",
         "domain": [
          0.861111111111111,
          1
         ],
         "matches": "x36",
         "range": [
          -0.1,
          2.1
         ],
         "showticklabels": false,
         "type": "category"
        },
        "xaxis13": {
         "anchor": "y13",
         "domain": [
          0,
          0.1388888888888889
         ],
         "matches": "x31",
         "range": [
          13.6,
          66.4
         ],
         "showticklabels": false
        },
        "xaxis14": {
         "anchor": "y14",
         "domain": [
          0.17222222222222222,
          0.3111111111111111
         ],
         "matches": "x32",
         "range": [
          -0.1,
          2.1
         ],
         "showticklabels": false,
         "type": "category"
        },
        "xaxis15": {
         "anchor": "y15",
         "domain": [
          0.34444444444444444,
          0.48333333333333334
         ],
         "matches": "x33",
         "range": [
          -4.733106050987092,
          -3.6742534410128505
         ],
         "showticklabels": false,
         "type": "log"
        },
        "xaxis16": {
         "anchor": "y16",
         "domain": [
          0.5166666666666667,
          0.6555555555555557
         ],
         "matches": "x34",
         "range": [
          -0.2,
          4.2
         ],
         "showticklabels": false,
         "type": "category"
        },
        "xaxis17": {
         "anchor": "y17",
         "domain": [
          0.6888888888888889,
          0.8277777777777777
         ],
         "matches": "x35",
         "range": [
          1.85,
          5.15
         ],
         "showticklabels": false
        },
        "xaxis18": {
         "anchor": "y18",
         "domain": [
          0.861111111111111,
          1
         ],
         "matches": "x36",
         "range": [
          -0.1,
          2.1
         ],
         "showticklabels": false,
         "type": "category"
        },
        "xaxis19": {
         "anchor": "y19",
         "domain": [
          0,
          0.1388888888888889
         ],
         "matches": "x31",
         "range": [
          13.6,
          66.4
         ],
         "showticklabels": false
        },
        "xaxis2": {
         "anchor": "y2",
         "domain": [
          0.17222222222222222,
          0.3111111111111111
         ],
         "matches": "x32",
         "range": [
          -0.1,
          2.1
         ],
         "showticklabels": false,
         "type": "category"
        },
        "xaxis20": {
         "anchor": "y20",
         "domain": [
          0.17222222222222222,
          0.3111111111111111
         ],
         "matches": "x32",
         "range": [
          -0.1,
          2.1
         ],
         "showticklabels": false,
         "type": "category"
        },
        "xaxis21": {
         "anchor": "y21",
         "domain": [
          0.34444444444444444,
          0.48333333333333334
         ],
         "matches": "x33",
         "range": [
          -4.733106050987092,
          -3.6742534410128505
         ],
         "showticklabels": false,
         "type": "log"
        },
        "xaxis22": {
         "anchor": "y22",
         "domain": [
          0.5166666666666667,
          0.6555555555555557
         ],
         "matches": "x34",
         "range": [
          -0.2,
          4.2
         ],
         "showticklabels": false,
         "type": "category"
        },
        "xaxis23": {
         "anchor": "y23",
         "domain": [
          0.6888888888888889,
          0.8277777777777777
         ],
         "matches": "x35",
         "range": [
          1.85,
          5.15
         ],
         "showticklabels": false
        },
        "xaxis24": {
         "anchor": "y24",
         "domain": [
          0.861111111111111,
          1
         ],
         "matches": "x36",
         "range": [
          -0.1,
          2.1
         ],
         "showticklabels": false,
         "type": "category"
        },
        "xaxis25": {
         "anchor": "y25",
         "domain": [
          0,
          0.1388888888888889
         ],
         "matches": "x31",
         "range": [
          13.6,
          66.4
         ],
         "showticklabels": false
        },
        "xaxis26": {
         "anchor": "y26",
         "domain": [
          0.17222222222222222,
          0.3111111111111111
         ],
         "matches": "x32",
         "range": [
          -0.1,
          2.1
         ],
         "showticklabels": false,
         "type": "category"
        },
        "xaxis27": {
         "anchor": "y27",
         "domain": [
          0.34444444444444444,
          0.48333333333333334
         ],
         "matches": "x33",
         "range": [
          -4.733106050987092,
          -3.6742534410128505
         ],
         "showticklabels": false,
         "type": "log"
        },
        "xaxis28": {
         "anchor": "y28",
         "domain": [
          0.5166666666666667,
          0.6555555555555557
         ],
         "matches": "x34",
         "range": [
          -0.2,
          4.2
         ],
         "showticklabels": false,
         "type": "category"
        },
        "xaxis29": {
         "anchor": "y29",
         "domain": [
          0.6888888888888889,
          0.8277777777777777
         ],
         "matches": "x35",
         "range": [
          1.85,
          5.15
         ],
         "showticklabels": false
        },
        "xaxis3": {
         "anchor": "y3",
         "domain": [
          0.34444444444444444,
          0.48333333333333334
         ],
         "matches": "x33",
         "range": [
          -4.733106050987092,
          -3.6742534410128505
         ],
         "showticklabels": false,
         "type": "log"
        },
        "xaxis30": {
         "anchor": "y30",
         "domain": [
          0.861111111111111,
          1
         ],
         "matches": "x36",
         "range": [
          -0.1,
          2.1
         ],
         "showticklabels": false,
         "type": "category"
        },
        "xaxis31": {
         "anchor": "y31",
         "domain": [
          0,
          0.1388888888888889
         ],
         "range": [
          13.6,
          66.4
         ],
         "title": {
          "text": "batch_size"
         }
        },
        "xaxis32": {
         "anchor": "y32",
         "domain": [
          0.17222222222222222,
          0.3111111111111111
         ],
         "range": [
          -0.1,
          2.1
         ],
         "title": {
          "text": "freeze"
         },
         "type": "category"
        },
        "xaxis33": {
         "anchor": "y33",
         "domain": [
          0.34444444444444444,
          0.48333333333333334
         ],
         "range": [
          -4.733106050987092,
          -3.6742534410128505
         ],
         "title": {
          "text": "learning_rate"
         },
         "type": "log"
        },
        "xaxis34": {
         "anchor": "y34",
         "domain": [
          0.5166666666666667,
          0.6555555555555557
         ],
         "range": [
          -0.2,
          4.2
         ],
         "title": {
          "text": "lr_scheduler"
         },
         "type": "category"
        },
        "xaxis35": {
         "anchor": "y35",
         "domain": [
          0.6888888888888889,
          0.8277777777777777
         ],
         "range": [
          1.85,
          5.15
         ],
         "title": {
          "text": "n_epoch"
         }
        },
        "xaxis36": {
         "anchor": "y36",
         "domain": [
          0.861111111111111,
          1
         ],
         "range": [
          -0.1,
          2.1
         ],
         "title": {
          "text": "optimizer"
         },
         "type": "category"
        },
        "xaxis4": {
         "anchor": "y4",
         "domain": [
          0.5166666666666667,
          0.6555555555555557
         ],
         "matches": "x34",
         "range": [
          -0.2,
          4.2
         ],
         "showticklabels": false,
         "type": "category"
        },
        "xaxis5": {
         "anchor": "y5",
         "domain": [
          0.6888888888888889,
          0.8277777777777777
         ],
         "matches": "x35",
         "range": [
          1.85,
          5.15
         ],
         "showticklabels": false
        },
        "xaxis6": {
         "anchor": "y6",
         "domain": [
          0.861111111111111,
          1
         ],
         "matches": "x36",
         "range": [
          -0.1,
          2.1
         ],
         "showticklabels": false,
         "type": "category"
        },
        "xaxis7": {
         "anchor": "y7",
         "domain": [
          0,
          0.1388888888888889
         ],
         "matches": "x31",
         "range": [
          13.6,
          66.4
         ],
         "showticklabels": false
        },
        "xaxis8": {
         "anchor": "y8",
         "domain": [
          0.17222222222222222,
          0.3111111111111111
         ],
         "matches": "x32",
         "range": [
          -0.1,
          2.1
         ],
         "showticklabels": false,
         "type": "category"
        },
        "xaxis9": {
         "anchor": "y9",
         "domain": [
          0.34444444444444444,
          0.48333333333333334
         ],
         "matches": "x33",
         "range": [
          -4.733106050987092,
          -3.6742534410128505
         ],
         "showticklabels": false,
         "type": "log"
        },
        "yaxis": {
         "anchor": "x",
         "domain": [
          0.875,
          1
         ],
         "range": [
          13.6,
          66.4
         ],
         "title": {
          "text": "batch_size"
         }
        },
        "yaxis10": {
         "anchor": "x10",
         "domain": [
          0.7,
          0.825
         ],
         "matches": "y7",
         "range": [
          -0.1,
          2.1
         ],
         "showticklabels": false,
         "type": "category"
        },
        "yaxis11": {
         "anchor": "x11",
         "domain": [
          0.7,
          0.825
         ],
         "matches": "y7",
         "range": [
          -0.1,
          2.1
         ],
         "showticklabels": false,
         "type": "category"
        },
        "yaxis12": {
         "anchor": "x12",
         "domain": [
          0.7,
          0.825
         ],
         "matches": "y7",
         "range": [
          -0.1,
          2.1
         ],
         "showticklabels": false,
         "type": "category"
        },
        "yaxis13": {
         "anchor": "x13",
         "domain": [
          0.525,
          0.65
         ],
         "range": [
          -4.733106050987092,
          -3.6742534410128505
         ],
         "title": {
          "text": "learning_rate"
         },
         "type": "log"
        },
        "yaxis14": {
         "anchor": "x14",
         "domain": [
          0.525,
          0.65
         ],
         "matches": "y13",
         "range": [
          -4.733106050987092,
          -3.6742534410128505
         ],
         "showticklabels": false,
         "type": "log"
        },
        "yaxis15": {
         "anchor": "x15",
         "domain": [
          0.525,
          0.65
         ],
         "matches": "y13",
         "range": [
          -4.733106050987092,
          -3.6742534410128505
         ],
         "showticklabels": false,
         "type": "log"
        },
        "yaxis16": {
         "anchor": "x16",
         "domain": [
          0.525,
          0.65
         ],
         "matches": "y13",
         "range": [
          -4.733106050987092,
          -3.6742534410128505
         ],
         "showticklabels": false,
         "type": "log"
        },
        "yaxis17": {
         "anchor": "x17",
         "domain": [
          0.525,
          0.65
         ],
         "matches": "y13",
         "range": [
          -4.733106050987092,
          -3.6742534410128505
         ],
         "showticklabels": false,
         "type": "log"
        },
        "yaxis18": {
         "anchor": "x18",
         "domain": [
          0.525,
          0.65
         ],
         "matches": "y13",
         "range": [
          -4.733106050987092,
          -3.6742534410128505
         ],
         "showticklabels": false,
         "type": "log"
        },
        "yaxis19": {
         "anchor": "x19",
         "domain": [
          0.35,
          0.475
         ],
         "range": [
          -0.2,
          4.2
         ],
         "title": {
          "text": "lr_scheduler"
         },
         "type": "category"
        },
        "yaxis2": {
         "anchor": "x2",
         "domain": [
          0.875,
          1
         ],
         "matches": "y",
         "range": [
          13.6,
          66.4
         ],
         "showticklabels": false
        },
        "yaxis20": {
         "anchor": "x20",
         "domain": [
          0.35,
          0.475
         ],
         "matches": "y19",
         "range": [
          -0.2,
          4.2
         ],
         "showticklabels": false,
         "type": "category"
        },
        "yaxis21": {
         "anchor": "x21",
         "domain": [
          0.35,
          0.475
         ],
         "matches": "y19",
         "range": [
          -0.2,
          4.2
         ],
         "showticklabels": false,
         "type": "category"
        },
        "yaxis22": {
         "anchor": "x22",
         "domain": [
          0.35,
          0.475
         ],
         "matches": "y19",
         "range": [
          -0.2,
          4.2
         ],
         "showticklabels": false,
         "type": "category"
        },
        "yaxis23": {
         "anchor": "x23",
         "domain": [
          0.35,
          0.475
         ],
         "matches": "y19",
         "range": [
          -0.2,
          4.2
         ],
         "showticklabels": false,
         "type": "category"
        },
        "yaxis24": {
         "anchor": "x24",
         "domain": [
          0.35,
          0.475
         ],
         "matches": "y19",
         "range": [
          -0.2,
          4.2
         ],
         "showticklabels": false,
         "type": "category"
        },
        "yaxis25": {
         "anchor": "x25",
         "domain": [
          0.175,
          0.3
         ],
         "range": [
          1.85,
          5.15
         ],
         "title": {
          "text": "n_epoch"
         }
        },
        "yaxis26": {
         "anchor": "x26",
         "domain": [
          0.175,
          0.3
         ],
         "matches": "y25",
         "range": [
          1.85,
          5.15
         ],
         "showticklabels": false
        },
        "yaxis27": {
         "anchor": "x27",
         "domain": [
          0.175,
          0.3
         ],
         "matches": "y25",
         "range": [
          1.85,
          5.15
         ],
         "showticklabels": false
        },
        "yaxis28": {
         "anchor": "x28",
         "domain": [
          0.175,
          0.3
         ],
         "matches": "y25",
         "range": [
          1.85,
          5.15
         ],
         "showticklabels": false
        },
        "yaxis29": {
         "anchor": "x29",
         "domain": [
          0.175,
          0.3
         ],
         "matches": "y25",
         "range": [
          1.85,
          5.15
         ],
         "showticklabels": false
        },
        "yaxis3": {
         "anchor": "x3",
         "domain": [
          0.875,
          1
         ],
         "matches": "y",
         "range": [
          13.6,
          66.4
         ],
         "showticklabels": false
        },
        "yaxis30": {
         "anchor": "x30",
         "domain": [
          0.175,
          0.3
         ],
         "matches": "y25",
         "range": [
          1.85,
          5.15
         ],
         "showticklabels": false
        },
        "yaxis31": {
         "anchor": "x31",
         "domain": [
          0,
          0.125
         ],
         "range": [
          -0.1,
          2.1
         ],
         "title": {
          "text": "optimizer"
         },
         "type": "category"
        },
        "yaxis32": {
         "anchor": "x32",
         "domain": [
          0,
          0.125
         ],
         "matches": "y31",
         "range": [
          -0.1,
          2.1
         ],
         "showticklabels": false,
         "type": "category"
        },
        "yaxis33": {
         "anchor": "x33",
         "domain": [
          0,
          0.125
         ],
         "matches": "y31",
         "range": [
          -0.1,
          2.1
         ],
         "showticklabels": false,
         "type": "category"
        },
        "yaxis34": {
         "anchor": "x34",
         "domain": [
          0,
          0.125
         ],
         "matches": "y31",
         "range": [
          -0.1,
          2.1
         ],
         "showticklabels": false,
         "type": "category"
        },
        "yaxis35": {
         "anchor": "x35",
         "domain": [
          0,
          0.125
         ],
         "matches": "y31",
         "range": [
          -0.1,
          2.1
         ],
         "showticklabels": false,
         "type": "category"
        },
        "yaxis36": {
         "anchor": "x36",
         "domain": [
          0,
          0.125
         ],
         "matches": "y31",
         "range": [
          -0.1,
          2.1
         ],
         "showticklabels": false,
         "type": "category"
        },
        "yaxis4": {
         "anchor": "x4",
         "domain": [
          0.875,
          1
         ],
         "matches": "y",
         "range": [
          13.6,
          66.4
         ],
         "showticklabels": false
        },
        "yaxis5": {
         "anchor": "x5",
         "domain": [
          0.875,
          1
         ],
         "matches": "y",
         "range": [
          13.6,
          66.4
         ],
         "showticklabels": false
        },
        "yaxis6": {
         "anchor": "x6",
         "domain": [
          0.875,
          1
         ],
         "matches": "y",
         "range": [
          13.6,
          66.4
         ],
         "showticklabels": false
        },
        "yaxis7": {
         "anchor": "x7",
         "domain": [
          0.7,
          0.825
         ],
         "range": [
          -0.1,
          2.1
         ],
         "title": {
          "text": "freeze"
         },
         "type": "category"
        },
        "yaxis8": {
         "anchor": "x8",
         "domain": [
          0.7,
          0.825
         ],
         "matches": "y7",
         "range": [
          -0.1,
          2.1
         ],
         "showticklabels": false,
         "type": "category"
        },
        "yaxis9": {
         "anchor": "x9",
         "domain": [
          0.7,
          0.825
         ],
         "matches": "y7",
         "range": [
          -0.1,
          2.1
         ],
         "showticklabels": false,
         "type": "category"
        }
       }
      },
      "text/html": [
       "<div>                            <div id=\"7c8db187-e1bb-4b9a-8b39-bbfa108f7d8a\" class=\"plotly-graph-div\" style=\"height:525px; width:100%;\"></div>            <script type=\"text/javascript\">                require([\"plotly\"], function(Plotly) {                    window.PLOTLYENV=window.PLOTLYENV || {};                                    if (document.getElementById(\"7c8db187-e1bb-4b9a-8b39-bbfa108f7d8a\")) {                    Plotly.newPlot(                        \"7c8db187-e1bb-4b9a-8b39-bbfa108f7d8a\",                        [{\"type\":\"scatter\",\"xaxis\":\"x\",\"yaxis\":\"y\"},{\"colorbar\":{\"title\":{\"text\":\"Objective Value\"}},\"colorscale\":[[0.0,\"rgb(247,251,255)\"],[0.125,\"rgb(222,235,247)\"],[0.25,\"rgb(198,219,239)\"],[0.375,\"rgb(158,202,225)\"],[0.5,\"rgb(107,174,214)\"],[0.625,\"rgb(66,146,198)\"],[0.75,\"rgb(33,113,181)\"],[0.875,\"rgb(8,81,156)\"],[1.0,\"rgb(8,48,107)\"]],\"connectgaps\":true,\"contours\":{\"coloring\":\"heatmap\"},\"hoverinfo\":\"none\",\"line\":{\"smoothing\":1.3},\"reversescale\":false,\"showscale\":true,\"x\":[13.6,16,32,64,66.4],\"y\":[\"last\",\"last_transformer\",\"no\"],\"z\":[[null,14.549176168378963,14.423391004704573,null,null],[null,61.682116900456116,null,55.58847237743126,null],[null,74.03517632974786,83.88420931921007,75.80622266524063,null]],\"type\":\"contour\",\"xaxis\":\"x7\",\"yaxis\":\"y7\"},{\"marker\":{\"color\":\"black\",\"line\":{\"color\":\"Grey\",\"width\":2.0}},\"mode\":\"markers\",\"showlegend\":false,\"x\":[64,64,16,64,32,16,16,64,64,32,32,32,32,32,32,32,32,32,32,32,16,32,32,32,32,32,32,32,32,16],\"y\":[\"last_transformer\",\"no\",\"last_transformer\",\"no\",\"last\",\"last\",\"last_transformer\",\"last_transformer\",\"last_transformer\",\"no\",\"no\",\"no\",\"no\",\"no\",\"no\",\"no\",\"last\",\"no\",\"no\",\"no\",\"last\",\"no\",\"no\",\"no\",\"no\",\"no\",\"no\",\"no\",\"last\",\"no\"],\"type\":\"scatter\",\"xaxis\":\"x7\",\"yaxis\":\"y7\"},{\"colorbar\":{\"title\":{\"text\":\"Objective Value\"}},\"colorscale\":[[0.0,\"rgb(247,251,255)\"],[0.125,\"rgb(222,235,247)\"],[0.25,\"rgb(198,219,239)\"],[0.375,\"rgb(158,202,225)\"],[0.5,\"rgb(107,174,214)\"],[0.625,\"rgb(66,146,198)\"],[0.75,\"rgb(33,113,181)\"],[0.875,\"rgb(8,81,156)\"],[1.0,\"rgb(8,48,107)\"]],\"connectgaps\":true,\"contours\":{\"coloring\":\"heatmap\"},\"hoverinfo\":\"none\",\"line\":{\"smoothing\":1.3},\"reversescale\":false,\"showscale\":false,\"x\":[13.6,16,32,64,66.4],\"y\":[0.000018488170985753432,0.000020654924560158524,0.00002092704160886563,0.000025297642424104282,0.000026100177011954557,0.00003022787198428732,0.00003060557365103987,0.00003111460099918406,0.000032313604354018504,0.00003390520548835446,0.000035762449031571455,0.000036610513799480674,0.00003824553215856641,0.0000402479490896825,0.00004182517214316379,0.000042615123132838545,0.00004430681457478043,0.00004531177732303999,0.000047438042369214124,0.000047865338862926255,0.00004932417576334765,0.000053690407763271996,0.000057843018989413654,0.00006023348339047916,0.00006824880148118475,0.00008076210654763638,0.00009044157798420218,0.00012842234881388384,0.0001694434418498063,0.00018375857459683348,0.00018950335137876508,0.00021171252849412644],\"z\":[[null,null,null,null,null],[null,null,null,43.03220257076155,null],[null,null,14.420737178739808,null,null],[null,49.939116097418534,null,null,null],[null,null,81.05422586911368,null,null],[null,null,81.9757896637062,null,null],[null,null,82.1743107884916,null,null],[null,null,79.33411661175329,null,null],[null,null,83.88420931921007,null,null],[null,13.928078715914904,null,null,null],[null,null,78.77695392778395,null,null],[null,null,80.35995717723722,null,null],[null,null,81.15169564200622,null,null],[null,null,83.08781314009065,null,null],[null,null,74.79864097255404,null,null],[null,14.549176168378963,null,null,null],[null,null,81.1718085188009,null,null],[null,null,83.7824693691592,null,null],[null,null,78.62368059289494,null,null],[null,null,79.6605459154695,null,null],[null,null,78.09559779799518,null,null],[null,null,14.423391004704573,null,null],[null,null,73.8214946051558,null,null],[null,null,78.8879999082205,null,null],[null,74.03517632974786,null,null,null],[null,null,null,75.80622266524063,null],[null,null,14.318338498366671,null,null],[null,null,null,55.58847237743126,null],[null,null,null,66.92825502516989,null],[null,61.682116900456116,null,null,null],[null,null,null,50.584082137872706,null],[null,null,null,null,null]],\"type\":\"contour\",\"xaxis\":\"x13\",\"yaxis\":\"y13\"},{\"marker\":{\"color\":\"black\",\"line\":{\"color\":\"Grey\",\"width\":2.0}},\"mode\":\"markers\",\"showlegend\":false,\"x\":[64,64,16,64,32,16,16,64,64,32,32,32,32,32,32,32,32,32,32,32,16,32,32,32,32,32,32,32,32,16],\"y\":[0.00018950335137876508,0.00008076210654763638,0.000025297642424104282,0.0001694434418498063,0.00009044157798420218,0.00003390520548835446,0.00018375857459683348,0.000020654924560158524,0.00012842234881388384,0.00003111460099918406,0.00004182517214316379,0.00006023348339047916,0.000047438042369214124,0.000057843018989413654,0.000032313604354018504,0.00003022787198428732,0.00002092704160886563,0.00003060557365103987,0.0000402479490896825,0.00004531177732303999,0.000042615123132838545,0.00003824553215856641,0.00004430681457478043,0.000047865338862926255,0.000026100177011954557,0.000036610513799480674,0.00004932417576334765,0.000035762449031571455,0.000053690407763271996,0.00006824880148118475],\"type\":\"scatter\",\"xaxis\":\"x13\",\"yaxis\":\"y13\"},{\"colorbar\":{\"title\":{\"text\":\"Objective Value\"}},\"colorscale\":[[0.0,\"rgb(247,251,255)\"],[0.125,\"rgb(222,235,247)\"],[0.25,\"rgb(198,219,239)\"],[0.375,\"rgb(158,202,225)\"],[0.5,\"rgb(107,174,214)\"],[0.625,\"rgb(66,146,198)\"],[0.75,\"rgb(33,113,181)\"],[0.875,\"rgb(8,81,156)\"],[1.0,\"rgb(8,48,107)\"]],\"connectgaps\":true,\"contours\":{\"coloring\":\"heatmap\"},\"hoverinfo\":\"none\",\"line\":{\"smoothing\":1.3},\"reversescale\":false,\"showscale\":false,\"x\":[13.6,16,32,64,66.4],\"y\":[\"cosineannealing\",\"lambda\",\"multiplicative\",\"no\",\"step\"],\"z\":[[null,74.03517632974786,null,66.92825502516989,null],[null,13.928078715914904,83.88420931921007,null,null],[null,null,79.33411661175329,75.80622266524063,null],[null,14.549176168378963,14.423391004704573,50.584082137872706,null],[null,61.682116900456116,14.318338498366671,43.03220257076155,null]],\"type\":\"contour\",\"xaxis\":\"x19\",\"yaxis\":\"y19\"},{\"marker\":{\"color\":\"black\",\"line\":{\"color\":\"Grey\",\"width\":2.0}},\"mode\":\"markers\",\"showlegend\":false,\"x\":[64,64,16,64,32,16,16,64,64,32,32,32,32,32,32,32,32,32,32,32,16,32,32,32,32,32,32,32,32,16],\"y\":[\"no\",\"multiplicative\",\"cosineannealing\",\"cosineannealing\",\"step\",\"lambda\",\"step\",\"step\",\"multiplicative\",\"multiplicative\",\"multiplicative\",\"multiplicative\",\"multiplicative\",\"multiplicative\",\"lambda\",\"lambda\",\"lambda\",\"lambda\",\"lambda\",\"lambda\",\"no\",\"lambda\",\"lambda\",\"lambda\",\"lambda\",\"lambda\",\"lambda\",\"lambda\",\"no\",\"cosineannealing\"],\"type\":\"scatter\",\"xaxis\":\"x19\",\"yaxis\":\"y19\"},{\"colorbar\":{\"title\":{\"text\":\"Objective Value\"}},\"colorscale\":[[0.0,\"rgb(247,251,255)\"],[0.125,\"rgb(222,235,247)\"],[0.25,\"rgb(198,219,239)\"],[0.375,\"rgb(158,202,225)\"],[0.5,\"rgb(107,174,214)\"],[0.625,\"rgb(66,146,198)\"],[0.75,\"rgb(33,113,181)\"],[0.875,\"rgb(8,81,156)\"],[1.0,\"rgb(8,48,107)\"]],\"connectgaps\":true,\"contours\":{\"coloring\":\"heatmap\"},\"hoverinfo\":\"none\",\"line\":{\"smoothing\":1.3},\"reversescale\":false,\"showscale\":false,\"x\":[13.6,16,32,64,66.4],\"y\":[1.85,2,3,4,5,5.15],\"z\":[[null,null,null,null,null],[null,61.682116900456116,14.318338498366671,75.80622266524063,null],[null,14.549176168378963,83.7824693691592,null,null],[null,13.928078715914904,83.88420931921007,null,null],[null,74.03517632974786,14.423391004704573,66.92825502516989,null],[null,null,null,null,null]],\"type\":\"contour\",\"xaxis\":\"x25\",\"yaxis\":\"y25\"},{\"marker\":{\"color\":\"black\",\"line\":{\"color\":\"Grey\",\"width\":2.0}},\"mode\":\"markers\",\"showlegend\":false,\"x\":[64,64,16,64,32,16,16,64,64,32,32,32,32,32,32,32,32,32,32,32,16,32,32,32,32,32,32,32,32,16],\"y\":[5,2,5,5,2,4,2,2,2,4,4,3,3,3,4,4,4,4,3,3,3,3,3,3,3,4,3,4,5,5],\"type\":\"scatter\",\"xaxis\":\"x25\",\"yaxis\":\"y25\"},{\"colorbar\":{\"title\":{\"text\":\"Objective Value\"}},\"colorscale\":[[0.0,\"rgb(247,251,255)\"],[0.125,\"rgb(222,235,247)\"],[0.25,\"rgb(198,219,239)\"],[0.375,\"rgb(158,202,225)\"],[0.5,\"rgb(107,174,214)\"],[0.625,\"rgb(66,146,198)\"],[0.75,\"rgb(33,113,181)\"],[0.875,\"rgb(8,81,156)\"],[1.0,\"rgb(8,48,107)\"]],\"connectgaps\":true,\"contours\":{\"coloring\":\"heatmap\"},\"hoverinfo\":\"none\",\"line\":{\"smoothing\":1.3},\"reversescale\":false,\"showscale\":false,\"x\":[13.6,16,32,64,66.4],\"y\":[\"\\u003cclass 'torch.optim.adam.Adam'\\u003e\",\"\\u003cclass 'torch.optim.adamw.AdamW'\\u003e\",\"\\u003cclass 'torch.optim.rmsprop.RMSprop'\\u003e\"],\"z\":[[null,null,83.88420931921007,75.80622266524063,null],[null,74.03517632974786,80.35995717723722,null,null],[null,14.549176168378963,83.7824693691592,43.03220257076155,null]],\"type\":\"contour\",\"xaxis\":\"x31\",\"yaxis\":\"y31\"},{\"marker\":{\"color\":\"black\",\"line\":{\"color\":\"Grey\",\"width\":2.0}},\"mode\":\"markers\",\"showlegend\":false,\"x\":[64,64,16,64,32,16,16,64,64,32,32,32,32,32,32,32,32,32,32,32,16,32,32,32,32,32,32,32,32,16],\"y\":[\"\\u003cclass 'torch.optim.adam.Adam'\\u003e\",\"\\u003cclass 'torch.optim.adam.Adam'\\u003e\",\"\\u003cclass 'torch.optim.adamw.AdamW'\\u003e\",\"\\u003cclass 'torch.optim.adam.Adam'\\u003e\",\"\\u003cclass 'torch.optim.adamw.AdamW'\\u003e\",\"\\u003cclass 'torch.optim.rmsprop.RMSprop'\\u003e\",\"\\u003cclass 'torch.optim.adamw.AdamW'\\u003e\",\"\\u003cclass 'torch.optim.rmsprop.RMSprop'\\u003e\",\"\\u003cclass 'torch.optim.adam.Adam'\\u003e\",\"\\u003cclass 'torch.optim.adam.Adam'\\u003e\",\"\\u003cclass 'torch.optim.adam.Adam'\\u003e\",\"\\u003cclass 'torch.optim.adam.Adam'\\u003e\",\"\\u003cclass 'torch.optim.adam.Adam'\\u003e\",\"\\u003cclass 'torch.optim.adam.Adam'\\u003e\",\"\\u003cclass 'torch.optim.adam.Adam'\\u003e\",\"\\u003cclass 'torch.optim.rmsprop.RMSprop'\\u003e\",\"\\u003cclass 'torch.optim.rmsprop.RMSprop'\\u003e\",\"\\u003cclass 'torch.optim.rmsprop.RMSprop'\\u003e\",\"\\u003cclass 'torch.optim.rmsprop.RMSprop'\\u003e\",\"\\u003cclass 'torch.optim.rmsprop.RMSprop'\\u003e\",\"\\u003cclass 'torch.optim.rmsprop.RMSprop'\\u003e\",\"\\u003cclass 'torch.optim.rmsprop.RMSprop'\\u003e\",\"\\u003cclass 'torch.optim.rmsprop.RMSprop'\\u003e\",\"\\u003cclass 'torch.optim.rmsprop.RMSprop'\\u003e\",\"\\u003cclass 'torch.optim.rmsprop.RMSprop'\\u003e\",\"\\u003cclass 'torch.optim.adamw.AdamW'\\u003e\",\"\\u003cclass 'torch.optim.rmsprop.RMSprop'\\u003e\",\"\\u003cclass 'torch.optim.rmsprop.RMSprop'\\u003e\",\"\\u003cclass 'torch.optim.rmsprop.RMSprop'\\u003e\",\"\\u003cclass 'torch.optim.adamw.AdamW'\\u003e\"],\"type\":\"scatter\",\"xaxis\":\"x31\",\"yaxis\":\"y31\"},{\"colorbar\":{\"title\":{\"text\":\"Objective Value\"}},\"colorscale\":[[0.0,\"rgb(247,251,255)\"],[0.125,\"rgb(222,235,247)\"],[0.25,\"rgb(198,219,239)\"],[0.375,\"rgb(158,202,225)\"],[0.5,\"rgb(107,174,214)\"],[0.625,\"rgb(66,146,198)\"],[0.75,\"rgb(33,113,181)\"],[0.875,\"rgb(8,81,156)\"],[1.0,\"rgb(8,48,107)\"]],\"connectgaps\":true,\"contours\":{\"coloring\":\"heatmap\"},\"hoverinfo\":\"none\",\"line\":{\"smoothing\":1.3},\"reversescale\":false,\"showscale\":false,\"x\":[\"last\",\"last_transformer\",\"no\"],\"y\":[13.6,16,32,64,66.4],\"z\":[[null,null,null],[14.549176168378963,61.682116900456116,74.03517632974786],[14.423391004704573,null,83.88420931921007],[null,55.58847237743126,75.80622266524063],[null,null,null]],\"type\":\"contour\",\"xaxis\":\"x2\",\"yaxis\":\"y2\"},{\"marker\":{\"color\":\"black\",\"line\":{\"color\":\"Grey\",\"width\":2.0}},\"mode\":\"markers\",\"showlegend\":false,\"x\":[\"last_transformer\",\"no\",\"last_transformer\",\"no\",\"last\",\"last\",\"last_transformer\",\"last_transformer\",\"last_transformer\",\"no\",\"no\",\"no\",\"no\",\"no\",\"no\",\"no\",\"last\",\"no\",\"no\",\"no\",\"last\",\"no\",\"no\",\"no\",\"no\",\"no\",\"no\",\"no\",\"last\",\"no\"],\"y\":[64,64,16,64,32,16,16,64,64,32,32,32,32,32,32,32,32,32,32,32,16,32,32,32,32,32,32,32,32,16],\"type\":\"scatter\",\"xaxis\":\"x2\",\"yaxis\":\"y2\"},{\"type\":\"scatter\",\"xaxis\":\"x8\",\"yaxis\":\"y8\"},{\"colorbar\":{\"title\":{\"text\":\"Objective Value\"}},\"colorscale\":[[0.0,\"rgb(247,251,255)\"],[0.125,\"rgb(222,235,247)\"],[0.25,\"rgb(198,219,239)\"],[0.375,\"rgb(158,202,225)\"],[0.5,\"rgb(107,174,214)\"],[0.625,\"rgb(66,146,198)\"],[0.75,\"rgb(33,113,181)\"],[0.875,\"rgb(8,81,156)\"],[1.0,\"rgb(8,48,107)\"]],\"connectgaps\":true,\"contours\":{\"coloring\":\"heatmap\"},\"hoverinfo\":\"none\",\"line\":{\"smoothing\":1.3},\"reversescale\":false,\"showscale\":false,\"x\":[\"last\",\"last_transformer\",\"no\"],\"y\":[0.000018488170985753432,0.000020654924560158524,0.00002092704160886563,0.000025297642424104282,0.000026100177011954557,0.00003022787198428732,0.00003060557365103987,0.00003111460099918406,0.000032313604354018504,0.00003390520548835446,0.000035762449031571455,0.000036610513799480674,0.00003824553215856641,0.0000402479490896825,0.00004182517214316379,0.000042615123132838545,0.00004430681457478043,0.00004531177732303999,0.000047438042369214124,0.000047865338862926255,0.00004932417576334765,0.000053690407763271996,0.000057843018989413654,0.00006023348339047916,0.00006824880148118475,0.00008076210654763638,0.00009044157798420218,0.00012842234881388384,0.0001694434418498063,0.00018375857459683348,0.00018950335137876508,0.00021171252849412644],\"z\":[[null,null,null],[null,43.03220257076155,null],[14.420737178739808,null,null],[null,49.939116097418534,null],[null,null,81.05422586911368],[null,null,81.9757896637062],[null,null,82.1743107884916],[null,null,79.33411661175329],[null,null,83.88420931921007],[13.928078715914904,null,null],[null,null,78.77695392778395],[null,null,80.35995717723722],[null,null,81.15169564200622],[null,null,83.08781314009065],[null,null,74.79864097255404],[14.549176168378963,null,null],[null,null,81.1718085188009],[null,null,83.7824693691592],[null,null,78.62368059289494],[null,null,79.6605459154695],[null,null,78.09559779799518],[14.423391004704573,null,null],[null,null,73.8214946051558],[null,null,78.8879999082205],[null,null,74.03517632974786],[null,null,75.80622266524063],[14.318338498366671,null,null],[null,55.58847237743126,null],[null,null,66.92825502516989],[null,61.682116900456116,null],[null,50.584082137872706,null],[null,null,null]],\"type\":\"contour\",\"xaxis\":\"x14\",\"yaxis\":\"y14\"},{\"marker\":{\"color\":\"black\",\"line\":{\"color\":\"Grey\",\"width\":2.0}},\"mode\":\"markers\",\"showlegend\":false,\"x\":[\"last_transformer\",\"no\",\"last_transformer\",\"no\",\"last\",\"last\",\"last_transformer\",\"last_transformer\",\"last_transformer\",\"no\",\"no\",\"no\",\"no\",\"no\",\"no\",\"no\",\"last\",\"no\",\"no\",\"no\",\"last\",\"no\",\"no\",\"no\",\"no\",\"no\",\"no\",\"no\",\"last\",\"no\"],\"y\":[0.00018950335137876508,0.00008076210654763638,0.000025297642424104282,0.0001694434418498063,0.00009044157798420218,0.00003390520548835446,0.00018375857459683348,0.000020654924560158524,0.00012842234881388384,0.00003111460099918406,0.00004182517214316379,0.00006023348339047916,0.000047438042369214124,0.000057843018989413654,0.000032313604354018504,0.00003022787198428732,0.00002092704160886563,0.00003060557365103987,0.0000402479490896825,0.00004531177732303999,0.000042615123132838545,0.00003824553215856641,0.00004430681457478043,0.000047865338862926255,0.000026100177011954557,0.000036610513799480674,0.00004932417576334765,0.000035762449031571455,0.000053690407763271996,0.00006824880148118475],\"type\":\"scatter\",\"xaxis\":\"x14\",\"yaxis\":\"y14\"},{\"colorbar\":{\"title\":{\"text\":\"Objective Value\"}},\"colorscale\":[[0.0,\"rgb(247,251,255)\"],[0.125,\"rgb(222,235,247)\"],[0.25,\"rgb(198,219,239)\"],[0.375,\"rgb(158,202,225)\"],[0.5,\"rgb(107,174,214)\"],[0.625,\"rgb(66,146,198)\"],[0.75,\"rgb(33,113,181)\"],[0.875,\"rgb(8,81,156)\"],[1.0,\"rgb(8,48,107)\"]],\"connectgaps\":true,\"contours\":{\"coloring\":\"heatmap\"},\"hoverinfo\":\"none\",\"line\":{\"smoothing\":1.3},\"reversescale\":false,\"showscale\":false,\"x\":[\"last\",\"last_transformer\",\"no\"],\"y\":[\"cosineannealing\",\"lambda\",\"multiplicative\",\"no\",\"step\"],\"z\":[[null,49.939116097418534,74.03517632974786],[14.420737178739808,null,83.88420931921007],[null,55.58847237743126,79.33411661175329],[14.549176168378963,50.584082137872706,null],[14.318338498366671,61.682116900456116,null]],\"type\":\"contour\",\"xaxis\":\"x20\",\"yaxis\":\"y20\"},{\"marker\":{\"color\":\"black\",\"line\":{\"color\":\"Grey\",\"width\":2.0}},\"mode\":\"markers\",\"showlegend\":false,\"x\":[\"last_transformer\",\"no\",\"last_transformer\",\"no\",\"last\",\"last\",\"last_transformer\",\"last_transformer\",\"last_transformer\",\"no\",\"no\",\"no\",\"no\",\"no\",\"no\",\"no\",\"last\",\"no\",\"no\",\"no\",\"last\",\"no\",\"no\",\"no\",\"no\",\"no\",\"no\",\"no\",\"last\",\"no\"],\"y\":[\"no\",\"multiplicative\",\"cosineannealing\",\"cosineannealing\",\"step\",\"lambda\",\"step\",\"step\",\"multiplicative\",\"multiplicative\",\"multiplicative\",\"multiplicative\",\"multiplicative\",\"multiplicative\",\"lambda\",\"lambda\",\"lambda\",\"lambda\",\"lambda\",\"lambda\",\"no\",\"lambda\",\"lambda\",\"lambda\",\"lambda\",\"lambda\",\"lambda\",\"lambda\",\"no\",\"cosineannealing\"],\"type\":\"scatter\",\"xaxis\":\"x20\",\"yaxis\":\"y20\"},{\"colorbar\":{\"title\":{\"text\":\"Objective Value\"}},\"colorscale\":[[0.0,\"rgb(247,251,255)\"],[0.125,\"rgb(222,235,247)\"],[0.25,\"rgb(198,219,239)\"],[0.375,\"rgb(158,202,225)\"],[0.5,\"rgb(107,174,214)\"],[0.625,\"rgb(66,146,198)\"],[0.75,\"rgb(33,113,181)\"],[0.875,\"rgb(8,81,156)\"],[1.0,\"rgb(8,48,107)\"]],\"connectgaps\":true,\"contours\":{\"coloring\":\"heatmap\"},\"hoverinfo\":\"none\",\"line\":{\"smoothing\":1.3},\"reversescale\":false,\"showscale\":false,\"x\":[\"last\",\"last_transformer\",\"no\"],\"y\":[1.85,2,3,4,5,5.15],\"z\":[[null,null,null],[14.318338498366671,61.682116900456116,75.80622266524063],[14.549176168378963,null,83.7824693691592],[14.420737178739808,null,83.88420931921007],[14.423391004704573,50.584082137872706,74.03517632974786],[null,null,null]],\"type\":\"contour\",\"xaxis\":\"x26\",\"yaxis\":\"y26\"},{\"marker\":{\"color\":\"black\",\"line\":{\"color\":\"Grey\",\"width\":2.0}},\"mode\":\"markers\",\"showlegend\":false,\"x\":[\"last_transformer\",\"no\",\"last_transformer\",\"no\",\"last\",\"last\",\"last_transformer\",\"last_transformer\",\"last_transformer\",\"no\",\"no\",\"no\",\"no\",\"no\",\"no\",\"no\",\"last\",\"no\",\"no\",\"no\",\"last\",\"no\",\"no\",\"no\",\"no\",\"no\",\"no\",\"no\",\"last\",\"no\"],\"y\":[5,2,5,5,2,4,2,2,2,4,4,3,3,3,4,4,4,4,3,3,3,3,3,3,3,4,3,4,5,5],\"type\":\"scatter\",\"xaxis\":\"x26\",\"yaxis\":\"y26\"},{\"colorbar\":{\"title\":{\"text\":\"Objective Value\"}},\"colorscale\":[[0.0,\"rgb(247,251,255)\"],[0.125,\"rgb(222,235,247)\"],[0.25,\"rgb(198,219,239)\"],[0.375,\"rgb(158,202,225)\"],[0.5,\"rgb(107,174,214)\"],[0.625,\"rgb(66,146,198)\"],[0.75,\"rgb(33,113,181)\"],[0.875,\"rgb(8,81,156)\"],[1.0,\"rgb(8,48,107)\"]],\"connectgaps\":true,\"contours\":{\"coloring\":\"heatmap\"},\"hoverinfo\":\"none\",\"line\":{\"smoothing\":1.3},\"reversescale\":false,\"showscale\":false,\"x\":[\"last\",\"last_transformer\",\"no\"],\"y\":[\"\\u003cclass 'torch.optim.adam.Adam'\\u003e\",\"\\u003cclass 'torch.optim.adamw.AdamW'\\u003e\",\"\\u003cclass 'torch.optim.rmsprop.RMSprop'\\u003e\"],\"z\":[[null,55.58847237743126,83.88420931921007],[14.318338498366671,61.682116900456116,80.35995717723722],[14.549176168378963,43.03220257076155,83.7824693691592]],\"type\":\"contour\",\"xaxis\":\"x32\",\"yaxis\":\"y32\"},{\"marker\":{\"color\":\"black\",\"line\":{\"color\":\"Grey\",\"width\":2.0}},\"mode\":\"markers\",\"showlegend\":false,\"x\":[\"last_transformer\",\"no\",\"last_transformer\",\"no\",\"last\",\"last\",\"last_transformer\",\"last_transformer\",\"last_transformer\",\"no\",\"no\",\"no\",\"no\",\"no\",\"no\",\"no\",\"last\",\"no\",\"no\",\"no\",\"last\",\"no\",\"no\",\"no\",\"no\",\"no\",\"no\",\"no\",\"last\",\"no\"],\"y\":[\"\\u003cclass 'torch.optim.adam.Adam'\\u003e\",\"\\u003cclass 'torch.optim.adam.Adam'\\u003e\",\"\\u003cclass 'torch.optim.adamw.AdamW'\\u003e\",\"\\u003cclass 'torch.optim.adam.Adam'\\u003e\",\"\\u003cclass 'torch.optim.adamw.AdamW'\\u003e\",\"\\u003cclass 'torch.optim.rmsprop.RMSprop'\\u003e\",\"\\u003cclass 'torch.optim.adamw.AdamW'\\u003e\",\"\\u003cclass 'torch.optim.rmsprop.RMSprop'\\u003e\",\"\\u003cclass 'torch.optim.adam.Adam'\\u003e\",\"\\u003cclass 'torch.optim.adam.Adam'\\u003e\",\"\\u003cclass 'torch.optim.adam.Adam'\\u003e\",\"\\u003cclass 'torch.optim.adam.Adam'\\u003e\",\"\\u003cclass 'torch.optim.adam.Adam'\\u003e\",\"\\u003cclass 'torch.optim.adam.Adam'\\u003e\",\"\\u003cclass 'torch.optim.adam.Adam'\\u003e\",\"\\u003cclass 'torch.optim.rmsprop.RMSprop'\\u003e\",\"\\u003cclass 'torch.optim.rmsprop.RMSprop'\\u003e\",\"\\u003cclass 'torch.optim.rmsprop.RMSprop'\\u003e\",\"\\u003cclass 'torch.optim.rmsprop.RMSprop'\\u003e\",\"\\u003cclass 'torch.optim.rmsprop.RMSprop'\\u003e\",\"\\u003cclass 'torch.optim.rmsprop.RMSprop'\\u003e\",\"\\u003cclass 'torch.optim.rmsprop.RMSprop'\\u003e\",\"\\u003cclass 'torch.optim.rmsprop.RMSprop'\\u003e\",\"\\u003cclass 'torch.optim.rmsprop.RMSprop'\\u003e\",\"\\u003cclass 'torch.optim.rmsprop.RMSprop'\\u003e\",\"\\u003cclass 'torch.optim.adamw.AdamW'\\u003e\",\"\\u003cclass 'torch.optim.rmsprop.RMSprop'\\u003e\",\"\\u003cclass 'torch.optim.rmsprop.RMSprop'\\u003e\",\"\\u003cclass 'torch.optim.rmsprop.RMSprop'\\u003e\",\"\\u003cclass 'torch.optim.adamw.AdamW'\\u003e\"],\"type\":\"scatter\",\"xaxis\":\"x32\",\"yaxis\":\"y32\"},{\"colorbar\":{\"title\":{\"text\":\"Objective Value\"}},\"colorscale\":[[0.0,\"rgb(247,251,255)\"],[0.125,\"rgb(222,235,247)\"],[0.25,\"rgb(198,219,239)\"],[0.375,\"rgb(158,202,225)\"],[0.5,\"rgb(107,174,214)\"],[0.625,\"rgb(66,146,198)\"],[0.75,\"rgb(33,113,181)\"],[0.875,\"rgb(8,81,156)\"],[1.0,\"rgb(8,48,107)\"]],\"connectgaps\":true,\"contours\":{\"coloring\":\"heatmap\"},\"hoverinfo\":\"none\",\"line\":{\"smoothing\":1.3},\"reversescale\":false,\"showscale\":false,\"x\":[0.000018488170985753432,0.000020654924560158524,0.00002092704160886563,0.000025297642424104282,0.000026100177011954557,0.00003022787198428732,0.00003060557365103987,0.00003111460099918406,0.000032313604354018504,0.00003390520548835446,0.000035762449031571455,0.000036610513799480674,0.00003824553215856641,0.0000402479490896825,0.00004182517214316379,0.000042615123132838545,0.00004430681457478043,0.00004531177732303999,0.000047438042369214124,0.000047865338862926255,0.00004932417576334765,0.000053690407763271996,0.000057843018989413654,0.00006023348339047916,0.00006824880148118475,0.00008076210654763638,0.00009044157798420218,0.00012842234881388384,0.0001694434418498063,0.00018375857459683348,0.00018950335137876508,0.00021171252849412644],\"y\":[13.6,16,32,64,66.4],\"z\":[[null,null,null,null,null,null,null,null,null,null,null,null,null,null,null,null,null,null,null,null,null,null,null,null,null,null,null,null,null,null,null,null],[null,null,null,49.939116097418534,null,null,null,null,null,13.928078715914904,null,null,null,null,null,14.549176168378963,null,null,null,null,null,null,null,null,74.03517632974786,null,null,null,null,61.682116900456116,null,null],[null,null,14.420737178739808,null,81.05422586911368,81.9757896637062,82.1743107884916,79.33411661175329,83.88420931921007,null,78.77695392778395,80.35995717723722,81.15169564200622,83.08781314009065,74.79864097255404,null,81.1718085188009,83.7824693691592,78.62368059289494,79.6605459154695,78.09559779799518,14.423391004704573,73.8214946051558,78.8879999082205,null,null,14.318338498366671,null,null,null,null,null],[null,43.03220257076155,null,null,null,null,null,null,null,null,null,null,null,null,null,null,null,null,null,null,null,null,null,null,null,75.80622266524063,null,55.58847237743126,66.92825502516989,null,50.584082137872706,null],[null,null,null,null,null,null,null,null,null,null,null,null,null,null,null,null,null,null,null,null,null,null,null,null,null,null,null,null,null,null,null,null]],\"type\":\"contour\",\"xaxis\":\"x3\",\"yaxis\":\"y3\"},{\"marker\":{\"color\":\"black\",\"line\":{\"color\":\"Grey\",\"width\":2.0}},\"mode\":\"markers\",\"showlegend\":false,\"x\":[0.00018950335137876508,0.00008076210654763638,0.000025297642424104282,0.0001694434418498063,0.00009044157798420218,0.00003390520548835446,0.00018375857459683348,0.000020654924560158524,0.00012842234881388384,0.00003111460099918406,0.00004182517214316379,0.00006023348339047916,0.000047438042369214124,0.000057843018989413654,0.000032313604354018504,0.00003022787198428732,0.00002092704160886563,0.00003060557365103987,0.0000402479490896825,0.00004531177732303999,0.000042615123132838545,0.00003824553215856641,0.00004430681457478043,0.000047865338862926255,0.000026100177011954557,0.000036610513799480674,0.00004932417576334765,0.000035762449031571455,0.000053690407763271996,0.00006824880148118475],\"y\":[64,64,16,64,32,16,16,64,64,32,32,32,32,32,32,32,32,32,32,32,16,32,32,32,32,32,32,32,32,16],\"type\":\"scatter\",\"xaxis\":\"x3\",\"yaxis\":\"y3\"},{\"colorbar\":{\"title\":{\"text\":\"Objective Value\"}},\"colorscale\":[[0.0,\"rgb(247,251,255)\"],[0.125,\"rgb(222,235,247)\"],[0.25,\"rgb(198,219,239)\"],[0.375,\"rgb(158,202,225)\"],[0.5,\"rgb(107,174,214)\"],[0.625,\"rgb(66,146,198)\"],[0.75,\"rgb(33,113,181)\"],[0.875,\"rgb(8,81,156)\"],[1.0,\"rgb(8,48,107)\"]],\"connectgaps\":true,\"contours\":{\"coloring\":\"heatmap\"},\"hoverinfo\":\"none\",\"line\":{\"smoothing\":1.3},\"reversescale\":false,\"showscale\":false,\"x\":[0.000018488170985753432,0.000020654924560158524,0.00002092704160886563,0.000025297642424104282,0.000026100177011954557,0.00003022787198428732,0.00003060557365103987,0.00003111460099918406,0.000032313604354018504,0.00003390520548835446,0.000035762449031571455,0.000036610513799480674,0.00003824553215856641,0.0000402479490896825,0.00004182517214316379,0.000042615123132838545,0.00004430681457478043,0.00004531177732303999,0.000047438042369214124,0.000047865338862926255,0.00004932417576334765,0.000053690407763271996,0.000057843018989413654,0.00006023348339047916,0.00006824880148118475,0.00008076210654763638,0.00009044157798420218,0.00012842234881388384,0.0001694434418498063,0.00018375857459683348,0.00018950335137876508,0.00021171252849412644],\"y\":[\"last\",\"last_transformer\",\"no\"],\"z\":[[null,null,14.420737178739808,null,null,null,null,null,null,13.928078715914904,null,null,null,null,null,14.549176168378963,null,null,null,null,null,14.423391004704573,null,null,null,null,14.318338498366671,null,null,null,null,null],[null,43.03220257076155,null,49.939116097418534,null,null,null,null,null,null,null,null,null,null,null,null,null,null,null,null,null,null,null,null,null,null,null,55.58847237743126,null,61.682116900456116,50.584082137872706,null],[null,null,null,null,81.05422586911368,81.9757896637062,82.1743107884916,79.33411661175329,83.88420931921007,null,78.77695392778395,80.35995717723722,81.15169564200622,83.08781314009065,74.79864097255404,null,81.1718085188009,83.7824693691592,78.62368059289494,79.6605459154695,78.09559779799518,null,73.8214946051558,78.8879999082205,74.03517632974786,75.80622266524063,null,null,66.92825502516989,null,null,null]],\"type\":\"contour\",\"xaxis\":\"x9\",\"yaxis\":\"y9\"},{\"marker\":{\"color\":\"black\",\"line\":{\"color\":\"Grey\",\"width\":2.0}},\"mode\":\"markers\",\"showlegend\":false,\"x\":[0.00018950335137876508,0.00008076210654763638,0.000025297642424104282,0.0001694434418498063,0.00009044157798420218,0.00003390520548835446,0.00018375857459683348,0.000020654924560158524,0.00012842234881388384,0.00003111460099918406,0.00004182517214316379,0.00006023348339047916,0.000047438042369214124,0.000057843018989413654,0.000032313604354018504,0.00003022787198428732,0.00002092704160886563,0.00003060557365103987,0.0000402479490896825,0.00004531177732303999,0.000042615123132838545,0.00003824553215856641,0.00004430681457478043,0.000047865338862926255,0.000026100177011954557,0.000036610513799480674,0.00004932417576334765,0.000035762449031571455,0.000053690407763271996,0.00006824880148118475],\"y\":[\"last_transformer\",\"no\",\"last_transformer\",\"no\",\"last\",\"last\",\"last_transformer\",\"last_transformer\",\"last_transformer\",\"no\",\"no\",\"no\",\"no\",\"no\",\"no\",\"no\",\"last\",\"no\",\"no\",\"no\",\"last\",\"no\",\"no\",\"no\",\"no\",\"no\",\"no\",\"no\",\"last\",\"no\"],\"type\":\"scatter\",\"xaxis\":\"x9\",\"yaxis\":\"y9\"},{\"type\":\"scatter\",\"xaxis\":\"x15\",\"yaxis\":\"y15\"},{\"colorbar\":{\"title\":{\"text\":\"Objective Value\"}},\"colorscale\":[[0.0,\"rgb(247,251,255)\"],[0.125,\"rgb(222,235,247)\"],[0.25,\"rgb(198,219,239)\"],[0.375,\"rgb(158,202,225)\"],[0.5,\"rgb(107,174,214)\"],[0.625,\"rgb(66,146,198)\"],[0.75,\"rgb(33,113,181)\"],[0.875,\"rgb(8,81,156)\"],[1.0,\"rgb(8,48,107)\"]],\"connectgaps\":true,\"contours\":{\"coloring\":\"heatmap\"},\"hoverinfo\":\"none\",\"line\":{\"smoothing\":1.3},\"reversescale\":false,\"showscale\":false,\"x\":[0.000018488170985753432,0.000020654924560158524,0.00002092704160886563,0.000025297642424104282,0.000026100177011954557,0.00003022787198428732,0.00003060557365103987,0.00003111460099918406,0.000032313604354018504,0.00003390520548835446,0.000035762449031571455,0.000036610513799480674,0.00003824553215856641,0.0000402479490896825,0.00004182517214316379,0.000042615123132838545,0.00004430681457478043,0.00004531177732303999,0.000047438042369214124,0.000047865338862926255,0.00004932417576334765,0.000053690407763271996,0.000057843018989413654,0.00006023348339047916,0.00006824880148118475,0.00008076210654763638,0.00009044157798420218,0.00012842234881388384,0.0001694434418498063,0.00018375857459683348,0.00018950335137876508,0.00021171252849412644],\"y\":[\"cosineannealing\",\"lambda\",\"multiplicative\",\"no\",\"step\"],\"z\":[[null,null,null,49.939116097418534,null,null,null,null,null,null,null,null,null,null,null,null,null,null,null,null,null,null,null,null,74.03517632974786,null,null,null,66.92825502516989,null,null,null],[null,null,14.420737178739808,null,81.05422586911368,81.9757896637062,82.1743107884916,null,83.88420931921007,13.928078715914904,78.77695392778395,80.35995717723722,81.15169564200622,83.08781314009065,null,null,81.1718085188009,83.7824693691592,null,79.6605459154695,78.09559779799518,null,null,null,null,null,null,null,null,null,null,null],[null,null,null,null,null,null,null,79.33411661175329,null,null,null,null,null,null,74.79864097255404,null,null,null,78.62368059289494,null,null,null,73.8214946051558,78.8879999082205,null,75.80622266524063,null,55.58847237743126,null,null,null,null],[null,null,null,null,null,null,null,null,null,null,null,null,null,null,null,14.549176168378963,null,null,null,null,null,14.423391004704573,null,null,null,null,null,null,null,null,50.584082137872706,null],[null,43.03220257076155,null,null,null,null,null,null,null,null,null,null,null,null,null,null,null,null,null,null,null,null,null,null,null,null,14.318338498366671,null,null,61.682116900456116,null,null]],\"type\":\"contour\",\"xaxis\":\"x21\",\"yaxis\":\"y21\"},{\"marker\":{\"color\":\"black\",\"line\":{\"color\":\"Grey\",\"width\":2.0}},\"mode\":\"markers\",\"showlegend\":false,\"x\":[0.00018950335137876508,0.00008076210654763638,0.000025297642424104282,0.0001694434418498063,0.00009044157798420218,0.00003390520548835446,0.00018375857459683348,0.000020654924560158524,0.00012842234881388384,0.00003111460099918406,0.00004182517214316379,0.00006023348339047916,0.000047438042369214124,0.000057843018989413654,0.000032313604354018504,0.00003022787198428732,0.00002092704160886563,0.00003060557365103987,0.0000402479490896825,0.00004531177732303999,0.000042615123132838545,0.00003824553215856641,0.00004430681457478043,0.000047865338862926255,0.000026100177011954557,0.000036610513799480674,0.00004932417576334765,0.000035762449031571455,0.000053690407763271996,0.00006824880148118475],\"y\":[\"no\",\"multiplicative\",\"cosineannealing\",\"cosineannealing\",\"step\",\"lambda\",\"step\",\"step\",\"multiplicative\",\"multiplicative\",\"multiplicative\",\"multiplicative\",\"multiplicative\",\"multiplicative\",\"lambda\",\"lambda\",\"lambda\",\"lambda\",\"lambda\",\"lambda\",\"no\",\"lambda\",\"lambda\",\"lambda\",\"lambda\",\"lambda\",\"lambda\",\"lambda\",\"no\",\"cosineannealing\"],\"type\":\"scatter\",\"xaxis\":\"x21\",\"yaxis\":\"y21\"},{\"colorbar\":{\"title\":{\"text\":\"Objective Value\"}},\"colorscale\":[[0.0,\"rgb(247,251,255)\"],[0.125,\"rgb(222,235,247)\"],[0.25,\"rgb(198,219,239)\"],[0.375,\"rgb(158,202,225)\"],[0.5,\"rgb(107,174,214)\"],[0.625,\"rgb(66,146,198)\"],[0.75,\"rgb(33,113,181)\"],[0.875,\"rgb(8,81,156)\"],[1.0,\"rgb(8,48,107)\"]],\"connectgaps\":true,\"contours\":{\"coloring\":\"heatmap\"},\"hoverinfo\":\"none\",\"line\":{\"smoothing\":1.3},\"reversescale\":false,\"showscale\":false,\"x\":[0.000018488170985753432,0.000020654924560158524,0.00002092704160886563,0.000025297642424104282,0.000026100177011954557,0.00003022787198428732,0.00003060557365103987,0.00003111460099918406,0.000032313604354018504,0.00003390520548835446,0.000035762449031571455,0.000036610513799480674,0.00003824553215856641,0.0000402479490896825,0.00004182517214316379,0.000042615123132838545,0.00004430681457478043,0.00004531177732303999,0.000047438042369214124,0.000047865338862926255,0.00004932417576334765,0.000053690407763271996,0.000057843018989413654,0.00006023348339047916,0.00006824880148118475,0.00008076210654763638,0.00009044157798420218,0.00012842234881388384,0.0001694434418498063,0.00018375857459683348,0.00018950335137876508,0.00021171252849412644],\"y\":[1.85,2,3,4,5,5.15],\"z\":[[null,null,null,null,null,null,null,null,null,null,null,null,null,null,null,null,null,null,null,null,null,null,null,null,null,null,null,null,null,null,null,null],[null,43.03220257076155,null,null,null,null,null,null,null,null,null,null,null,null,null,null,null,null,null,null,null,null,null,null,null,75.80622266524063,14.318338498366671,55.58847237743126,null,61.682116900456116,null,null],[null,null,null,null,81.05422586911368,null,null,null,null,null,null,null,81.15169564200622,83.08781314009065,null,14.549176168378963,81.1718085188009,83.7824693691592,78.62368059289494,79.6605459154695,78.09559779799518,null,73.8214946051558,78.8879999082205,null,null,null,null,null,null,null,null],[null,null,14.420737178739808,null,null,81.9757896637062,82.1743107884916,79.33411661175329,83.88420931921007,13.928078715914904,78.77695392778395,80.35995717723722,null,null,74.79864097255404,null,null,null,null,null,null,null,null,null,null,null,null,null,null,null,null,null],[null,null,null,49.939116097418534,null,null,null,null,null,null,null,null,null,null,null,null,null,null,null,null,null,14.423391004704573,null,null,74.03517632974786,null,null,null,66.92825502516989,null,50.584082137872706,null],[null,null,null,null,null,null,null,null,null,null,null,null,null,null,null,null,null,null,null,null,null,null,null,null,null,null,null,null,null,null,null,null]],\"type\":\"contour\",\"xaxis\":\"x27\",\"yaxis\":\"y27\"},{\"marker\":{\"color\":\"black\",\"line\":{\"color\":\"Grey\",\"width\":2.0}},\"mode\":\"markers\",\"showlegend\":false,\"x\":[0.00018950335137876508,0.00008076210654763638,0.000025297642424104282,0.0001694434418498063,0.00009044157798420218,0.00003390520548835446,0.00018375857459683348,0.000020654924560158524,0.00012842234881388384,0.00003111460099918406,0.00004182517214316379,0.00006023348339047916,0.000047438042369214124,0.000057843018989413654,0.000032313604354018504,0.00003022787198428732,0.00002092704160886563,0.00003060557365103987,0.0000402479490896825,0.00004531177732303999,0.000042615123132838545,0.00003824553215856641,0.00004430681457478043,0.000047865338862926255,0.000026100177011954557,0.000036610513799480674,0.00004932417576334765,0.000035762449031571455,0.000053690407763271996,0.00006824880148118475],\"y\":[5,2,5,5,2,4,2,2,2,4,4,3,3,3,4,4,4,4,3,3,3,3,3,3,3,4,3,4,5,5],\"type\":\"scatter\",\"xaxis\":\"x27\",\"yaxis\":\"y27\"},{\"colorbar\":{\"title\":{\"text\":\"Objective Value\"}},\"colorscale\":[[0.0,\"rgb(247,251,255)\"],[0.125,\"rgb(222,235,247)\"],[0.25,\"rgb(198,219,239)\"],[0.375,\"rgb(158,202,225)\"],[0.5,\"rgb(107,174,214)\"],[0.625,\"rgb(66,146,198)\"],[0.75,\"rgb(33,113,181)\"],[0.875,\"rgb(8,81,156)\"],[1.0,\"rgb(8,48,107)\"]],\"connectgaps\":true,\"contours\":{\"coloring\":\"heatmap\"},\"hoverinfo\":\"none\",\"line\":{\"smoothing\":1.3},\"reversescale\":false,\"showscale\":false,\"x\":[0.000018488170985753432,0.000020654924560158524,0.00002092704160886563,0.000025297642424104282,0.000026100177011954557,0.00003022787198428732,0.00003060557365103987,0.00003111460099918406,0.000032313604354018504,0.00003390520548835446,0.000035762449031571455,0.000036610513799480674,0.00003824553215856641,0.0000402479490896825,0.00004182517214316379,0.000042615123132838545,0.00004430681457478043,0.00004531177732303999,0.000047438042369214124,0.000047865338862926255,0.00004932417576334765,0.000053690407763271996,0.000057843018989413654,0.00006023348339047916,0.00006824880148118475,0.00008076210654763638,0.00009044157798420218,0.00012842234881388384,0.0001694434418498063,0.00018375857459683348,0.00018950335137876508,0.00021171252849412644],\"y\":[\"\\u003cclass 'torch.optim.adam.Adam'\\u003e\",\"\\u003cclass 'torch.optim.adamw.AdamW'\\u003e\",\"\\u003cclass 'torch.optim.rmsprop.RMSprop'\\u003e\"],\"z\":[[null,null,null,null,null,null,null,79.33411661175329,83.88420931921007,null,null,null,null,null,74.79864097255404,null,null,null,78.62368059289494,null,null,null,73.8214946051558,78.8879999082205,null,75.80622266524063,null,55.58847237743126,66.92825502516989,null,50.584082137872706,null],[null,null,null,49.939116097418534,null,null,null,null,null,null,null,80.35995717723722,null,null,null,null,null,null,null,null,null,null,null,null,74.03517632974786,null,14.318338498366671,null,null,61.682116900456116,null,null],[null,43.03220257076155,14.420737178739808,null,81.05422586911368,81.9757896637062,82.1743107884916,null,null,13.928078715914904,78.77695392778395,null,81.15169564200622,83.08781314009065,null,14.549176168378963,81.1718085188009,83.7824693691592,null,79.6605459154695,78.09559779799518,14.423391004704573,null,null,null,null,null,null,null,null,null,null]],\"type\":\"contour\",\"xaxis\":\"x33\",\"yaxis\":\"y33\"},{\"marker\":{\"color\":\"black\",\"line\":{\"color\":\"Grey\",\"width\":2.0}},\"mode\":\"markers\",\"showlegend\":false,\"x\":[0.00018950335137876508,0.00008076210654763638,0.000025297642424104282,0.0001694434418498063,0.00009044157798420218,0.00003390520548835446,0.00018375857459683348,0.000020654924560158524,0.00012842234881388384,0.00003111460099918406,0.00004182517214316379,0.00006023348339047916,0.000047438042369214124,0.000057843018989413654,0.000032313604354018504,0.00003022787198428732,0.00002092704160886563,0.00003060557365103987,0.0000402479490896825,0.00004531177732303999,0.000042615123132838545,0.00003824553215856641,0.00004430681457478043,0.000047865338862926255,0.000026100177011954557,0.000036610513799480674,0.00004932417576334765,0.000035762449031571455,0.000053690407763271996,0.00006824880148118475],\"y\":[\"\\u003cclass 'torch.optim.adam.Adam'\\u003e\",\"\\u003cclass 'torch.optim.adam.Adam'\\u003e\",\"\\u003cclass 'torch.optim.adamw.AdamW'\\u003e\",\"\\u003cclass 'torch.optim.adam.Adam'\\u003e\",\"\\u003cclass 'torch.optim.adamw.AdamW'\\u003e\",\"\\u003cclass 'torch.optim.rmsprop.RMSprop'\\u003e\",\"\\u003cclass 'torch.optim.adamw.AdamW'\\u003e\",\"\\u003cclass 'torch.optim.rmsprop.RMSprop'\\u003e\",\"\\u003cclass 'torch.optim.adam.Adam'\\u003e\",\"\\u003cclass 'torch.optim.adam.Adam'\\u003e\",\"\\u003cclass 'torch.optim.adam.Adam'\\u003e\",\"\\u003cclass 'torch.optim.adam.Adam'\\u003e\",\"\\u003cclass 'torch.optim.adam.Adam'\\u003e\",\"\\u003cclass 'torch.optim.adam.Adam'\\u003e\",\"\\u003cclass 'torch.optim.adam.Adam'\\u003e\",\"\\u003cclass 'torch.optim.rmsprop.RMSprop'\\u003e\",\"\\u003cclass 'torch.optim.rmsprop.RMSprop'\\u003e\",\"\\u003cclass 'torch.optim.rmsprop.RMSprop'\\u003e\",\"\\u003cclass 'torch.optim.rmsprop.RMSprop'\\u003e\",\"\\u003cclass 'torch.optim.rmsprop.RMSprop'\\u003e\",\"\\u003cclass 'torch.optim.rmsprop.RMSprop'\\u003e\",\"\\u003cclass 'torch.optim.rmsprop.RMSprop'\\u003e\",\"\\u003cclass 'torch.optim.rmsprop.RMSprop'\\u003e\",\"\\u003cclass 'torch.optim.rmsprop.RMSprop'\\u003e\",\"\\u003cclass 'torch.optim.rmsprop.RMSprop'\\u003e\",\"\\u003cclass 'torch.optim.adamw.AdamW'\\u003e\",\"\\u003cclass 'torch.optim.rmsprop.RMSprop'\\u003e\",\"\\u003cclass 'torch.optim.rmsprop.RMSprop'\\u003e\",\"\\u003cclass 'torch.optim.rmsprop.RMSprop'\\u003e\",\"\\u003cclass 'torch.optim.adamw.AdamW'\\u003e\"],\"type\":\"scatter\",\"xaxis\":\"x33\",\"yaxis\":\"y33\"},{\"colorbar\":{\"title\":{\"text\":\"Objective Value\"}},\"colorscale\":[[0.0,\"rgb(247,251,255)\"],[0.125,\"rgb(222,235,247)\"],[0.25,\"rgb(198,219,239)\"],[0.375,\"rgb(158,202,225)\"],[0.5,\"rgb(107,174,214)\"],[0.625,\"rgb(66,146,198)\"],[0.75,\"rgb(33,113,181)\"],[0.875,\"rgb(8,81,156)\"],[1.0,\"rgb(8,48,107)\"]],\"connectgaps\":true,\"contours\":{\"coloring\":\"heatmap\"},\"hoverinfo\":\"none\",\"line\":{\"smoothing\":1.3},\"reversescale\":false,\"showscale\":false,\"x\":[\"cosineannealing\",\"lambda\",\"multiplicative\",\"no\",\"step\"],\"y\":[13.6,16,32,64,66.4],\"z\":[[null,null,null,null,null],[74.03517632974786,13.928078715914904,null,14.549176168378963,61.682116900456116],[null,83.88420931921007,79.33411661175329,14.423391004704573,14.318338498366671],[66.92825502516989,null,75.80622266524063,50.584082137872706,43.03220257076155],[null,null,null,null,null]],\"type\":\"contour\",\"xaxis\":\"x4\",\"yaxis\":\"y4\"},{\"marker\":{\"color\":\"black\",\"line\":{\"color\":\"Grey\",\"width\":2.0}},\"mode\":\"markers\",\"showlegend\":false,\"x\":[\"no\",\"multiplicative\",\"cosineannealing\",\"cosineannealing\",\"step\",\"lambda\",\"step\",\"step\",\"multiplicative\",\"multiplicative\",\"multiplicative\",\"multiplicative\",\"multiplicative\",\"multiplicative\",\"lambda\",\"lambda\",\"lambda\",\"lambda\",\"lambda\",\"lambda\",\"no\",\"lambda\",\"lambda\",\"lambda\",\"lambda\",\"lambda\",\"lambda\",\"lambda\",\"no\",\"cosineannealing\"],\"y\":[64,64,16,64,32,16,16,64,64,32,32,32,32,32,32,32,32,32,32,32,16,32,32,32,32,32,32,32,32,16],\"type\":\"scatter\",\"xaxis\":\"x4\",\"yaxis\":\"y4\"},{\"colorbar\":{\"title\":{\"text\":\"Objective Value\"}},\"colorscale\":[[0.0,\"rgb(247,251,255)\"],[0.125,\"rgb(222,235,247)\"],[0.25,\"rgb(198,219,239)\"],[0.375,\"rgb(158,202,225)\"],[0.5,\"rgb(107,174,214)\"],[0.625,\"rgb(66,146,198)\"],[0.75,\"rgb(33,113,181)\"],[0.875,\"rgb(8,81,156)\"],[1.0,\"rgb(8,48,107)\"]],\"connectgaps\":true,\"contours\":{\"coloring\":\"heatmap\"},\"hoverinfo\":\"none\",\"line\":{\"smoothing\":1.3},\"reversescale\":false,\"showscale\":false,\"x\":[\"cosineannealing\",\"lambda\",\"multiplicative\",\"no\",\"step\"],\"y\":[\"last\",\"last_transformer\",\"no\"],\"z\":[[null,14.420737178739808,null,14.549176168378963,14.318338498366671],[49.939116097418534,null,55.58847237743126,50.584082137872706,61.682116900456116],[74.03517632974786,83.88420931921007,79.33411661175329,null,null]],\"type\":\"contour\",\"xaxis\":\"x10\",\"yaxis\":\"y10\"},{\"marker\":{\"color\":\"black\",\"line\":{\"color\":\"Grey\",\"width\":2.0}},\"mode\":\"markers\",\"showlegend\":false,\"x\":[\"no\",\"multiplicative\",\"cosineannealing\",\"cosineannealing\",\"step\",\"lambda\",\"step\",\"step\",\"multiplicative\",\"multiplicative\",\"multiplicative\",\"multiplicative\",\"multiplicative\",\"multiplicative\",\"lambda\",\"lambda\",\"lambda\",\"lambda\",\"lambda\",\"lambda\",\"no\",\"lambda\",\"lambda\",\"lambda\",\"lambda\",\"lambda\",\"lambda\",\"lambda\",\"no\",\"cosineannealing\"],\"y\":[\"last_transformer\",\"no\",\"last_transformer\",\"no\",\"last\",\"last\",\"last_transformer\",\"last_transformer\",\"last_transformer\",\"no\",\"no\",\"no\",\"no\",\"no\",\"no\",\"no\",\"last\",\"no\",\"no\",\"no\",\"last\",\"no\",\"no\",\"no\",\"no\",\"no\",\"no\",\"no\",\"last\",\"no\"],\"type\":\"scatter\",\"xaxis\":\"x10\",\"yaxis\":\"y10\"},{\"colorbar\":{\"title\":{\"text\":\"Objective Value\"}},\"colorscale\":[[0.0,\"rgb(247,251,255)\"],[0.125,\"rgb(222,235,247)\"],[0.25,\"rgb(198,219,239)\"],[0.375,\"rgb(158,202,225)\"],[0.5,\"rgb(107,174,214)\"],[0.625,\"rgb(66,146,198)\"],[0.75,\"rgb(33,113,181)\"],[0.875,\"rgb(8,81,156)\"],[1.0,\"rgb(8,48,107)\"]],\"connectgaps\":true,\"contours\":{\"coloring\":\"heatmap\"},\"hoverinfo\":\"none\",\"line\":{\"smoothing\":1.3},\"reversescale\":false,\"showscale\":false,\"x\":[\"cosineannealing\",\"lambda\",\"multiplicative\",\"no\",\"step\"],\"y\":[0.000018488170985753432,0.000020654924560158524,0.00002092704160886563,0.000025297642424104282,0.000026100177011954557,0.00003022787198428732,0.00003060557365103987,0.00003111460099918406,0.000032313604354018504,0.00003390520548835446,0.000035762449031571455,0.000036610513799480674,0.00003824553215856641,0.0000402479490896825,0.00004182517214316379,0.000042615123132838545,0.00004430681457478043,0.00004531177732303999,0.000047438042369214124,0.000047865338862926255,0.00004932417576334765,0.000053690407763271996,0.000057843018989413654,0.00006023348339047916,0.00006824880148118475,0.00008076210654763638,0.00009044157798420218,0.00012842234881388384,0.0001694434418498063,0.00018375857459683348,0.00018950335137876508,0.00021171252849412644],\"z\":[[null,null,null,null,null],[null,null,null,null,43.03220257076155],[null,14.420737178739808,null,null,null],[49.939116097418534,null,null,null,null],[null,81.05422586911368,null,null,null],[null,81.9757896637062,null,null,null],[null,82.1743107884916,null,null,null],[null,null,79.33411661175329,null,null],[null,83.88420931921007,null,null,null],[null,13.928078715914904,null,null,null],[null,78.77695392778395,null,null,null],[null,80.35995717723722,null,null,null],[null,81.15169564200622,null,null,null],[null,83.08781314009065,null,null,null],[null,null,74.79864097255404,null,null],[null,null,null,14.549176168378963,null],[null,81.1718085188009,null,null,null],[null,83.7824693691592,null,null,null],[null,null,78.62368059289494,null,null],[null,79.6605459154695,null,null,null],[null,78.09559779799518,null,null,null],[null,null,null,14.423391004704573,null],[null,null,73.8214946051558,null,null],[null,null,78.8879999082205,null,null],[74.03517632974786,null,null,null,null],[null,null,75.80622266524063,null,null],[null,null,null,null,14.318338498366671],[null,null,55.58847237743126,null,null],[66.92825502516989,null,null,null,null],[null,null,null,null,61.682116900456116],[null,null,null,50.584082137872706,null],[null,null,null,null,null]],\"type\":\"contour\",\"xaxis\":\"x16\",\"yaxis\":\"y16\"},{\"marker\":{\"color\":\"black\",\"line\":{\"color\":\"Grey\",\"width\":2.0}},\"mode\":\"markers\",\"showlegend\":false,\"x\":[\"no\",\"multiplicative\",\"cosineannealing\",\"cosineannealing\",\"step\",\"lambda\",\"step\",\"step\",\"multiplicative\",\"multiplicative\",\"multiplicative\",\"multiplicative\",\"multiplicative\",\"multiplicative\",\"lambda\",\"lambda\",\"lambda\",\"lambda\",\"lambda\",\"lambda\",\"no\",\"lambda\",\"lambda\",\"lambda\",\"lambda\",\"lambda\",\"lambda\",\"lambda\",\"no\",\"cosineannealing\"],\"y\":[0.00018950335137876508,0.00008076210654763638,0.000025297642424104282,0.0001694434418498063,0.00009044157798420218,0.00003390520548835446,0.00018375857459683348,0.000020654924560158524,0.00012842234881388384,0.00003111460099918406,0.00004182517214316379,0.00006023348339047916,0.000047438042369214124,0.000057843018989413654,0.000032313604354018504,0.00003022787198428732,0.00002092704160886563,0.00003060557365103987,0.0000402479490896825,0.00004531177732303999,0.000042615123132838545,0.00003824553215856641,0.00004430681457478043,0.000047865338862926255,0.000026100177011954557,0.000036610513799480674,0.00004932417576334765,0.000035762449031571455,0.000053690407763271996,0.00006824880148118475],\"type\":\"scatter\",\"xaxis\":\"x16\",\"yaxis\":\"y16\"},{\"type\":\"scatter\",\"xaxis\":\"x22\",\"yaxis\":\"y22\"},{\"colorbar\":{\"title\":{\"text\":\"Objective Value\"}},\"colorscale\":[[0.0,\"rgb(247,251,255)\"],[0.125,\"rgb(222,235,247)\"],[0.25,\"rgb(198,219,239)\"],[0.375,\"rgb(158,202,225)\"],[0.5,\"rgb(107,174,214)\"],[0.625,\"rgb(66,146,198)\"],[0.75,\"rgb(33,113,181)\"],[0.875,\"rgb(8,81,156)\"],[1.0,\"rgb(8,48,107)\"]],\"connectgaps\":true,\"contours\":{\"coloring\":\"heatmap\"},\"hoverinfo\":\"none\",\"line\":{\"smoothing\":1.3},\"reversescale\":false,\"showscale\":false,\"x\":[\"cosineannealing\",\"lambda\",\"multiplicative\",\"no\",\"step\"],\"y\":[1.85,2,3,4,5,5.15],\"z\":[[null,null,null,null,null],[null,null,75.80622266524063,null,61.682116900456116],[null,83.7824693691592,78.8879999082205,14.549176168378963,null],[null,83.88420931921007,79.33411661175329,null,null],[74.03517632974786,null,null,50.584082137872706,null],[null,null,null,null,null]],\"type\":\"contour\",\"xaxis\":\"x28\",\"yaxis\":\"y28\"},{\"marker\":{\"color\":\"black\",\"line\":{\"color\":\"Grey\",\"width\":2.0}},\"mode\":\"markers\",\"showlegend\":false,\"x\":[\"no\",\"multiplicative\",\"cosineannealing\",\"cosineannealing\",\"step\",\"lambda\",\"step\",\"step\",\"multiplicative\",\"multiplicative\",\"multiplicative\",\"multiplicative\",\"multiplicative\",\"multiplicative\",\"lambda\",\"lambda\",\"lambda\",\"lambda\",\"lambda\",\"lambda\",\"no\",\"lambda\",\"lambda\",\"lambda\",\"lambda\",\"lambda\",\"lambda\",\"lambda\",\"no\",\"cosineannealing\"],\"y\":[5,2,5,5,2,4,2,2,2,4,4,3,3,3,4,4,4,4,3,3,3,3,3,3,3,4,3,4,5,5],\"type\":\"scatter\",\"xaxis\":\"x28\",\"yaxis\":\"y28\"},{\"colorbar\":{\"title\":{\"text\":\"Objective Value\"}},\"colorscale\":[[0.0,\"rgb(247,251,255)\"],[0.125,\"rgb(222,235,247)\"],[0.25,\"rgb(198,219,239)\"],[0.375,\"rgb(158,202,225)\"],[0.5,\"rgb(107,174,214)\"],[0.625,\"rgb(66,146,198)\"],[0.75,\"rgb(33,113,181)\"],[0.875,\"rgb(8,81,156)\"],[1.0,\"rgb(8,48,107)\"]],\"connectgaps\":true,\"contours\":{\"coloring\":\"heatmap\"},\"hoverinfo\":\"none\",\"line\":{\"smoothing\":1.3},\"reversescale\":false,\"showscale\":false,\"x\":[\"cosineannealing\",\"lambda\",\"multiplicative\",\"no\",\"step\"],\"y\":[\"\\u003cclass 'torch.optim.adam.Adam'\\u003e\",\"\\u003cclass 'torch.optim.adamw.AdamW'\\u003e\",\"\\u003cclass 'torch.optim.rmsprop.RMSprop'\\u003e\"],\"z\":[[66.92825502516989,83.88420931921007,79.33411661175329,50.584082137872706,null],[74.03517632974786,80.35995717723722,null,null,61.682116900456116],[null,83.7824693691592,null,14.549176168378963,43.03220257076155]],\"type\":\"contour\",\"xaxis\":\"x34\",\"yaxis\":\"y34\"},{\"marker\":{\"color\":\"black\",\"line\":{\"color\":\"Grey\",\"width\":2.0}},\"mode\":\"markers\",\"showlegend\":false,\"x\":[\"no\",\"multiplicative\",\"cosineannealing\",\"cosineannealing\",\"step\",\"lambda\",\"step\",\"step\",\"multiplicative\",\"multiplicative\",\"multiplicative\",\"multiplicative\",\"multiplicative\",\"multiplicative\",\"lambda\",\"lambda\",\"lambda\",\"lambda\",\"lambda\",\"lambda\",\"no\",\"lambda\",\"lambda\",\"lambda\",\"lambda\",\"lambda\",\"lambda\",\"lambda\",\"no\",\"cosineannealing\"],\"y\":[\"\\u003cclass 'torch.optim.adam.Adam'\\u003e\",\"\\u003cclass 'torch.optim.adam.Adam'\\u003e\",\"\\u003cclass 'torch.optim.adamw.AdamW'\\u003e\",\"\\u003cclass 'torch.optim.adam.Adam'\\u003e\",\"\\u003cclass 'torch.optim.adamw.AdamW'\\u003e\",\"\\u003cclass 'torch.optim.rmsprop.RMSprop'\\u003e\",\"\\u003cclass 'torch.optim.adamw.AdamW'\\u003e\",\"\\u003cclass 'torch.optim.rmsprop.RMSprop'\\u003e\",\"\\u003cclass 'torch.optim.adam.Adam'\\u003e\",\"\\u003cclass 'torch.optim.adam.Adam'\\u003e\",\"\\u003cclass 'torch.optim.adam.Adam'\\u003e\",\"\\u003cclass 'torch.optim.adam.Adam'\\u003e\",\"\\u003cclass 'torch.optim.adam.Adam'\\u003e\",\"\\u003cclass 'torch.optim.adam.Adam'\\u003e\",\"\\u003cclass 'torch.optim.adam.Adam'\\u003e\",\"\\u003cclass 'torch.optim.rmsprop.RMSprop'\\u003e\",\"\\u003cclass 'torch.optim.rmsprop.RMSprop'\\u003e\",\"\\u003cclass 'torch.optim.rmsprop.RMSprop'\\u003e\",\"\\u003cclass 'torch.optim.rmsprop.RMSprop'\\u003e\",\"\\u003cclass 'torch.optim.rmsprop.RMSprop'\\u003e\",\"\\u003cclass 'torch.optim.rmsprop.RMSprop'\\u003e\",\"\\u003cclass 'torch.optim.rmsprop.RMSprop'\\u003e\",\"\\u003cclass 'torch.optim.rmsprop.RMSprop'\\u003e\",\"\\u003cclass 'torch.optim.rmsprop.RMSprop'\\u003e\",\"\\u003cclass 'torch.optim.rmsprop.RMSprop'\\u003e\",\"\\u003cclass 'torch.optim.adamw.AdamW'\\u003e\",\"\\u003cclass 'torch.optim.rmsprop.RMSprop'\\u003e\",\"\\u003cclass 'torch.optim.rmsprop.RMSprop'\\u003e\",\"\\u003cclass 'torch.optim.rmsprop.RMSprop'\\u003e\",\"\\u003cclass 'torch.optim.adamw.AdamW'\\u003e\"],\"type\":\"scatter\",\"xaxis\":\"x34\",\"yaxis\":\"y34\"},{\"colorbar\":{\"title\":{\"text\":\"Objective Value\"}},\"colorscale\":[[0.0,\"rgb(247,251,255)\"],[0.125,\"rgb(222,235,247)\"],[0.25,\"rgb(198,219,239)\"],[0.375,\"rgb(158,202,225)\"],[0.5,\"rgb(107,174,214)\"],[0.625,\"rgb(66,146,198)\"],[0.75,\"rgb(33,113,181)\"],[0.875,\"rgb(8,81,156)\"],[1.0,\"rgb(8,48,107)\"]],\"connectgaps\":true,\"contours\":{\"coloring\":\"heatmap\"},\"hoverinfo\":\"none\",\"line\":{\"smoothing\":1.3},\"reversescale\":false,\"showscale\":false,\"x\":[1.85,2,3,4,5,5.15],\"y\":[13.6,16,32,64,66.4],\"z\":[[null,null,null,null,null,null],[null,61.682116900456116,14.549176168378963,13.928078715914904,74.03517632974786,null],[null,14.318338498366671,83.7824693691592,83.88420931921007,14.423391004704573,null],[null,75.80622266524063,null,null,66.92825502516989,null],[null,null,null,null,null,null]],\"type\":\"contour\",\"xaxis\":\"x5\",\"yaxis\":\"y5\"},{\"marker\":{\"color\":\"black\",\"line\":{\"color\":\"Grey\",\"width\":2.0}},\"mode\":\"markers\",\"showlegend\":false,\"x\":[5,2,5,5,2,4,2,2,2,4,4,3,3,3,4,4,4,4,3,3,3,3,3,3,3,4,3,4,5,5],\"y\":[64,64,16,64,32,16,16,64,64,32,32,32,32,32,32,32,32,32,32,32,16,32,32,32,32,32,32,32,32,16],\"type\":\"scatter\",\"xaxis\":\"x5\",\"yaxis\":\"y5\"},{\"colorbar\":{\"title\":{\"text\":\"Objective Value\"}},\"colorscale\":[[0.0,\"rgb(247,251,255)\"],[0.125,\"rgb(222,235,247)\"],[0.25,\"rgb(198,219,239)\"],[0.375,\"rgb(158,202,225)\"],[0.5,\"rgb(107,174,214)\"],[0.625,\"rgb(66,146,198)\"],[0.75,\"rgb(33,113,181)\"],[0.875,\"rgb(8,81,156)\"],[1.0,\"rgb(8,48,107)\"]],\"connectgaps\":true,\"contours\":{\"coloring\":\"heatmap\"},\"hoverinfo\":\"none\",\"line\":{\"smoothing\":1.3},\"reversescale\":false,\"showscale\":false,\"x\":[1.85,2,3,4,5,5.15],\"y\":[\"last\",\"last_transformer\",\"no\"],\"z\":[[null,14.318338498366671,14.549176168378963,14.420737178739808,14.423391004704573,null],[null,61.682116900456116,null,null,50.584082137872706,null],[null,75.80622266524063,83.7824693691592,83.88420931921007,74.03517632974786,null]],\"type\":\"contour\",\"xaxis\":\"x11\",\"yaxis\":\"y11\"},{\"marker\":{\"color\":\"black\",\"line\":{\"color\":\"Grey\",\"width\":2.0}},\"mode\":\"markers\",\"showlegend\":false,\"x\":[5,2,5,5,2,4,2,2,2,4,4,3,3,3,4,4,4,4,3,3,3,3,3,3,3,4,3,4,5,5],\"y\":[\"last_transformer\",\"no\",\"last_transformer\",\"no\",\"last\",\"last\",\"last_transformer\",\"last_transformer\",\"last_transformer\",\"no\",\"no\",\"no\",\"no\",\"no\",\"no\",\"no\",\"last\",\"no\",\"no\",\"no\",\"last\",\"no\",\"no\",\"no\",\"no\",\"no\",\"no\",\"no\",\"last\",\"no\"],\"type\":\"scatter\",\"xaxis\":\"x11\",\"yaxis\":\"y11\"},{\"colorbar\":{\"title\":{\"text\":\"Objective Value\"}},\"colorscale\":[[0.0,\"rgb(247,251,255)\"],[0.125,\"rgb(222,235,247)\"],[0.25,\"rgb(198,219,239)\"],[0.375,\"rgb(158,202,225)\"],[0.5,\"rgb(107,174,214)\"],[0.625,\"rgb(66,146,198)\"],[0.75,\"rgb(33,113,181)\"],[0.875,\"rgb(8,81,156)\"],[1.0,\"rgb(8,48,107)\"]],\"connectgaps\":true,\"contours\":{\"coloring\":\"heatmap\"},\"hoverinfo\":\"none\",\"line\":{\"smoothing\":1.3},\"reversescale\":false,\"showscale\":false,\"x\":[1.85,2,3,4,5,5.15],\"y\":[0.000018488170985753432,0.000020654924560158524,0.00002092704160886563,0.000025297642424104282,0.000026100177011954557,0.00003022787198428732,0.00003060557365103987,0.00003111460099918406,0.000032313604354018504,0.00003390520548835446,0.000035762449031571455,0.000036610513799480674,0.00003824553215856641,0.0000402479490896825,0.00004182517214316379,0.000042615123132838545,0.00004430681457478043,0.00004531177732303999,0.000047438042369214124,0.000047865338862926255,0.00004932417576334765,0.000053690407763271996,0.000057843018989413654,0.00006023348339047916,0.00006824880148118475,0.00008076210654763638,0.00009044157798420218,0.00012842234881388384,0.0001694434418498063,0.00018375857459683348,0.00018950335137876508,0.00021171252849412644],\"z\":[[null,null,null,null,null,null],[null,43.03220257076155,null,null,null,null],[null,null,null,14.420737178739808,null,null],[null,null,null,null,49.939116097418534,null],[null,null,81.05422586911368,null,null,null],[null,null,null,81.9757896637062,null,null],[null,null,null,82.1743107884916,null,null],[null,null,null,79.33411661175329,null,null],[null,null,null,83.88420931921007,null,null],[null,null,null,13.928078715914904,null,null],[null,null,null,78.77695392778395,null,null],[null,null,null,80.35995717723722,null,null],[null,null,81.15169564200622,null,null,null],[null,null,83.08781314009065,null,null,null],[null,null,null,74.79864097255404,null,null],[null,null,14.549176168378963,null,null,null],[null,null,81.1718085188009,null,null,null],[null,null,83.7824693691592,null,null,null],[null,null,78.62368059289494,null,null,null],[null,null,79.6605459154695,null,null,null],[null,null,78.09559779799518,null,null,null],[null,null,null,null,14.423391004704573,null],[null,null,73.8214946051558,null,null,null],[null,null,78.8879999082205,null,null,null],[null,null,null,null,74.03517632974786,null],[null,75.80622266524063,null,null,null,null],[null,14.318338498366671,null,null,null,null],[null,55.58847237743126,null,null,null,null],[null,null,null,null,66.92825502516989,null],[null,61.682116900456116,null,null,null,null],[null,null,null,null,50.584082137872706,null],[null,null,null,null,null,null]],\"type\":\"contour\",\"xaxis\":\"x17\",\"yaxis\":\"y17\"},{\"marker\":{\"color\":\"black\",\"line\":{\"color\":\"Grey\",\"width\":2.0}},\"mode\":\"markers\",\"showlegend\":false,\"x\":[5,2,5,5,2,4,2,2,2,4,4,3,3,3,4,4,4,4,3,3,3,3,3,3,3,4,3,4,5,5],\"y\":[0.00018950335137876508,0.00008076210654763638,0.000025297642424104282,0.0001694434418498063,0.00009044157798420218,0.00003390520548835446,0.00018375857459683348,0.000020654924560158524,0.00012842234881388384,0.00003111460099918406,0.00004182517214316379,0.00006023348339047916,0.000047438042369214124,0.000057843018989413654,0.000032313604354018504,0.00003022787198428732,0.00002092704160886563,0.00003060557365103987,0.0000402479490896825,0.00004531177732303999,0.000042615123132838545,0.00003824553215856641,0.00004430681457478043,0.000047865338862926255,0.000026100177011954557,0.000036610513799480674,0.00004932417576334765,0.000035762449031571455,0.000053690407763271996,0.00006824880148118475],\"type\":\"scatter\",\"xaxis\":\"x17\",\"yaxis\":\"y17\"},{\"colorbar\":{\"title\":{\"text\":\"Objective Value\"}},\"colorscale\":[[0.0,\"rgb(247,251,255)\"],[0.125,\"rgb(222,235,247)\"],[0.25,\"rgb(198,219,239)\"],[0.375,\"rgb(158,202,225)\"],[0.5,\"rgb(107,174,214)\"],[0.625,\"rgb(66,146,198)\"],[0.75,\"rgb(33,113,181)\"],[0.875,\"rgb(8,81,156)\"],[1.0,\"rgb(8,48,107)\"]],\"connectgaps\":true,\"contours\":{\"coloring\":\"heatmap\"},\"hoverinfo\":\"none\",\"line\":{\"smoothing\":1.3},\"reversescale\":false,\"showscale\":false,\"x\":[1.85,2,3,4,5,5.15],\"y\":[\"cosineannealing\",\"lambda\",\"multiplicative\",\"no\",\"step\"],\"z\":[[null,null,null,null,74.03517632974786,null],[null,null,83.7824693691592,83.88420931921007,null,null],[null,75.80622266524063,78.8879999082205,79.33411661175329,null,null],[null,null,14.549176168378963,null,50.584082137872706,null],[null,61.682116900456116,null,null,null,null]],\"type\":\"contour\",\"xaxis\":\"x23\",\"yaxis\":\"y23\"},{\"marker\":{\"color\":\"black\",\"line\":{\"color\":\"Grey\",\"width\":2.0}},\"mode\":\"markers\",\"showlegend\":false,\"x\":[5,2,5,5,2,4,2,2,2,4,4,3,3,3,4,4,4,4,3,3,3,3,3,3,3,4,3,4,5,5],\"y\":[\"no\",\"multiplicative\",\"cosineannealing\",\"cosineannealing\",\"step\",\"lambda\",\"step\",\"step\",\"multiplicative\",\"multiplicative\",\"multiplicative\",\"multiplicative\",\"multiplicative\",\"multiplicative\",\"lambda\",\"lambda\",\"lambda\",\"lambda\",\"lambda\",\"lambda\",\"no\",\"lambda\",\"lambda\",\"lambda\",\"lambda\",\"lambda\",\"lambda\",\"lambda\",\"no\",\"cosineannealing\"],\"type\":\"scatter\",\"xaxis\":\"x23\",\"yaxis\":\"y23\"},{\"type\":\"scatter\",\"xaxis\":\"x29\",\"yaxis\":\"y29\"},{\"colorbar\":{\"title\":{\"text\":\"Objective Value\"}},\"colorscale\":[[0.0,\"rgb(247,251,255)\"],[0.125,\"rgb(222,235,247)\"],[0.25,\"rgb(198,219,239)\"],[0.375,\"rgb(158,202,225)\"],[0.5,\"rgb(107,174,214)\"],[0.625,\"rgb(66,146,198)\"],[0.75,\"rgb(33,113,181)\"],[0.875,\"rgb(8,81,156)\"],[1.0,\"rgb(8,48,107)\"]],\"connectgaps\":true,\"contours\":{\"coloring\":\"heatmap\"},\"hoverinfo\":\"none\",\"line\":{\"smoothing\":1.3},\"reversescale\":false,\"showscale\":false,\"x\":[1.85,2,3,4,5,5.15],\"y\":[\"\\u003cclass 'torch.optim.adam.Adam'\\u003e\",\"\\u003cclass 'torch.optim.adamw.AdamW'\\u003e\",\"\\u003cclass 'torch.optim.rmsprop.RMSprop'\\u003e\"],\"z\":[[null,75.80622266524063,78.8879999082205,83.88420931921007,66.92825502516989,null],[null,61.682116900456116,null,80.35995717723722,74.03517632974786,null],[null,43.03220257076155,83.7824693691592,82.1743107884916,14.423391004704573,null]],\"type\":\"contour\",\"xaxis\":\"x35\",\"yaxis\":\"y35\"},{\"marker\":{\"color\":\"black\",\"line\":{\"color\":\"Grey\",\"width\":2.0}},\"mode\":\"markers\",\"showlegend\":false,\"x\":[5,2,5,5,2,4,2,2,2,4,4,3,3,3,4,4,4,4,3,3,3,3,3,3,3,4,3,4,5,5],\"y\":[\"\\u003cclass 'torch.optim.adam.Adam'\\u003e\",\"\\u003cclass 'torch.optim.adam.Adam'\\u003e\",\"\\u003cclass 'torch.optim.adamw.AdamW'\\u003e\",\"\\u003cclass 'torch.optim.adam.Adam'\\u003e\",\"\\u003cclass 'torch.optim.adamw.AdamW'\\u003e\",\"\\u003cclass 'torch.optim.rmsprop.RMSprop'\\u003e\",\"\\u003cclass 'torch.optim.adamw.AdamW'\\u003e\",\"\\u003cclass 'torch.optim.rmsprop.RMSprop'\\u003e\",\"\\u003cclass 'torch.optim.adam.Adam'\\u003e\",\"\\u003cclass 'torch.optim.adam.Adam'\\u003e\",\"\\u003cclass 'torch.optim.adam.Adam'\\u003e\",\"\\u003cclass 'torch.optim.adam.Adam'\\u003e\",\"\\u003cclass 'torch.optim.adam.Adam'\\u003e\",\"\\u003cclass 'torch.optim.adam.Adam'\\u003e\",\"\\u003cclass 'torch.optim.adam.Adam'\\u003e\",\"\\u003cclass 'torch.optim.rmsprop.RMSprop'\\u003e\",\"\\u003cclass 'torch.optim.rmsprop.RMSprop'\\u003e\",\"\\u003cclass 'torch.optim.rmsprop.RMSprop'\\u003e\",\"\\u003cclass 'torch.optim.rmsprop.RMSprop'\\u003e\",\"\\u003cclass 'torch.optim.rmsprop.RMSprop'\\u003e\",\"\\u003cclass 'torch.optim.rmsprop.RMSprop'\\u003e\",\"\\u003cclass 'torch.optim.rmsprop.RMSprop'\\u003e\",\"\\u003cclass 'torch.optim.rmsprop.RMSprop'\\u003e\",\"\\u003cclass 'torch.optim.rmsprop.RMSprop'\\u003e\",\"\\u003cclass 'torch.optim.rmsprop.RMSprop'\\u003e\",\"\\u003cclass 'torch.optim.adamw.AdamW'\\u003e\",\"\\u003cclass 'torch.optim.rmsprop.RMSprop'\\u003e\",\"\\u003cclass 'torch.optim.rmsprop.RMSprop'\\u003e\",\"\\u003cclass 'torch.optim.rmsprop.RMSprop'\\u003e\",\"\\u003cclass 'torch.optim.adamw.AdamW'\\u003e\"],\"type\":\"scatter\",\"xaxis\":\"x35\",\"yaxis\":\"y35\"},{\"colorbar\":{\"title\":{\"text\":\"Objective Value\"}},\"colorscale\":[[0.0,\"rgb(247,251,255)\"],[0.125,\"rgb(222,235,247)\"],[0.25,\"rgb(198,219,239)\"],[0.375,\"rgb(158,202,225)\"],[0.5,\"rgb(107,174,214)\"],[0.625,\"rgb(66,146,198)\"],[0.75,\"rgb(33,113,181)\"],[0.875,\"rgb(8,81,156)\"],[1.0,\"rgb(8,48,107)\"]],\"connectgaps\":true,\"contours\":{\"coloring\":\"heatmap\"},\"hoverinfo\":\"none\",\"line\":{\"smoothing\":1.3},\"reversescale\":false,\"showscale\":false,\"x\":[\"\\u003cclass 'torch.optim.adam.Adam'\\u003e\",\"\\u003cclass 'torch.optim.adamw.AdamW'\\u003e\",\"\\u003cclass 'torch.optim.rmsprop.RMSprop'\\u003e\"],\"y\":[13.6,16,32,64,66.4],\"z\":[[null,null,null],[null,74.03517632974786,14.549176168378963],[83.88420931921007,80.35995717723722,83.7824693691592],[75.80622266524063,null,43.03220257076155],[null,null,null]],\"type\":\"contour\",\"xaxis\":\"x6\",\"yaxis\":\"y6\"},{\"marker\":{\"color\":\"black\",\"line\":{\"color\":\"Grey\",\"width\":2.0}},\"mode\":\"markers\",\"showlegend\":false,\"x\":[\"\\u003cclass 'torch.optim.adam.Adam'\\u003e\",\"\\u003cclass 'torch.optim.adam.Adam'\\u003e\",\"\\u003cclass 'torch.optim.adamw.AdamW'\\u003e\",\"\\u003cclass 'torch.optim.adam.Adam'\\u003e\",\"\\u003cclass 'torch.optim.adamw.AdamW'\\u003e\",\"\\u003cclass 'torch.optim.rmsprop.RMSprop'\\u003e\",\"\\u003cclass 'torch.optim.adamw.AdamW'\\u003e\",\"\\u003cclass 'torch.optim.rmsprop.RMSprop'\\u003e\",\"\\u003cclass 'torch.optim.adam.Adam'\\u003e\",\"\\u003cclass 'torch.optim.adam.Adam'\\u003e\",\"\\u003cclass 'torch.optim.adam.Adam'\\u003e\",\"\\u003cclass 'torch.optim.adam.Adam'\\u003e\",\"\\u003cclass 'torch.optim.adam.Adam'\\u003e\",\"\\u003cclass 'torch.optim.adam.Adam'\\u003e\",\"\\u003cclass 'torch.optim.adam.Adam'\\u003e\",\"\\u003cclass 'torch.optim.rmsprop.RMSprop'\\u003e\",\"\\u003cclass 'torch.optim.rmsprop.RMSprop'\\u003e\",\"\\u003cclass 'torch.optim.rmsprop.RMSprop'\\u003e\",\"\\u003cclass 'torch.optim.rmsprop.RMSprop'\\u003e\",\"\\u003cclass 'torch.optim.rmsprop.RMSprop'\\u003e\",\"\\u003cclass 'torch.optim.rmsprop.RMSprop'\\u003e\",\"\\u003cclass 'torch.optim.rmsprop.RMSprop'\\u003e\",\"\\u003cclass 'torch.optim.rmsprop.RMSprop'\\u003e\",\"\\u003cclass 'torch.optim.rmsprop.RMSprop'\\u003e\",\"\\u003cclass 'torch.optim.rmsprop.RMSprop'\\u003e\",\"\\u003cclass 'torch.optim.adamw.AdamW'\\u003e\",\"\\u003cclass 'torch.optim.rmsprop.RMSprop'\\u003e\",\"\\u003cclass 'torch.optim.rmsprop.RMSprop'\\u003e\",\"\\u003cclass 'torch.optim.rmsprop.RMSprop'\\u003e\",\"\\u003cclass 'torch.optim.adamw.AdamW'\\u003e\"],\"y\":[64,64,16,64,32,16,16,64,64,32,32,32,32,32,32,32,32,32,32,32,16,32,32,32,32,32,32,32,32,16],\"type\":\"scatter\",\"xaxis\":\"x6\",\"yaxis\":\"y6\"},{\"colorbar\":{\"title\":{\"text\":\"Objective Value\"}},\"colorscale\":[[0.0,\"rgb(247,251,255)\"],[0.125,\"rgb(222,235,247)\"],[0.25,\"rgb(198,219,239)\"],[0.375,\"rgb(158,202,225)\"],[0.5,\"rgb(107,174,214)\"],[0.625,\"rgb(66,146,198)\"],[0.75,\"rgb(33,113,181)\"],[0.875,\"rgb(8,81,156)\"],[1.0,\"rgb(8,48,107)\"]],\"connectgaps\":true,\"contours\":{\"coloring\":\"heatmap\"},\"hoverinfo\":\"none\",\"line\":{\"smoothing\":1.3},\"reversescale\":false,\"showscale\":false,\"x\":[\"\\u003cclass 'torch.optim.adam.Adam'\\u003e\",\"\\u003cclass 'torch.optim.adamw.AdamW'\\u003e\",\"\\u003cclass 'torch.optim.rmsprop.RMSprop'\\u003e\"],\"y\":[\"last\",\"last_transformer\",\"no\"],\"z\":[[null,14.318338498366671,14.549176168378963],[55.58847237743126,61.682116900456116,43.03220257076155],[83.88420931921007,80.35995717723722,83.7824693691592]],\"type\":\"contour\",\"xaxis\":\"x12\",\"yaxis\":\"y12\"},{\"marker\":{\"color\":\"black\",\"line\":{\"color\":\"Grey\",\"width\":2.0}},\"mode\":\"markers\",\"showlegend\":false,\"x\":[\"\\u003cclass 'torch.optim.adam.Adam'\\u003e\",\"\\u003cclass 'torch.optim.adam.Adam'\\u003e\",\"\\u003cclass 'torch.optim.adamw.AdamW'\\u003e\",\"\\u003cclass 'torch.optim.adam.Adam'\\u003e\",\"\\u003cclass 'torch.optim.adamw.AdamW'\\u003e\",\"\\u003cclass 'torch.optim.rmsprop.RMSprop'\\u003e\",\"\\u003cclass 'torch.optim.adamw.AdamW'\\u003e\",\"\\u003cclass 'torch.optim.rmsprop.RMSprop'\\u003e\",\"\\u003cclass 'torch.optim.adam.Adam'\\u003e\",\"\\u003cclass 'torch.optim.adam.Adam'\\u003e\",\"\\u003cclass 'torch.optim.adam.Adam'\\u003e\",\"\\u003cclass 'torch.optim.adam.Adam'\\u003e\",\"\\u003cclass 'torch.optim.adam.Adam'\\u003e\",\"\\u003cclass 'torch.optim.adam.Adam'\\u003e\",\"\\u003cclass 'torch.optim.adam.Adam'\\u003e\",\"\\u003cclass 'torch.optim.rmsprop.RMSprop'\\u003e\",\"\\u003cclass 'torch.optim.rmsprop.RMSprop'\\u003e\",\"\\u003cclass 'torch.optim.rmsprop.RMSprop'\\u003e\",\"\\u003cclass 'torch.optim.rmsprop.RMSprop'\\u003e\",\"\\u003cclass 'torch.optim.rmsprop.RMSprop'\\u003e\",\"\\u003cclass 'torch.optim.rmsprop.RMSprop'\\u003e\",\"\\u003cclass 'torch.optim.rmsprop.RMSprop'\\u003e\",\"\\u003cclass 'torch.optim.rmsprop.RMSprop'\\u003e\",\"\\u003cclass 'torch.optim.rmsprop.RMSprop'\\u003e\",\"\\u003cclass 'torch.optim.rmsprop.RMSprop'\\u003e\",\"\\u003cclass 'torch.optim.adamw.AdamW'\\u003e\",\"\\u003cclass 'torch.optim.rmsprop.RMSprop'\\u003e\",\"\\u003cclass 'torch.optim.rmsprop.RMSprop'\\u003e\",\"\\u003cclass 'torch.optim.rmsprop.RMSprop'\\u003e\",\"\\u003cclass 'torch.optim.adamw.AdamW'\\u003e\"],\"y\":[\"last_transformer\",\"no\",\"last_transformer\",\"no\",\"last\",\"last\",\"last_transformer\",\"last_transformer\",\"last_transformer\",\"no\",\"no\",\"no\",\"no\",\"no\",\"no\",\"no\",\"last\",\"no\",\"no\",\"no\",\"last\",\"no\",\"no\",\"no\",\"no\",\"no\",\"no\",\"no\",\"last\",\"no\"],\"type\":\"scatter\",\"xaxis\":\"x12\",\"yaxis\":\"y12\"},{\"colorbar\":{\"title\":{\"text\":\"Objective Value\"}},\"colorscale\":[[0.0,\"rgb(247,251,255)\"],[0.125,\"rgb(222,235,247)\"],[0.25,\"rgb(198,219,239)\"],[0.375,\"rgb(158,202,225)\"],[0.5,\"rgb(107,174,214)\"],[0.625,\"rgb(66,146,198)\"],[0.75,\"rgb(33,113,181)\"],[0.875,\"rgb(8,81,156)\"],[1.0,\"rgb(8,48,107)\"]],\"connectgaps\":true,\"contours\":{\"coloring\":\"heatmap\"},\"hoverinfo\":\"none\",\"line\":{\"smoothing\":1.3},\"reversescale\":false,\"showscale\":false,\"x\":[\"\\u003cclass 'torch.optim.adam.Adam'\\u003e\",\"\\u003cclass 'torch.optim.adamw.AdamW'\\u003e\",\"\\u003cclass 'torch.optim.rmsprop.RMSprop'\\u003e\"],\"y\":[0.000018488170985753432,0.000020654924560158524,0.00002092704160886563,0.000025297642424104282,0.000026100177011954557,0.00003022787198428732,0.00003060557365103987,0.00003111460099918406,0.000032313604354018504,0.00003390520548835446,0.000035762449031571455,0.000036610513799480674,0.00003824553215856641,0.0000402479490896825,0.00004182517214316379,0.000042615123132838545,0.00004430681457478043,0.00004531177732303999,0.000047438042369214124,0.000047865338862926255,0.00004932417576334765,0.000053690407763271996,0.000057843018989413654,0.00006023348339047916,0.00006824880148118475,0.00008076210654763638,0.00009044157798420218,0.00012842234881388384,0.0001694434418498063,0.00018375857459683348,0.00018950335137876508,0.00021171252849412644],\"z\":[[null,null,null],[null,null,43.03220257076155],[null,null,14.420737178739808],[null,49.939116097418534,null],[null,null,81.05422586911368],[null,null,81.9757896637062],[null,null,82.1743107884916],[79.33411661175329,null,null],[83.88420931921007,null,null],[null,null,13.928078715914904],[null,null,78.77695392778395],[null,80.35995717723722,null],[null,null,81.15169564200622],[null,null,83.08781314009065],[74.79864097255404,null,null],[null,null,14.549176168378963],[null,null,81.1718085188009],[null,null,83.7824693691592],[78.62368059289494,null,null],[null,null,79.6605459154695],[null,null,78.09559779799518],[null,null,14.423391004704573],[73.8214946051558,null,null],[78.8879999082205,null,null],[null,74.03517632974786,null],[75.80622266524063,null,null],[null,14.318338498366671,null],[55.58847237743126,null,null],[66.92825502516989,null,null],[null,61.682116900456116,null],[50.584082137872706,null,null],[null,null,null]],\"type\":\"contour\",\"xaxis\":\"x18\",\"yaxis\":\"y18\"},{\"marker\":{\"color\":\"black\",\"line\":{\"color\":\"Grey\",\"width\":2.0}},\"mode\":\"markers\",\"showlegend\":false,\"x\":[\"\\u003cclass 'torch.optim.adam.Adam'\\u003e\",\"\\u003cclass 'torch.optim.adam.Adam'\\u003e\",\"\\u003cclass 'torch.optim.adamw.AdamW'\\u003e\",\"\\u003cclass 'torch.optim.adam.Adam'\\u003e\",\"\\u003cclass 'torch.optim.adamw.AdamW'\\u003e\",\"\\u003cclass 'torch.optim.rmsprop.RMSprop'\\u003e\",\"\\u003cclass 'torch.optim.adamw.AdamW'\\u003e\",\"\\u003cclass 'torch.optim.rmsprop.RMSprop'\\u003e\",\"\\u003cclass 'torch.optim.adam.Adam'\\u003e\",\"\\u003cclass 'torch.optim.adam.Adam'\\u003e\",\"\\u003cclass 'torch.optim.adam.Adam'\\u003e\",\"\\u003cclass 'torch.optim.adam.Adam'\\u003e\",\"\\u003cclass 'torch.optim.adam.Adam'\\u003e\",\"\\u003cclass 'torch.optim.adam.Adam'\\u003e\",\"\\u003cclass 'torch.optim.adam.Adam'\\u003e\",\"\\u003cclass 'torch.optim.rmsprop.RMSprop'\\u003e\",\"\\u003cclass 'torch.optim.rmsprop.RMSprop'\\u003e\",\"\\u003cclass 'torch.optim.rmsprop.RMSprop'\\u003e\",\"\\u003cclass 'torch.optim.rmsprop.RMSprop'\\u003e\",\"\\u003cclass 'torch.optim.rmsprop.RMSprop'\\u003e\",\"\\u003cclass 'torch.optim.rmsprop.RMSprop'\\u003e\",\"\\u003cclass 'torch.optim.rmsprop.RMSprop'\\u003e\",\"\\u003cclass 'torch.optim.rmsprop.RMSprop'\\u003e\",\"\\u003cclass 'torch.optim.rmsprop.RMSprop'\\u003e\",\"\\u003cclass 'torch.optim.rmsprop.RMSprop'\\u003e\",\"\\u003cclass 'torch.optim.adamw.AdamW'\\u003e\",\"\\u003cclass 'torch.optim.rmsprop.RMSprop'\\u003e\",\"\\u003cclass 'torch.optim.rmsprop.RMSprop'\\u003e\",\"\\u003cclass 'torch.optim.rmsprop.RMSprop'\\u003e\",\"\\u003cclass 'torch.optim.adamw.AdamW'\\u003e\"],\"y\":[0.00018950335137876508,0.00008076210654763638,0.000025297642424104282,0.0001694434418498063,0.00009044157798420218,0.00003390520548835446,0.00018375857459683348,0.000020654924560158524,0.00012842234881388384,0.00003111460099918406,0.00004182517214316379,0.00006023348339047916,0.000047438042369214124,0.000057843018989413654,0.000032313604354018504,0.00003022787198428732,0.00002092704160886563,0.00003060557365103987,0.0000402479490896825,0.00004531177732303999,0.000042615123132838545,0.00003824553215856641,0.00004430681457478043,0.000047865338862926255,0.000026100177011954557,0.000036610513799480674,0.00004932417576334765,0.000035762449031571455,0.000053690407763271996,0.00006824880148118475],\"type\":\"scatter\",\"xaxis\":\"x18\",\"yaxis\":\"y18\"},{\"colorbar\":{\"title\":{\"text\":\"Objective Value\"}},\"colorscale\":[[0.0,\"rgb(247,251,255)\"],[0.125,\"rgb(222,235,247)\"],[0.25,\"rgb(198,219,239)\"],[0.375,\"rgb(158,202,225)\"],[0.5,\"rgb(107,174,214)\"],[0.625,\"rgb(66,146,198)\"],[0.75,\"rgb(33,113,181)\"],[0.875,\"rgb(8,81,156)\"],[1.0,\"rgb(8,48,107)\"]],\"connectgaps\":true,\"contours\":{\"coloring\":\"heatmap\"},\"hoverinfo\":\"none\",\"line\":{\"smoothing\":1.3},\"reversescale\":false,\"showscale\":false,\"x\":[\"\\u003cclass 'torch.optim.adam.Adam'\\u003e\",\"\\u003cclass 'torch.optim.adamw.AdamW'\\u003e\",\"\\u003cclass 'torch.optim.rmsprop.RMSprop'\\u003e\"],\"y\":[\"cosineannealing\",\"lambda\",\"multiplicative\",\"no\",\"step\"],\"z\":[[66.92825502516989,74.03517632974786,null],[83.88420931921007,80.35995717723722,83.7824693691592],[79.33411661175329,null,null],[50.584082137872706,null,14.549176168378963],[null,61.682116900456116,43.03220257076155]],\"type\":\"contour\",\"xaxis\":\"x24\",\"yaxis\":\"y24\"},{\"marker\":{\"color\":\"black\",\"line\":{\"color\":\"Grey\",\"width\":2.0}},\"mode\":\"markers\",\"showlegend\":false,\"x\":[\"\\u003cclass 'torch.optim.adam.Adam'\\u003e\",\"\\u003cclass 'torch.optim.adam.Adam'\\u003e\",\"\\u003cclass 'torch.optim.adamw.AdamW'\\u003e\",\"\\u003cclass 'torch.optim.adam.Adam'\\u003e\",\"\\u003cclass 'torch.optim.adamw.AdamW'\\u003e\",\"\\u003cclass 'torch.optim.rmsprop.RMSprop'\\u003e\",\"\\u003cclass 'torch.optim.adamw.AdamW'\\u003e\",\"\\u003cclass 'torch.optim.rmsprop.RMSprop'\\u003e\",\"\\u003cclass 'torch.optim.adam.Adam'\\u003e\",\"\\u003cclass 'torch.optim.adam.Adam'\\u003e\",\"\\u003cclass 'torch.optim.adam.Adam'\\u003e\",\"\\u003cclass 'torch.optim.adam.Adam'\\u003e\",\"\\u003cclass 'torch.optim.adam.Adam'\\u003e\",\"\\u003cclass 'torch.optim.adam.Adam'\\u003e\",\"\\u003cclass 'torch.optim.adam.Adam'\\u003e\",\"\\u003cclass 'torch.optim.rmsprop.RMSprop'\\u003e\",\"\\u003cclass 'torch.optim.rmsprop.RMSprop'\\u003e\",\"\\u003cclass 'torch.optim.rmsprop.RMSprop'\\u003e\",\"\\u003cclass 'torch.optim.rmsprop.RMSprop'\\u003e\",\"\\u003cclass 'torch.optim.rmsprop.RMSprop'\\u003e\",\"\\u003cclass 'torch.optim.rmsprop.RMSprop'\\u003e\",\"\\u003cclass 'torch.optim.rmsprop.RMSprop'\\u003e\",\"\\u003cclass 'torch.optim.rmsprop.RMSprop'\\u003e\",\"\\u003cclass 'torch.optim.rmsprop.RMSprop'\\u003e\",\"\\u003cclass 'torch.optim.rmsprop.RMSprop'\\u003e\",\"\\u003cclass 'torch.optim.adamw.AdamW'\\u003e\",\"\\u003cclass 'torch.optim.rmsprop.RMSprop'\\u003e\",\"\\u003cclass 'torch.optim.rmsprop.RMSprop'\\u003e\",\"\\u003cclass 'torch.optim.rmsprop.RMSprop'\\u003e\",\"\\u003cclass 'torch.optim.adamw.AdamW'\\u003e\"],\"y\":[\"no\",\"multiplicative\",\"cosineannealing\",\"cosineannealing\",\"step\",\"lambda\",\"step\",\"step\",\"multiplicative\",\"multiplicative\",\"multiplicative\",\"multiplicative\",\"multiplicative\",\"multiplicative\",\"lambda\",\"lambda\",\"lambda\",\"lambda\",\"lambda\",\"lambda\",\"no\",\"lambda\",\"lambda\",\"lambda\",\"lambda\",\"lambda\",\"lambda\",\"lambda\",\"no\",\"cosineannealing\"],\"type\":\"scatter\",\"xaxis\":\"x24\",\"yaxis\":\"y24\"},{\"colorbar\":{\"title\":{\"text\":\"Objective Value\"}},\"colorscale\":[[0.0,\"rgb(247,251,255)\"],[0.125,\"rgb(222,235,247)\"],[0.25,\"rgb(198,219,239)\"],[0.375,\"rgb(158,202,225)\"],[0.5,\"rgb(107,174,214)\"],[0.625,\"rgb(66,146,198)\"],[0.75,\"rgb(33,113,181)\"],[0.875,\"rgb(8,81,156)\"],[1.0,\"rgb(8,48,107)\"]],\"connectgaps\":true,\"contours\":{\"coloring\":\"heatmap\"},\"hoverinfo\":\"none\",\"line\":{\"smoothing\":1.3},\"reversescale\":false,\"showscale\":false,\"x\":[\"\\u003cclass 'torch.optim.adam.Adam'\\u003e\",\"\\u003cclass 'torch.optim.adamw.AdamW'\\u003e\",\"\\u003cclass 'torch.optim.rmsprop.RMSprop'\\u003e\"],\"y\":[1.85,2,3,4,5,5.15],\"z\":[[null,null,null],[75.80622266524063,61.682116900456116,43.03220257076155],[78.8879999082205,null,83.7824693691592],[83.88420931921007,80.35995717723722,82.1743107884916],[66.92825502516989,74.03517632974786,14.423391004704573],[null,null,null]],\"type\":\"contour\",\"xaxis\":\"x30\",\"yaxis\":\"y30\"},{\"marker\":{\"color\":\"black\",\"line\":{\"color\":\"Grey\",\"width\":2.0}},\"mode\":\"markers\",\"showlegend\":false,\"x\":[\"\\u003cclass 'torch.optim.adam.Adam'\\u003e\",\"\\u003cclass 'torch.optim.adam.Adam'\\u003e\",\"\\u003cclass 'torch.optim.adamw.AdamW'\\u003e\",\"\\u003cclass 'torch.optim.adam.Adam'\\u003e\",\"\\u003cclass 'torch.optim.adamw.AdamW'\\u003e\",\"\\u003cclass 'torch.optim.rmsprop.RMSprop'\\u003e\",\"\\u003cclass 'torch.optim.adamw.AdamW'\\u003e\",\"\\u003cclass 'torch.optim.rmsprop.RMSprop'\\u003e\",\"\\u003cclass 'torch.optim.adam.Adam'\\u003e\",\"\\u003cclass 'torch.optim.adam.Adam'\\u003e\",\"\\u003cclass 'torch.optim.adam.Adam'\\u003e\",\"\\u003cclass 'torch.optim.adam.Adam'\\u003e\",\"\\u003cclass 'torch.optim.adam.Adam'\\u003e\",\"\\u003cclass 'torch.optim.adam.Adam'\\u003e\",\"\\u003cclass 'torch.optim.adam.Adam'\\u003e\",\"\\u003cclass 'torch.optim.rmsprop.RMSprop'\\u003e\",\"\\u003cclass 'torch.optim.rmsprop.RMSprop'\\u003e\",\"\\u003cclass 'torch.optim.rmsprop.RMSprop'\\u003e\",\"\\u003cclass 'torch.optim.rmsprop.RMSprop'\\u003e\",\"\\u003cclass 'torch.optim.rmsprop.RMSprop'\\u003e\",\"\\u003cclass 'torch.optim.rmsprop.RMSprop'\\u003e\",\"\\u003cclass 'torch.optim.rmsprop.RMSprop'\\u003e\",\"\\u003cclass 'torch.optim.rmsprop.RMSprop'\\u003e\",\"\\u003cclass 'torch.optim.rmsprop.RMSprop'\\u003e\",\"\\u003cclass 'torch.optim.rmsprop.RMSprop'\\u003e\",\"\\u003cclass 'torch.optim.adamw.AdamW'\\u003e\",\"\\u003cclass 'torch.optim.rmsprop.RMSprop'\\u003e\",\"\\u003cclass 'torch.optim.rmsprop.RMSprop'\\u003e\",\"\\u003cclass 'torch.optim.rmsprop.RMSprop'\\u003e\",\"\\u003cclass 'torch.optim.adamw.AdamW'\\u003e\"],\"y\":[5,2,5,5,2,4,2,2,2,4,4,3,3,3,4,4,4,4,3,3,3,3,3,3,3,4,3,4,5,5],\"type\":\"scatter\",\"xaxis\":\"x30\",\"yaxis\":\"y30\"},{\"type\":\"scatter\",\"xaxis\":\"x36\",\"yaxis\":\"y36\"}],                        {\"template\":{\"data\":{\"histogram2dcontour\":[{\"type\":\"histogram2dcontour\",\"colorbar\":{\"outlinewidth\":0,\"ticks\":\"\"},\"colorscale\":[[0.0,\"#0d0887\"],[0.1111111111111111,\"#46039f\"],[0.2222222222222222,\"#7201a8\"],[0.3333333333333333,\"#9c179e\"],[0.4444444444444444,\"#bd3786\"],[0.5555555555555556,\"#d8576b\"],[0.6666666666666666,\"#ed7953\"],[0.7777777777777778,\"#fb9f3a\"],[0.8888888888888888,\"#fdca26\"],[1.0,\"#f0f921\"]]}],\"choropleth\":[{\"type\":\"choropleth\",\"colorbar\":{\"outlinewidth\":0,\"ticks\":\"\"}}],\"histogram2d\":[{\"type\":\"histogram2d\",\"colorbar\":{\"outlinewidth\":0,\"ticks\":\"\"},\"colorscale\":[[0.0,\"#0d0887\"],[0.1111111111111111,\"#46039f\"],[0.2222222222222222,\"#7201a8\"],[0.3333333333333333,\"#9c179e\"],[0.4444444444444444,\"#bd3786\"],[0.5555555555555556,\"#d8576b\"],[0.6666666666666666,\"#ed7953\"],[0.7777777777777778,\"#fb9f3a\"],[0.8888888888888888,\"#fdca26\"],[1.0,\"#f0f921\"]]}],\"heatmap\":[{\"type\":\"heatmap\",\"colorbar\":{\"outlinewidth\":0,\"ticks\":\"\"},\"colorscale\":[[0.0,\"#0d0887\"],[0.1111111111111111,\"#46039f\"],[0.2222222222222222,\"#7201a8\"],[0.3333333333333333,\"#9c179e\"],[0.4444444444444444,\"#bd3786\"],[0.5555555555555556,\"#d8576b\"],[0.6666666666666666,\"#ed7953\"],[0.7777777777777778,\"#fb9f3a\"],[0.8888888888888888,\"#fdca26\"],[1.0,\"#f0f921\"]]}],\"heatmapgl\":[{\"type\":\"heatmapgl\",\"colorbar\":{\"outlinewidth\":0,\"ticks\":\"\"},\"colorscale\":[[0.0,\"#0d0887\"],[0.1111111111111111,\"#46039f\"],[0.2222222222222222,\"#7201a8\"],[0.3333333333333333,\"#9c179e\"],[0.4444444444444444,\"#bd3786\"],[0.5555555555555556,\"#d8576b\"],[0.6666666666666666,\"#ed7953\"],[0.7777777777777778,\"#fb9f3a\"],[0.8888888888888888,\"#fdca26\"],[1.0,\"#f0f921\"]]}],\"contourcarpet\":[{\"type\":\"contourcarpet\",\"colorbar\":{\"outlinewidth\":0,\"ticks\":\"\"}}],\"contour\":[{\"type\":\"contour\",\"colorbar\":{\"outlinewidth\":0,\"ticks\":\"\"},\"colorscale\":[[0.0,\"#0d0887\"],[0.1111111111111111,\"#46039f\"],[0.2222222222222222,\"#7201a8\"],[0.3333333333333333,\"#9c179e\"],[0.4444444444444444,\"#bd3786\"],[0.5555555555555556,\"#d8576b\"],[0.6666666666666666,\"#ed7953\"],[0.7777777777777778,\"#fb9f3a\"],[0.8888888888888888,\"#fdca26\"],[1.0,\"#f0f921\"]]}],\"surface\":[{\"type\":\"surface\",\"colorbar\":{\"outlinewidth\":0,\"ticks\":\"\"},\"colorscale\":[[0.0,\"#0d0887\"],[0.1111111111111111,\"#46039f\"],[0.2222222222222222,\"#7201a8\"],[0.3333333333333333,\"#9c179e\"],[0.4444444444444444,\"#bd3786\"],[0.5555555555555556,\"#d8576b\"],[0.6666666666666666,\"#ed7953\"],[0.7777777777777778,\"#fb9f3a\"],[0.8888888888888888,\"#fdca26\"],[1.0,\"#f0f921\"]]}],\"mesh3d\":[{\"type\":\"mesh3d\",\"colorbar\":{\"outlinewidth\":0,\"ticks\":\"\"}}],\"scatter\":[{\"fillpattern\":{\"fillmode\":\"overlay\",\"size\":10,\"solidity\":0.2},\"type\":\"scatter\"}],\"parcoords\":[{\"type\":\"parcoords\",\"line\":{\"colorbar\":{\"outlinewidth\":0,\"ticks\":\"\"}}}],\"scatterpolargl\":[{\"type\":\"scatterpolargl\",\"marker\":{\"colorbar\":{\"outlinewidth\":0,\"ticks\":\"\"}}}],\"bar\":[{\"error_x\":{\"color\":\"#2a3f5f\"},\"error_y\":{\"color\":\"#2a3f5f\"},\"marker\":{\"line\":{\"color\":\"#E5ECF6\",\"width\":0.5},\"pattern\":{\"fillmode\":\"overlay\",\"size\":10,\"solidity\":0.2}},\"type\":\"bar\"}],\"scattergeo\":[{\"type\":\"scattergeo\",\"marker\":{\"colorbar\":{\"outlinewidth\":0,\"ticks\":\"\"}}}],\"scatterpolar\":[{\"type\":\"scatterpolar\",\"marker\":{\"colorbar\":{\"outlinewidth\":0,\"ticks\":\"\"}}}],\"histogram\":[{\"marker\":{\"pattern\":{\"fillmode\":\"overlay\",\"size\":10,\"solidity\":0.2}},\"type\":\"histogram\"}],\"scattergl\":[{\"type\":\"scattergl\",\"marker\":{\"colorbar\":{\"outlinewidth\":0,\"ticks\":\"\"}}}],\"scatter3d\":[{\"type\":\"scatter3d\",\"line\":{\"colorbar\":{\"outlinewidth\":0,\"ticks\":\"\"}},\"marker\":{\"colorbar\":{\"outlinewidth\":0,\"ticks\":\"\"}}}],\"scattermapbox\":[{\"type\":\"scattermapbox\",\"marker\":{\"colorbar\":{\"outlinewidth\":0,\"ticks\":\"\"}}}],\"scatterternary\":[{\"type\":\"scatterternary\",\"marker\":{\"colorbar\":{\"outlinewidth\":0,\"ticks\":\"\"}}}],\"scattercarpet\":[{\"type\":\"scattercarpet\",\"marker\":{\"colorbar\":{\"outlinewidth\":0,\"ticks\":\"\"}}}],\"carpet\":[{\"aaxis\":{\"endlinecolor\":\"#2a3f5f\",\"gridcolor\":\"white\",\"linecolor\":\"white\",\"minorgridcolor\":\"white\",\"startlinecolor\":\"#2a3f5f\"},\"baxis\":{\"endlinecolor\":\"#2a3f5f\",\"gridcolor\":\"white\",\"linecolor\":\"white\",\"minorgridcolor\":\"white\",\"startlinecolor\":\"#2a3f5f\"},\"type\":\"carpet\"}],\"table\":[{\"cells\":{\"fill\":{\"color\":\"#EBF0F8\"},\"line\":{\"color\":\"white\"}},\"header\":{\"fill\":{\"color\":\"#C8D4E3\"},\"line\":{\"color\":\"white\"}},\"type\":\"table\"}],\"barpolar\":[{\"marker\":{\"line\":{\"color\":\"#E5ECF6\",\"width\":0.5},\"pattern\":{\"fillmode\":\"overlay\",\"size\":10,\"solidity\":0.2}},\"type\":\"barpolar\"}],\"pie\":[{\"automargin\":true,\"type\":\"pie\"}]},\"layout\":{\"autotypenumbers\":\"strict\",\"colorway\":[\"#636efa\",\"#EF553B\",\"#00cc96\",\"#ab63fa\",\"#FFA15A\",\"#19d3f3\",\"#FF6692\",\"#B6E880\",\"#FF97FF\",\"#FECB52\"],\"font\":{\"color\":\"#2a3f5f\"},\"hovermode\":\"closest\",\"hoverlabel\":{\"align\":\"left\"},\"paper_bgcolor\":\"white\",\"plot_bgcolor\":\"#E5ECF6\",\"polar\":{\"bgcolor\":\"#E5ECF6\",\"angularaxis\":{\"gridcolor\":\"white\",\"linecolor\":\"white\",\"ticks\":\"\"},\"radialaxis\":{\"gridcolor\":\"white\",\"linecolor\":\"white\",\"ticks\":\"\"}},\"ternary\":{\"bgcolor\":\"#E5ECF6\",\"aaxis\":{\"gridcolor\":\"white\",\"linecolor\":\"white\",\"ticks\":\"\"},\"baxis\":{\"gridcolor\":\"white\",\"linecolor\":\"white\",\"ticks\":\"\"},\"caxis\":{\"gridcolor\":\"white\",\"linecolor\":\"white\",\"ticks\":\"\"}},\"coloraxis\":{\"colorbar\":{\"outlinewidth\":0,\"ticks\":\"\"}},\"colorscale\":{\"sequential\":[[0.0,\"#0d0887\"],[0.1111111111111111,\"#46039f\"],[0.2222222222222222,\"#7201a8\"],[0.3333333333333333,\"#9c179e\"],[0.4444444444444444,\"#bd3786\"],[0.5555555555555556,\"#d8576b\"],[0.6666666666666666,\"#ed7953\"],[0.7777777777777778,\"#fb9f3a\"],[0.8888888888888888,\"#fdca26\"],[1.0,\"#f0f921\"]],\"sequentialminus\":[[0.0,\"#0d0887\"],[0.1111111111111111,\"#46039f\"],[0.2222222222222222,\"#7201a8\"],[0.3333333333333333,\"#9c179e\"],[0.4444444444444444,\"#bd3786\"],[0.5555555555555556,\"#d8576b\"],[0.6666666666666666,\"#ed7953\"],[0.7777777777777778,\"#fb9f3a\"],[0.8888888888888888,\"#fdca26\"],[1.0,\"#f0f921\"]],\"diverging\":[[0,\"#8e0152\"],[0.1,\"#c51b7d\"],[0.2,\"#de77ae\"],[0.3,\"#f1b6da\"],[0.4,\"#fde0ef\"],[0.5,\"#f7f7f7\"],[0.6,\"#e6f5d0\"],[0.7,\"#b8e186\"],[0.8,\"#7fbc41\"],[0.9,\"#4d9221\"],[1,\"#276419\"]]},\"xaxis\":{\"gridcolor\":\"white\",\"linecolor\":\"white\",\"ticks\":\"\",\"title\":{\"standoff\":15},\"zerolinecolor\":\"white\",\"automargin\":true,\"zerolinewidth\":2},\"yaxis\":{\"gridcolor\":\"white\",\"linecolor\":\"white\",\"ticks\":\"\",\"title\":{\"standoff\":15},\"zerolinecolor\":\"white\",\"automargin\":true,\"zerolinewidth\":2},\"scene\":{\"xaxis\":{\"backgroundcolor\":\"#E5ECF6\",\"gridcolor\":\"white\",\"linecolor\":\"white\",\"showbackground\":true,\"ticks\":\"\",\"zerolinecolor\":\"white\",\"gridwidth\":2},\"yaxis\":{\"backgroundcolor\":\"#E5ECF6\",\"gridcolor\":\"white\",\"linecolor\":\"white\",\"showbackground\":true,\"ticks\":\"\",\"zerolinecolor\":\"white\",\"gridwidth\":2},\"zaxis\":{\"backgroundcolor\":\"#E5ECF6\",\"gridcolor\":\"white\",\"linecolor\":\"white\",\"showbackground\":true,\"ticks\":\"\",\"zerolinecolor\":\"white\",\"gridwidth\":2}},\"shapedefaults\":{\"line\":{\"color\":\"#2a3f5f\"}},\"annotationdefaults\":{\"arrowcolor\":\"#2a3f5f\",\"arrowhead\":0,\"arrowwidth\":1},\"geo\":{\"bgcolor\":\"white\",\"landcolor\":\"#E5ECF6\",\"subunitcolor\":\"white\",\"showland\":true,\"showlakes\":true,\"lakecolor\":\"white\"},\"title\":{\"x\":0.05},\"mapbox\":{\"style\":\"light\"}}},\"xaxis\":{\"anchor\":\"y\",\"domain\":[0.0,0.1388888888888889],\"matches\":\"x31\",\"showticklabels\":false,\"range\":[13.6,66.4]},\"yaxis\":{\"anchor\":\"x\",\"domain\":[0.875,1.0],\"range\":[13.6,66.4],\"title\":{\"text\":\"batch_size\"}},\"xaxis2\":{\"anchor\":\"y2\",\"domain\":[0.17222222222222222,0.3111111111111111],\"matches\":\"x32\",\"showticklabels\":false,\"range\":[-0.1,2.1],\"type\":\"category\"},\"yaxis2\":{\"anchor\":\"x2\",\"domain\":[0.875,1.0],\"matches\":\"y\",\"showticklabels\":false,\"range\":[13.6,66.4]},\"xaxis3\":{\"anchor\":\"y3\",\"domain\":[0.34444444444444444,0.48333333333333334],\"matches\":\"x33\",\"showticklabels\":false,\"range\":[-4.733106050987092,-3.6742534410128505],\"type\":\"log\"},\"yaxis3\":{\"anchor\":\"x3\",\"domain\":[0.875,1.0],\"matches\":\"y\",\"showticklabels\":false,\"range\":[13.6,66.4]},\"xaxis4\":{\"anchor\":\"y4\",\"domain\":[0.5166666666666667,0.6555555555555557],\"matches\":\"x34\",\"showticklabels\":false,\"range\":[-0.2,4.2],\"type\":\"category\"},\"yaxis4\":{\"anchor\":\"x4\",\"domain\":[0.875,1.0],\"matches\":\"y\",\"showticklabels\":false,\"range\":[13.6,66.4]},\"xaxis5\":{\"anchor\":\"y5\",\"domain\":[0.6888888888888889,0.8277777777777777],\"matches\":\"x35\",\"showticklabels\":false,\"range\":[1.85,5.15]},\"yaxis5\":{\"anchor\":\"x5\",\"domain\":[0.875,1.0],\"matches\":\"y\",\"showticklabels\":false,\"range\":[13.6,66.4]},\"xaxis6\":{\"anchor\":\"y6\",\"domain\":[0.861111111111111,1.0],\"matches\":\"x36\",\"showticklabels\":false,\"range\":[-0.1,2.1],\"type\":\"category\"},\"yaxis6\":{\"anchor\":\"x6\",\"domain\":[0.875,1.0],\"matches\":\"y\",\"showticklabels\":false,\"range\":[13.6,66.4]},\"xaxis7\":{\"anchor\":\"y7\",\"domain\":[0.0,0.1388888888888889],\"matches\":\"x31\",\"showticklabels\":false,\"range\":[13.6,66.4]},\"yaxis7\":{\"anchor\":\"x7\",\"domain\":[0.7,0.825],\"range\":[-0.1,2.1],\"type\":\"category\",\"title\":{\"text\":\"freeze\"}},\"xaxis8\":{\"anchor\":\"y8\",\"domain\":[0.17222222222222222,0.3111111111111111],\"matches\":\"x32\",\"showticklabels\":false,\"range\":[-0.1,2.1],\"type\":\"category\"},\"yaxis8\":{\"anchor\":\"x8\",\"domain\":[0.7,0.825],\"matches\":\"y7\",\"showticklabels\":false,\"range\":[-0.1,2.1],\"type\":\"category\"},\"xaxis9\":{\"anchor\":\"y9\",\"domain\":[0.34444444444444444,0.48333333333333334],\"matches\":\"x33\",\"showticklabels\":false,\"range\":[-4.733106050987092,-3.6742534410128505],\"type\":\"log\"},\"yaxis9\":{\"anchor\":\"x9\",\"domain\":[0.7,0.825],\"matches\":\"y7\",\"showticklabels\":false,\"range\":[-0.1,2.1],\"type\":\"category\"},\"xaxis10\":{\"anchor\":\"y10\",\"domain\":[0.5166666666666667,0.6555555555555557],\"matches\":\"x34\",\"showticklabels\":false,\"range\":[-0.2,4.2],\"type\":\"category\"},\"yaxis10\":{\"anchor\":\"x10\",\"domain\":[0.7,0.825],\"matches\":\"y7\",\"showticklabels\":false,\"range\":[-0.1,2.1],\"type\":\"category\"},\"xaxis11\":{\"anchor\":\"y11\",\"domain\":[0.6888888888888889,0.8277777777777777],\"matches\":\"x35\",\"showticklabels\":false,\"range\":[1.85,5.15]},\"yaxis11\":{\"anchor\":\"x11\",\"domain\":[0.7,0.825],\"matches\":\"y7\",\"showticklabels\":false,\"range\":[-0.1,2.1],\"type\":\"category\"},\"xaxis12\":{\"anchor\":\"y12\",\"domain\":[0.861111111111111,1.0],\"matches\":\"x36\",\"showticklabels\":false,\"range\":[-0.1,2.1],\"type\":\"category\"},\"yaxis12\":{\"anchor\":\"x12\",\"domain\":[0.7,0.825],\"matches\":\"y7\",\"showticklabels\":false,\"range\":[-0.1,2.1],\"type\":\"category\"},\"xaxis13\":{\"anchor\":\"y13\",\"domain\":[0.0,0.1388888888888889],\"matches\":\"x31\",\"showticklabels\":false,\"range\":[13.6,66.4]},\"yaxis13\":{\"anchor\":\"x13\",\"domain\":[0.525,0.65],\"range\":[-4.733106050987092,-3.6742534410128505],\"type\":\"log\",\"title\":{\"text\":\"learning_rate\"}},\"xaxis14\":{\"anchor\":\"y14\",\"domain\":[0.17222222222222222,0.3111111111111111],\"matches\":\"x32\",\"showticklabels\":false,\"range\":[-0.1,2.1],\"type\":\"category\"},\"yaxis14\":{\"anchor\":\"x14\",\"domain\":[0.525,0.65],\"matches\":\"y13\",\"showticklabels\":false,\"range\":[-4.733106050987092,-3.6742534410128505],\"type\":\"log\"},\"xaxis15\":{\"anchor\":\"y15\",\"domain\":[0.34444444444444444,0.48333333333333334],\"matches\":\"x33\",\"showticklabels\":false,\"range\":[-4.733106050987092,-3.6742534410128505],\"type\":\"log\"},\"yaxis15\":{\"anchor\":\"x15\",\"domain\":[0.525,0.65],\"matches\":\"y13\",\"showticklabels\":false,\"range\":[-4.733106050987092,-3.6742534410128505],\"type\":\"log\"},\"xaxis16\":{\"anchor\":\"y16\",\"domain\":[0.5166666666666667,0.6555555555555557],\"matches\":\"x34\",\"showticklabels\":false,\"range\":[-0.2,4.2],\"type\":\"category\"},\"yaxis16\":{\"anchor\":\"x16\",\"domain\":[0.525,0.65],\"matches\":\"y13\",\"showticklabels\":false,\"range\":[-4.733106050987092,-3.6742534410128505],\"type\":\"log\"},\"xaxis17\":{\"anchor\":\"y17\",\"domain\":[0.6888888888888889,0.8277777777777777],\"matches\":\"x35\",\"showticklabels\":false,\"range\":[1.85,5.15]},\"yaxis17\":{\"anchor\":\"x17\",\"domain\":[0.525,0.65],\"matches\":\"y13\",\"showticklabels\":false,\"range\":[-4.733106050987092,-3.6742534410128505],\"type\":\"log\"},\"xaxis18\":{\"anchor\":\"y18\",\"domain\":[0.861111111111111,1.0],\"matches\":\"x36\",\"showticklabels\":false,\"range\":[-0.1,2.1],\"type\":\"category\"},\"yaxis18\":{\"anchor\":\"x18\",\"domain\":[0.525,0.65],\"matches\":\"y13\",\"showticklabels\":false,\"range\":[-4.733106050987092,-3.6742534410128505],\"type\":\"log\"},\"xaxis19\":{\"anchor\":\"y19\",\"domain\":[0.0,0.1388888888888889],\"matches\":\"x31\",\"showticklabels\":false,\"range\":[13.6,66.4]},\"yaxis19\":{\"anchor\":\"x19\",\"domain\":[0.35,0.475],\"range\":[-0.2,4.2],\"type\":\"category\",\"title\":{\"text\":\"lr_scheduler\"}},\"xaxis20\":{\"anchor\":\"y20\",\"domain\":[0.17222222222222222,0.3111111111111111],\"matches\":\"x32\",\"showticklabels\":false,\"range\":[-0.1,2.1],\"type\":\"category\"},\"yaxis20\":{\"anchor\":\"x20\",\"domain\":[0.35,0.475],\"matches\":\"y19\",\"showticklabels\":false,\"range\":[-0.2,4.2],\"type\":\"category\"},\"xaxis21\":{\"anchor\":\"y21\",\"domain\":[0.34444444444444444,0.48333333333333334],\"matches\":\"x33\",\"showticklabels\":false,\"range\":[-4.733106050987092,-3.6742534410128505],\"type\":\"log\"},\"yaxis21\":{\"anchor\":\"x21\",\"domain\":[0.35,0.475],\"matches\":\"y19\",\"showticklabels\":false,\"range\":[-0.2,4.2],\"type\":\"category\"},\"xaxis22\":{\"anchor\":\"y22\",\"domain\":[0.5166666666666667,0.6555555555555557],\"matches\":\"x34\",\"showticklabels\":false,\"range\":[-0.2,4.2],\"type\":\"category\"},\"yaxis22\":{\"anchor\":\"x22\",\"domain\":[0.35,0.475],\"matches\":\"y19\",\"showticklabels\":false,\"range\":[-0.2,4.2],\"type\":\"category\"},\"xaxis23\":{\"anchor\":\"y23\",\"domain\":[0.6888888888888889,0.8277777777777777],\"matches\":\"x35\",\"showticklabels\":false,\"range\":[1.85,5.15]},\"yaxis23\":{\"anchor\":\"x23\",\"domain\":[0.35,0.475],\"matches\":\"y19\",\"showticklabels\":false,\"range\":[-0.2,4.2],\"type\":\"category\"},\"xaxis24\":{\"anchor\":\"y24\",\"domain\":[0.861111111111111,1.0],\"matches\":\"x36\",\"showticklabels\":false,\"range\":[-0.1,2.1],\"type\":\"category\"},\"yaxis24\":{\"anchor\":\"x24\",\"domain\":[0.35,0.475],\"matches\":\"y19\",\"showticklabels\":false,\"range\":[-0.2,4.2],\"type\":\"category\"},\"xaxis25\":{\"anchor\":\"y25\",\"domain\":[0.0,0.1388888888888889],\"matches\":\"x31\",\"showticklabels\":false,\"range\":[13.6,66.4]},\"yaxis25\":{\"anchor\":\"x25\",\"domain\":[0.175,0.3],\"range\":[1.85,5.15],\"title\":{\"text\":\"n_epoch\"}},\"xaxis26\":{\"anchor\":\"y26\",\"domain\":[0.17222222222222222,0.3111111111111111],\"matches\":\"x32\",\"showticklabels\":false,\"range\":[-0.1,2.1],\"type\":\"category\"},\"yaxis26\":{\"anchor\":\"x26\",\"domain\":[0.175,0.3],\"matches\":\"y25\",\"showticklabels\":false,\"range\":[1.85,5.15]},\"xaxis27\":{\"anchor\":\"y27\",\"domain\":[0.34444444444444444,0.48333333333333334],\"matches\":\"x33\",\"showticklabels\":false,\"range\":[-4.733106050987092,-3.6742534410128505],\"type\":\"log\"},\"yaxis27\":{\"anchor\":\"x27\",\"domain\":[0.175,0.3],\"matches\":\"y25\",\"showticklabels\":false,\"range\":[1.85,5.15]},\"xaxis28\":{\"anchor\":\"y28\",\"domain\":[0.5166666666666667,0.6555555555555557],\"matches\":\"x34\",\"showticklabels\":false,\"range\":[-0.2,4.2],\"type\":\"category\"},\"yaxis28\":{\"anchor\":\"x28\",\"domain\":[0.175,0.3],\"matches\":\"y25\",\"showticklabels\":false,\"range\":[1.85,5.15]},\"xaxis29\":{\"anchor\":\"y29\",\"domain\":[0.6888888888888889,0.8277777777777777],\"matches\":\"x35\",\"showticklabels\":false,\"range\":[1.85,5.15]},\"yaxis29\":{\"anchor\":\"x29\",\"domain\":[0.175,0.3],\"matches\":\"y25\",\"showticklabels\":false,\"range\":[1.85,5.15]},\"xaxis30\":{\"anchor\":\"y30\",\"domain\":[0.861111111111111,1.0],\"matches\":\"x36\",\"showticklabels\":false,\"range\":[-0.1,2.1],\"type\":\"category\"},\"yaxis30\":{\"anchor\":\"x30\",\"domain\":[0.175,0.3],\"matches\":\"y25\",\"showticklabels\":false,\"range\":[1.85,5.15]},\"xaxis31\":{\"anchor\":\"y31\",\"domain\":[0.0,0.1388888888888889],\"range\":[13.6,66.4],\"title\":{\"text\":\"batch_size\"}},\"yaxis31\":{\"anchor\":\"x31\",\"domain\":[0.0,0.125],\"range\":[-0.1,2.1],\"type\":\"category\",\"title\":{\"text\":\"optimizer\"}},\"xaxis32\":{\"anchor\":\"y32\",\"domain\":[0.17222222222222222,0.3111111111111111],\"range\":[-0.1,2.1],\"type\":\"category\",\"title\":{\"text\":\"freeze\"}},\"yaxis32\":{\"anchor\":\"x32\",\"domain\":[0.0,0.125],\"matches\":\"y31\",\"showticklabels\":false,\"range\":[-0.1,2.1],\"type\":\"category\"},\"xaxis33\":{\"anchor\":\"y33\",\"domain\":[0.34444444444444444,0.48333333333333334],\"range\":[-4.733106050987092,-3.6742534410128505],\"type\":\"log\",\"title\":{\"text\":\"learning_rate\"}},\"yaxis33\":{\"anchor\":\"x33\",\"domain\":[0.0,0.125],\"matches\":\"y31\",\"showticklabels\":false,\"range\":[-0.1,2.1],\"type\":\"category\"},\"xaxis34\":{\"anchor\":\"y34\",\"domain\":[0.5166666666666667,0.6555555555555557],\"range\":[-0.2,4.2],\"type\":\"category\",\"title\":{\"text\":\"lr_scheduler\"}},\"yaxis34\":{\"anchor\":\"x34\",\"domain\":[0.0,0.125],\"matches\":\"y31\",\"showticklabels\":false,\"range\":[-0.1,2.1],\"type\":\"category\"},\"xaxis35\":{\"anchor\":\"y35\",\"domain\":[0.6888888888888889,0.8277777777777777],\"range\":[1.85,5.15],\"title\":{\"text\":\"n_epoch\"}},\"yaxis35\":{\"anchor\":\"x35\",\"domain\":[0.0,0.125],\"matches\":\"y31\",\"showticklabels\":false,\"range\":[-0.1,2.1],\"type\":\"category\"},\"xaxis36\":{\"anchor\":\"y36\",\"domain\":[0.861111111111111,1.0],\"range\":[-0.1,2.1],\"type\":\"category\",\"title\":{\"text\":\"optimizer\"}},\"yaxis36\":{\"anchor\":\"x36\",\"domain\":[0.0,0.125],\"matches\":\"y31\",\"showticklabels\":false,\"range\":[-0.1,2.1],\"type\":\"category\"},\"title\":{\"text\":\"Contour Plot\"}},                        {\"responsive\": true}                    ).then(function(){\n",
       "                            \n",
       "var gd = document.getElementById('7c8db187-e1bb-4b9a-8b39-bbfa108f7d8a');\n",
       "var x = new MutationObserver(function (mutations, observer) {{\n",
       "        var display = window.getComputedStyle(gd).display;\n",
       "        if (!display || display === 'none') {{\n",
       "            console.log([gd, 'removed!']);\n",
       "            Plotly.purge(gd);\n",
       "            observer.disconnect();\n",
       "        }}\n",
       "}});\n",
       "\n",
       "// Listen for the removal of the full notebook cells\n",
       "var notebookContainer = gd.closest('#notebook-container');\n",
       "if (notebookContainer) {{\n",
       "    x.observe(notebookContainer, {childList: true});\n",
       "}}\n",
       "\n",
       "// Listen for the clearing of the current output cell\n",
       "var outputEl = gd.closest('.output');\n",
       "if (outputEl) {{\n",
       "    x.observe(outputEl, {childList: true});\n",
       "}}\n",
       "\n",
       "                        })                };                });            </script>        </div>"
      ]
     },
     "metadata": {},
     "output_type": "display_data"
    }
   ],
   "source": [
    "# 초매개변수 관계 시각화(매개변수끼리의 관계 시각화)\n",
    "plot_contour(study)\t# 아래는 매개변수 선택"
   ]
  },
  {
   "cell_type": "code",
   "execution_count": 16,
   "metadata": {},
   "outputs": [
    {
     "data": {
      "application/vnd.plotly.v1+json": {
       "config": {
        "plotlyServerURL": "https://plot.ly"
       },
       "data": [
        {
         "cliponaxis": false,
         "hovertemplate": [
          "optimizer (CategoricalDistribution): 0.028288321675328625<extra></extra>",
          "batch_size (CategoricalDistribution): 0.031521657531165356<extra></extra>",
          "learning_rate (FloatDistribution): 0.043837207981099004<extra></extra>",
          "freeze (CategoricalDistribution): 0.055149226642049944<extra></extra>",
          "n_epoch (IntDistribution): 0.27615241325324674<extra></extra>",
          "lr_scheduler (CategoricalDistribution): 0.5650511729171105<extra></extra>"
         ],
         "name": "duration",
         "orientation": "h",
         "text": [
          "0.03",
          "0.03",
          "0.04",
          "0.06",
          "0.28",
          "0.57"
         ],
         "textposition": "outside",
         "type": "bar",
         "x": [
          0.028288321675328625,
          0.031521657531165356,
          0.043837207981099004,
          0.055149226642049944,
          0.27615241325324674,
          0.5650511729171105
         ],
         "y": [
          "optimizer",
          "batch_size",
          "learning_rate",
          "freeze",
          "n_epoch",
          "lr_scheduler"
         ]
        }
       ],
       "layout": {
        "template": {
         "data": {
          "bar": [
           {
            "error_x": {
             "color": "#2a3f5f"
            },
            "error_y": {
             "color": "#2a3f5f"
            },
            "marker": {
             "line": {
              "color": "#E5ECF6",
              "width": 0.5
             },
             "pattern": {
              "fillmode": "overlay",
              "size": 10,
              "solidity": 0.2
             }
            },
            "type": "bar"
           }
          ],
          "barpolar": [
           {
            "marker": {
             "line": {
              "color": "#E5ECF6",
              "width": 0.5
             },
             "pattern": {
              "fillmode": "overlay",
              "size": 10,
              "solidity": 0.2
             }
            },
            "type": "barpolar"
           }
          ],
          "carpet": [
           {
            "aaxis": {
             "endlinecolor": "#2a3f5f",
             "gridcolor": "white",
             "linecolor": "white",
             "minorgridcolor": "white",
             "startlinecolor": "#2a3f5f"
            },
            "baxis": {
             "endlinecolor": "#2a3f5f",
             "gridcolor": "white",
             "linecolor": "white",
             "minorgridcolor": "white",
             "startlinecolor": "#2a3f5f"
            },
            "type": "carpet"
           }
          ],
          "choropleth": [
           {
            "colorbar": {
             "outlinewidth": 0,
             "ticks": ""
            },
            "type": "choropleth"
           }
          ],
          "contour": [
           {
            "colorbar": {
             "outlinewidth": 0,
             "ticks": ""
            },
            "colorscale": [
             [
              0,
              "#0d0887"
             ],
             [
              0.1111111111111111,
              "#46039f"
             ],
             [
              0.2222222222222222,
              "#7201a8"
             ],
             [
              0.3333333333333333,
              "#9c179e"
             ],
             [
              0.4444444444444444,
              "#bd3786"
             ],
             [
              0.5555555555555556,
              "#d8576b"
             ],
             [
              0.6666666666666666,
              "#ed7953"
             ],
             [
              0.7777777777777778,
              "#fb9f3a"
             ],
             [
              0.8888888888888888,
              "#fdca26"
             ],
             [
              1,
              "#f0f921"
             ]
            ],
            "type": "contour"
           }
          ],
          "contourcarpet": [
           {
            "colorbar": {
             "outlinewidth": 0,
             "ticks": ""
            },
            "type": "contourcarpet"
           }
          ],
          "heatmap": [
           {
            "colorbar": {
             "outlinewidth": 0,
             "ticks": ""
            },
            "colorscale": [
             [
              0,
              "#0d0887"
             ],
             [
              0.1111111111111111,
              "#46039f"
             ],
             [
              0.2222222222222222,
              "#7201a8"
             ],
             [
              0.3333333333333333,
              "#9c179e"
             ],
             [
              0.4444444444444444,
              "#bd3786"
             ],
             [
              0.5555555555555556,
              "#d8576b"
             ],
             [
              0.6666666666666666,
              "#ed7953"
             ],
             [
              0.7777777777777778,
              "#fb9f3a"
             ],
             [
              0.8888888888888888,
              "#fdca26"
             ],
             [
              1,
              "#f0f921"
             ]
            ],
            "type": "heatmap"
           }
          ],
          "heatmapgl": [
           {
            "colorbar": {
             "outlinewidth": 0,
             "ticks": ""
            },
            "colorscale": [
             [
              0,
              "#0d0887"
             ],
             [
              0.1111111111111111,
              "#46039f"
             ],
             [
              0.2222222222222222,
              "#7201a8"
             ],
             [
              0.3333333333333333,
              "#9c179e"
             ],
             [
              0.4444444444444444,
              "#bd3786"
             ],
             [
              0.5555555555555556,
              "#d8576b"
             ],
             [
              0.6666666666666666,
              "#ed7953"
             ],
             [
              0.7777777777777778,
              "#fb9f3a"
             ],
             [
              0.8888888888888888,
              "#fdca26"
             ],
             [
              1,
              "#f0f921"
             ]
            ],
            "type": "heatmapgl"
           }
          ],
          "histogram": [
           {
            "marker": {
             "pattern": {
              "fillmode": "overlay",
              "size": 10,
              "solidity": 0.2
             }
            },
            "type": "histogram"
           }
          ],
          "histogram2d": [
           {
            "colorbar": {
             "outlinewidth": 0,
             "ticks": ""
            },
            "colorscale": [
             [
              0,
              "#0d0887"
             ],
             [
              0.1111111111111111,
              "#46039f"
             ],
             [
              0.2222222222222222,
              "#7201a8"
             ],
             [
              0.3333333333333333,
              "#9c179e"
             ],
             [
              0.4444444444444444,
              "#bd3786"
             ],
             [
              0.5555555555555556,
              "#d8576b"
             ],
             [
              0.6666666666666666,
              "#ed7953"
             ],
             [
              0.7777777777777778,
              "#fb9f3a"
             ],
             [
              0.8888888888888888,
              "#fdca26"
             ],
             [
              1,
              "#f0f921"
             ]
            ],
            "type": "histogram2d"
           }
          ],
          "histogram2dcontour": [
           {
            "colorbar": {
             "outlinewidth": 0,
             "ticks": ""
            },
            "colorscale": [
             [
              0,
              "#0d0887"
             ],
             [
              0.1111111111111111,
              "#46039f"
             ],
             [
              0.2222222222222222,
              "#7201a8"
             ],
             [
              0.3333333333333333,
              "#9c179e"
             ],
             [
              0.4444444444444444,
              "#bd3786"
             ],
             [
              0.5555555555555556,
              "#d8576b"
             ],
             [
              0.6666666666666666,
              "#ed7953"
             ],
             [
              0.7777777777777778,
              "#fb9f3a"
             ],
             [
              0.8888888888888888,
              "#fdca26"
             ],
             [
              1,
              "#f0f921"
             ]
            ],
            "type": "histogram2dcontour"
           }
          ],
          "mesh3d": [
           {
            "colorbar": {
             "outlinewidth": 0,
             "ticks": ""
            },
            "type": "mesh3d"
           }
          ],
          "parcoords": [
           {
            "line": {
             "colorbar": {
              "outlinewidth": 0,
              "ticks": ""
             }
            },
            "type": "parcoords"
           }
          ],
          "pie": [
           {
            "automargin": true,
            "type": "pie"
           }
          ],
          "scatter": [
           {
            "fillpattern": {
             "fillmode": "overlay",
             "size": 10,
             "solidity": 0.2
            },
            "type": "scatter"
           }
          ],
          "scatter3d": [
           {
            "line": {
             "colorbar": {
              "outlinewidth": 0,
              "ticks": ""
             }
            },
            "marker": {
             "colorbar": {
              "outlinewidth": 0,
              "ticks": ""
             }
            },
            "type": "scatter3d"
           }
          ],
          "scattercarpet": [
           {
            "marker": {
             "colorbar": {
              "outlinewidth": 0,
              "ticks": ""
             }
            },
            "type": "scattercarpet"
           }
          ],
          "scattergeo": [
           {
            "marker": {
             "colorbar": {
              "outlinewidth": 0,
              "ticks": ""
             }
            },
            "type": "scattergeo"
           }
          ],
          "scattergl": [
           {
            "marker": {
             "colorbar": {
              "outlinewidth": 0,
              "ticks": ""
             }
            },
            "type": "scattergl"
           }
          ],
          "scattermapbox": [
           {
            "marker": {
             "colorbar": {
              "outlinewidth": 0,
              "ticks": ""
             }
            },
            "type": "scattermapbox"
           }
          ],
          "scatterpolar": [
           {
            "marker": {
             "colorbar": {
              "outlinewidth": 0,
              "ticks": ""
             }
            },
            "type": "scatterpolar"
           }
          ],
          "scatterpolargl": [
           {
            "marker": {
             "colorbar": {
              "outlinewidth": 0,
              "ticks": ""
             }
            },
            "type": "scatterpolargl"
           }
          ],
          "scatterternary": [
           {
            "marker": {
             "colorbar": {
              "outlinewidth": 0,
              "ticks": ""
             }
            },
            "type": "scatterternary"
           }
          ],
          "surface": [
           {
            "colorbar": {
             "outlinewidth": 0,
             "ticks": ""
            },
            "colorscale": [
             [
              0,
              "#0d0887"
             ],
             [
              0.1111111111111111,
              "#46039f"
             ],
             [
              0.2222222222222222,
              "#7201a8"
             ],
             [
              0.3333333333333333,
              "#9c179e"
             ],
             [
              0.4444444444444444,
              "#bd3786"
             ],
             [
              0.5555555555555556,
              "#d8576b"
             ],
             [
              0.6666666666666666,
              "#ed7953"
             ],
             [
              0.7777777777777778,
              "#fb9f3a"
             ],
             [
              0.8888888888888888,
              "#fdca26"
             ],
             [
              1,
              "#f0f921"
             ]
            ],
            "type": "surface"
           }
          ],
          "table": [
           {
            "cells": {
             "fill": {
              "color": "#EBF0F8"
             },
             "line": {
              "color": "white"
             }
            },
            "header": {
             "fill": {
              "color": "#C8D4E3"
             },
             "line": {
              "color": "white"
             }
            },
            "type": "table"
           }
          ]
         },
         "layout": {
          "annotationdefaults": {
           "arrowcolor": "#2a3f5f",
           "arrowhead": 0,
           "arrowwidth": 1
          },
          "autotypenumbers": "strict",
          "coloraxis": {
           "colorbar": {
            "outlinewidth": 0,
            "ticks": ""
           }
          },
          "colorscale": {
           "diverging": [
            [
             0,
             "#8e0152"
            ],
            [
             0.1,
             "#c51b7d"
            ],
            [
             0.2,
             "#de77ae"
            ],
            [
             0.3,
             "#f1b6da"
            ],
            [
             0.4,
             "#fde0ef"
            ],
            [
             0.5,
             "#f7f7f7"
            ],
            [
             0.6,
             "#e6f5d0"
            ],
            [
             0.7,
             "#b8e186"
            ],
            [
             0.8,
             "#7fbc41"
            ],
            [
             0.9,
             "#4d9221"
            ],
            [
             1,
             "#276419"
            ]
           ],
           "sequential": [
            [
             0,
             "#0d0887"
            ],
            [
             0.1111111111111111,
             "#46039f"
            ],
            [
             0.2222222222222222,
             "#7201a8"
            ],
            [
             0.3333333333333333,
             "#9c179e"
            ],
            [
             0.4444444444444444,
             "#bd3786"
            ],
            [
             0.5555555555555556,
             "#d8576b"
            ],
            [
             0.6666666666666666,
             "#ed7953"
            ],
            [
             0.7777777777777778,
             "#fb9f3a"
            ],
            [
             0.8888888888888888,
             "#fdca26"
            ],
            [
             1,
             "#f0f921"
            ]
           ],
           "sequentialminus": [
            [
             0,
             "#0d0887"
            ],
            [
             0.1111111111111111,
             "#46039f"
            ],
            [
             0.2222222222222222,
             "#7201a8"
            ],
            [
             0.3333333333333333,
             "#9c179e"
            ],
            [
             0.4444444444444444,
             "#bd3786"
            ],
            [
             0.5555555555555556,
             "#d8576b"
            ],
            [
             0.6666666666666666,
             "#ed7953"
            ],
            [
             0.7777777777777778,
             "#fb9f3a"
            ],
            [
             0.8888888888888888,
             "#fdca26"
            ],
            [
             1,
             "#f0f921"
            ]
           ]
          },
          "colorway": [
           "#636efa",
           "#EF553B",
           "#00cc96",
           "#ab63fa",
           "#FFA15A",
           "#19d3f3",
           "#FF6692",
           "#B6E880",
           "#FF97FF",
           "#FECB52"
          ],
          "font": {
           "color": "#2a3f5f"
          },
          "geo": {
           "bgcolor": "white",
           "lakecolor": "white",
           "landcolor": "#E5ECF6",
           "showlakes": true,
           "showland": true,
           "subunitcolor": "white"
          },
          "hoverlabel": {
           "align": "left"
          },
          "hovermode": "closest",
          "mapbox": {
           "style": "light"
          },
          "paper_bgcolor": "white",
          "plot_bgcolor": "#E5ECF6",
          "polar": {
           "angularaxis": {
            "gridcolor": "white",
            "linecolor": "white",
            "ticks": ""
           },
           "bgcolor": "#E5ECF6",
           "radialaxis": {
            "gridcolor": "white",
            "linecolor": "white",
            "ticks": ""
           }
          },
          "scene": {
           "xaxis": {
            "backgroundcolor": "#E5ECF6",
            "gridcolor": "white",
            "gridwidth": 2,
            "linecolor": "white",
            "showbackground": true,
            "ticks": "",
            "zerolinecolor": "white"
           },
           "yaxis": {
            "backgroundcolor": "#E5ECF6",
            "gridcolor": "white",
            "gridwidth": 2,
            "linecolor": "white",
            "showbackground": true,
            "ticks": "",
            "zerolinecolor": "white"
           },
           "zaxis": {
            "backgroundcolor": "#E5ECF6",
            "gridcolor": "white",
            "gridwidth": 2,
            "linecolor": "white",
            "showbackground": true,
            "ticks": "",
            "zerolinecolor": "white"
           }
          },
          "shapedefaults": {
           "line": {
            "color": "#2a3f5f"
           }
          },
          "ternary": {
           "aaxis": {
            "gridcolor": "white",
            "linecolor": "white",
            "ticks": ""
           },
           "baxis": {
            "gridcolor": "white",
            "linecolor": "white",
            "ticks": ""
           },
           "bgcolor": "#E5ECF6",
           "caxis": {
            "gridcolor": "white",
            "linecolor": "white",
            "ticks": ""
           }
          },
          "title": {
           "x": 0.05
          },
          "xaxis": {
           "automargin": true,
           "gridcolor": "white",
           "linecolor": "white",
           "ticks": "",
           "title": {
            "standoff": 15
           },
           "zerolinecolor": "white",
           "zerolinewidth": 2
          },
          "yaxis": {
           "automargin": true,
           "gridcolor": "white",
           "linecolor": "white",
           "ticks": "",
           "title": {
            "standoff": 15
           },
           "zerolinecolor": "white",
           "zerolinewidth": 2
          }
         }
        },
        "title": {
         "text": "Hyperparameter Importances"
        },
        "xaxis": {
         "title": {
          "text": "Hyperparameter Importance"
         }
        },
        "yaxis": {
         "title": {
          "text": "Hyperparameter"
         }
        }
       }
      },
      "text/html": [
       "<div>                            <div id=\"1cd33cc0-48d2-4fa8-a00c-92e5119f5db3\" class=\"plotly-graph-div\" style=\"height:525px; width:100%;\"></div>            <script type=\"text/javascript\">                require([\"plotly\"], function(Plotly) {                    window.PLOTLYENV=window.PLOTLYENV || {};                                    if (document.getElementById(\"1cd33cc0-48d2-4fa8-a00c-92e5119f5db3\")) {                    Plotly.newPlot(                        \"1cd33cc0-48d2-4fa8-a00c-92e5119f5db3\",                        [{\"cliponaxis\":false,\"hovertemplate\":[\"optimizer (CategoricalDistribution): 0.028288321675328625\\u003cextra\\u003e\\u003c\\u002fextra\\u003e\",\"batch_size (CategoricalDistribution): 0.031521657531165356\\u003cextra\\u003e\\u003c\\u002fextra\\u003e\",\"learning_rate (FloatDistribution): 0.043837207981099004\\u003cextra\\u003e\\u003c\\u002fextra\\u003e\",\"freeze (CategoricalDistribution): 0.055149226642049944\\u003cextra\\u003e\\u003c\\u002fextra\\u003e\",\"n_epoch (IntDistribution): 0.27615241325324674\\u003cextra\\u003e\\u003c\\u002fextra\\u003e\",\"lr_scheduler (CategoricalDistribution): 0.5650511729171105\\u003cextra\\u003e\\u003c\\u002fextra\\u003e\"],\"name\":\"duration\",\"orientation\":\"h\",\"text\":[\"0.03\",\"0.03\",\"0.04\",\"0.06\",\"0.28\",\"0.57\"],\"textposition\":\"outside\",\"x\":[0.028288321675328625,0.031521657531165356,0.043837207981099004,0.055149226642049944,0.27615241325324674,0.5650511729171105],\"y\":[\"optimizer\",\"batch_size\",\"learning_rate\",\"freeze\",\"n_epoch\",\"lr_scheduler\"],\"type\":\"bar\"}],                        {\"title\":{\"text\":\"Hyperparameter Importances\"},\"xaxis\":{\"title\":{\"text\":\"Hyperparameter Importance\"}},\"yaxis\":{\"title\":{\"text\":\"Hyperparameter\"}},\"template\":{\"data\":{\"histogram2dcontour\":[{\"type\":\"histogram2dcontour\",\"colorbar\":{\"outlinewidth\":0,\"ticks\":\"\"},\"colorscale\":[[0.0,\"#0d0887\"],[0.1111111111111111,\"#46039f\"],[0.2222222222222222,\"#7201a8\"],[0.3333333333333333,\"#9c179e\"],[0.4444444444444444,\"#bd3786\"],[0.5555555555555556,\"#d8576b\"],[0.6666666666666666,\"#ed7953\"],[0.7777777777777778,\"#fb9f3a\"],[0.8888888888888888,\"#fdca26\"],[1.0,\"#f0f921\"]]}],\"choropleth\":[{\"type\":\"choropleth\",\"colorbar\":{\"outlinewidth\":0,\"ticks\":\"\"}}],\"histogram2d\":[{\"type\":\"histogram2d\",\"colorbar\":{\"outlinewidth\":0,\"ticks\":\"\"},\"colorscale\":[[0.0,\"#0d0887\"],[0.1111111111111111,\"#46039f\"],[0.2222222222222222,\"#7201a8\"],[0.3333333333333333,\"#9c179e\"],[0.4444444444444444,\"#bd3786\"],[0.5555555555555556,\"#d8576b\"],[0.6666666666666666,\"#ed7953\"],[0.7777777777777778,\"#fb9f3a\"],[0.8888888888888888,\"#fdca26\"],[1.0,\"#f0f921\"]]}],\"heatmap\":[{\"type\":\"heatmap\",\"colorbar\":{\"outlinewidth\":0,\"ticks\":\"\"},\"colorscale\":[[0.0,\"#0d0887\"],[0.1111111111111111,\"#46039f\"],[0.2222222222222222,\"#7201a8\"],[0.3333333333333333,\"#9c179e\"],[0.4444444444444444,\"#bd3786\"],[0.5555555555555556,\"#d8576b\"],[0.6666666666666666,\"#ed7953\"],[0.7777777777777778,\"#fb9f3a\"],[0.8888888888888888,\"#fdca26\"],[1.0,\"#f0f921\"]]}],\"heatmapgl\":[{\"type\":\"heatmapgl\",\"colorbar\":{\"outlinewidth\":0,\"ticks\":\"\"},\"colorscale\":[[0.0,\"#0d0887\"],[0.1111111111111111,\"#46039f\"],[0.2222222222222222,\"#7201a8\"],[0.3333333333333333,\"#9c179e\"],[0.4444444444444444,\"#bd3786\"],[0.5555555555555556,\"#d8576b\"],[0.6666666666666666,\"#ed7953\"],[0.7777777777777778,\"#fb9f3a\"],[0.8888888888888888,\"#fdca26\"],[1.0,\"#f0f921\"]]}],\"contourcarpet\":[{\"type\":\"contourcarpet\",\"colorbar\":{\"outlinewidth\":0,\"ticks\":\"\"}}],\"contour\":[{\"type\":\"contour\",\"colorbar\":{\"outlinewidth\":0,\"ticks\":\"\"},\"colorscale\":[[0.0,\"#0d0887\"],[0.1111111111111111,\"#46039f\"],[0.2222222222222222,\"#7201a8\"],[0.3333333333333333,\"#9c179e\"],[0.4444444444444444,\"#bd3786\"],[0.5555555555555556,\"#d8576b\"],[0.6666666666666666,\"#ed7953\"],[0.7777777777777778,\"#fb9f3a\"],[0.8888888888888888,\"#fdca26\"],[1.0,\"#f0f921\"]]}],\"surface\":[{\"type\":\"surface\",\"colorbar\":{\"outlinewidth\":0,\"ticks\":\"\"},\"colorscale\":[[0.0,\"#0d0887\"],[0.1111111111111111,\"#46039f\"],[0.2222222222222222,\"#7201a8\"],[0.3333333333333333,\"#9c179e\"],[0.4444444444444444,\"#bd3786\"],[0.5555555555555556,\"#d8576b\"],[0.6666666666666666,\"#ed7953\"],[0.7777777777777778,\"#fb9f3a\"],[0.8888888888888888,\"#fdca26\"],[1.0,\"#f0f921\"]]}],\"mesh3d\":[{\"type\":\"mesh3d\",\"colorbar\":{\"outlinewidth\":0,\"ticks\":\"\"}}],\"scatter\":[{\"fillpattern\":{\"fillmode\":\"overlay\",\"size\":10,\"solidity\":0.2},\"type\":\"scatter\"}],\"parcoords\":[{\"type\":\"parcoords\",\"line\":{\"colorbar\":{\"outlinewidth\":0,\"ticks\":\"\"}}}],\"scatterpolargl\":[{\"type\":\"scatterpolargl\",\"marker\":{\"colorbar\":{\"outlinewidth\":0,\"ticks\":\"\"}}}],\"bar\":[{\"error_x\":{\"color\":\"#2a3f5f\"},\"error_y\":{\"color\":\"#2a3f5f\"},\"marker\":{\"line\":{\"color\":\"#E5ECF6\",\"width\":0.5},\"pattern\":{\"fillmode\":\"overlay\",\"size\":10,\"solidity\":0.2}},\"type\":\"bar\"}],\"scattergeo\":[{\"type\":\"scattergeo\",\"marker\":{\"colorbar\":{\"outlinewidth\":0,\"ticks\":\"\"}}}],\"scatterpolar\":[{\"type\":\"scatterpolar\",\"marker\":{\"colorbar\":{\"outlinewidth\":0,\"ticks\":\"\"}}}],\"histogram\":[{\"marker\":{\"pattern\":{\"fillmode\":\"overlay\",\"size\":10,\"solidity\":0.2}},\"type\":\"histogram\"}],\"scattergl\":[{\"type\":\"scattergl\",\"marker\":{\"colorbar\":{\"outlinewidth\":0,\"ticks\":\"\"}}}],\"scatter3d\":[{\"type\":\"scatter3d\",\"line\":{\"colorbar\":{\"outlinewidth\":0,\"ticks\":\"\"}},\"marker\":{\"colorbar\":{\"outlinewidth\":0,\"ticks\":\"\"}}}],\"scattermapbox\":[{\"type\":\"scattermapbox\",\"marker\":{\"colorbar\":{\"outlinewidth\":0,\"ticks\":\"\"}}}],\"scatterternary\":[{\"type\":\"scatterternary\",\"marker\":{\"colorbar\":{\"outlinewidth\":0,\"ticks\":\"\"}}}],\"scattercarpet\":[{\"type\":\"scattercarpet\",\"marker\":{\"colorbar\":{\"outlinewidth\":0,\"ticks\":\"\"}}}],\"carpet\":[{\"aaxis\":{\"endlinecolor\":\"#2a3f5f\",\"gridcolor\":\"white\",\"linecolor\":\"white\",\"minorgridcolor\":\"white\",\"startlinecolor\":\"#2a3f5f\"},\"baxis\":{\"endlinecolor\":\"#2a3f5f\",\"gridcolor\":\"white\",\"linecolor\":\"white\",\"minorgridcolor\":\"white\",\"startlinecolor\":\"#2a3f5f\"},\"type\":\"carpet\"}],\"table\":[{\"cells\":{\"fill\":{\"color\":\"#EBF0F8\"},\"line\":{\"color\":\"white\"}},\"header\":{\"fill\":{\"color\":\"#C8D4E3\"},\"line\":{\"color\":\"white\"}},\"type\":\"table\"}],\"barpolar\":[{\"marker\":{\"line\":{\"color\":\"#E5ECF6\",\"width\":0.5},\"pattern\":{\"fillmode\":\"overlay\",\"size\":10,\"solidity\":0.2}},\"type\":\"barpolar\"}],\"pie\":[{\"automargin\":true,\"type\":\"pie\"}]},\"layout\":{\"autotypenumbers\":\"strict\",\"colorway\":[\"#636efa\",\"#EF553B\",\"#00cc96\",\"#ab63fa\",\"#FFA15A\",\"#19d3f3\",\"#FF6692\",\"#B6E880\",\"#FF97FF\",\"#FECB52\"],\"font\":{\"color\":\"#2a3f5f\"},\"hovermode\":\"closest\",\"hoverlabel\":{\"align\":\"left\"},\"paper_bgcolor\":\"white\",\"plot_bgcolor\":\"#E5ECF6\",\"polar\":{\"bgcolor\":\"#E5ECF6\",\"angularaxis\":{\"gridcolor\":\"white\",\"linecolor\":\"white\",\"ticks\":\"\"},\"radialaxis\":{\"gridcolor\":\"white\",\"linecolor\":\"white\",\"ticks\":\"\"}},\"ternary\":{\"bgcolor\":\"#E5ECF6\",\"aaxis\":{\"gridcolor\":\"white\",\"linecolor\":\"white\",\"ticks\":\"\"},\"baxis\":{\"gridcolor\":\"white\",\"linecolor\":\"white\",\"ticks\":\"\"},\"caxis\":{\"gridcolor\":\"white\",\"linecolor\":\"white\",\"ticks\":\"\"}},\"coloraxis\":{\"colorbar\":{\"outlinewidth\":0,\"ticks\":\"\"}},\"colorscale\":{\"sequential\":[[0.0,\"#0d0887\"],[0.1111111111111111,\"#46039f\"],[0.2222222222222222,\"#7201a8\"],[0.3333333333333333,\"#9c179e\"],[0.4444444444444444,\"#bd3786\"],[0.5555555555555556,\"#d8576b\"],[0.6666666666666666,\"#ed7953\"],[0.7777777777777778,\"#fb9f3a\"],[0.8888888888888888,\"#fdca26\"],[1.0,\"#f0f921\"]],\"sequentialminus\":[[0.0,\"#0d0887\"],[0.1111111111111111,\"#46039f\"],[0.2222222222222222,\"#7201a8\"],[0.3333333333333333,\"#9c179e\"],[0.4444444444444444,\"#bd3786\"],[0.5555555555555556,\"#d8576b\"],[0.6666666666666666,\"#ed7953\"],[0.7777777777777778,\"#fb9f3a\"],[0.8888888888888888,\"#fdca26\"],[1.0,\"#f0f921\"]],\"diverging\":[[0,\"#8e0152\"],[0.1,\"#c51b7d\"],[0.2,\"#de77ae\"],[0.3,\"#f1b6da\"],[0.4,\"#fde0ef\"],[0.5,\"#f7f7f7\"],[0.6,\"#e6f5d0\"],[0.7,\"#b8e186\"],[0.8,\"#7fbc41\"],[0.9,\"#4d9221\"],[1,\"#276419\"]]},\"xaxis\":{\"gridcolor\":\"white\",\"linecolor\":\"white\",\"ticks\":\"\",\"title\":{\"standoff\":15},\"zerolinecolor\":\"white\",\"automargin\":true,\"zerolinewidth\":2},\"yaxis\":{\"gridcolor\":\"white\",\"linecolor\":\"white\",\"ticks\":\"\",\"title\":{\"standoff\":15},\"zerolinecolor\":\"white\",\"automargin\":true,\"zerolinewidth\":2},\"scene\":{\"xaxis\":{\"backgroundcolor\":\"#E5ECF6\",\"gridcolor\":\"white\",\"linecolor\":\"white\",\"showbackground\":true,\"ticks\":\"\",\"zerolinecolor\":\"white\",\"gridwidth\":2},\"yaxis\":{\"backgroundcolor\":\"#E5ECF6\",\"gridcolor\":\"white\",\"linecolor\":\"white\",\"showbackground\":true,\"ticks\":\"\",\"zerolinecolor\":\"white\",\"gridwidth\":2},\"zaxis\":{\"backgroundcolor\":\"#E5ECF6\",\"gridcolor\":\"white\",\"linecolor\":\"white\",\"showbackground\":true,\"ticks\":\"\",\"zerolinecolor\":\"white\",\"gridwidth\":2}},\"shapedefaults\":{\"line\":{\"color\":\"#2a3f5f\"}},\"annotationdefaults\":{\"arrowcolor\":\"#2a3f5f\",\"arrowhead\":0,\"arrowwidth\":1},\"geo\":{\"bgcolor\":\"white\",\"landcolor\":\"#E5ECF6\",\"subunitcolor\":\"white\",\"showland\":true,\"showlakes\":true,\"lakecolor\":\"white\"},\"title\":{\"x\":0.05},\"mapbox\":{\"style\":\"light\"}}}},                        {\"responsive\": true}                    ).then(function(){\n",
       "                            \n",
       "var gd = document.getElementById('1cd33cc0-48d2-4fa8-a00c-92e5119f5db3');\n",
       "var x = new MutationObserver(function (mutations, observer) {{\n",
       "        var display = window.getComputedStyle(gd).display;\n",
       "        if (!display || display === 'none') {{\n",
       "            console.log([gd, 'removed!']);\n",
       "            Plotly.purge(gd);\n",
       "            observer.disconnect();\n",
       "        }}\n",
       "}});\n",
       "\n",
       "// Listen for the removal of the full notebook cells\n",
       "var notebookContainer = gd.closest('#notebook-container');\n",
       "if (notebookContainer) {{\n",
       "    x.observe(notebookContainer, {childList: true});\n",
       "}}\n",
       "\n",
       "// Listen for the clearing of the current output cell\n",
       "var outputEl = gd.closest('.output');\n",
       "if (outputEl) {{\n",
       "    x.observe(outputEl, {childList: true});\n",
       "}}\n",
       "\n",
       "                        })                };                });            </script>        </div>"
      ]
     },
     "metadata": {},
     "output_type": "display_data"
    }
   ],
   "source": [
    "# 매개변수 중요도를 시각화 - x : importance for objective value, y : hyperparameter\n",
    "plot_param_importances(study)\n",
    "optuna.visualization.plot_param_importances(\n",
    "    study, target=lambda t: t.duration.total_seconds(), target_name=\"duration\"\n",
    ")\t# 어떤 하이퍼파라미터가 trail duration에 영향을 미치는지 중요성 알아보기"
   ]
  }
 ],
 "metadata": {
  "kernelspec": {
   "display_name": "distilbert",
   "language": "python",
   "name": "python3"
  },
  "language_info": {
   "codemirror_mode": {
    "name": "ipython",
    "version": 3
   },
   "file_extension": ".py",
   "mimetype": "text/x-python",
   "name": "python",
   "nbconvert_exporter": "python",
   "pygments_lexer": "ipython3",
   "version": "3.9.0"
  }
 },
 "nbformat": 4,
 "nbformat_minor": 2
}
